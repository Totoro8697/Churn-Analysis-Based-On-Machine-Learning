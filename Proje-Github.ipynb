{
 "cells": [
  {
   "cell_type": "code",
   "execution_count": 2,
   "metadata": {
    "colab": {
     "base_uri": "https://localhost:8080/",
     "height": 33
    },
    "id": "MO8xYbCAkaBs",
    "outputId": "de2901b0-4f92-4515-e2a7-cd764439693a"
   },
   "outputs": [
    {
     "name": "stdout",
     "output_type": "stream",
     "text": [
      "Mounted at /content/drive\n"
     ]
    }
   ],
   "source": [
    "from google.colab import drive\n",
    "drive.mount(\"/content/drive\")"
   ]
  },
  {
   "cell_type": "code",
   "execution_count": 3,
   "metadata": {
    "id": "LPWmtHQdiSOg"
   },
   "outputs": [],
   "source": [
    "import pandas as pd\n",
    "import numpy as np"
   ]
  },
  {
   "cell_type": "code",
   "execution_count": 4,
   "metadata": {
    "id": "dK9OfMMzlNMR"
   },
   "outputs": [],
   "source": [
    "df1 = pd.read_csv(\"/content/drive/My Drive/interview_revenue.csv\")\n",
    "df = pd.read_csv(\"/content/drive/My Drive/interview_events.csv\")"
   ]
  },
  {
   "cell_type": "markdown",
   "metadata": {
    "id": "N1_dwjcdYMJ2"
   },
   "source": [
    "# Veri setlerini import ettik.\n",
    "\n",
    "## Şöyle bir göz geçirdiğimiz zaman elimiz de Raw bir data bulunmakta.\n",
    "\n",
    "* İki adet tablomuz bulunmakta  ilki Userlara ait kazançları(revenue) ve günleri vermekte.\n",
    "\n",
    "* Diğer tablomuz da ise Userlara ait Satirlarca akmış veriler görüyoruz.\n",
    "* Girdikleri günler saat ile birlikte yazılmış. Aynı zamanda Event Id adı atlında kişinin oyuna girdiği andan başlıyor ve her level aldıkça skorunu yazdığını görebiliyoruz. \n",
    "* Value değişkenimiz User level atladıkça aldığı skorları vermekte. Bu yüzden NaN yazan yerler aslında gerçek NaN değil sadece satır bazlı bir eksiklik. \n",
    "* Yine diğer bir değişkenimiz bulunmakta Userların girdiği oyunların versiyonları bulunmakta. \n",
    "* Coountry Code değişkenin de ise kullanıcının hangi lokasyondan girdiğini görüyoruz.\n",
    "* Son olarak bu veriler bir mobil oyun verisi olduğu için Usera ait cihazın işletim sistemi gözükmekte."
   ]
  },
  {
   "cell_type": "code",
   "execution_count": 4,
   "metadata": {
    "colab": {
     "base_uri": "https://localhost:8080/",
     "height": 191
    },
    "id": "ryD17GTAYHNI",
    "outputId": "cd4e3ee0-038a-42f0-d1f0-d354bb6f1e58"
   },
   "outputs": [
    {
     "data": {
      "text/html": [
       "<div>\n",
       "<style scoped>\n",
       "    .dataframe tbody tr th:only-of-type {\n",
       "        vertical-align: middle;\n",
       "    }\n",
       "\n",
       "    .dataframe tbody tr th {\n",
       "        vertical-align: top;\n",
       "    }\n",
       "\n",
       "    .dataframe thead th {\n",
       "        text-align: right;\n",
       "    }\n",
       "</style>\n",
       "<table border=\"1\" class=\"dataframe\">\n",
       "  <thead>\n",
       "    <tr style=\"text-align: right;\">\n",
       "      <th></th>\n",
       "      <th>user_id</th>\n",
       "      <th>revenue_day</th>\n",
       "      <th>revenue</th>\n",
       "    </tr>\n",
       "  </thead>\n",
       "  <tbody>\n",
       "    <tr>\n",
       "      <th>0</th>\n",
       "      <td>7799779337307357843</td>\n",
       "      <td>2019-12-01</td>\n",
       "      <td>0.015406</td>\n",
       "    </tr>\n",
       "    <tr>\n",
       "      <th>1</th>\n",
       "      <td>2903532465681507879</td>\n",
       "      <td>2019-12-01</td>\n",
       "      <td>0.019093</td>\n",
       "    </tr>\n",
       "    <tr>\n",
       "      <th>2</th>\n",
       "      <td>7271844357181366660</td>\n",
       "      <td>2019-12-01</td>\n",
       "      <td>0.011785</td>\n",
       "    </tr>\n",
       "    <tr>\n",
       "      <th>3</th>\n",
       "      <td>-6989185766557698704</td>\n",
       "      <td>2019-12-01</td>\n",
       "      <td>0.013538</td>\n",
       "    </tr>\n",
       "    <tr>\n",
       "      <th>4</th>\n",
       "      <td>-1388044436100964633</td>\n",
       "      <td>2019-12-01</td>\n",
       "      <td>0.002288</td>\n",
       "    </tr>\n",
       "  </tbody>\n",
       "</table>\n",
       "</div>"
      ],
      "text/plain": [
       "               user_id revenue_day   revenue\n",
       "0  7799779337307357843  2019-12-01  0.015406\n",
       "1  2903532465681507879  2019-12-01  0.019093\n",
       "2  7271844357181366660  2019-12-01  0.011785\n",
       "3 -6989185766557698704  2019-12-01  0.013538\n",
       "4 -1388044436100964633  2019-12-01  0.002288"
      ]
     },
     "execution_count": 4,
     "metadata": {
      "tags": []
     },
     "output_type": "execute_result"
    }
   ],
   "source": [
    "df1.head()"
   ]
  },
  {
   "cell_type": "markdown",
   "metadata": {
    "id": "yrrgemUiaKx8"
   },
   "source": [
    "* Görüldüğü gibi aslında bizim 1768 adet kullanıcımız var. Diğer veri setinde ise bu kullanıcılara ait veriler anlık akan veri olduğu için boyut farkı bulunmak bu yüzden işlemlerimize her Userı unique(benzersiz) ele alarak çıkarımlarımızı yapacağız."
   ]
  },
  {
   "cell_type": "code",
   "execution_count": 6,
   "metadata": {
    "colab": {
     "base_uri": "https://localhost:8080/",
     "height": 82
    },
    "id": "0hFJlBSRaFAU",
    "outputId": "fefbc9dd-a8d0-4ef1-d75a-9b7be86195ad"
   },
   "outputs": [
    {
     "data": {
      "text/plain": [
       "user_id        1768\n",
       "revenue_day      46\n",
       "revenue        8791\n",
       "dtype: int64"
      ]
     },
     "execution_count": 6,
     "metadata": {
      "tags": []
     },
     "output_type": "execute_result"
    }
   ],
   "source": [
    "df1.nunique()"
   ]
  },
  {
   "cell_type": "code",
   "execution_count": 5,
   "metadata": {
    "colab": {
     "base_uri": "https://localhost:8080/",
     "height": 478
    },
    "id": "4jKBSFNBYHJi",
    "outputId": "9890526b-3ad3-43ee-fe44-f90620a79666"
   },
   "outputs": [
    {
     "data": {
      "text/html": [
       "<div>\n",
       "<style scoped>\n",
       "    .dataframe tbody tr th:only-of-type {\n",
       "        vertical-align: middle;\n",
       "    }\n",
       "\n",
       "    .dataframe tbody tr th {\n",
       "        vertical-align: top;\n",
       "    }\n",
       "\n",
       "    .dataframe thead th {\n",
       "        text-align: right;\n",
       "    }\n",
       "</style>\n",
       "<table border=\"1\" class=\"dataframe\">\n",
       "  <thead>\n",
       "    <tr style=\"text-align: right;\">\n",
       "      <th></th>\n",
       "      <th>user_id</th>\n",
       "      <th>client_ts</th>\n",
       "      <th>event_id</th>\n",
       "      <th>value</th>\n",
       "      <th>version</th>\n",
       "      <th>country_code</th>\n",
       "      <th>os_type</th>\n",
       "    </tr>\n",
       "  </thead>\n",
       "  <tbody>\n",
       "    <tr>\n",
       "      <th>0</th>\n",
       "      <td>-9215534650345115924</td>\n",
       "      <td>2019-12-01 17:36:45 UTC</td>\n",
       "      <td>Start:turkish:L0</td>\n",
       "      <td>NaN</td>\n",
       "      <td>1.20.00</td>\n",
       "      <td>TR</td>\n",
       "      <td>android</td>\n",
       "    </tr>\n",
       "    <tr>\n",
       "      <th>1</th>\n",
       "      <td>-9215534650345115924</td>\n",
       "      <td>2019-12-01 17:36:55 UTC</td>\n",
       "      <td>Complete:turkish:L0</td>\n",
       "      <td>NaN</td>\n",
       "      <td>1.20.00</td>\n",
       "      <td>TR</td>\n",
       "      <td>android</td>\n",
       "    </tr>\n",
       "    <tr>\n",
       "      <th>2</th>\n",
       "      <td>-9215534650345115924</td>\n",
       "      <td>2019-12-01 17:36:56 UTC</td>\n",
       "      <td>app:gameScore</td>\n",
       "      <td>100.0</td>\n",
       "      <td>1.20.00</td>\n",
       "      <td>TR</td>\n",
       "      <td>android</td>\n",
       "    </tr>\n",
       "    <tr>\n",
       "      <th>3</th>\n",
       "      <td>-9215534650345115924</td>\n",
       "      <td>2019-12-01 17:37:04 UTC</td>\n",
       "      <td>Start:turkish:L1</td>\n",
       "      <td>NaN</td>\n",
       "      <td>1.20.00</td>\n",
       "      <td>TR</td>\n",
       "      <td>android</td>\n",
       "    </tr>\n",
       "    <tr>\n",
       "      <th>4</th>\n",
       "      <td>-9215534650345115924</td>\n",
       "      <td>2019-12-01 17:37:06 UTC</td>\n",
       "      <td>wrong:turkish:L1</td>\n",
       "      <td>NaN</td>\n",
       "      <td>1.20.00</td>\n",
       "      <td>TR</td>\n",
       "      <td>android</td>\n",
       "    </tr>\n",
       "    <tr>\n",
       "      <th>5</th>\n",
       "      <td>-9215534650345115924</td>\n",
       "      <td>2019-12-01 17:37:07 UTC</td>\n",
       "      <td>wrong:turkish:L1</td>\n",
       "      <td>NaN</td>\n",
       "      <td>1.20.00</td>\n",
       "      <td>TR</td>\n",
       "      <td>android</td>\n",
       "    </tr>\n",
       "    <tr>\n",
       "      <th>6</th>\n",
       "      <td>-9215534650345115924</td>\n",
       "      <td>2019-12-01 17:37:11 UTC</td>\n",
       "      <td>app:gameScore</td>\n",
       "      <td>194.0</td>\n",
       "      <td>1.20.00</td>\n",
       "      <td>TR</td>\n",
       "      <td>android</td>\n",
       "    </tr>\n",
       "    <tr>\n",
       "      <th>7</th>\n",
       "      <td>-9215534650345115924</td>\n",
       "      <td>2019-12-01 17:37:11 UTC</td>\n",
       "      <td>Complete:turkish:L1</td>\n",
       "      <td>NaN</td>\n",
       "      <td>1.20.00</td>\n",
       "      <td>TR</td>\n",
       "      <td>android</td>\n",
       "    </tr>\n",
       "    <tr>\n",
       "      <th>8</th>\n",
       "      <td>-9215534650345115924</td>\n",
       "      <td>2019-12-01 17:37:20 UTC</td>\n",
       "      <td>Start:turkish:L2</td>\n",
       "      <td>NaN</td>\n",
       "      <td>1.20.00</td>\n",
       "      <td>TR</td>\n",
       "      <td>android</td>\n",
       "    </tr>\n",
       "    <tr>\n",
       "      <th>9</th>\n",
       "      <td>-9215534650345115924</td>\n",
       "      <td>2019-12-01 17:37:27 UTC</td>\n",
       "      <td>Complete:turkish:L2</td>\n",
       "      <td>NaN</td>\n",
       "      <td>1.20.00</td>\n",
       "      <td>TR</td>\n",
       "      <td>android</td>\n",
       "    </tr>\n",
       "    <tr>\n",
       "      <th>10</th>\n",
       "      <td>-9215534650345115924</td>\n",
       "      <td>2019-12-01 17:37:27 UTC</td>\n",
       "      <td>app:gameScore</td>\n",
       "      <td>294.0</td>\n",
       "      <td>1.20.00</td>\n",
       "      <td>TR</td>\n",
       "      <td>android</td>\n",
       "    </tr>\n",
       "    <tr>\n",
       "      <th>11</th>\n",
       "      <td>-9215534650345115924</td>\n",
       "      <td>2019-12-01 17:37:34 UTC</td>\n",
       "      <td>Start:turkish:L3</td>\n",
       "      <td>NaN</td>\n",
       "      <td>1.20.00</td>\n",
       "      <td>TR</td>\n",
       "      <td>android</td>\n",
       "    </tr>\n",
       "    <tr>\n",
       "      <th>12</th>\n",
       "      <td>-9215534650345115924</td>\n",
       "      <td>2019-12-01 17:37:40 UTC</td>\n",
       "      <td>wrong:turkish:L3</td>\n",
       "      <td>NaN</td>\n",
       "      <td>1.20.00</td>\n",
       "      <td>TR</td>\n",
       "      <td>android</td>\n",
       "    </tr>\n",
       "    <tr>\n",
       "      <th>13</th>\n",
       "      <td>-9215534650345115924</td>\n",
       "      <td>2019-12-01 17:37:42 UTC</td>\n",
       "      <td>Complete:turkish:L3</td>\n",
       "      <td>NaN</td>\n",
       "      <td>1.20.00</td>\n",
       "      <td>TR</td>\n",
       "      <td>android</td>\n",
       "    </tr>\n",
       "    <tr>\n",
       "      <th>14</th>\n",
       "      <td>-9215534650345115924</td>\n",
       "      <td>2019-12-01 17:37:42 UTC</td>\n",
       "      <td>app:gameScore</td>\n",
       "      <td>391.0</td>\n",
       "      <td>1.20.00</td>\n",
       "      <td>TR</td>\n",
       "      <td>android</td>\n",
       "    </tr>\n",
       "  </tbody>\n",
       "</table>\n",
       "</div>"
      ],
      "text/plain": [
       "                user_id                client_ts  ... country_code  os_type\n",
       "0  -9215534650345115924  2019-12-01 17:36:45 UTC  ...           TR  android\n",
       "1  -9215534650345115924  2019-12-01 17:36:55 UTC  ...           TR  android\n",
       "2  -9215534650345115924  2019-12-01 17:36:56 UTC  ...           TR  android\n",
       "3  -9215534650345115924  2019-12-01 17:37:04 UTC  ...           TR  android\n",
       "4  -9215534650345115924  2019-12-01 17:37:06 UTC  ...           TR  android\n",
       "5  -9215534650345115924  2019-12-01 17:37:07 UTC  ...           TR  android\n",
       "6  -9215534650345115924  2019-12-01 17:37:11 UTC  ...           TR  android\n",
       "7  -9215534650345115924  2019-12-01 17:37:11 UTC  ...           TR  android\n",
       "8  -9215534650345115924  2019-12-01 17:37:20 UTC  ...           TR  android\n",
       "9  -9215534650345115924  2019-12-01 17:37:27 UTC  ...           TR  android\n",
       "10 -9215534650345115924  2019-12-01 17:37:27 UTC  ...           TR  android\n",
       "11 -9215534650345115924  2019-12-01 17:37:34 UTC  ...           TR  android\n",
       "12 -9215534650345115924  2019-12-01 17:37:40 UTC  ...           TR  android\n",
       "13 -9215534650345115924  2019-12-01 17:37:42 UTC  ...           TR  android\n",
       "14 -9215534650345115924  2019-12-01 17:37:42 UTC  ...           TR  android\n",
       "\n",
       "[15 rows x 7 columns]"
      ]
     },
     "execution_count": 5,
     "metadata": {
      "tags": []
     },
     "output_type": "execute_result"
    }
   ],
   "source": [
    "df.head(15)"
   ]
  },
  {
   "cell_type": "code",
   "execution_count": 17,
   "metadata": {
    "colab": {
     "base_uri": "https://localhost:8080/",
     "height": 33
    },
    "id": "Eo1f2G6IcikS",
    "outputId": "d76c340e-0cb6-4e96-852d-a7559478a399"
   },
   "outputs": [
    {
     "data": {
      "text/plain": [
       "(1748861, 7)"
      ]
     },
     "execution_count": 17,
     "metadata": {
      "tags": []
     },
     "output_type": "execute_result"
    }
   ],
   "source": [
    "df.shape"
   ]
  },
  {
   "cell_type": "code",
   "execution_count": 15,
   "metadata": {
    "colab": {
     "base_uri": "https://localhost:8080/",
     "height": 245
    },
    "id": "BnfDgzRccfWb",
    "outputId": "1f39596e-8796-4507-ef7e-bacabae24aeb"
   },
   "outputs": [
    {
     "name": "stdout",
     "output_type": "stream",
     "text": [
      "<class 'pandas.core.frame.DataFrame'>\n",
      "RangeIndex: 1748861 entries, 0 to 1748860\n",
      "Data columns (total 7 columns):\n",
      " #   Column        Dtype  \n",
      "---  ------        -----  \n",
      " 0   user_id       int64  \n",
      " 1   client_ts     object \n",
      " 2   event_id      object \n",
      " 3   value         float64\n",
      " 4   version       object \n",
      " 5   country_code  object \n",
      " 6   os_type       object \n",
      "dtypes: float64(1), int64(1), object(5)\n",
      "memory usage: 93.4+ MB\n"
     ]
    }
   ],
   "source": [
    "df.info()"
   ]
  },
  {
   "cell_type": "code",
   "execution_count": 8,
   "metadata": {
    "colab": {
     "base_uri": "https://localhost:8080/",
     "height": 82
    },
    "id": "Dbxuyh90aD6d",
    "outputId": "792e6cc8-bb87-45f7-8a4f-be785b948020"
   },
   "outputs": [
    {
     "data": {
      "text/plain": [
       "version          5\n",
       "country_code    12\n",
       "os_type          1\n",
       "dtype: int64"
      ]
     },
     "execution_count": 8,
     "metadata": {
      "tags": []
     },
     "output_type": "execute_result"
    }
   ],
   "source": [
    "# Toplam 5 versiyon bulunmakta\n",
    "# 12 Adet ülkemiz var\n",
    "# İşletim sistemi ise 1 adet yani bu değişken işe yaramaz \n",
    "\n",
    "df[[\"version\",\"country_code\",\"os_type\"]].nunique()"
   ]
  },
  {
   "cell_type": "code",
   "execution_count": 9,
   "metadata": {
    "colab": {
     "base_uri": "https://localhost:8080/",
     "height": 50
    },
    "id": "LunKMd-LaD26",
    "outputId": "0ff159fc-efc9-4164-f0ce-42744cfc991e"
   },
   "outputs": [
    {
     "data": {
      "text/plain": [
       "array(['1.20.00', '1.21.00', '1.19.00', '1.18.00', '1.15.00'],\n",
       "      dtype=object)"
      ]
     },
     "execution_count": 9,
     "metadata": {
      "tags": []
     },
     "output_type": "execute_result"
    }
   ],
   "source": [
    "# Versiyonlar\n",
    "\n",
    "df[\"version\"].unique()"
   ]
  },
  {
   "cell_type": "code",
   "execution_count": 10,
   "metadata": {
    "colab": {
     "base_uri": "https://localhost:8080/",
     "height": 115
    },
    "id": "QEwh2jPfbGd4",
    "outputId": "9f2e2477-cbaa-4c5f-9b49-3bc97711bcd0"
   },
   "outputs": [
    {
     "data": {
      "text/plain": [
       "1.20.00    986277\n",
       "1.21.00    624054\n",
       "1.19.00    133143\n",
       "1.18.00      3804\n",
       "1.15.00      1583\n",
       "Name: version, dtype: int64"
      ]
     },
     "execution_count": 10,
     "metadata": {
      "tags": []
     },
     "output_type": "execute_result"
    }
   ],
   "source": [
    "# Versiyonlara ait countlar\n",
    "\n",
    "df[\"version\"].value_counts()"
   ]
  },
  {
   "cell_type": "code",
   "execution_count": 13,
   "metadata": {
    "colab": {
     "base_uri": "https://localhost:8080/",
     "height": 50
    },
    "id": "6Amd4FDTa89K",
    "outputId": "1c35f17a-1311-4598-a6cb-4ff09fb6afcc"
   },
   "outputs": [
    {
     "data": {
      "text/plain": [
       "array(['TR', 'AZ', 'DE', 'BE', 'US', 'NL', 'GB', 'CA', 'undefined', 'KZ',\n",
       "       'BG', 'AT'], dtype=object)"
      ]
     },
     "execution_count": 13,
     "metadata": {
      "tags": []
     },
     "output_type": "execute_result"
    }
   ],
   "source": [
    "# Burada ülke kodlarını görebiliyoruz \n",
    "\n",
    "df[\"country_code\"].unique()"
   ]
  },
  {
   "cell_type": "code",
   "execution_count": 14,
   "metadata": {
    "colab": {
     "base_uri": "https://localhost:8080/",
     "height": 228
    },
    "id": "KhBx9Smia85N",
    "outputId": "475d4ddd-5399-41e3-8666-4bb9e62a3701"
   },
   "outputs": [
    {
     "data": {
      "text/plain": [
       "TR           1699956\n",
       "DE             42462\n",
       "AZ              1942\n",
       "BG              1701\n",
       "GB               863\n",
       "US               714\n",
       "KZ               493\n",
       "NL               381\n",
       "BE               243\n",
       "AT                51\n",
       "undefined         29\n",
       "CA                26\n",
       "Name: country_code, dtype: int64"
      ]
     },
     "execution_count": 14,
     "metadata": {
      "tags": []
     },
     "output_type": "execute_result"
    }
   ],
   "source": [
    "# Ülkelere ait countlar\n",
    "\n",
    "df[\"country_code\"].value_counts()"
   ]
  },
  {
   "cell_type": "code",
   "execution_count": null,
   "metadata": {
    "id": "IG7gyqRda81B"
   },
   "outputs": [],
   "source": []
  },
  {
   "cell_type": "markdown",
   "metadata": {
    "id": "kjbxlhFEblIA"
   },
   "source": [
    "# *Simdi elimizdeki veriden anlamli şeyler çıkartmamız gerek. Bunun için öncelikle her kullanıcıya ait toplam geçirilen saati buluyoruz.*\n",
    "\n",
    " # *Daha sonra kullanıcıların toplam ulaştıkları leveli elde ediyoruz.*"
   ]
  },
  {
   "cell_type": "code",
   "execution_count": null,
   "metadata": {
    "id": "r0p0uHnxbkBF"
   },
   "outputs": [],
   "source": []
  },
  {
   "cell_type": "markdown",
   "metadata": {
    "id": "NdtBQX9CiSOv"
   },
   "source": [
    "## Toplam gecirilen saat. \n",
    "\n",
    "### Toplam saat bulunup başka bir frame üzerinden devam ediyoruz."
   ]
  },
  {
   "cell_type": "code",
   "execution_count": null,
   "metadata": {
    "id": "3Wj4I6P9iSOw"
   },
   "outputs": [],
   "source": [
    "df[\"date_time\"] = pd.to_datetime(df[\"client_ts\"])\n",
    "liste = []\n",
    "id  = []\n",
    "for i in df['user_id'].unique():\n",
    "    liste.append( df[df['user_id'] == i]['date_time'].max() - df[df['user_id'] == i]['date_time'].min())\n",
    "\n",
    "\n",
    "table = pd.Series(df[\"user_id\"].unique())\n",
    "frame2 = pd.DataFrame({\"users\":table, \"toplam saat\" : liste})"
   ]
  },
  {
   "cell_type": "code",
   "execution_count": null,
   "metadata": {
    "id": "XBox8k3WcVUY"
   },
   "outputs": [],
   "source": []
  },
  {
   "cell_type": "markdown",
   "metadata": {
    "id": "EYokqPBZiSO1"
   },
   "source": [
    "## Max level buluyoruz. "
   ]
  },
  {
   "cell_type": "code",
   "execution_count": null,
   "metadata": {
    "id": "FX7kY9_niSO2"
   },
   "outputs": [],
   "source": [
    "dfx = df['event_id'].str.split(':',expand=True)"
   ]
  },
  {
   "cell_type": "code",
   "execution_count": null,
   "metadata": {
    "id": "2l9NneuQiSO7"
   },
   "outputs": [],
   "source": [
    "dfa = dfx[2].str.strip('L')"
   ]
  },
  {
   "cell_type": "code",
   "execution_count": null,
   "metadata": {
    "id": "kKs6-lVaiSO_"
   },
   "outputs": [],
   "source": [
    "dfa = dfa.str.strip('DL')"
   ]
  },
  {
   "cell_type": "code",
   "execution_count": null,
   "metadata": {
    "id": "yYblS2JuiSPD"
   },
   "outputs": [],
   "source": [
    "dfa = dfa.str.strip('PL')"
   ]
  },
  {
   "cell_type": "code",
   "execution_count": null,
   "metadata": {
    "id": "Im6vhK6BiSPJ"
   },
   "outputs": [],
   "source": [
    "dfa = dfa.replace (np.nan , '0')"
   ]
  },
  {
   "cell_type": "code",
   "execution_count": null,
   "metadata": {
    "id": "ugbz5by8iSPO"
   },
   "outputs": [],
   "source": [
    "dfs = pd.concat([ df, dfa], axis=1)"
   ]
  },
  {
   "cell_type": "code",
   "execution_count": null,
   "metadata": {
    "id": "lMda1aEhiSPT"
   },
   "outputs": [],
   "source": [
    "dfs.rename(columns={2: 'level'},inplace=True)"
   ]
  },
  {
   "cell_type": "code",
   "execution_count": null,
   "metadata": {
    "id": "bOzaFI_1iSPb"
   },
   "outputs": [],
   "source": [
    "dfs['level'] = dfs['level'].astype('int')"
   ]
  },
  {
   "cell_type": "code",
   "execution_count": null,
   "metadata": {
    "colab": {
     "base_uri": "https://localhost:8080/",
     "height": 197
    },
    "id": "YL3UMs2xiSPg",
    "outputId": "aac6f679-84aa-48f1-c125-335387d91a20"
   },
   "outputs": [
    {
     "data": {
      "text/html": [
       "<div>\n",
       "<style scoped>\n",
       "    .dataframe tbody tr th:only-of-type {\n",
       "        vertical-align: middle;\n",
       "    }\n",
       "\n",
       "    .dataframe tbody tr th {\n",
       "        vertical-align: top;\n",
       "    }\n",
       "\n",
       "    .dataframe thead th {\n",
       "        text-align: right;\n",
       "    }\n",
       "</style>\n",
       "<table border=\"1\" class=\"dataframe\">\n",
       "  <thead>\n",
       "    <tr style=\"text-align: right;\">\n",
       "      <th></th>\n",
       "      <th>users</th>\n",
       "      <th>max level</th>\n",
       "    </tr>\n",
       "  </thead>\n",
       "  <tbody>\n",
       "    <tr>\n",
       "      <th>0</th>\n",
       "      <td>-9215534650345115924</td>\n",
       "      <td>137</td>\n",
       "    </tr>\n",
       "    <tr>\n",
       "      <th>1</th>\n",
       "      <td>-9215240100939776087</td>\n",
       "      <td>282</td>\n",
       "    </tr>\n",
       "    <tr>\n",
       "      <th>2</th>\n",
       "      <td>-9202484284851622629</td>\n",
       "      <td>17</td>\n",
       "    </tr>\n",
       "    <tr>\n",
       "      <th>3</th>\n",
       "      <td>-9197151025395411316</td>\n",
       "      <td>42</td>\n",
       "    </tr>\n",
       "    <tr>\n",
       "      <th>4</th>\n",
       "      <td>-9167946499694210868</td>\n",
       "      <td>7</td>\n",
       "    </tr>\n",
       "  </tbody>\n",
       "</table>\n",
       "</div>"
      ],
      "text/plain": [
       "                 users  max level\n",
       "0 -9215534650345115924        137\n",
       "1 -9215240100939776087        282\n",
       "2 -9202484284851622629         17\n",
       "3 -9197151025395411316         42\n",
       "4 -9167946499694210868          7"
      ]
     },
     "execution_count": 28,
     "metadata": {
      "tags": []
     },
     "output_type": "execute_result"
    }
   ],
   "source": [
    "list= []\n",
    "\n",
    "for i in dfs['user_id'].unique():\n",
    "    list.append( dfs[dfs['user_id'] == i]['level'].max())\n",
    "\n",
    "table = pd.Series(df[\"user_id\"].unique())\n",
    "frame3 = pd.DataFrame({\"users\":table, \"max level\" : list})\n",
    "frame3.head()"
   ]
  },
  {
   "cell_type": "code",
   "execution_count": null,
   "metadata": {
    "colab": {
     "base_uri": "https://localhost:8080/",
     "height": 34
    },
    "id": "n07Q9AX4iSPl",
    "outputId": "610bc55c-d7da-4090-a87c-6f108f55d1dd"
   },
   "outputs": [
    {
     "data": {
      "text/plain": [
       "(1768, 2)"
      ]
     },
     "execution_count": 29,
     "metadata": {
      "tags": []
     },
     "output_type": "execute_result"
    }
   ],
   "source": [
    "# Burada dikkat edilmesi gerken şey 1.7 milyon satırlık bir tabloda aslında işlemi görülmesi gereken şey her Userın unique olarak değerlendirilmesidir\n",
    "\n",
    "frame3.shape "
   ]
  },
  {
   "cell_type": "code",
   "execution_count": null,
   "metadata": {
    "id": "HJLsVDjrcwzy"
   },
   "outputs": [],
   "source": []
  },
  {
   "cell_type": "markdown",
   "metadata": {
    "id": "ZGKPP6hJiSPp"
   },
   "source": [
    "# *Userların Level başına skorları ve toplam skorları*"
   ]
  },
  {
   "cell_type": "code",
   "execution_count": null,
   "metadata": {
    "colab": {
     "base_uri": "https://localhost:8080/",
     "height": 197
    },
    "id": "fv_6TnlFiSPq",
    "outputId": "c41d1d40-b10f-4b55-aadc-ce434d7f0df7"
   },
   "outputs": [
    {
     "data": {
      "text/html": [
       "<div>\n",
       "<style scoped>\n",
       "    .dataframe tbody tr th:only-of-type {\n",
       "        vertical-align: middle;\n",
       "    }\n",
       "\n",
       "    .dataframe tbody tr th {\n",
       "        vertical-align: top;\n",
       "    }\n",
       "\n",
       "    .dataframe thead th {\n",
       "        text-align: right;\n",
       "    }\n",
       "</style>\n",
       "<table border=\"1\" class=\"dataframe\">\n",
       "  <thead>\n",
       "    <tr style=\"text-align: right;\">\n",
       "      <th></th>\n",
       "      <th>users</th>\n",
       "      <th>toplam score</th>\n",
       "      <th>son_level</th>\n",
       "      <th>level_basina_skor</th>\n",
       "    </tr>\n",
       "  </thead>\n",
       "  <tbody>\n",
       "    <tr>\n",
       "      <th>0</th>\n",
       "      <td>-9215534650345115924</td>\n",
       "      <td>540634.502</td>\n",
       "      <td>137</td>\n",
       "      <td>3946.237241</td>\n",
       "    </tr>\n",
       "    <tr>\n",
       "      <th>1</th>\n",
       "      <td>-9215240100939776087</td>\n",
       "      <td>3589694.584</td>\n",
       "      <td>282</td>\n",
       "      <td>12729.413418</td>\n",
       "    </tr>\n",
       "    <tr>\n",
       "      <th>2</th>\n",
       "      <td>-9202484284851622629</td>\n",
       "      <td>4735.535</td>\n",
       "      <td>17</td>\n",
       "      <td>278.560882</td>\n",
       "    </tr>\n",
       "    <tr>\n",
       "      <th>3</th>\n",
       "      <td>-9197151025395411316</td>\n",
       "      <td>90563.598</td>\n",
       "      <td>42</td>\n",
       "      <td>2156.276143</td>\n",
       "    </tr>\n",
       "    <tr>\n",
       "      <th>4</th>\n",
       "      <td>-9167946499694210868</td>\n",
       "      <td>3579.000</td>\n",
       "      <td>7</td>\n",
       "      <td>511.285714</td>\n",
       "    </tr>\n",
       "  </tbody>\n",
       "</table>\n",
       "</div>"
      ],
      "text/plain": [
       "                 users  toplam score  son_level  level_basina_skor\n",
       "0 -9215534650345115924    540634.502        137        3946.237241\n",
       "1 -9215240100939776087   3589694.584        282       12729.413418\n",
       "2 -9202484284851622629      4735.535         17         278.560882\n",
       "3 -9197151025395411316     90563.598         42        2156.276143\n",
       "4 -9167946499694210868      3579.000          7         511.285714"
      ]
     },
     "execution_count": 30,
     "metadata": {
      "tags": []
     },
     "output_type": "execute_result"
    }
   ],
   "source": [
    "total_score = []\n",
    "\n",
    "for i in df[\"user_id\"].unique():\n",
    "\n",
    "\n",
    "    total = round(df[df[\"user_id\"] == i].value.sum(), 3)\n",
    "\n",
    "\n",
    "    total_score.append(total)\n",
    "\n",
    "\n",
    "table = pd.Series(df[\"user_id\"].unique())\n",
    "frame1 = pd.DataFrame({\"users\":table,\"toplam score\":total_score , \"son_level\" : list})\n",
    "frame1['level_basina_skor']  = frame1['toplam score'] / frame1['son_level']\n",
    "frame1.head()"
   ]
  },
  {
   "cell_type": "code",
   "execution_count": null,
   "metadata": {
    "colab": {
     "base_uri": "https://localhost:8080/",
     "height": 34
    },
    "id": "PYb_CmFaiSPu",
    "outputId": "30186e5e-73ec-4004-cdd8-9bd12f499dac"
   },
   "outputs": [
    {
     "data": {
      "text/plain": [
       "(1768, 4)"
      ]
     },
     "execution_count": 165,
     "metadata": {
      "tags": []
     },
     "output_type": "execute_result"
    }
   ],
   "source": [
    "frame1.shape"
   ]
  },
  {
   "cell_type": "code",
   "execution_count": null,
   "metadata": {
    "id": "vxd7JjZOc58e"
   },
   "outputs": [],
   "source": []
  },
  {
   "cell_type": "markdown",
   "metadata": {
    "id": "gc0Mfa-ViSPz"
   },
   "source": [
    "# *Userlara ait Total elde edilen revenue*"
   ]
  },
  {
   "cell_type": "code",
   "execution_count": null,
   "metadata": {
    "id": "nQ5b1vsRiSPz"
   },
   "outputs": [],
   "source": [
    "total_revenue = []\n",
    "\n",
    "for i in df1[\"user_id\"].unique():\n",
    "\n",
    "\n",
    "    total = df1[df1[\"user_id\"] == i].revenue.sum()\n",
    "\n",
    "\n",
    "    total_revenue.append(total)\n",
    "\n",
    "\n",
    "table = pd.Series(df1[\"user_id\"].unique())\n",
    "frame4 = pd.DataFrame({\"user_id\":table,\"toplam revenue\":total_revenue})"
   ]
  },
  {
   "cell_type": "code",
   "execution_count": null,
   "metadata": {
    "id": "2TSte9ILc_et"
   },
   "outputs": [],
   "source": []
  },
  {
   "cell_type": "markdown",
   "metadata": {
    "id": "2s0MtGMeiSP3"
   },
   "source": [
    "# *Günlük Userlardan elde edilen revenue*"
   ]
  },
  {
   "cell_type": "code",
   "execution_count": null,
   "metadata": {
    "colab": {
     "base_uri": "https://localhost:8080/",
     "height": 34
    },
    "id": "S50IxizyiSP4",
    "outputId": "9dd6a99e-b608-48da-c705-19fdcb821444"
   },
   "outputs": [
    {
     "data": {
      "text/plain": [
       "(1768, 2)"
      ]
     },
     "execution_count": 32,
     "metadata": {
      "tags": []
     },
     "output_type": "execute_result"
    }
   ],
   "source": [
    "ids = []\n",
    "\n",
    "for i in df1[\"user_id\"].unique():\n",
    "    #ids.append(i)\n",
    "    ids.append(df1[df1[\"user_id\"] == i][\"revenue\"].sum())\n",
    "    result = np.array(ids)\n",
    "    \n",
    "table = pd.Series(df1[\"user_id\"].unique())\n",
    "frame = pd.DataFrame({\"users\":table,\"toplam revenue\":result})\n",
    "frame.shape"
   ]
  },
  {
   "cell_type": "code",
   "execution_count": null,
   "metadata": {
    "colab": {
     "base_uri": "https://localhost:8080/",
     "height": 197
    },
    "id": "-2oEEXypiSP8",
    "outputId": "80df0689-92aa-433c-8046-17ca5d69f643"
   },
   "outputs": [
    {
     "data": {
      "text/html": [
       "<div>\n",
       "<style scoped>\n",
       "    .dataframe tbody tr th:only-of-type {\n",
       "        vertical-align: middle;\n",
       "    }\n",
       "\n",
       "    .dataframe tbody tr th {\n",
       "        vertical-align: top;\n",
       "    }\n",
       "\n",
       "    .dataframe thead th {\n",
       "        text-align: right;\n",
       "    }\n",
       "</style>\n",
       "<table border=\"1\" class=\"dataframe\">\n",
       "  <thead>\n",
       "    <tr style=\"text-align: right;\">\n",
       "      <th></th>\n",
       "      <th>users</th>\n",
       "      <th>toplam revenue</th>\n",
       "      <th>user_total_days</th>\n",
       "      <th>gunluk_revenue</th>\n",
       "    </tr>\n",
       "  </thead>\n",
       "  <tbody>\n",
       "    <tr>\n",
       "      <th>0</th>\n",
       "      <td>7799779337307357843</td>\n",
       "      <td>0.037932</td>\n",
       "      <td>6</td>\n",
       "      <td>0.006322</td>\n",
       "    </tr>\n",
       "    <tr>\n",
       "      <th>1</th>\n",
       "      <td>2903532465681507879</td>\n",
       "      <td>0.295134</td>\n",
       "      <td>27</td>\n",
       "      <td>0.010931</td>\n",
       "    </tr>\n",
       "    <tr>\n",
       "      <th>2</th>\n",
       "      <td>7271844357181366660</td>\n",
       "      <td>0.031168</td>\n",
       "      <td>4</td>\n",
       "      <td>0.007792</td>\n",
       "    </tr>\n",
       "    <tr>\n",
       "      <th>3</th>\n",
       "      <td>-6989185766557698704</td>\n",
       "      <td>0.013538</td>\n",
       "      <td>1</td>\n",
       "      <td>0.013538</td>\n",
       "    </tr>\n",
       "    <tr>\n",
       "      <th>4</th>\n",
       "      <td>-1388044436100964633</td>\n",
       "      <td>0.013033</td>\n",
       "      <td>3</td>\n",
       "      <td>0.004344</td>\n",
       "    </tr>\n",
       "  </tbody>\n",
       "</table>\n",
       "</div>"
      ],
      "text/plain": [
       "                 users  toplam revenue  user_total_days  gunluk_revenue\n",
       "0  7799779337307357843        0.037932                6        0.006322\n",
       "1  2903532465681507879        0.295134               27        0.010931\n",
       "2  7271844357181366660        0.031168                4        0.007792\n",
       "3 -6989185766557698704        0.013538                1        0.013538\n",
       "4 -1388044436100964633        0.013033                3        0.004344"
      ]
     },
     "execution_count": 33,
     "metadata": {
      "tags": []
     },
     "output_type": "execute_result"
    }
   ],
   "source": [
    "gun = []\n",
    "\n",
    "for j in df1[\"user_id\"].unique():\n",
    "    gun.append(len(df1[df1[\"user_id\"] == j][\"revenue_day\"]))\n",
    "    \n",
    "\n",
    "frame[\"user_total_days\"] = pd.Series(gun)\n",
    "frame[\"gunluk_revenue\"] = frame[\"toplam revenue\"] / frame[\"user_total_days\"]\n",
    "frame.head()"
   ]
  },
  {
   "cell_type": "code",
   "execution_count": null,
   "metadata": {
    "id": "Gaqycg7KiSP-"
   },
   "outputs": [],
   "source": [
    "dfson = pd.merge(frame2, frame3 , on='users')"
   ]
  },
  {
   "cell_type": "code",
   "execution_count": null,
   "metadata": {
    "id": "8CXi9yduiSQA"
   },
   "outputs": [],
   "source": [
    "dfson = pd.merge(dfson , frame1 , on='users' )"
   ]
  },
  {
   "cell_type": "code",
   "execution_count": null,
   "metadata": {
    "id": "jPSvBP1yiSQD"
   },
   "outputs": [],
   "source": [
    "dfson = pd.merge(dfson , frame , on='users' )"
   ]
  },
  {
   "cell_type": "code",
   "execution_count": null,
   "metadata": {
    "id": "_AzeZF1wdKDD"
   },
   "outputs": [],
   "source": []
  },
  {
   "cell_type": "markdown",
   "metadata": {
    "id": "9KFZ-OosiSQF"
   },
   "source": [
    "# *Toplam hata*\n",
    "\n",
    "## *Bizim toplam elde ettiğimiz level vardı ve bu level içerisinde aynı zaman da yapılan hatalar var. Biz Userların toplam hatalarını da bulacağız.*"
   ]
  },
  {
   "cell_type": "code",
   "execution_count": null,
   "metadata": {
    "id": "wnLgObQDiSQF"
   },
   "outputs": [],
   "source": [
    "bos = []\n",
    "\n",
    "for i in df[\"user_id\"].unique():\n",
    "    bos.append(i)\n",
    "    \n",
    "df[\"new\"] = df[\"event_id\"].str.split(\":\",expand=True)[0]"
   ]
  },
  {
   "cell_type": "code",
   "execution_count": null,
   "metadata": {
    "id": "msNcWftWiSQI"
   },
   "outputs": [],
   "source": [
    "a = \"new\"\n",
    "b = \"user_id\"\n",
    "\n",
    "dolu = []\n",
    "\n",
    "for i in bos:\n",
    "    dolu.append(len(df[(df[a] == \"wrong\") & (df[b] == i)][\"new\"]))\n"
   ]
  },
  {
   "cell_type": "code",
   "execution_count": null,
   "metadata": {
    "id": "IiWRhQP6iSQL"
   },
   "outputs": [],
   "source": [
    "tablea = pd.Series(df[\"user_id\"].unique())\n",
    "frame5 = pd.DataFrame({\"users\":tablea,\"toplam hata\":dolu})"
   ]
  },
  {
   "cell_type": "code",
   "execution_count": null,
   "metadata": {
    "id": "C6YUktzViSQN"
   },
   "outputs": [],
   "source": [
    "dfson = pd.merge(dfson , frame5 , on='users' )"
   ]
  },
  {
   "cell_type": "code",
   "execution_count": null,
   "metadata": {
    "id": "aBhdwXMciSQQ"
   },
   "outputs": [],
   "source": [
    "dfson= dfson.set_index(\"users\")"
   ]
  },
  {
   "cell_type": "code",
   "execution_count": null,
   "metadata": {
    "id": "wzwys2p9dhIN"
   },
   "outputs": [],
   "source": []
  },
  {
   "cell_type": "code",
   "execution_count": null,
   "metadata": {
    "id": "GpfSlCXldhdr"
   },
   "outputs": [],
   "source": []
  },
  {
   "cell_type": "markdown",
   "metadata": {
    "id": "VQRv10n-iSQS"
   },
   "source": [
    "# *Elde ettiğimiz bir saat vardı buna tam saat bazında dönüştürme yapmamız gerek.*"
   ]
  },
  {
   "cell_type": "code",
   "execution_count": null,
   "metadata": {
    "colab": {
     "base_uri": "https://localhost:8080/",
     "height": 247
    },
    "id": "XAXq7YE4iSQT",
    "outputId": "1a65b2fb-8242-439b-bd42-ee5f36c18844"
   },
   "outputs": [
    {
     "data": {
      "text/plain": [
       "users\n",
       "-9215534650345115924    218.916667\n",
       "-9215240100939776087    288.954444\n",
       "-9202484284851622629      0.260833\n",
       "-9197151025395411316     22.559722\n",
       "-9167946499694210868      0.044444\n",
       "                           ...    \n",
       " 9205712211459362688      0.185000\n",
       " 9210908092972712517      0.288889\n",
       " 9215640541058628139    163.904444\n",
       " 9215693985055962487      4.513889\n",
       " 9221849159789412152     94.570833\n",
       "Name: toplam saat, Length: 1768, dtype: float64"
      ]
     },
     "execution_count": 42,
     "metadata": {
      "tags": []
     },
     "output_type": "execute_result"
    }
   ],
   "source": [
    "dfson['toplam saat'] / np.timedelta64(1, 'h')"
   ]
  },
  {
   "cell_type": "code",
   "execution_count": null,
   "metadata": {
    "colab": {
     "base_uri": "https://localhost:8080/",
     "height": 227
    },
    "id": "p6pFI6phiSQV",
    "outputId": "31172f8e-78ca-4468-dc8b-cc6a17c08931"
   },
   "outputs": [
    {
     "data": {
      "text/html": [
       "<div>\n",
       "<style scoped>\n",
       "    .dataframe tbody tr th:only-of-type {\n",
       "        vertical-align: middle;\n",
       "    }\n",
       "\n",
       "    .dataframe tbody tr th {\n",
       "        vertical-align: top;\n",
       "    }\n",
       "\n",
       "    .dataframe thead th {\n",
       "        text-align: right;\n",
       "    }\n",
       "</style>\n",
       "<table border=\"1\" class=\"dataframe\">\n",
       "  <thead>\n",
       "    <tr style=\"text-align: right;\">\n",
       "      <th></th>\n",
       "      <th>toplam saat</th>\n",
       "      <th>max level</th>\n",
       "      <th>toplam score</th>\n",
       "      <th>son_level</th>\n",
       "      <th>level_basina_skor</th>\n",
       "      <th>toplam revenue</th>\n",
       "      <th>user_total_days</th>\n",
       "      <th>gunluk_revenue</th>\n",
       "      <th>toplam hata</th>\n",
       "    </tr>\n",
       "    <tr>\n",
       "      <th>users</th>\n",
       "      <th></th>\n",
       "      <th></th>\n",
       "      <th></th>\n",
       "      <th></th>\n",
       "      <th></th>\n",
       "      <th></th>\n",
       "      <th></th>\n",
       "      <th></th>\n",
       "      <th></th>\n",
       "    </tr>\n",
       "  </thead>\n",
       "  <tbody>\n",
       "    <tr>\n",
       "      <th>-9215534650345115924</th>\n",
       "      <td>9 days 02:55:00</td>\n",
       "      <td>137</td>\n",
       "      <td>540634.502</td>\n",
       "      <td>137</td>\n",
       "      <td>3946.237241</td>\n",
       "      <td>0.006209</td>\n",
       "      <td>10</td>\n",
       "      <td>0.000621</td>\n",
       "      <td>2921</td>\n",
       "    </tr>\n",
       "    <tr>\n",
       "      <th>-9215240100939776087</th>\n",
       "      <td>12 days 00:57:16</td>\n",
       "      <td>282</td>\n",
       "      <td>3589694.584</td>\n",
       "      <td>282</td>\n",
       "      <td>12729.413418</td>\n",
       "      <td>0.089060</td>\n",
       "      <td>19</td>\n",
       "      <td>0.004687</td>\n",
       "      <td>1330</td>\n",
       "    </tr>\n",
       "    <tr>\n",
       "      <th>-9202484284851622629</th>\n",
       "      <td>0 days 00:15:39</td>\n",
       "      <td>17</td>\n",
       "      <td>4735.535</td>\n",
       "      <td>17</td>\n",
       "      <td>278.560882</td>\n",
       "      <td>0.003801</td>\n",
       "      <td>1</td>\n",
       "      <td>0.003801</td>\n",
       "      <td>113</td>\n",
       "    </tr>\n",
       "    <tr>\n",
       "      <th>-9197151025395411316</th>\n",
       "      <td>0 days 22:33:35</td>\n",
       "      <td>42</td>\n",
       "      <td>90563.598</td>\n",
       "      <td>42</td>\n",
       "      <td>2156.276143</td>\n",
       "      <td>0.005653</td>\n",
       "      <td>2</td>\n",
       "      <td>0.002826</td>\n",
       "      <td>30</td>\n",
       "    </tr>\n",
       "    <tr>\n",
       "      <th>-9167946499694210868</th>\n",
       "      <td>0 days 00:02:40</td>\n",
       "      <td>7</td>\n",
       "      <td>3579.000</td>\n",
       "      <td>7</td>\n",
       "      <td>511.285714</td>\n",
       "      <td>0.013754</td>\n",
       "      <td>1</td>\n",
       "      <td>0.013754</td>\n",
       "      <td>1</td>\n",
       "    </tr>\n",
       "  </tbody>\n",
       "</table>\n",
       "</div>"
      ],
      "text/plain": [
       "                          toplam saat  max level  ...  gunluk_revenue  toplam hata\n",
       "users                                             ...                             \n",
       "-9215534650345115924  9 days 02:55:00        137  ...        0.000621         2921\n",
       "-9215240100939776087 12 days 00:57:16        282  ...        0.004687         1330\n",
       "-9202484284851622629  0 days 00:15:39         17  ...        0.003801          113\n",
       "-9197151025395411316  0 days 22:33:35         42  ...        0.002826           30\n",
       "-9167946499694210868  0 days 00:02:40          7  ...        0.013754            1\n",
       "\n",
       "[5 rows x 9 columns]"
      ]
     },
     "execution_count": 178,
     "metadata": {
      "tags": []
     },
     "output_type": "execute_result"
    }
   ],
   "source": [
    "dfson.head()"
   ]
  },
  {
   "cell_type": "code",
   "execution_count": null,
   "metadata": {
    "id": "L80KA0ePiSQX"
   },
   "outputs": [],
   "source": [
    "dfson['total_hours'] = dfson['toplam saat'] / np.timedelta64(1, 'h')"
   ]
  },
  {
   "cell_type": "code",
   "execution_count": null,
   "metadata": {
    "id": "KZ52aJcQiSQa"
   },
   "outputs": [],
   "source": [
    "dfson.drop([\"toplam saat\"], axis = 1, inplace = True)"
   ]
  },
  {
   "cell_type": "code",
   "execution_count": null,
   "metadata": {
    "id": "fCQWSCYyiSQd"
   },
   "outputs": [],
   "source": [
    "dfson.drop([\"son_level\"], axis = 1, inplace = True)"
   ]
  },
  {
   "cell_type": "code",
   "execution_count": null,
   "metadata": {
    "id": "Hj_-lsyJiSQf"
   },
   "outputs": [],
   "source": [
    "dfson[\"day_hours\"] = dfson[\"user_total_days\"] / dfson[\"total_hours\"]"
   ]
  },
  {
   "cell_type": "code",
   "execution_count": null,
   "metadata": {
    "id": "C1Y-Spa5iSQi"
   },
   "outputs": [],
   "source": [
    "dfson.replace(np.inf, 0 , inplace=True)"
   ]
  },
  {
   "cell_type": "code",
   "execution_count": null,
   "metadata": {
    "colab": {
     "base_uri": "https://localhost:8080/",
     "height": 167
    },
    "id": "4o5oGimKiSQl",
    "outputId": "e4c5936f-f4ab-427e-8c41-895b383f1dd4"
   },
   "outputs": [
    {
     "data": {
      "text/html": [
       "<div>\n",
       "<style scoped>\n",
       "    .dataframe tbody tr th:only-of-type {\n",
       "        vertical-align: middle;\n",
       "    }\n",
       "\n",
       "    .dataframe tbody tr th {\n",
       "        vertical-align: top;\n",
       "    }\n",
       "\n",
       "    .dataframe thead th {\n",
       "        text-align: right;\n",
       "    }\n",
       "</style>\n",
       "<table border=\"1\" class=\"dataframe\">\n",
       "  <thead>\n",
       "    <tr style=\"text-align: right;\">\n",
       "      <th></th>\n",
       "      <th>max level</th>\n",
       "      <th>toplam score</th>\n",
       "      <th>level_basina_skor</th>\n",
       "      <th>toplam revenue</th>\n",
       "      <th>user_total_days</th>\n",
       "      <th>gunluk_revenue</th>\n",
       "      <th>toplam hata</th>\n",
       "      <th>total_hours</th>\n",
       "      <th>day_hours</th>\n",
       "    </tr>\n",
       "    <tr>\n",
       "      <th>users</th>\n",
       "      <th></th>\n",
       "      <th></th>\n",
       "      <th></th>\n",
       "      <th></th>\n",
       "      <th></th>\n",
       "      <th></th>\n",
       "      <th></th>\n",
       "      <th></th>\n",
       "      <th></th>\n",
       "    </tr>\n",
       "  </thead>\n",
       "  <tbody>\n",
       "    <tr>\n",
       "      <th>-3091959366018228993</th>\n",
       "      <td>0</td>\n",
       "      <td>97.0</td>\n",
       "      <td>0.0</td>\n",
       "      <td>0.004577</td>\n",
       "      <td>8</td>\n",
       "      <td>0.000572</td>\n",
       "      <td>1</td>\n",
       "      <td>0.004444</td>\n",
       "      <td>1800.000000</td>\n",
       "    </tr>\n",
       "    <tr>\n",
       "      <th>7164069523256665660</th>\n",
       "      <td>0</td>\n",
       "      <td>0.0</td>\n",
       "      <td>NaN</td>\n",
       "      <td>0.010693</td>\n",
       "      <td>2</td>\n",
       "      <td>0.005346</td>\n",
       "      <td>1</td>\n",
       "      <td>0.000278</td>\n",
       "      <td>7200.000000</td>\n",
       "    </tr>\n",
       "    <tr>\n",
       "      <th>8129818696111496284</th>\n",
       "      <td>0</td>\n",
       "      <td>94.0</td>\n",
       "      <td>0.0</td>\n",
       "      <td>0.000000</td>\n",
       "      <td>5</td>\n",
       "      <td>0.000000</td>\n",
       "      <td>2</td>\n",
       "      <td>0.003889</td>\n",
       "      <td>1285.714286</td>\n",
       "    </tr>\n",
       "  </tbody>\n",
       "</table>\n",
       "</div>"
      ],
      "text/plain": [
       "                      max level  toplam score  ...  total_hours    day_hours\n",
       "users                                          ...                          \n",
       "-3091959366018228993          0          97.0  ...     0.004444  1800.000000\n",
       " 7164069523256665660          0           0.0  ...     0.000278  7200.000000\n",
       " 8129818696111496284          0          94.0  ...     0.003889  1285.714286\n",
       "\n",
       "[3 rows x 9 columns]"
      ]
     },
     "execution_count": 184,
     "metadata": {
      "tags": []
     },
     "output_type": "execute_result"
    }
   ],
   "source": [
    "dfson[dfson[\"day_hours\"] > 1000]"
   ]
  },
  {
   "cell_type": "code",
   "execution_count": null,
   "metadata": {
    "id": "pVxoIB7ceCrl"
   },
   "outputs": [],
   "source": []
  },
  {
   "cell_type": "code",
   "execution_count": null,
   "metadata": {
    "id": "0xfKY6UkeDc8"
   },
   "outputs": [],
   "source": []
  },
  {
   "cell_type": "markdown",
   "metadata": {
    "id": "8K4pojqNiSQn"
   },
   "source": [
    "# Bu kısımda bir düzeltme yapıyoruz. Toplam günü bulmaya çalışırken yanlış kod yazımı sonucu tutarsızlık vardı onu hallediyoruz :)  \n"
   ]
  },
  {
   "cell_type": "code",
   "execution_count": null,
   "metadata": {
    "id": "1SrPENqliSQo"
   },
   "outputs": [],
   "source": [
    "df_duzeltme = df.copy()\n",
    "\n",
    "df_duzeltme[\"date\"]=pd.to_datetime(df_duzeltme[\"client_ts\"])\n",
    "df_duzeltme.rename(columns={\"date\":\"fulldate\"},inplace=True)\n",
    "df_duzeltme.insert(3,\"date\",df_duzeltme[\"fulldate\"].dt.date)\n",
    "\n",
    "ll = []\n",
    "for i in df_duzeltme[\"user_id\"].unique():\n",
    "    ll.append(df_duzeltme[df_duzeltme[\"user_id\"] == i][\"date\"].nunique())\n",
    "    \n",
    "dfson[\"user_total_days\"] = ll"
   ]
  },
  {
   "cell_type": "code",
   "execution_count": null,
   "metadata": {
    "id": "P7Xg8ztXeFTw"
   },
   "outputs": [],
   "source": []
  },
  {
   "cell_type": "markdown",
   "metadata": {
    "id": "41PyvbckiSQq"
   },
   "source": [
    "# Bizim 5 adet versiyonumuz vardı ve bir kullancı birden fazlasıyla oyuna giriş yapmış olabilir o yüzden Girilen Toplam Versionu buluyoruz."
   ]
  },
  {
   "cell_type": "code",
   "execution_count": null,
   "metadata": {
    "id": "sI6UXMDniSQq"
   },
   "outputs": [],
   "source": [
    "version = []\n",
    "\n",
    "for i in df['user_id'].unique():\n",
    "    version.append(len(df[df[\"user_id\"] == i][\"version\"].unique()))\n",
    "    \n",
    "\n",
    "dfson[\"girilen_toplam_version\"] = version"
   ]
  },
  {
   "cell_type": "code",
   "execution_count": null,
   "metadata": {
    "id": "-wSfSIeMeWAm"
   },
   "outputs": [],
   "source": []
  },
  {
   "cell_type": "markdown",
   "metadata": {
    "id": "TWcXhhWMiSQs"
   },
   "source": [
    "# Userlar birden fazla lokasyondan giriş yapıyordu ve biz bunu arka planda inceledil. 1768 Userın neredeyse %90 kadarını TR oluşturuyordu. O yüzden TR & OTHERS şeklinde bunu ayırıyoruz. "
   ]
  },
  {
   "cell_type": "code",
   "execution_count": null,
   "metadata": {
    "id": "E-ppLGn1iSQt"
   },
   "outputs": [],
   "source": [
    "dfdeneme1 = df.copy()"
   ]
  },
  {
   "cell_type": "code",
   "execution_count": null,
   "metadata": {
    "id": "_g5fXJtKiSQx"
   },
   "outputs": [],
   "source": [
    "dfdeneme3 = dfdeneme1.loc[: , [\"user_id\", \"country_code\"]]"
   ]
  },
  {
   "cell_type": "code",
   "execution_count": null,
   "metadata": {
    "colab": {
     "base_uri": "https://localhost:8080/",
     "height": 406
    },
    "id": "Gdf2OMx0iSQ1",
    "outputId": "197ec996-eeea-4df3-dc59-8bbdfe5db98c"
   },
   "outputs": [
    {
     "data": {
      "text/html": [
       "<div>\n",
       "<style scoped>\n",
       "    .dataframe tbody tr th:only-of-type {\n",
       "        vertical-align: middle;\n",
       "    }\n",
       "\n",
       "    .dataframe tbody tr th {\n",
       "        vertical-align: top;\n",
       "    }\n",
       "\n",
       "    .dataframe thead th {\n",
       "        text-align: right;\n",
       "    }\n",
       "</style>\n",
       "<table border=\"1\" class=\"dataframe\">\n",
       "  <thead>\n",
       "    <tr style=\"text-align: right;\">\n",
       "      <th></th>\n",
       "      <th>user_id</th>\n",
       "      <th>country_code</th>\n",
       "    </tr>\n",
       "  </thead>\n",
       "  <tbody>\n",
       "    <tr>\n",
       "      <th>0</th>\n",
       "      <td>-9215534650345115924</td>\n",
       "      <td>TR</td>\n",
       "    </tr>\n",
       "    <tr>\n",
       "      <th>1</th>\n",
       "      <td>-9215534650345115924</td>\n",
       "      <td>TR</td>\n",
       "    </tr>\n",
       "    <tr>\n",
       "      <th>2</th>\n",
       "      <td>-9215534650345115924</td>\n",
       "      <td>TR</td>\n",
       "    </tr>\n",
       "    <tr>\n",
       "      <th>3</th>\n",
       "      <td>-9215534650345115924</td>\n",
       "      <td>TR</td>\n",
       "    </tr>\n",
       "    <tr>\n",
       "      <th>4</th>\n",
       "      <td>-9215534650345115924</td>\n",
       "      <td>TR</td>\n",
       "    </tr>\n",
       "    <tr>\n",
       "      <th>...</th>\n",
       "      <td>...</td>\n",
       "      <td>...</td>\n",
       "    </tr>\n",
       "    <tr>\n",
       "      <th>1748856</th>\n",
       "      <td>9221849159789412152</td>\n",
       "      <td>TR</td>\n",
       "    </tr>\n",
       "    <tr>\n",
       "      <th>1748857</th>\n",
       "      <td>9221849159789412152</td>\n",
       "      <td>TR</td>\n",
       "    </tr>\n",
       "    <tr>\n",
       "      <th>1748858</th>\n",
       "      <td>9221849159789412152</td>\n",
       "      <td>TR</td>\n",
       "    </tr>\n",
       "    <tr>\n",
       "      <th>1748859</th>\n",
       "      <td>9221849159789412152</td>\n",
       "      <td>TR</td>\n",
       "    </tr>\n",
       "    <tr>\n",
       "      <th>1748860</th>\n",
       "      <td>9221849159789412152</td>\n",
       "      <td>TR</td>\n",
       "    </tr>\n",
       "  </tbody>\n",
       "</table>\n",
       "<p>1748861 rows × 2 columns</p>\n",
       "</div>"
      ],
      "text/plain": [
       "                     user_id country_code\n",
       "0       -9215534650345115924           TR\n",
       "1       -9215534650345115924           TR\n",
       "2       -9215534650345115924           TR\n",
       "3       -9215534650345115924           TR\n",
       "4       -9215534650345115924           TR\n",
       "...                      ...          ...\n",
       "1748856  9221849159789412152           TR\n",
       "1748857  9221849159789412152           TR\n",
       "1748858  9221849159789412152           TR\n",
       "1748859  9221849159789412152           TR\n",
       "1748860  9221849159789412152           TR\n",
       "\n",
       "[1748861 rows x 2 columns]"
      ]
     },
     "execution_count": 190,
     "metadata": {
      "tags": []
     },
     "output_type": "execute_result"
    }
   ],
   "source": [
    "dfdeneme3"
   ]
  },
  {
   "cell_type": "code",
   "execution_count": null,
   "metadata": {
    "id": "OsKPOgfkiSQ5"
   },
   "outputs": [],
   "source": [
    "dfdeneme4 = dfdeneme3.drop_duplicates(subset = \"user_id\")"
   ]
  },
  {
   "cell_type": "code",
   "execution_count": null,
   "metadata": {
    "colab": {
     "base_uri": "https://localhost:8080/",
     "height": 70
    },
    "id": "Tm4okwMQiSQ_",
    "outputId": "c89d3257-a2bc-47f6-c7d3-ad64dbb1e559"
   },
   "outputs": [
    {
     "data": {
      "text/plain": [
       "TR       0.971154\n",
       "Other    0.028846\n",
       "Name: country_code, dtype: float64"
      ]
     },
     "execution_count": 54,
     "metadata": {
      "tags": []
     },
     "output_type": "execute_result"
    }
   ],
   "source": [
    "frequencies = dfdeneme4[\"country_code\"].value_counts(normalize = True)\n",
    "frequencies\n",
    "threshold = 0.1\n",
    "small_categories = frequencies[frequencies < threshold].index\n",
    "small_categories\n",
    "dfdeneme4[\"country_code\"] = dfdeneme4[\"country_code\"].replace(small_categories, \"Other\")\n",
    "dfdeneme4[\"country_code\"].value_counts(normalize = True)\n",
    "\n",
    "# evet %90 demiştim ama 97 aslında o :)"
   ]
  },
  {
   "cell_type": "code",
   "execution_count": null,
   "metadata": {
    "colab": {
     "base_uri": "https://localhost:8080/",
     "height": 70
    },
    "id": "mj4Entv8iSRC",
    "outputId": "cf128afa-f6af-44b8-d9ad-2a84cf36ab19"
   },
   "outputs": [
    {
     "data": {
      "text/plain": [
       "TR       1717\n",
       "Other      51\n",
       "Name: country_code, dtype: int64"
      ]
     },
     "execution_count": 194,
     "metadata": {
      "tags": []
     },
     "output_type": "execute_result"
    }
   ],
   "source": [
    "dfdeneme4[\"country_code\"].value_counts()"
   ]
  },
  {
   "cell_type": "code",
   "execution_count": null,
   "metadata": {
    "colab": {
     "base_uri": "https://localhost:8080/",
     "height": 227
    },
    "id": "Tjn16O54iSRG",
    "outputId": "b5fbed11-7855-4bbb-ed01-3fff6c3b7e72"
   },
   "outputs": [
    {
     "data": {
      "text/html": [
       "<div>\n",
       "<style scoped>\n",
       "    .dataframe tbody tr th:only-of-type {\n",
       "        vertical-align: middle;\n",
       "    }\n",
       "\n",
       "    .dataframe tbody tr th {\n",
       "        vertical-align: top;\n",
       "    }\n",
       "\n",
       "    .dataframe thead th {\n",
       "        text-align: right;\n",
       "    }\n",
       "</style>\n",
       "<table border=\"1\" class=\"dataframe\">\n",
       "  <thead>\n",
       "    <tr style=\"text-align: right;\">\n",
       "      <th></th>\n",
       "      <th>max level</th>\n",
       "      <th>toplam score</th>\n",
       "      <th>level_basina_skor</th>\n",
       "      <th>toplam revenue</th>\n",
       "      <th>user_total_days</th>\n",
       "      <th>gunluk_revenue</th>\n",
       "      <th>toplam hata</th>\n",
       "      <th>total_hours</th>\n",
       "      <th>day_hours</th>\n",
       "      <th>girilen_toplam_version</th>\n",
       "    </tr>\n",
       "    <tr>\n",
       "      <th>users</th>\n",
       "      <th></th>\n",
       "      <th></th>\n",
       "      <th></th>\n",
       "      <th></th>\n",
       "      <th></th>\n",
       "      <th></th>\n",
       "      <th></th>\n",
       "      <th></th>\n",
       "      <th></th>\n",
       "      <th></th>\n",
       "    </tr>\n",
       "  </thead>\n",
       "  <tbody>\n",
       "    <tr>\n",
       "      <th>-9215534650345115924</th>\n",
       "      <td>137</td>\n",
       "      <td>540634.502</td>\n",
       "      <td>3946.237241</td>\n",
       "      <td>0.006209</td>\n",
       "      <td>9</td>\n",
       "      <td>0.000621</td>\n",
       "      <td>2921</td>\n",
       "      <td>218.916667</td>\n",
       "      <td>0.045679</td>\n",
       "      <td>1</td>\n",
       "    </tr>\n",
       "    <tr>\n",
       "      <th>-9215240100939776087</th>\n",
       "      <td>282</td>\n",
       "      <td>3589694.584</td>\n",
       "      <td>12729.413418</td>\n",
       "      <td>0.089060</td>\n",
       "      <td>12</td>\n",
       "      <td>0.004687</td>\n",
       "      <td>1330</td>\n",
       "      <td>288.954444</td>\n",
       "      <td>0.065754</td>\n",
       "      <td>2</td>\n",
       "    </tr>\n",
       "    <tr>\n",
       "      <th>-9202484284851622629</th>\n",
       "      <td>17</td>\n",
       "      <td>4735.535</td>\n",
       "      <td>278.560882</td>\n",
       "      <td>0.003801</td>\n",
       "      <td>1</td>\n",
       "      <td>0.003801</td>\n",
       "      <td>113</td>\n",
       "      <td>0.260833</td>\n",
       "      <td>3.833866</td>\n",
       "      <td>1</td>\n",
       "    </tr>\n",
       "    <tr>\n",
       "      <th>-9197151025395411316</th>\n",
       "      <td>42</td>\n",
       "      <td>90563.598</td>\n",
       "      <td>2156.276143</td>\n",
       "      <td>0.005653</td>\n",
       "      <td>2</td>\n",
       "      <td>0.002826</td>\n",
       "      <td>30</td>\n",
       "      <td>22.559722</td>\n",
       "      <td>0.088654</td>\n",
       "      <td>2</td>\n",
       "    </tr>\n",
       "    <tr>\n",
       "      <th>-9167946499694210868</th>\n",
       "      <td>7</td>\n",
       "      <td>3579.000</td>\n",
       "      <td>511.285714</td>\n",
       "      <td>0.013754</td>\n",
       "      <td>1</td>\n",
       "      <td>0.013754</td>\n",
       "      <td>1</td>\n",
       "      <td>0.044444</td>\n",
       "      <td>22.500000</td>\n",
       "      <td>1</td>\n",
       "    </tr>\n",
       "  </tbody>\n",
       "</table>\n",
       "</div>"
      ],
      "text/plain": [
       "                      max level  ...  girilen_toplam_version\n",
       "users                            ...                        \n",
       "-9215534650345115924        137  ...                       1\n",
       "-9215240100939776087        282  ...                       2\n",
       "-9202484284851622629         17  ...                       1\n",
       "-9197151025395411316         42  ...                       2\n",
       "-9167946499694210868          7  ...                       1\n",
       "\n",
       "[5 rows x 10 columns]"
      ]
     },
     "execution_count": 195,
     "metadata": {
      "tags": []
     },
     "output_type": "execute_result"
    }
   ],
   "source": [
    "dfson.head()\n",
    "\n",
    "# Her adım sonrası elde ettiğimiz bilgileri kurduğumuz temel dataframe üzerine ekleyerek devam ediyoruz. "
   ]
  },
  {
   "cell_type": "code",
   "execution_count": null,
   "metadata": {
    "id": "lQbOCwLSiSRJ"
   },
   "outputs": [],
   "source": [
    "dfdeneme4.rename(columns={\"user_id\" : \"users\"} , inplace=True)"
   ]
  },
  {
   "cell_type": "code",
   "execution_count": null,
   "metadata": {
    "id": "fYxzaFRWiSRL"
   },
   "outputs": [],
   "source": [
    "dfsondanonceki = pd.merge(dfson , dfdeneme4 , on = \"users\")"
   ]
  },
  {
   "cell_type": "code",
   "execution_count": null,
   "metadata": {
    "colab": {
     "base_uri": "https://localhost:8080/",
     "height": 214
    },
    "id": "k7rCHS31iSRN",
    "outputId": "8ae84f8c-87f7-4a40-d171-81e88b64916f"
   },
   "outputs": [
    {
     "data": {
      "text/html": [
       "<div>\n",
       "<style scoped>\n",
       "    .dataframe tbody tr th:only-of-type {\n",
       "        vertical-align: middle;\n",
       "    }\n",
       "\n",
       "    .dataframe tbody tr th {\n",
       "        vertical-align: top;\n",
       "    }\n",
       "\n",
       "    .dataframe thead th {\n",
       "        text-align: right;\n",
       "    }\n",
       "</style>\n",
       "<table border=\"1\" class=\"dataframe\">\n",
       "  <thead>\n",
       "    <tr style=\"text-align: right;\">\n",
       "      <th></th>\n",
       "      <th>users</th>\n",
       "      <th>max level</th>\n",
       "      <th>toplam score</th>\n",
       "      <th>level_basina_skor</th>\n",
       "      <th>toplam revenue</th>\n",
       "      <th>user_total_days</th>\n",
       "      <th>gunluk_revenue</th>\n",
       "      <th>toplam hata</th>\n",
       "      <th>total_hours</th>\n",
       "      <th>day_hours</th>\n",
       "      <th>girilen_toplam_version</th>\n",
       "      <th>country_code</th>\n",
       "    </tr>\n",
       "  </thead>\n",
       "  <tbody>\n",
       "    <tr>\n",
       "      <th>0</th>\n",
       "      <td>-9215534650345115924</td>\n",
       "      <td>137</td>\n",
       "      <td>540634.502</td>\n",
       "      <td>3946.237241</td>\n",
       "      <td>0.006209</td>\n",
       "      <td>9</td>\n",
       "      <td>0.000621</td>\n",
       "      <td>2921</td>\n",
       "      <td>218.916667</td>\n",
       "      <td>0.045679</td>\n",
       "      <td>1</td>\n",
       "      <td>TR</td>\n",
       "    </tr>\n",
       "    <tr>\n",
       "      <th>1</th>\n",
       "      <td>-9215240100939776087</td>\n",
       "      <td>282</td>\n",
       "      <td>3589694.584</td>\n",
       "      <td>12729.413418</td>\n",
       "      <td>0.089060</td>\n",
       "      <td>12</td>\n",
       "      <td>0.004687</td>\n",
       "      <td>1330</td>\n",
       "      <td>288.954444</td>\n",
       "      <td>0.065754</td>\n",
       "      <td>2</td>\n",
       "      <td>TR</td>\n",
       "    </tr>\n",
       "    <tr>\n",
       "      <th>2</th>\n",
       "      <td>-9202484284851622629</td>\n",
       "      <td>17</td>\n",
       "      <td>4735.535</td>\n",
       "      <td>278.560882</td>\n",
       "      <td>0.003801</td>\n",
       "      <td>1</td>\n",
       "      <td>0.003801</td>\n",
       "      <td>113</td>\n",
       "      <td>0.260833</td>\n",
       "      <td>3.833866</td>\n",
       "      <td>1</td>\n",
       "      <td>TR</td>\n",
       "    </tr>\n",
       "    <tr>\n",
       "      <th>3</th>\n",
       "      <td>-9197151025395411316</td>\n",
       "      <td>42</td>\n",
       "      <td>90563.598</td>\n",
       "      <td>2156.276143</td>\n",
       "      <td>0.005653</td>\n",
       "      <td>2</td>\n",
       "      <td>0.002826</td>\n",
       "      <td>30</td>\n",
       "      <td>22.559722</td>\n",
       "      <td>0.088654</td>\n",
       "      <td>2</td>\n",
       "      <td>TR</td>\n",
       "    </tr>\n",
       "    <tr>\n",
       "      <th>4</th>\n",
       "      <td>-9167946499694210868</td>\n",
       "      <td>7</td>\n",
       "      <td>3579.000</td>\n",
       "      <td>511.285714</td>\n",
       "      <td>0.013754</td>\n",
       "      <td>1</td>\n",
       "      <td>0.013754</td>\n",
       "      <td>1</td>\n",
       "      <td>0.044444</td>\n",
       "      <td>22.500000</td>\n",
       "      <td>1</td>\n",
       "      <td>TR</td>\n",
       "    </tr>\n",
       "  </tbody>\n",
       "</table>\n",
       "</div>"
      ],
      "text/plain": [
       "                 users  max level  ...  girilen_toplam_version  country_code\n",
       "0 -9215534650345115924        137  ...                       1            TR\n",
       "1 -9215240100939776087        282  ...                       2            TR\n",
       "2 -9202484284851622629         17  ...                       1            TR\n",
       "3 -9197151025395411316         42  ...                       2            TR\n",
       "4 -9167946499694210868          7  ...                       1            TR\n",
       "\n",
       "[5 rows x 12 columns]"
      ]
     },
     "execution_count": 198,
     "metadata": {
      "tags": []
     },
     "output_type": "execute_result"
    }
   ],
   "source": [
    "dfsondanonceki.head()"
   ]
  },
  {
   "cell_type": "code",
   "execution_count": null,
   "metadata": {
    "colab": {
     "base_uri": "https://localhost:8080/",
     "height": 70
    },
    "id": "tUt65vGKiSRO",
    "outputId": "745623d8-366a-477a-fc0b-af6bbc825b7e"
   },
   "outputs": [
    {
     "data": {
      "text/plain": [
       "TR       1717\n",
       "Other      51\n",
       "Name: country_code, dtype: int64"
      ]
     },
     "execution_count": 199,
     "metadata": {
      "tags": []
     },
     "output_type": "execute_result"
    }
   ],
   "source": [
    "dfsondanonceki[\"country_code\"].value_counts()"
   ]
  },
  {
   "cell_type": "code",
   "execution_count": null,
   "metadata": {
    "id": "2FsTKsWIiSRT"
   },
   "outputs": [],
   "source": [
    "dfson = dfsondanonceki"
   ]
  },
  {
   "cell_type": "code",
   "execution_count": null,
   "metadata": {
    "id": "YM46mCpZfd8_"
   },
   "outputs": [],
   "source": []
  },
  {
   "cell_type": "code",
   "execution_count": null,
   "metadata": {
    "id": "765q65GkfeOJ"
   },
   "outputs": [],
   "source": []
  },
  {
   "cell_type": "markdown",
   "metadata": {
    "id": "v5jr_o_3iSRi"
   },
   "source": [
    "# *Sırada EDA(exploratory data analysis) var yani Keşfedici Veri Analizi. Bu kısımda daha çok görseller ilerliyor olacağız.* "
   ]
  },
  {
   "cell_type": "code",
   "execution_count": null,
   "metadata": {
    "id": "ga_hQ-5HiSRi"
   },
   "outputs": [],
   "source": [
    "import seaborn as sns\n",
    "import matplotlib.pyplot as plt\n"
   ]
  },
  {
   "cell_type": "code",
   "execution_count": null,
   "metadata": {
    "colab": {
     "base_uri": "https://localhost:8080/",
     "height": 514
    },
    "id": "158fSr7BiSRr",
    "outputId": "c02bc226-3511-48ca-ca77-ea72c76da995"
   },
   "outputs": [
    {
     "data": {
      "image/png": "[encoded data removed]",
      "text/plain": [
       "<Figure size 1296x576 with 2 Axes>"
      ]
     },
     "metadata": {
      "needs_background": "light",
      "tags": []
     },
     "output_type": "display_data"
    }
   ],
   "source": [
    "f,ax=plt.subplots(1,2,figsize=(18,8))\n",
    "dfson['country_code'].value_counts().plot.pie(explode=[0,0.1],autopct='%1.1f%%',ax=ax[0],shadow=True)\n",
    "ax[0].set_title('country_code')\n",
    "ax[0].set_ylabel('')\n",
    "sns.countplot('country_code',data=dfson,ax=ax[1])\n",
    "ax[1].set_title('country_code')\n",
    "plt.show()\n",
    "\n",
    "# Bu görselde TR OTHERS dağılımının ne kadar dengesiz olduğunu görebiliyoruz "
   ]
  },
  {
   "cell_type": "code",
   "execution_count": null,
   "metadata": {
    "colab": {
     "base_uri": "https://localhost:8080/",
     "height": 1000
    },
    "id": "R1jQJEDViSRv",
    "outputId": "24118463-1625-4236-f9bf-768cd95257fd"
   },
   "outputs": [
    {
     "data": {
      "image/png": "[encoded data removed]",
      "text/plain": [
       "<Figure size 1296x1296 with 2 Axes>"
      ]
     },
     "metadata": {
      "needs_background": "light",
      "tags": []
     },
     "output_type": "display_data"
    }
   ],
   "source": [
    "# Korelasyon haritasına da şöyle bir göz geçirelim\n",
    "\n",
    "dfson1 = dfson.drop([\"users\"],axis=1)\n",
    "f,ax = plt.subplots(figsize=(18, 18))\n",
    "sns.heatmap(dfson1.corr(), annot=True, linewidths=.5, fmt= '.1f',ax=ax)\n",
    "plt.show()"
   ]
  },
  {
   "cell_type": "code",
   "execution_count": null,
   "metadata": {
    "colab": {
     "base_uri": "https://localhost:8080/",
     "height": 87
    },
    "id": "8_CVvcGziSRw",
    "outputId": "e512e49b-51f9-4cd9-86d3-ea4b73c76454"
   },
   "outputs": [
    {
     "data": {
      "text/plain": [
       "Index(['users', 'max level', 'toplam score', 'level_basina_skor',\n",
       "       'toplam revenue', 'user_total_days', 'gunluk_revenue', 'toplam hata',\n",
       "       'total_hours', 'day_hours', 'girilen_toplam_version', 'country_code'],\n",
       "      dtype='object')"
      ]
     },
     "execution_count": 207,
     "metadata": {
      "tags": []
     },
     "output_type": "execute_result"
    }
   ],
   "source": [
    "dfson.columns"
   ]
  },
  {
   "cell_type": "code",
   "execution_count": null,
   "metadata": {
    "id": "jKKIJf9kiSRz"
   },
   "outputs": [],
   "source": [
    "# Değişken isimleri arasında boşluk vardı bunun için ufak bir düzeltme\n",
    "\n",
    "dfson.rename(columns = {\"max level\" : \"max_level\",\n",
    "             \"toplam score\" : \"toplam_score\",\n",
    "             \"toplam revenue\" : \"toplam_revenue\",\n",
    "             \"toplam hata\" : \"toplam_hata\",\n",
    "             }, inplace = True)"
   ]
  },
  {
   "cell_type": "code",
   "execution_count": null,
   "metadata": {
    "colab": {
     "base_uri": "https://localhost:8080/",
     "height": 34
    },
    "id": "rVkLLiAbiSR-",
    "outputId": "489f7b3f-c567-4cee-8630-d63d4334f7e4"
   },
   "outputs": [
    {
     "data": {
      "text/plain": [
       "2085"
      ]
     },
     "execution_count": 213,
     "metadata": {
      "tags": []
     },
     "output_type": "execute_result"
    }
   ],
   "source": [
    "# Bizim eşsiz 2085 eventimiz var\n",
    "# Bunlar start level ve complete olarak tekrarlıyor ardından Gamescore alıyoruz\n",
    "\n",
    "df[\"event_id\"].nunique()"
   ]
  },
  {
   "cell_type": "code",
   "execution_count": null,
   "metadata": {
    "colab": {
     "base_uri": "https://localhost:8080/",
     "height": 70
    },
    "id": "ItwdipUDiSSB",
    "outputId": "aaeeb4eb-73b7-408c-9c34-23c582df8c92"
   },
   "outputs": [
    {
     "data": {
      "text/plain": [
       "array(['Start:turkish:L0', 'Complete:turkish:L0', 'app:gameScore', ...,\n",
       "       'Start:turkish:DL22', 'wrong:turkish:DL22',\n",
       "       'Complete:turkish:DL22'], dtype=object)"
      ]
     },
     "execution_count": 214,
     "metadata": {
      "tags": []
     },
     "output_type": "execute_result"
    }
   ],
   "source": [
    "df[\"event_id\"].unique()"
   ]
  },
  {
   "cell_type": "code",
   "execution_count": null,
   "metadata": {
    "id": "Nfy4XEzEiSSD"
   },
   "outputs": [],
   "source": [
    "# Şimdi Görselleştirme yapabilmek adına bazı numeric değişkenleri ölçeklendiriyoruz\n",
    "# Bunun sonucu olarak bir şeyler elde edebileceğiz \n",
    "\n",
    "# max lvl grupla\n",
    "# toplam hata grupla\n",
    "# total days grupla \n",
    "# toplam score u 0 100 arası scale edip gorsellestirebilirsin\n",
    "# toplam revenue*1000 yap anlamli bir gorsel cikar"
   ]
  },
  {
   "cell_type": "code",
   "execution_count": null,
   "metadata": {
    "id": "7OLPI2hWiSSG"
   },
   "outputs": [],
   "source": [
    "# Toplam Gunlerin Gruplanmasi\n",
    "\n",
    "dfson.insert(12,\"toplam_gun_groups\",np.NaN)\n",
    "dfson.loc[dfson[\"user_total_days\"]<4,\"toplam_gun_groups\"]=\"0-3 gun\"\n",
    "dfson.loc[((dfson[\"user_total_days\"]>3) & (dfson[\"user_total_days\"]<9)),\"toplam_gun_groups\"]=\"4-8 gun\"\n",
    "dfson.loc[(dfson[\"user_total_days\"]>8),\"toplam_gun_groups\"]=\"8+ gun\"\n",
    "\n",
    "categories = [\"0-3 gun\",\"4-8 gun\",\"8+ gun\"]\n",
    "dfson['toplam_gun_groups'] = dfson.toplam_gun_groups.astype(str)\n",
    "\n",
    "dfson['toplam_gun_groups'] = dfson.toplam_gun_groups.astype('category')\n",
    "\n",
    "dfson['toplam_gun_groups'] = pd.Categorical(dfson[\"toplam_gun_groups\"],categories=categories)"
   ]
  },
  {
   "cell_type": "code",
   "execution_count": null,
   "metadata": {
    "id": "R3V7h7oDiSSH"
   },
   "outputs": [],
   "source": [
    "# Toplam Hatalarin Gruplanmasi\n",
    "\n",
    "dfson.insert(13,\"toplam_hata_groups\",np.NaN)\n",
    "dfson.loc[dfson[\"toplam_hata\"]<51,\"toplam_hata_groups\"]=\"0-50 arasi hata\"\n",
    "dfson.loc[((dfson[\"toplam_hata\"]>50) & (dfson[\"toplam_hata\"]<151)),\"toplam_hata_groups\"]=\"50-150 arasi hata\"\n",
    "dfson.loc[((dfson[\"toplam_hata\"]>150) & (dfson[\"toplam_hata\"]<301)),\"toplam_hata_groups\"]=\"150-300 arasi hata\"\n",
    "dfson.loc[((dfson[\"toplam_hata\"]>300) & (dfson[\"toplam_hata\"]<551)),\"toplam_hata_groups\"]=\"300-550 arasi hata\"\n",
    "dfson.loc[((dfson[\"toplam_hata\"]>550)),\"toplam_hata_groups\"]=\"+500 ustu hata\"\n",
    "\n",
    "categories = [\"0-50 arasi hata\",\"50-150 arasi hata\",\"150-300 arasi hata\",\"300-550 arasi hata\",\"+500 ustu hata\"]\n",
    "\n",
    "dfson['toplam_hata_groups'] = dfson.toplam_hata_groups.astype(str)\n",
    "\n",
    "dfson['toplam_hata_groups'] = dfson.toplam_hata_groups.astype('category')\n",
    "\n",
    "dfson['toplam_hata_groups'] = pd.Categorical(dfson[\"toplam_hata_groups\"],categories=categories)"
   ]
  },
  {
   "cell_type": "code",
   "execution_count": null,
   "metadata": {
    "id": "Wt4MpyYniSSL"
   },
   "outputs": [],
   "source": [
    "# Toplam Levelin gruplanmasi\n",
    "\n",
    "dfson.insert(14,\"max_level_groups\",np.NaN)\n",
    "dfson.loc[dfson[\"max_level\"]<51,\"max_level_groups\"]=\"0-50 levels\"\n",
    "dfson.loc[((dfson[\"max_level\"]>50) & (dfson[\"max_level\"]<150)),\"max_level_groups\"]=\"50-150 levels\"\n",
    "dfson.loc[((dfson[\"max_level\"]>151) & (dfson[\"max_level\"]<251)),\"max_level_groups\"]=\"150-250 levels\"\n",
    "dfson.loc[((dfson[\"max_level\"]>250) & (dfson[\"max_level\"]<401)),\"max_level_groups\"]=\"250-400 levels\"\n",
    "dfson.loc[(dfson[\"max_level\"]>400),\"max_level_groups\"]=\"+400 levels\"\n",
    "\n",
    "categories = [\"0-50 levels\",\"50-150 levels\",\"150-250 levels\",\"250-400 levels\",\"+400 levels\"]\n",
    "\n",
    "dfson['max_level_groups'] = dfson.max_level_groups.astype(str)\n",
    "\n",
    "dfson['max_level_groups'] = dfson.max_level_groups.astype('category')\n",
    "\n",
    "dfson['max_level_groups'] = pd.Categorical(dfson[\"max_level_groups\"],categories=categories)"
   ]
  },
  {
   "cell_type": "code",
   "execution_count": null,
   "metadata": {
    "id": "3LFftrTwiSSM"
   },
   "outputs": [],
   "source": [
    "# Toplam Skorun gorsellestirilmesi adina 0-100 arasi Scale edilmesi\n",
    "\n",
    "from sklearn.preprocessing import MinMaxScaler\n",
    "\n",
    "scale = MinMaxScaler(feature_range=(0,100))\n",
    "\n",
    "scale_data = dfson[\"toplam_score\"].copy()\n",
    "\n",
    "scale_data = np.array(scale_data)\n",
    "scale_data = scale_data[...,np.newaxis]\n",
    "\n",
    "dfson[\"Scale_score\"] = scale.fit_transform(scale_data)"
   ]
  },
  {
   "cell_type": "code",
   "execution_count": null,
   "metadata": {
    "id": "AaLnsehSiSSP"
   },
   "outputs": [],
   "source": [
    "# Toplam Revenue icin donusum; amac daha okunabilir ve yorumlanabilir bir sekilde entegre etmek bu yuzden scale ederek 0-100 arasi indirgiyoruz\n",
    "\n",
    "from sklearn.preprocessing import MinMaxScaler\n",
    "\n",
    "scale = MinMaxScaler(feature_range=(0,100))\n",
    "\n",
    "scale_data_1 = dfson[\"toplam_revenue\"].copy()\n",
    "\n",
    "scale_data_1 = np.array(scale_data_1)\n",
    "scale_data_1 = scale_data_1[...,np.newaxis]\n",
    "\n",
    "dfson[\"Scale_revenue\"] = scale.fit_transform(scale_data_1)"
   ]
  },
  {
   "cell_type": "code",
   "execution_count": null,
   "metadata": {
    "colab": {
     "base_uri": "https://localhost:8080/",
     "height": 732
    },
    "id": "NVIy4u4GiSSR",
    "outputId": "2070b3d3-d058-4e20-8496-7e77a4ae5613"
   },
   "outputs": [
    {
     "data": {
      "text/plain": [
       "<matplotlib.axes._subplots.AxesSubplot at 0x7f6e4aa07fd0>"
      ]
     },
     "execution_count": 66,
     "metadata": {
      "tags": []
     },
     "output_type": "execute_result"
    },
    {
     "data": {
      "image/png": "[encoded data removed]",
      "text/plain": [
       "<Figure size 1080x864 with 2 Axes>"
      ]
     },
     "metadata": {
      "needs_background": "light",
      "tags": []
     },
     "output_type": "display_data"
    }
   ],
   "source": [
    "fig,ax=plt.subplots(nrows=2,ncols=1,figsize=(15,12))\n",
    "sns.pointplot(data=dfson,x=\"max_level_groups\",y=\"toplam_hata\",color=\"#8E44AD\",ax=ax[0])\n",
    "sns.pointplot(data=dfson,x=\"max_level_groups\",y=\"Scale_score\",color=\"#2ECC71\",ax=ax[1])\n",
    "\n",
    "\n",
    "# Level gruplarina gore toplam hata da artan bir trend goruyoruz ki beklendik bir seydir\n",
    "# Sebebi ise genel olarak oynama suresi artacagindan yapacagi hatalar da artacaktir\n",
    "\n",
    "# Ayni sekilde level gruplari ile Scale edilmis skor(0-100 arasi) arasinda da artan bir tred bulunmakta\n",
    "# Leveli fazla olan oyuncuların skorlari her zaman daha yuksek olmakta"
   ]
  },
  {
   "cell_type": "code",
   "execution_count": null,
   "metadata": {
    "colab": {
     "base_uri": "https://localhost:8080/",
     "height": 732
    },
    "id": "KmcwqjNdiSSS",
    "outputId": "239415d0-89f1-4c5e-dffe-226bd4644a26"
   },
   "outputs": [
    {
     "data": {
      "text/plain": [
       "<matplotlib.axes._subplots.AxesSubplot at 0x7f6e4aa36d30>"
      ]
     },
     "execution_count": 67,
     "metadata": {
      "tags": []
     },
     "output_type": "execute_result"
    },
    {
     "data": {
      "image/png": "[encoded data removed]",
      "text/plain": [
       "<Figure size 1080x864 with 2 Axes>"
      ]
     },
     "metadata": {
      "needs_background": "light",
      "tags": []
     },
     "output_type": "display_data"
    }
   ],
   "source": [
    "fig,ax=plt.subplots(nrows=2,ncols=1,figsize=(15,12))\n",
    "sns.pointplot(data=dfson,x=\"max_level_groups\",y=\"toplam_hata\",hue=\"toplam_gun_groups\",ax=ax[0],ci=None)\n",
    "sns.pointplot(data=dfson,x=\"max_level_groups\",y=\"Scale_score\",hue=\"toplam_gun_groups\",ax=ax[1],ci=None)\n",
    "\n",
    "# Bir onceki grafikte iki degisken ile durumlari incelemistik, simdi isin icine kirilma noktasi girince islerin nasil degistine bakalim\n",
    "# Ilk gorsel de Gecireln gun sayisi da isin icine dahil oldugun da AYNI LEVELE GELENLER arasinda gunu az olanlarin daha az hata yaptigini gormekteyiz\n",
    "# Bunun sebebi kisa sure icerisinde ayni leveli gorenler ile uzun surede buraya ulasanlar arasinda bir yetenek durumu olabilir\n",
    "# Kisa surede ayni levele gelenler daha az hata yaparak o noktaya ulasmis olarak gozukmekte iken oyunda daha uzun sure gecirenler daha fazla hata oranina sahip\n",
    "\n",
    "# Ikinci gorsel ile devam edersek ise oyunda daha fazla zaman gecirdigi icin hata yapan gruplar bu defa daha fazla skora sahip oldugu gorulmekte\n",
    "# Dikkat ceken bir diger nokta ise 4-8 gun araliginin skor olarak cok az farkla da olmasi birinci bunun dikkat cekmesinin sebebi ise su ki;\n",
    "# Normalde gunu fazla olanlar trend icerisinde en yukarida oluyordu ama bu defa islerin degistigi gozukmekte\n",
    "# 4-8 gun araliginda level olarak digerleri ile ayni durumda olan kullanicilar skor olarakta birinci gozukmekte\n",
    "# Bunun arkasinda birden cok sebep yatabilir en azindan akila gelenlerden biri gecirilen saat farki olabilir, derece kasmakta kabiliyet farki girebilir araya "
   ]
  },
  {
   "cell_type": "code",
   "execution_count": null,
   "metadata": {
    "colab": {
     "base_uri": "https://localhost:8080/",
     "height": 542
    },
    "collapsed": true,
    "id": "RyK26N0yiSSX",
    "jupyter": {
     "outputs_hidden": true
    },
    "outputId": "f73767f1-b038-4a31-dc80-a4d4029a2558"
   },
   "outputs": [
    {
     "data": {
      "text/html": [
       "<html>\n",
       "<head><meta charset=\"utf-8\" /></head>\n",
       "<body>\n",
       "    <div>\n",
       "            <script src=\"https://cdnjs.cloudflare.com/ajax/libs/mathjax/2.7.5/MathJax.js?config=TeX-AMS-MML_SVG\"></script><script type=\"text/javascript\">if (window.MathJax) {MathJax.Hub.Config({SVG: {font: \"STIX-Web\"}});}</script>\n",
       "                <script type=\"text/javascript\">window.PlotlyConfig = {MathJaxConfig: 'local'};</script>\n",
       "        <script src=\"https://cdn.plot.ly/plotly-latest.min.js\"></script>    \n",
       "            <div id=\"2a57c865-576d-48f7-95ab-c0e50b27fdb2\" class=\"plotly-graph-div\" style=\"height:525px; width:100%;\"></div>\n",
       "            <script type=\"text/javascript\">\n",
       "                \n",
       "                    window.PLOTLYENV=window.PLOTLYENV || {};\n",
       "                    \n",
       "                if (document.getElementById(\"2a57c865-576d-48f7-95ab-c0e50b27fdb2\")) {\n",
       "                    Plotly.newPlot(\n",
       "                        '2a57c865-576d-48f7-95ab-c0e50b27fdb2',\n",
       "                        [{\"alignmentgroup\": \"True\", \"hoverlabel\": {\"namelength\": 0}, \"hovertemplate\": \"toplam_gun_groups=%{x}<br>Scale_revenue=%{y}\", \"legendgroup\": \"\", \"marker\": {\"color\": \"#636efa\"}, \"name\": \"\", \"notched\": false, \"offsetgroup\": \"\", \"orientation\": \"v\", \"showlegend\": false, \"type\": \"box\", \"x\": [\"8+ gun\", \"8+ gun\", \"0-3 gun\", \"0-3 gun\", \"0-3 gun\", \"0-3 gun\", \"4-8 gun\", \"0-3 gun\", \"4-8 gun\", \"0-3 gun\", \"0-3 gun\", \"0-3 gun\", \"0-3 gun\", \"4-8 gun\", \"0-3 gun\", \"8+ gun\", \"0-3 gun\", \"0-3 gun\", \"0-3 gun\", \"4-8 gun\", \"8+ gun\", \"0-3 gun\", \"0-3 gun\", \"0-3 gun\", \"0-3 gun\", \"0-3 gun\", \"0-3 gun\", \"0-3 gun\", \"0-3 gun\", \"0-3 gun\", \"0-3 gun\", \"0-3 gun\", \"0-3 gun\", \"0-3 gun\", \"8+ gun\", \"4-8 gun\", \"4-8 gun\", \"0-3 gun\", \"4-8 gun\", \"0-3 gun\", \"0-3 gun\", \"8+ gun\", \"4-8 gun\", \"4-8 gun\", \"0-3 gun\", \"0-3 gun\", \"4-8 gun\", \"0-3 gun\", \"0-3 gun\", \"0-3 gun\", \"0-3 gun\", \"0-3 gun\", \"0-3 gun\", \"0-3 gun\", \"4-8 gun\", \"0-3 gun\", \"8+ gun\", \"0-3 gun\", \"0-3 gun\", \"0-3 gun\", \"0-3 gun\", \"0-3 gun\", \"0-3 gun\", \"0-3 gun\", \"4-8 gun\", \"4-8 gun\", \"0-3 gun\", \"0-3 gun\", \"4-8 gun\", \"0-3 gun\", \"0-3 gun\", \"4-8 gun\", \"0-3 gun\", \"4-8 gun\", \"0-3 gun\", \"0-3 gun\", \"0-3 gun\", \"8+ gun\", \"4-8 gun\", \"0-3 gun\", \"0-3 gun\", \"8+ gun\", \"0-3 gun\", \"0-3 gun\", \"0-3 gun\", \"0-3 gun\", \"4-8 gun\", \"0-3 gun\", \"8+ gun\", \"0-3 gun\", \"0-3 gun\", \"0-3 gun\", \"0-3 gun\", \"0-3 gun\", \"8+ gun\", \"8+ gun\", \"8+ gun\", \"4-8 gun\", \"0-3 gun\", \"0-3 gun\", \"8+ gun\", \"8+ gun\", \"0-3 gun\", \"0-3 gun\", \"0-3 gun\", \"4-8 gun\", \"4-8 gun\", \"0-3 gun\", \"0-3 gun\", \"0-3 gun\", \"0-3 gun\", \"0-3 gun\", \"4-8 gun\", \"4-8 gun\", \"0-3 gun\", \"0-3 gun\", \"0-3 gun\", \"0-3 gun\", \"0-3 gun\", \"0-3 gun\", \"0-3 gun\", \"0-3 gun\", \"0-3 gun\", \"0-3 gun\", \"0-3 gun\", \"0-3 gun\", \"4-8 gun\", \"8+ gun\", \"0-3 gun\", \"4-8 gun\", \"0-3 gun\", \"0-3 gun\", \"0-3 gun\", \"0-3 gun\", \"0-3 gun\", \"0-3 gun\", \"0-3 gun\", \"0-3 gun\", \"0-3 gun\", \"4-8 gun\", \"0-3 gun\", \"0-3 gun\", \"0-3 gun\", \"0-3 gun\", \"4-8 gun\", \"4-8 gun\", \"0-3 gun\", \"4-8 gun\", \"8+ gun\", \"0-3 gun\", \"0-3 gun\", \"0-3 gun\", \"0-3 gun\", \"8+ gun\", \"4-8 gun\", \"4-8 gun\", \"4-8 gun\", \"4-8 gun\", \"0-3 gun\", \"0-3 gun\", \"0-3 gun\", \"0-3 gun\", \"0-3 gun\", \"0-3 gun\", \"0-3 gun\", \"0-3 gun\", \"0-3 gun\", \"0-3 gun\", \"4-8 gun\", \"0-3 gun\", \"0-3 gun\", \"4-8 gun\", \"0-3 gun\", \"0-3 gun\", \"0-3 gun\", \"8+ gun\", \"0-3 gun\", \"0-3 gun\", \"0-3 gun\", \"0-3 gun\", \"4-8 gun\", \"0-3 gun\", \"0-3 gun\", \"0-3 gun\", \"0-3 gun\", \"4-8 gun\", \"0-3 gun\", \"0-3 gun\", \"0-3 gun\", \"4-8 gun\", \"0-3 gun\", \"0-3 gun\", \"4-8 gun\", \"8+ gun\", \"0-3 gun\", \"0-3 gun\", \"0-3 gun\", \"0-3 gun\", \"0-3 gun\", \"0-3 gun\", \"4-8 gun\", \"0-3 gun\", \"0-3 gun\", \"0-3 gun\", \"4-8 gun\", \"4-8 gun\", \"8+ gun\", \"4-8 gun\", \"0-3 gun\", \"0-3 gun\", \"4-8 gun\", \"8+ gun\", \"0-3 gun\", \"8+ gun\", \"0-3 gun\", \"4-8 gun\", \"4-8 gun\", \"4-8 gun\", \"0-3 gun\", \"0-3 gun\", \"0-3 gun\", \"0-3 gun\", \"4-8 gun\", \"0-3 gun\", \"0-3 gun\", \"0-3 gun\", \"4-8 gun\", \"0-3 gun\", \"0-3 gun\", \"0-3 gun\", \"4-8 gun\", \"4-8 gun\", \"0-3 gun\", \"4-8 gun\", \"8+ gun\", \"8+ gun\", \"8+ gun\", \"0-3 gun\", \"0-3 gun\", \"0-3 gun\", \"0-3 gun\", \"0-3 gun\", \"0-3 gun\", \"0-3 gun\", \"0-3 gun\", \"0-3 gun\", \"0-3 gun\", \"4-8 gun\", \"0-3 gun\", \"4-8 gun\", \"0-3 gun\", \"4-8 gun\", \"0-3 gun\", \"0-3 gun\", \"4-8 gun\", \"0-3 gun\", \"0-3 gun\", \"0-3 gun\", \"4-8 gun\", \"4-8 gun\", \"0-3 gun\", \"0-3 gun\", \"4-8 gun\", \"0-3 gun\", \"0-3 gun\", \"0-3 gun\", \"0-3 gun\", \"0-3 gun\", \"0-3 gun\", \"4-8 gun\", \"0-3 gun\", \"4-8 gun\", \"4-8 gun\", \"4-8 gun\", \"4-8 gun\", \"4-8 gun\", \"0-3 gun\", \"0-3 gun\", \"0-3 gun\", \"0-3 gun\", \"8+ gun\", \"4-8 gun\", \"4-8 gun\", \"0-3 gun\", \"0-3 gun\", \"4-8 gun\", \"0-3 gun\", \"4-8 gun\", \"0-3 gun\", \"0-3 gun\", \"0-3 gun\", \"0-3 gun\", \"0-3 gun\", \"8+ gun\", \"0-3 gun\", \"0-3 gun\", \"4-8 gun\", \"0-3 gun\", \"0-3 gun\", \"0-3 gun\", \"0-3 gun\", \"0-3 gun\", \"0-3 gun\", \"0-3 gun\", \"0-3 gun\", \"0-3 gun\", \"4-8 gun\", \"0-3 gun\", \"4-8 gun\", \"0-3 gun\", \"0-3 gun\", \"0-3 gun\", \"0-3 gun\", \"0-3 gun\", \"0-3 gun\", \"4-8 gun\", \"0-3 gun\", \"0-3 gun\", \"0-3 gun\", \"4-8 gun\", \"4-8 gun\", \"0-3 gun\", \"0-3 gun\", \"0-3 gun\", \"4-8 gun\", \"0-3 gun\", \"4-8 gun\", \"0-3 gun\", \"0-3 gun\", \"0-3 gun\", \"0-3 gun\", \"0-3 gun\", \"8+ gun\", \"0-3 gun\", \"8+ gun\", \"4-8 gun\", \"0-3 gun\", \"0-3 gun\", \"8+ gun\", \"8+ gun\", \"0-3 gun\", \"0-3 gun\", \"0-3 gun\", \"4-8 gun\", \"0-3 gun\", \"4-8 gun\", \"0-3 gun\", \"0-3 gun\", \"0-3 gun\", \"0-3 gun\", \"4-8 gun\", \"0-3 gun\", \"0-3 gun\", \"0-3 gun\", \"8+ gun\", \"0-3 gun\", \"0-3 gun\", \"0-3 gun\", \"4-8 gun\", \"8+ gun\", \"4-8 gun\", \"4-8 gun\", \"4-8 gun\", \"4-8 gun\", \"4-8 gun\", \"0-3 gun\", \"0-3 gun\", \"0-3 gun\", \"0-3 gun\", \"8+ gun\", \"0-3 gun\", \"0-3 gun\", \"0-3 gun\", \"0-3 gun\", \"4-8 gun\", \"4-8 gun\", \"4-8 gun\", \"0-3 gun\", \"0-3 gun\", \"0-3 gun\", \"4-8 gun\", \"4-8 gun\", \"4-8 gun\", \"4-8 gun\", \"0-3 gun\", \"0-3 gun\", \"4-8 gun\", \"4-8 gun\", \"4-8 gun\", \"0-3 gun\", \"4-8 gun\", \"0-3 gun\", \"0-3 gun\", \"0-3 gun\", \"0-3 gun\", \"0-3 gun\", \"8+ gun\", \"4-8 gun\", \"0-3 gun\", \"0-3 gun\", \"4-8 gun\", \"4-8 gun\", \"0-3 gun\", \"0-3 gun\", \"0-3 gun\", \"0-3 gun\", \"0-3 gun\", \"0-3 gun\", \"0-3 gun\", \"0-3 gun\", \"0-3 gun\", \"0-3 gun\", \"0-3 gun\", \"8+ gun\", \"4-8 gun\", \"0-3 gun\", \"0-3 gun\", \"0-3 gun\", \"0-3 gun\", \"4-8 gun\", \"4-8 gun\", \"0-3 gun\", \"0-3 gun\", \"0-3 gun\", \"4-8 gun\", \"0-3 gun\", \"4-8 gun\", \"0-3 gun\", \"0-3 gun\", \"4-8 gun\", \"0-3 gun\", \"4-8 gun\", \"4-8 gun\", \"0-3 gun\", \"0-3 gun\", \"0-3 gun\", \"4-8 gun\", \"4-8 gun\", \"4-8 gun\", \"0-3 gun\", \"0-3 gun\", \"0-3 gun\", \"0-3 gun\", \"0-3 gun\", \"0-3 gun\", \"8+ gun\", \"0-3 gun\", \"0-3 gun\", \"0-3 gun\", \"8+ gun\", \"0-3 gun\", \"0-3 gun\", \"0-3 gun\", \"4-8 gun\", \"8+ gun\", \"0-3 gun\", \"4-8 gun\", \"0-3 gun\", \"8+ gun\", \"4-8 gun\", \"4-8 gun\", \"0-3 gun\", \"0-3 gun\", \"0-3 gun\", \"0-3 gun\", \"4-8 gun\", \"4-8 gun\", \"4-8 gun\", \"8+ gun\", \"0-3 gun\", \"4-8 gun\", \"0-3 gun\", \"4-8 gun\", \"0-3 gun\", \"8+ gun\", \"0-3 gun\", \"8+ gun\", \"4-8 gun\", \"0-3 gun\", \"0-3 gun\", \"0-3 gun\", \"4-8 gun\", \"0-3 gun\", \"0-3 gun\", \"0-3 gun\", \"0-3 gun\", \"0-3 gun\", \"0-3 gun\", \"0-3 gun\", \"4-8 gun\", \"4-8 gun\", \"4-8 gun\", \"0-3 gun\", \"0-3 gun\", \"4-8 gun\", \"0-3 gun\", \"8+ gun\", \"4-8 gun\", \"0-3 gun\", \"0-3 gun\", \"0-3 gun\", \"4-8 gun\", \"4-8 gun\", \"0-3 gun\", \"4-8 gun\", \"0-3 gun\", \"0-3 gun\", \"4-8 gun\", \"0-3 gun\", \"0-3 gun\", \"0-3 gun\", \"0-3 gun\", \"4-8 gun\", \"4-8 gun\", \"0-3 gun\", \"0-3 gun\", \"4-8 gun\", \"4-8 gun\", \"0-3 gun\", \"0-3 gun\", \"0-3 gun\", \"4-8 gun\", \"0-3 gun\", \"0-3 gun\", \"0-3 gun\", \"0-3 gun\", \"4-8 gun\", \"0-3 gun\", \"4-8 gun\", \"0-3 gun\", \"4-8 gun\", \"0-3 gun\", \"0-3 gun\", \"4-8 gun\", \"8+ gun\", \"4-8 gun\", \"0-3 gun\", \"0-3 gun\", \"0-3 gun\", \"0-3 gun\", \"4-8 gun\", \"0-3 gun\", \"0-3 gun\", \"0-3 gun\", \"4-8 gun\", \"8+ gun\", \"0-3 gun\", \"8+ gun\", \"0-3 gun\", \"0-3 gun\", \"0-3 gun\", \"0-3 gun\", \"4-8 gun\", \"0-3 gun\", \"0-3 gun\", \"4-8 gun\", \"0-3 gun\", \"0-3 gun\", \"4-8 gun\", \"4-8 gun\", \"0-3 gun\", \"0-3 gun\", \"8+ gun\", \"8+ gun\", \"4-8 gun\", \"0-3 gun\", \"0-3 gun\", \"0-3 gun\", \"0-3 gun\", \"0-3 gun\", \"0-3 gun\", \"4-8 gun\", \"0-3 gun\", \"4-8 gun\", \"0-3 gun\", \"4-8 gun\", \"0-3 gun\", \"0-3 gun\", \"0-3 gun\", \"0-3 gun\", \"0-3 gun\", \"0-3 gun\", \"0-3 gun\", \"0-3 gun\", \"0-3 gun\", \"4-8 gun\", \"4-8 gun\", \"0-3 gun\", \"0-3 gun\", \"4-8 gun\", \"4-8 gun\", \"4-8 gun\", \"4-8 gun\", \"8+ gun\", \"4-8 gun\", \"0-3 gun\", \"8+ gun\", \"0-3 gun\", \"0-3 gun\", \"0-3 gun\", \"0-3 gun\", \"8+ gun\", \"0-3 gun\", \"4-8 gun\", \"0-3 gun\", \"0-3 gun\", \"4-8 gun\", \"4-8 gun\", \"0-3 gun\", \"0-3 gun\", \"0-3 gun\", \"0-3 gun\", \"0-3 gun\", \"0-3 gun\", \"0-3 gun\", \"0-3 gun\", \"0-3 gun\", \"0-3 gun\", \"8+ gun\", \"4-8 gun\", \"0-3 gun\", \"0-3 gun\", \"8+ gun\", \"4-8 gun\", \"0-3 gun\", \"4-8 gun\", \"0-3 gun\", \"8+ gun\", \"0-3 gun\", \"8+ gun\", \"0-3 gun\", \"0-3 gun\", \"0-3 gun\", \"0-3 gun\", \"4-8 gun\", \"0-3 gun\", \"0-3 gun\", \"8+ gun\", \"0-3 gun\", \"0-3 gun\", \"0-3 gun\", \"0-3 gun\", \"0-3 gun\", \"4-8 gun\", \"8+ gun\", \"0-3 gun\", \"4-8 gun\", \"0-3 gun\", \"0-3 gun\", \"0-3 gun\", \"0-3 gun\", \"0-3 gun\", \"0-3 gun\", \"0-3 gun\", \"0-3 gun\", \"4-8 gun\", \"4-8 gun\", \"0-3 gun\", \"0-3 gun\", \"8+ gun\", \"0-3 gun\", \"0-3 gun\", \"0-3 gun\", \"0-3 gun\", \"8+ gun\", \"4-8 gun\", \"4-8 gun\", \"0-3 gun\", \"0-3 gun\", \"0-3 gun\", \"4-8 gun\", \"0-3 gun\", \"0-3 gun\", \"0-3 gun\", \"0-3 gun\", \"0-3 gun\", \"0-3 gun\", \"8+ gun\", \"0-3 gun\", \"8+ gun\", \"0-3 gun\", \"0-3 gun\", \"4-8 gun\", \"0-3 gun\", \"8+ gun\", \"0-3 gun\", \"4-8 gun\", \"0-3 gun\", \"0-3 gun\", \"0-3 gun\", \"0-3 gun\", \"0-3 gun\", \"4-8 gun\", \"0-3 gun\", \"0-3 gun\", \"4-8 gun\", \"0-3 gun\", \"4-8 gun\", \"0-3 gun\", \"0-3 gun\", \"0-3 gun\", \"0-3 gun\", \"0-3 gun\", \"4-8 gun\", \"0-3 gun\", \"0-3 gun\", \"0-3 gun\", \"0-3 gun\", \"0-3 gun\", \"8+ gun\", \"0-3 gun\", \"0-3 gun\", \"0-3 gun\", \"0-3 gun\", \"8+ gun\", \"4-8 gun\", \"0-3 gun\", \"0-3 gun\", \"4-8 gun\", \"4-8 gun\", \"0-3 gun\", \"4-8 gun\", \"0-3 gun\", \"4-8 gun\", \"0-3 gun\", \"0-3 gun\", \"0-3 gun\", \"0-3 gun\", \"4-8 gun\", \"0-3 gun\", \"4-8 gun\", \"0-3 gun\", \"4-8 gun\", \"4-8 gun\", \"4-8 gun\", \"4-8 gun\", \"8+ gun\", \"0-3 gun\", \"0-3 gun\", \"0-3 gun\", \"0-3 gun\", \"4-8 gun\", \"4-8 gun\", \"0-3 gun\", \"0-3 gun\", \"0-3 gun\", \"0-3 gun\", \"0-3 gun\", \"0-3 gun\", \"0-3 gun\", \"0-3 gun\", \"0-3 gun\", \"0-3 gun\", \"0-3 gun\", \"0-3 gun\", \"0-3 gun\", \"0-3 gun\", \"0-3 gun\", \"0-3 gun\", \"0-3 gun\", \"0-3 gun\", \"0-3 gun\", \"0-3 gun\", \"0-3 gun\", \"0-3 gun\", \"0-3 gun\", \"0-3 gun\", \"0-3 gun\", \"4-8 gun\", \"0-3 gun\", \"4-8 gun\", \"0-3 gun\", \"8+ gun\", \"0-3 gun\", \"0-3 gun\", \"0-3 gun\", \"0-3 gun\", \"4-8 gun\", \"0-3 gun\", \"0-3 gun\", \"4-8 gun\", \"0-3 gun\", \"4-8 gun\", \"0-3 gun\", \"0-3 gun\", \"0-3 gun\", \"4-8 gun\", \"8+ gun\", \"0-3 gun\", \"0-3 gun\", \"4-8 gun\", \"0-3 gun\", \"0-3 gun\", \"0-3 gun\", \"0-3 gun\", \"0-3 gun\", \"0-3 gun\", \"0-3 gun\", \"0-3 gun\", \"4-8 gun\", \"0-3 gun\", \"0-3 gun\", \"0-3 gun\", \"0-3 gun\", \"0-3 gun\", \"0-3 gun\", \"0-3 gun\", \"4-8 gun\", \"0-3 gun\", \"8+ gun\", \"8+ gun\", \"0-3 gun\", \"0-3 gun\", \"0-3 gun\", \"0-3 gun\", \"4-8 gun\", \"0-3 gun\", \"0-3 gun\", \"0-3 gun\", \"0-3 gun\", \"0-3 gun\", \"0-3 gun\", \"4-8 gun\", \"0-3 gun\", \"0-3 gun\", \"4-8 gun\", \"4-8 gun\", \"4-8 gun\", \"8+ gun\", \"4-8 gun\", \"0-3 gun\", \"0-3 gun\", \"0-3 gun\", \"0-3 gun\", \"4-8 gun\", \"4-8 gun\", \"8+ gun\", \"4-8 gun\", \"0-3 gun\", \"0-3 gun\", \"0-3 gun\", \"0-3 gun\", \"0-3 gun\", \"0-3 gun\", \"0-3 gun\", \"0-3 gun\", \"0-3 gun\", \"0-3 gun\", \"0-3 gun\", \"0-3 gun\", \"4-8 gun\", \"0-3 gun\", \"8+ gun\", \"0-3 gun\", \"0-3 gun\", \"0-3 gun\", \"0-3 gun\", \"0-3 gun\", \"0-3 gun\", \"0-3 gun\", \"4-8 gun\", \"0-3 gun\", \"4-8 gun\", \"0-3 gun\", \"8+ gun\", \"0-3 gun\", \"8+ gun\", \"8+ gun\", \"0-3 gun\", \"0-3 gun\", \"4-8 gun\", \"4-8 gun\", \"4-8 gun\", \"0-3 gun\", \"4-8 gun\", \"0-3 gun\", \"0-3 gun\", \"0-3 gun\", \"8+ gun\", \"0-3 gun\", \"0-3 gun\", \"8+ gun\", \"0-3 gun\", \"0-3 gun\", \"0-3 gun\", \"4-8 gun\", \"4-8 gun\", \"0-3 gun\", \"0-3 gun\", \"8+ gun\", \"0-3 gun\", \"0-3 gun\", \"8+ gun\", \"4-8 gun\", \"4-8 gun\", \"4-8 gun\", \"0-3 gun\", \"4-8 gun\", \"0-3 gun\", \"0-3 gun\", \"0-3 gun\", \"4-8 gun\", \"8+ gun\", \"0-3 gun\", \"8+ gun\", \"0-3 gun\", \"4-8 gun\", \"0-3 gun\", \"0-3 gun\", \"0-3 gun\", \"0-3 gun\", \"0-3 gun\", \"8+ gun\", \"0-3 gun\", \"4-8 gun\", \"0-3 gun\", \"4-8 gun\", \"0-3 gun\", \"0-3 gun\", \"0-3 gun\", \"0-3 gun\", \"8+ gun\", \"0-3 gun\", \"4-8 gun\", \"0-3 gun\", \"4-8 gun\", \"0-3 gun\", \"0-3 gun\", \"4-8 gun\", \"4-8 gun\", \"4-8 gun\", \"0-3 gun\", \"0-3 gun\", \"4-8 gun\", \"0-3 gun\", \"4-8 gun\", \"8+ gun\", \"0-3 gun\", \"0-3 gun\", \"8+ gun\", \"0-3 gun\", \"0-3 gun\", \"0-3 gun\", \"0-3 gun\", \"4-8 gun\", \"0-3 gun\", \"0-3 gun\", \"0-3 gun\", \"0-3 gun\", \"0-3 gun\", \"0-3 gun\", \"4-8 gun\", \"0-3 gun\", \"0-3 gun\", \"8+ gun\", \"0-3 gun\", \"4-8 gun\", \"0-3 gun\", \"0-3 gun\", \"0-3 gun\", \"4-8 gun\", \"0-3 gun\", \"4-8 gun\", \"4-8 gun\", \"0-3 gun\", \"4-8 gun\", \"0-3 gun\", \"4-8 gun\", \"0-3 gun\", \"0-3 gun\", \"0-3 gun\", \"0-3 gun\", \"0-3 gun\", \"4-8 gun\", \"4-8 gun\", \"4-8 gun\", \"4-8 gun\", \"0-3 gun\", \"0-3 gun\", \"0-3 gun\", \"0-3 gun\", \"0-3 gun\", \"4-8 gun\", \"0-3 gun\", \"0-3 gun\", \"0-3 gun\", \"4-8 gun\", \"0-3 gun\", \"0-3 gun\", \"0-3 gun\", \"0-3 gun\", \"4-8 gun\", \"4-8 gun\", \"0-3 gun\", \"0-3 gun\", \"0-3 gun\", \"4-8 gun\", \"8+ gun\", \"0-3 gun\", \"0-3 gun\", \"0-3 gun\", \"0-3 gun\", \"0-3 gun\", \"0-3 gun\", \"0-3 gun\", \"0-3 gun\", \"0-3 gun\", \"0-3 gun\", \"4-8 gun\", \"4-8 gun\", \"4-8 gun\", \"0-3 gun\", \"0-3 gun\", \"0-3 gun\", \"0-3 gun\", \"0-3 gun\", \"4-8 gun\", \"0-3 gun\", \"4-8 gun\", \"4-8 gun\", \"0-3 gun\", \"8+ gun\", \"0-3 gun\", \"0-3 gun\", \"0-3 gun\", \"4-8 gun\", \"0-3 gun\", \"4-8 gun\", \"0-3 gun\", \"0-3 gun\", \"0-3 gun\", \"0-3 gun\", \"0-3 gun\", \"4-8 gun\", \"0-3 gun\", \"0-3 gun\", \"0-3 gun\", \"0-3 gun\", \"4-8 gun\", \"0-3 gun\", \"0-3 gun\", \"0-3 gun\", \"0-3 gun\", \"0-3 gun\", \"8+ gun\", \"4-8 gun\", \"0-3 gun\", \"0-3 gun\", \"0-3 gun\", \"0-3 gun\", \"4-8 gun\", \"0-3 gun\", \"8+ gun\", \"0-3 gun\", \"4-8 gun\", \"0-3 gun\", \"0-3 gun\", \"0-3 gun\", \"8+ gun\", \"0-3 gun\", \"4-8 gun\", \"0-3 gun\", \"0-3 gun\", \"0-3 gun\", \"0-3 gun\", \"0-3 gun\", \"4-8 gun\", \"4-8 gun\", \"8+ gun\", \"0-3 gun\", \"0-3 gun\", \"4-8 gun\", \"0-3 gun\", \"0-3 gun\", \"4-8 gun\", \"0-3 gun\", \"0-3 gun\", \"0-3 gun\", \"4-8 gun\", \"0-3 gun\", \"4-8 gun\", \"8+ gun\", \"0-3 gun\", \"0-3 gun\", \"0-3 gun\", \"0-3 gun\", \"8+ gun\", \"0-3 gun\", \"0-3 gun\", \"0-3 gun\", \"0-3 gun\", \"8+ gun\", \"0-3 gun\", \"0-3 gun\", \"0-3 gun\", \"8+ gun\", \"8+ gun\", \"0-3 gun\", \"0-3 gun\", \"0-3 gun\", \"4-8 gun\", \"0-3 gun\", \"4-8 gun\", \"0-3 gun\", \"0-3 gun\", \"0-3 gun\", \"0-3 gun\", \"0-3 gun\", \"0-3 gun\", \"0-3 gun\", \"0-3 gun\", \"0-3 gun\", \"0-3 gun\", \"0-3 gun\", \"0-3 gun\", \"0-3 gun\", \"4-8 gun\", \"0-3 gun\", \"4-8 gun\", \"0-3 gun\", \"0-3 gun\", \"8+ gun\", \"8+ gun\", \"4-8 gun\", \"4-8 gun\", \"8+ gun\", \"4-8 gun\", \"4-8 gun\", \"0-3 gun\", \"0-3 gun\", \"0-3 gun\", \"0-3 gun\", \"4-8 gun\", \"0-3 gun\", \"8+ gun\", \"4-8 gun\", \"0-3 gun\", \"0-3 gun\", \"4-8 gun\", \"0-3 gun\", \"4-8 gun\", \"0-3 gun\", \"0-3 gun\", \"4-8 gun\", \"4-8 gun\", \"8+ gun\", \"0-3 gun\", \"4-8 gun\", \"0-3 gun\", \"0-3 gun\", \"4-8 gun\", \"0-3 gun\", \"0-3 gun\", \"0-3 gun\", \"4-8 gun\", \"4-8 gun\", \"0-3 gun\", \"0-3 gun\", \"8+ gun\", \"4-8 gun\", \"4-8 gun\", \"0-3 gun\", \"0-3 gun\", \"0-3 gun\", \"0-3 gun\", \"8+ gun\", \"8+ gun\", \"0-3 gun\", \"0-3 gun\", \"4-8 gun\", \"0-3 gun\", \"4-8 gun\", \"0-3 gun\", \"0-3 gun\", \"0-3 gun\", \"0-3 gun\", \"0-3 gun\", \"0-3 gun\", \"0-3 gun\", \"0-3 gun\", \"4-8 gun\", \"4-8 gun\", \"4-8 gun\", \"4-8 gun\", \"0-3 gun\", \"8+ gun\", \"0-3 gun\", \"0-3 gun\", \"0-3 gun\", \"4-8 gun\", \"4-8 gun\", \"0-3 gun\", \"0-3 gun\", \"0-3 gun\", \"0-3 gun\", \"4-8 gun\", \"4-8 gun\", \"8+ gun\", \"4-8 gun\", \"0-3 gun\", \"0-3 gun\", \"0-3 gun\", \"0-3 gun\", \"0-3 gun\", \"0-3 gun\", \"0-3 gun\", \"0-3 gun\", \"4-8 gun\", \"0-3 gun\", \"0-3 gun\", \"0-3 gun\", \"8+ gun\", \"8+ gun\", \"4-8 gun\", \"4-8 gun\", \"8+ gun\", \"0-3 gun\", \"0-3 gun\", \"8+ gun\", \"0-3 gun\", \"4-8 gun\", \"4-8 gun\", \"0-3 gun\", \"0-3 gun\", \"0-3 gun\", \"4-8 gun\", \"4-8 gun\", \"0-3 gun\", \"8+ gun\", \"0-3 gun\", \"0-3 gun\", \"4-8 gun\", \"4-8 gun\", \"0-3 gun\", \"0-3 gun\", \"8+ gun\", \"8+ gun\", \"0-3 gun\", \"0-3 gun\", \"8+ gun\", \"4-8 gun\", \"0-3 gun\", \"0-3 gun\", \"0-3 gun\", \"0-3 gun\", \"0-3 gun\", \"0-3 gun\", \"0-3 gun\", \"4-8 gun\", \"8+ gun\", \"0-3 gun\", \"4-8 gun\", \"0-3 gun\", \"0-3 gun\", \"0-3 gun\", \"4-8 gun\", \"4-8 gun\", \"4-8 gun\", \"0-3 gun\", \"0-3 gun\", \"0-3 gun\", \"0-3 gun\", \"4-8 gun\", \"8+ gun\", \"4-8 gun\", \"4-8 gun\", \"8+ gun\", \"0-3 gun\", \"0-3 gun\", \"0-3 gun\", \"0-3 gun\", \"0-3 gun\", \"8+ gun\", \"4-8 gun\", \"0-3 gun\", \"4-8 gun\", \"4-8 gun\", \"0-3 gun\", \"0-3 gun\", \"0-3 gun\", \"0-3 gun\", \"0-3 gun\", \"0-3 gun\", \"4-8 gun\", \"8+ gun\", \"4-8 gun\", \"4-8 gun\", \"4-8 gun\", \"0-3 gun\", \"0-3 gun\", \"0-3 gun\", \"0-3 gun\", \"0-3 gun\", \"0-3 gun\", \"0-3 gun\", \"0-3 gun\", \"4-8 gun\", \"0-3 gun\", \"0-3 gun\", \"4-8 gun\", \"4-8 gun\", \"4-8 gun\", \"0-3 gun\", \"0-3 gun\", \"4-8 gun\", \"0-3 gun\", \"0-3 gun\", \"4-8 gun\", \"0-3 gun\", \"4-8 gun\", \"0-3 gun\", \"0-3 gun\", \"0-3 gun\", \"0-3 gun\", \"0-3 gun\", \"4-8 gun\", \"0-3 gun\", \"0-3 gun\", \"8+ gun\", \"0-3 gun\", \"8+ gun\", \"0-3 gun\", \"0-3 gun\", \"8+ gun\", \"0-3 gun\", \"0-3 gun\", \"0-3 gun\", \"0-3 gun\", \"0-3 gun\", \"0-3 gun\", \"4-8 gun\", \"4-8 gun\", \"0-3 gun\", \"0-3 gun\", \"4-8 gun\", \"0-3 gun\", \"0-3 gun\", \"4-8 gun\", \"4-8 gun\", \"8+ gun\", \"0-3 gun\", \"4-8 gun\", \"4-8 gun\", \"0-3 gun\", \"4-8 gun\", \"0-3 gun\", \"0-3 gun\", \"4-8 gun\", \"0-3 gun\", \"0-3 gun\", \"4-8 gun\", \"0-3 gun\", \"8+ gun\", \"4-8 gun\", \"8+ gun\", \"0-3 gun\", \"0-3 gun\", \"0-3 gun\", \"4-8 gun\", \"0-3 gun\", \"0-3 gun\", \"4-8 gun\", \"4-8 gun\", \"0-3 gun\", \"0-3 gun\", \"0-3 gun\", \"4-8 gun\", \"4-8 gun\", \"0-3 gun\", \"0-3 gun\", \"0-3 gun\", \"0-3 gun\", \"8+ gun\", \"0-3 gun\", \"0-3 gun\", \"0-3 gun\", \"4-8 gun\", \"8+ gun\", \"0-3 gun\", \"0-3 gun\", \"0-3 gun\", \"0-3 gun\", \"0-3 gun\", \"0-3 gun\", \"0-3 gun\", \"0-3 gun\", \"0-3 gun\", \"4-8 gun\", \"8+ gun\", \"0-3 gun\", \"8+ gun\", \"4-8 gun\", \"0-3 gun\", \"8+ gun\", \"4-8 gun\", \"4-8 gun\", \"4-8 gun\", \"0-3 gun\", \"0-3 gun\", \"4-8 gun\", \"4-8 gun\", \"0-3 gun\", \"0-3 gun\", \"0-3 gun\", \"0-3 gun\", \"4-8 gun\", \"0-3 gun\", \"4-8 gun\", \"0-3 gun\", \"0-3 gun\", \"0-3 gun\", \"4-8 gun\", \"8+ gun\", \"0-3 gun\", \"0-3 gun\", \"8+ gun\", \"0-3 gun\", \"0-3 gun\", \"4-8 gun\", \"0-3 gun\", \"0-3 gun\", \"0-3 gun\", \"0-3 gun\", \"0-3 gun\", \"0-3 gun\", \"8+ gun\", \"4-8 gun\", \"0-3 gun\", \"0-3 gun\", \"0-3 gun\", \"0-3 gun\", \"4-8 gun\", \"0-3 gun\", \"8+ gun\", \"0-3 gun\", \"0-3 gun\", \"0-3 gun\", \"0-3 gun\", \"0-3 gun\", \"8+ gun\", \"0-3 gun\", \"0-3 gun\", \"0-3 gun\", \"0-3 gun\", \"4-8 gun\", \"0-3 gun\", \"0-3 gun\", \"4-8 gun\", \"0-3 gun\", \"0-3 gun\", \"0-3 gun\", \"0-3 gun\", \"0-3 gun\", \"0-3 gun\", \"4-8 gun\", \"4-8 gun\", \"8+ gun\", \"8+ gun\", \"0-3 gun\", \"4-8 gun\", \"0-3 gun\", \"0-3 gun\", \"8+ gun\", \"0-3 gun\", \"4-8 gun\", \"0-3 gun\", \"0-3 gun\", \"0-3 gun\", \"8+ gun\", \"0-3 gun\", \"4-8 gun\", \"4-8 gun\", \"0-3 gun\", \"0-3 gun\", \"0-3 gun\", \"4-8 gun\", \"0-3 gun\", \"4-8 gun\", \"0-3 gun\", \"0-3 gun\", \"0-3 gun\", \"0-3 gun\", \"0-3 gun\", \"0-3 gun\", \"0-3 gun\", \"8+ gun\", \"4-8 gun\", \"8+ gun\", \"0-3 gun\", \"0-3 gun\", \"0-3 gun\", \"8+ gun\", \"8+ gun\", \"0-3 gun\", \"0-3 gun\", \"4-8 gun\", \"0-3 gun\", \"4-8 gun\", \"0-3 gun\", \"0-3 gun\", \"0-3 gun\", \"0-3 gun\", \"0-3 gun\", \"0-3 gun\", \"4-8 gun\", \"0-3 gun\", \"8+ gun\", \"4-8 gun\", \"4-8 gun\", \"8+ gun\", \"4-8 gun\", \"8+ gun\", \"4-8 gun\", \"0-3 gun\", \"4-8 gun\", \"0-3 gun\", \"0-3 gun\", \"0-3 gun\", \"0-3 gun\", \"0-3 gun\", \"8+ gun\", \"0-3 gun\", \"8+ gun\", \"4-8 gun\", \"8+ gun\", \"0-3 gun\", \"4-8 gun\", \"8+ gun\", \"0-3 gun\", \"4-8 gun\", \"0-3 gun\", \"0-3 gun\", \"4-8 gun\", \"4-8 gun\", \"0-3 gun\", \"8+ gun\", \"4-8 gun\", \"0-3 gun\", \"0-3 gun\", \"4-8 gun\", \"8+ gun\", \"0-3 gun\", \"0-3 gun\", \"0-3 gun\", \"0-3 gun\", \"0-3 gun\", \"0-3 gun\", \"0-3 gun\", \"8+ gun\", \"0-3 gun\", \"0-3 gun\", \"0-3 gun\", \"0-3 gun\", \"0-3 gun\", \"8+ gun\", \"8+ gun\", \"4-8 gun\", \"0-3 gun\", \"0-3 gun\", \"0-3 gun\", \"0-3 gun\", \"0-3 gun\", \"4-8 gun\", \"4-8 gun\", \"0-3 gun\", \"0-3 gun\", \"0-3 gun\", \"4-8 gun\", \"0-3 gun\", \"8+ gun\", \"0-3 gun\", \"0-3 gun\", \"0-3 gun\", \"8+ gun\", \"4-8 gun\", \"0-3 gun\", \"0-3 gun\", \"0-3 gun\", \"0-3 gun\", \"4-8 gun\", \"8+ gun\", \"0-3 gun\", \"0-3 gun\", \"0-3 gun\", \"0-3 gun\", \"4-8 gun\", \"0-3 gun\", \"0-3 gun\", \"0-3 gun\", \"4-8 gun\", \"4-8 gun\", \"0-3 gun\", \"0-3 gun\", \"0-3 gun\", \"4-8 gun\", \"0-3 gun\", \"0-3 gun\", \"0-3 gun\", \"0-3 gun\", \"0-3 gun\", \"0-3 gun\", \"8+ gun\", \"4-8 gun\", \"4-8 gun\", \"0-3 gun\", \"4-8 gun\", \"0-3 gun\", \"0-3 gun\", \"0-3 gun\", \"4-8 gun\", \"0-3 gun\", \"4-8 gun\", \"0-3 gun\", \"0-3 gun\", \"0-3 gun\", \"0-3 gun\", \"0-3 gun\", \"0-3 gun\", \"4-8 gun\", \"0-3 gun\", \"4-8 gun\", \"0-3 gun\", \"0-3 gun\", \"4-8 gun\", \"4-8 gun\", \"0-3 gun\", \"0-3 gun\", \"0-3 gun\", \"0-3 gun\", \"0-3 gun\", \"0-3 gun\", \"0-3 gun\", \"0-3 gun\", \"4-8 gun\", \"8+ gun\", \"0-3 gun\", \"4-8 gun\", \"0-3 gun\", \"4-8 gun\", \"0-3 gun\", \"4-8 gun\", \"4-8 gun\", \"4-8 gun\", \"4-8 gun\", \"0-3 gun\", \"0-3 gun\", \"4-8 gun\", \"4-8 gun\", \"0-3 gun\", \"8+ gun\", \"0-3 gun\", \"4-8 gun\", \"0-3 gun\", \"8+ gun\", \"0-3 gun\", \"0-3 gun\", \"0-3 gun\", \"0-3 gun\", \"4-8 gun\", \"0-3 gun\", \"4-8 gun\", \"4-8 gun\", \"0-3 gun\", \"0-3 gun\", \"0-3 gun\", \"0-3 gun\", \"0-3 gun\", \"4-8 gun\", \"0-3 gun\", \"0-3 gun\", \"0-3 gun\", \"0-3 gun\", \"0-3 gun\", \"0-3 gun\", \"4-8 gun\", \"0-3 gun\", \"0-3 gun\", \"0-3 gun\", \"8+ gun\", \"4-8 gun\", \"4-8 gun\", \"0-3 gun\", \"0-3 gun\", \"4-8 gun\", \"4-8 gun\", \"4-8 gun\", \"0-3 gun\", \"0-3 gun\", \"0-3 gun\", \"0-3 gun\", \"0-3 gun\", \"4-8 gun\", \"8+ gun\", \"0-3 gun\", \"0-3 gun\", \"0-3 gun\", \"0-3 gun\", \"8+ gun\", \"0-3 gun\", \"4-8 gun\", \"8+ gun\", \"0-3 gun\", \"4-8 gun\", \"0-3 gun\", \"0-3 gun\", \"0-3 gun\", \"4-8 gun\", \"0-3 gun\", \"0-3 gun\", \"0-3 gun\", \"0-3 gun\", \"0-3 gun\", \"0-3 gun\", \"0-3 gun\", \"8+ gun\", \"0-3 gun\", \"4-8 gun\", \"0-3 gun\", \"0-3 gun\", \"4-8 gun\", \"0-3 gun\", \"0-3 gun\", \"0-3 gun\", \"8+ gun\", \"0-3 gun\", \"8+ gun\", \"0-3 gun\", \"0-3 gun\", \"0-3 gun\", \"0-3 gun\", \"4-8 gun\", \"0-3 gun\", \"0-3 gun\", \"8+ gun\", \"0-3 gun\", \"0-3 gun\", \"0-3 gun\", \"0-3 gun\", \"4-8 gun\", \"8+ gun\", \"0-3 gun\", \"0-3 gun\", \"0-3 gun\", \"0-3 gun\", \"0-3 gun\", \"0-3 gun\", \"4-8 gun\", \"0-3 gun\", \"0-3 gun\", \"8+ gun\", \"0-3 gun\", \"0-3 gun\", \"0-3 gun\", \"0-3 gun\", \"0-3 gun\", \"8+ gun\", \"0-3 gun\", \"0-3 gun\", \"0-3 gun\", \"0-3 gun\", \"0-3 gun\", \"4-8 gun\", \"4-8 gun\", \"0-3 gun\", \"0-3 gun\", \"4-8 gun\", \"0-3 gun\", \"0-3 gun\"], \"x0\": \" \", \"xaxis\": \"x\", \"y\": [0.16736607081453092, 2.40053189707933, 0.1024582910025848, 0.15236205234508746, 0.3707252583835979, 1.5401265271630347, 1.0134713097624661, 0.11801374502396819, 0.974062416535581, 1.496972389783453, 0.14029078291165983, 0.4636907331617384, 0.04272226718841263, 1.0408942310935558, 0.0, 2.6779037347778503, 2.1276805809162243, 1.3725683181561172, 4.487709862827499, 0.2599823106707648, 4.288249850197685, 0.4780656167530707, 0.27704980593942335, 0.8759270598863773, 0.09333947971571521, 1.459649759996742, 0.07295480439296735, 0.11350174830175636, 0.07488639048208535, 0.023804079751583433, 0.29302698997135984, 0.6275016538252476, 4.493290915852733, 0.08727756394626682, 2.869966792620278, 0.2384955132324076, 3.201476477359868, 0.0037488940273553454, 0.6415969448611873, 0.42303579306655037, 0.10331467231162532, 5.961386117283724, 0.795488311734272, 0.9330208650207058, 0.015670102036328758, 0.6750921281293525, 3.1960730701283824, 0.46557693791950217, 0.0207078113994231, 0.02248658877838459, 0.025515342455016462, 0.8980565906519108, 1.1984502831173274, 0.5870259727973116, 1.3878238710817516, 0.22194824803468044, 4.855767077460474, 0.20112430876394075, 0.8012956302275541, 0.25571922501799327, 0.5282275840676396, 0.4178982915623862, 0.014285848788003591, 0.17369045301732658, 0.2625019536067323, 0.37971852916424165, 0.06686980183322193, 0.01139515760366789, 1.4703491882631652, 0.4862639040423728, 0.1319578419389692, 2.106933059162331, 0.04853115302712581, 0.500146296783921, 0.34242514062888796, 0.019960822223379818, 0.0059578814877063735, 1.7349384302331488, 1.8478808619782672, 0.29588034984595935, 0.43955189440027903, 9.60303429332642, 0.046164334098736236, 0.08681893393706364, 1.8988925752114443, 0.09379399246593745, 0.8613781618978171, 0.17902548011393332, 2.5887705431981485, 0.23514487578165538, 0.4279825378350198, 0.3913007870836299, 0.11492372143589019, 0.07072116193475694, 0.0069467303537317105, 0.2251126919363415, 2.2378486978784315, 2.6910944744537364, 0.030566062155653932, 0.0, 6.839421204342621, 2.6101099060809863, 0.2915910171696101, 1.5905265114255318, 0.9901516410840266, 1.6046776341490507, 0.6652930960515904, 0.2846252029183487, 0.735573016639258, 0.0050439924980354165, 0.10477319227312344, 0.8216836417913139, 1.1221141805316284, 0.36808836708749954, 0.10140745783499625, 0.05020324886015291, 0.0808226534996511, 0.17471535123767987, 0.3980895465100501, 0.0, 0.27971655709156196, 0.2711307037436793, 0.12673477978782843, 3.117598039484719, 0.19768593163050077, 0.1080248184615624, 2.398164237391972, 2.876392319918989, 3.793504176616742, 0.8320775789313417, 0.058425001058488205, 0.19630870840899442, 0.0, 0.030013067136065996, 0.016874360272465642, 0.4276241490724022, 0.20948327326251304, 1.4541269195475226, 0.55239398031627, 0.2597974651849693, 2.6939663718687608, 0.14736437255229107, 0.044664308370111844, 0.5669829420193613, 1.1184453405872945, 1.9068800043283995, 0.13726668107513532, 1.835396495195734, 8.9583053020108, 0.03764553974857015, 0.30434841527234224, 3.1541549102109685, 0.5506444928323867, 2.407546775462652, 0.015670102036328758, 2.2331444512166763, 0.47703376136917364, 0.6399104238861083, 0.38454679073899617, 0.0060413574794116786, 0.13848582200643283, 0.20166544763423544, 1.5870950045180459, 0.631207982679984, 0.19765607014689676, 0.09807382819517498, 0.2253076875708643, 0.035465292027605615, 0.09072682152889715, 0.0, 0.0, 2.57576614338591, 0.06903350989076938, 0.045670846900846135, 0.06939235110385218, 3.537949532779784, 0.052593491044780706, 1.0393283718383202, 0.13080439412234618, 0.30638688840558376, 7.340485790456691, 0.6184382733395081, 0.13617413243842114, 0.7867407353615294, 0.4993703631433688, 0.20504895025260642, 0.0043482693948581185, 0.0, 0.0, 0.6870704320098086, 1.7792191326942444, 1.7040406092916554, 6.422279582562547, 6.634774974008869, 0.41362298739112247, 0.7004666282992251, 1.451455774776113, 0.043342999673782974, 0.033646968840201165, 0.1119058320914562, 4.809745996172425, 0.02133054007782122, 0.09496166608105315, 0.029722346932220946, 0.08941261691859508, 0.011213908969221694, 2.4422863231835485, 0.18383698565766082, 1.9979154796847405, 0.3649089867989673, 0.7594594697735945, 7.1327275430313355, 0.7481246691551222, 0.9610389843545675, 0.23754955998719532, 0.9539673604225936, 0.21023989351685707, 2.1930883346887633, 0.752163331903535, 0.0386094473220369, 0.18800247532997202, 0.0, 1.3248002919670494, 0.0464624194792682, 0.8066298946186583, 0.0, 0.2860413747334662, 0.18073093591075798, 0.5583885431630282, 0.0, 0.42246673296557863, 0.5385680154560233, 0.2693295325127376, 1.281031412554999, 1.7640571624519887, 9.855315960597082, 2.023456919172832, 0.0166367558465755, 6.281735097656911, 0.2758649108798416, 1.072597511506177, 1.6835973827155966, 0.18486608184803577, 0.11388104528623626, 0.26805980330443346, 0.024514705495214367, 1.8499759755958933, 2.5001081452499982, 0.005754861816141783, 1.9848133727029174, 0.6047595654344361, 0.27651566435105684, 0.11253998627544078, 0.005211057456640526, 0.928116020138658, 0.1960989459588036, 0.0023382212667141535, 0.46908005932391256, 4.514485472373429, 2.1060115762760647, 0.2869286969041562, 0.23787095207530048, 0.6537259961290444, 0.7423128996292461, 0.03977213708567246, 0.005324883325070491, 0.015945688528255852, 0.05536777023720605, 0.0, 1.0386294989877338, 0.0, 41.97512775267607, 6.873374432425491, 0.13813751843556848, 4.166059487997323, 0.0933426627798439, 1.0241698800784873, 0.6236982882637969, 1.407862706728943, 2.407472465526083, 0.6452778773980574, 4.032886259963766, 1.0914116844900632, 0.638214291502532, 0.09537846076308082, 0.14193874176787288, 0.3115908243641384, 0.5616212514080337, 0.09842234978982842, 0.15165085481420743, 0.13487497228138218, 0.0, 0.009275502180237942, 0.744875831407216, 0.018262731458404097, 0.4861045302114736, 6.294987766340818, 0.23444342896659923, 0.21838960924996234, 0.6105203924396801, 0.31334628698635686, 0.0, 1.446993543890135, 0.37017203375646546, 0.03854722898126699, 0.07508622347885197, 0.6384108346367044, 0.04426166451794974, 1.01496427862728, 0.8352539878809283, 3.2179994741379225, 0.3310429048265053, 0.019332763178365714, 1.1760508144556907, 1.048972801000137, 5.020431145260663, 0.22230960927125698, 0.4774027409356087, 0.006952371757657836, 5.442778352095132, 0.39235488129367835, 0.12205524711892782, 0.346307324013093, 0.1332429959581734, 0.17532440960357157, 1.714180821751973, 2.863116003775748, 0.0045352591731348, 0.9550235133443865, 0.11020795650125063, 0.1197607133181636, 0.03137428769310245, 7.329701886600253, 0.4299554691104756, 22.1439793115286, 13.952629027204473, 0.16300986920501534, 0.07444718149315639, 2.613777466342546, 0.36215324800762694, 0.3484436338266095, 0.7530891085272068, 2.14583155591654, 1.6684931859139744, 0.006522304950468916, 1.2355196902182835, 0.0, 0.046783715288839865, 0.22196090122106685, 9.287032147048418, 1.5353597733580626, 0.05693325066961665, 0.5334467434569006, 0.8210949682908809, 2.15706422049104, 1.3512523416808788, 0.06614071909626959, 0.20004027254928305, 0.3717008008294482, 14.081799779195006, 0.8705032854077493, 0.327432271453762, 0.9593663310422803, 6.024172802225936, 0.9456147637747343, 0.11686093787690721, 0.22079096521968908, 7.021948635250686, 0.0, 5.153124816330624, 0.0, 0.38108714411123623, 0.5053630625284061, 0.1972463433791129, 0.6291847183962732, 3.9517402384916305, 1.123341473784373, 0.21852238321196615, 0.16444434224070817, 0.39581111486034587, 0.06620221111595462, 2.1453431523761433, 0.3081368227580898, 2.1218357517918687, 4.4560444310507235, 0.4658912695422621, 0.6640486486038601, 0.32127332556665245, 1.4254837124807103, 2.939301712686158, 0.0036525462916808206, 2.500842792465003, 0.012819044476719678, 0.0, 0.053629968052660154, 0.05944469386444189, 13.786930199661104, 5.436742390601405, 0.6760038339660233, 0.2712890266538095, 2.838544161946461, 6.401068340727998, 0.2112635085960643, 0.011884928701888234, 15.242073571001553, 0.04309278059990409, 0.06977732775517898, 0.4048672757789462, 0.008640511823947108, 0.9678801265091886, 0.06621663734441893, 0.023388105371221823, 0.561913262269305, 0.040233269632554, 0.7836255337947683, 0.6367145060272077, 0.07944390364015762, 0.005352965711380688, 1.4806628900715235, 1.3259585975074912, 1.5185907716257467, 0.025234830509502138, 0.04359590951202312, 0.04078091432618237, 0.5089181852243294, 0.04147632409906175, 1.364257522644022, 0.0811084235117236, 0.0, 6.162994867537866, 5.055508276604962, 0.23908453728569246, 0.2602369675358506, 0.0994408852667234, 1.9975232217513874, 0.41819397652879414, 1.3754430806721223, 0.5147375188499953, 0.9093987689860563, 0.4800344550738826, 0.039821022264933795, 0.17049312617427306, 0.006878891433725529, 0.6518657301393661, 0.3342703147428589, 0.19162466106960788, 0.0, 0.04921518411140655, 5.877641421011779, 2.5773554394052987, 0.01831693562821398, 0.07569957079102958, 0.07579772421523684, 0.6428651324853482, 3.014504729387238, 0.0, 0.09616130982000917, 0.05325037282722427, 3.0339456545912546, 0.04480874328605722, 0.20475052013641384, 0.47991283892275777, 0.0, 0.4235562433428582, 0.11577177743220463, 8.443191975769981, 0.8661789872912229, 4.328888017342502, 1.005579843003936, 0.9949298245837718, 0.6272095287967787, 5.1452609660652255, 0.11923984507255078, 0.9107342608206438, 5.527572417397233, 0.11447349468428626, 0.832719544385994, 7.956468183678586, 0.9726118998053613, 0.06951751817483241, 0.6282803985814431, 0.36802658296788815, 0.001233184674887525, 0.20614801416566253, 0.25792602278447907, 0.16802618380536433, 0.39201778808551574, 0.0, 0.05632417936546263, 11.628362083848515, 8.087544634844598, 0.9748558920870835, 0.3939637552157423, 0.0, 3.449111144340363, 2.602067091535345, 7.373174605884734, 0.020686534538817393, 0.17231796534396912, 0.3415235936012846, 0.0, 0.16001662401499614, 1.204451515134442, 0.2479359694515516, 0.409546778700009, 0.05721223038864838, 0.7850979089816065, 3.634576015580183, 0.17277290398230052, 0.004387628570172052, 0.0, 0.5178483873604594, 9.100720062729636, 100.0, 0.22685038736166654, 0.007868529663038897, 1.8129797585581324, 3.743000156366986, 0.22451987408678087, 0.0, 0.00228280673266412, 1.3967701007462616, 0.37421232754371075, 0.602090230717945, 0.1392579014221064, 0.00601256897155068, 5.609767518062196, 0.14311814655731744, 1.0250119437145184, 0.08954568458103215, 3.4966160553422365, 0.0, 0.0, 0.6661767509390706, 6.309554879915958, 0.5385056345757996, 0.07745746785816744, 0.9750733188982594, 0.05686001450366446, 0.2553782684717049, 3.7276403407377705, 0.37290120127943954, 0.06774138037497074, 0.3639541181737449, 3.5508096491183085, 3.029391163443146, 0.003085673233317436, 7.9483778195127615, 0.6675252928389634, 0.2319214923158384, 0.014259681692821314, 0.1860079846002666, 8.646054309688063, 0.0, 2.5965372157720408, 2.8201970136253296, 0.37555976188919993, 0.02383791178440762, 0.10337170324828382, 6.376371329261853, 0.7175928412385272, 0.002492379158679301, 1.6007710504764254, 1.396561819191302, 0.3628554747466466, 0.9981592874196866, 0.04637164431638638, 0.15467221480701593, 0.03491491811978163, 0.006284272579375993, 0.334371542093384, 0.29620889833998143, 1.0248003049936583, 1.7482896117232631, 0.003917525509082189, 0.49986540438496, 0.0, 0.005843173499920675, 0.023926490642594018, 1.3268757275322145, 0.07416913701612271, 0.12337989484231598, 0.38875208074050027, 0.06107856741551268, 0.15357158815185531, 9.430265532663462, 0.09393933039066733, 0.028523854529563103, 2.6218437203785774, 1.721786578954326, 0.6454772082752381, 0.7288716181688198, 0.32990786439413805, 9.809870293902087, 0.899817422094668, 0.04084605589502268, 14.886047522151934, 4.547209333357447, 3.3068570010296723, 0.08946482559895526, 0.04620513263640566, 1.273632663658042, 0.4327204986006085, 5.263414502754745, 0.14199068127466338, 0.0, 0.9912497340448225, 0.04188785035907433, 0.6191196834728224, 0.32650425489250173, 0.6137897874565674, 0.19615173147623502, 8.96536840931013, 0.0, 0.05513064034070319, 1.143200273641264, 0.15284910650353853, 0.0, 3.7105234465515475, 10.44075110223038, 0.053427343005101074, 0.04630472466940852, 2.181564628871247, 0.8244293960898466, 0.12897627984109858, 0.4390481546345653, 0.2602997265456192, 0.4394663891514677, 0.09620469147185053, 0.6949862266305533, 0.39147450838074144, 1.4398451995573167, 0.04611708765706242, 0.2934116816046104, 0.40858061734209844, 0.019795134846178997, 0.9433566102098602, 2.31575945376752, 8.324079340953045, 0.07455035562701727, 0.0, 0.0961183342813105, 0.040425082496359954, 0.0030139758452628245, 1.1684895330721847, 0.4250592707836854, 0.9663291157206196, 1.0004687024057342, 0.20116663753595962, 0.06805301368083551, 0.3197272137204014, 0.05072554179618766, 0.0874289696996053, 1.260256471117689, 0.07478239227434953, 0.3318677656140576, 13.777803986693597, 0.584549718120025, 0.6192052392434623, 1.4913925342391978, 0.7845686625683211, 0.035257729581739713, 0.5255801061780186, 2.4327513407342973, 2.35033992537655, 2.0046985707815312, 0.5150028777981566, 0.0, 1.8856071083563846, 2.7467217167608204, 0.49198833507298256, 0.6800058652244334, 0.0, 0.03437442680777138, 0.8565134409877266, 0.2403597933823385, 0.9572801396202053, 0.9635256634078577, 1.0668069751205873, 5.00101161883015, 0.04230662506727151, 0.22321901149238155, 3.294107166886943, 0.026609085310558434, 44.41223505645742, 0.2342840136460267, 0.5811168688433238, 0.3306847745167551, 0.0701089464626098, 0.07890123896670367, 0.08647736296038008, 0.10870904238046011, 0.4340603616687824, 1.779196047315733, 0.31296304085326926, 2.333231703203392, 0.36764734089358947, 2.7582352339124836, 0.0, 0.08897271924224474, 0.019332763178365714, 0.2655347974479385, 6.072431562561649, 8.768680125683176, 0.4941497108571189, 0.6217782808752117, 1.0888506925748205, 0.33935915452875526, 1.263273063016894, 0.7969833322666106, 0.04960444620869037, 0.13899697587534307, 0.9564263020185648, 2.1249203390254348, 1.6475569237429042, 12.371700033221218, 3.6020894336449953, 0.0, 0.9759138737868588, 0.49794308997124914, 0.09064225377259141, 2.4785208638299183, 0.26146764791997495, 4.525033763510299, 0.8339578665433875, 2.838893122523588, 0.3598000402003945, 0.1185785503001757, 0.5988907688890964, 0.1430336122314723, 2.0880252868781883, 0.6137930043411736, 1.0491262672003656, 0.0034563499186567965, 4.715311272769851, 3.5641838729447013, 0.6023907128984562, 1.57923481103715, 0.0023382212667141535, 0.0364381305599601, 0.2834903222120665, 0.40072225915183146, 2.618200722957476, 0.2217356649562588, 0.6260459174151106, 0.6353330833673677, 0.09355353896287921, 0.5569234168172689, 0.6279523752695263, 2.32136385387727, 2.3880307978214694, 0.3376849479328014, 0.06387970895032881, 0.12537837186465292, 0.3512837676464711, 0.20339508730542685, 0.06447602308242661, 0.12264110441585016, 0.02653393217472874, 0.5569118272226061, 0.3356101152828996, 0.08719574549377013, 0.3313916931516467, 0.8335944574359289, 0.040821837124890625, 0.3457994603688171, 0.09346546356766593, 1.3599950077756444, 0.7999651463319128, 1.7205051018354849, 1.2958725648486034, 1.5472899661682846, 3.577085649686281, 0.15254978771714336, 0.5225135839008542, 0.17771342657190037, 0.27307644112577584, 1.3335978783437064, 0.9284376906998528, 0.0, 3.168746206991177, 1.2720440059760239, 0.9067027902865532, 0.09643064228974071, 0.8295694190099964, 0.9952321490229068, 8.662414610078372, 0.8058583229793536, 2.825722646179649, 0.34443022717803773, 10.377284970014374, 0.011304575722834847, 0.0549662761559839, 1.1582028686820207, 0.2752473056291541, 0.2919622164615167, 0.18893319950696538, 1.2695234520466228, 0.22615682050307576, 0.03091980165311331, 0.12540532816655217, 0.0, 0.19400061482291564, 0.22776312672889612, 0.0, 0.0373469447632159, 0.1765034082838087, 0.7464153733563934, 0.0, 0.8571239975929905, 0.6261226659059449, 0.0, 0.0, 0.19426092325377195, 0.0, 3.7623737930797896, 3.553640586700908, 1.3339395555825662, 0.12737356495048968, 0.3419733133251868, 0.8209037700991537, 0.12614677544601727, 1.853030599174901, 0.099969958622565, 0.23004503505817703, 3.084960059657677, 2.035016029603432, 1.2392461522282336, 32.60815455748922, 1.8451603085587343, 0.013757782867451059, 0.0, 0.8635718333824011, 0.04341061076982585, 0.6429015036698003, 0.6644391033652728, 0.5639637711847232, 1.6541141322818413, 0.14474370951530172, 0.3419028438928203, 0.039032987121535724, 1.1007960887244606, 0.0, 1.2422286088860357, 0.26052903735621047, 0.1330777638741719, 0.23464141372802888, 0.00847561505674313, 0.20933102230289236, 0.2305027561297826, 0.940408505270539, 5.667540318721162, 0.5088404912717086, 0.13334150686357196, 0.43987827329375595, 0.2696447698434236, 0.1591869918289992, 0.040590533187638514, 0.3820958875378727, 0.3762572223410802, 2.9267436058933223, 0.25487847417872084, 1.721297217710231, 0.015825869994389907, 0.20702316134931914, 0.05344971910530367, 5.511270003876059, 3.473295442852747, 0.030364560297202324, 0.7234600554763948, 2.2239117861370987, 2.6707337806184874, 0.7821586097238233, 0.43011561296459316, 66.47850561585525, 0.007118502817114137, 0.3537527774322166, 0.0927257287120503, 1.0100913838511465, 0.12015296155709966, 0.44141798322518694, 6.390484180381744, 0.2054407145160011, 0.3388213351582068, 0.036418547601478835, 15.694227058396468, 1.3235952736110912, 0.11154180232639661, 0.2762727664212315, 1.1153521385756493, 0.11279914911199117, 1.2625738150003862, 3.441444948400061, 2.794310373249102, 1.9221185297145946, 2.334467589193788, 0.05467863322782468, 0.6723638737478882, 0.0, 0.20627934239724013, 0.07216629622606062, 1.7514182512312249, 12.802942297471667, 0.10337913517417001, 4.708231807090721, 0.518604279102643, 1.4594590963682306, 1.8385268022091135, 1.010186241722932, 0.42760699282737696, 1.3432943589430044, 0.04977070982005839, 5.9627991043169155, 0.8742702914470007, 1.8633022363107927, 0.1396344885069978, 4.296126475438274, 1.6219790899252227, 0.04141991958179357, 0.2662306967023975, 0.021383207757889357, 3.6191477158464096, 0.7644450408924114, 0.9483153866003595, 0.10290326076758839, 1.4489803863117305, 0.7482061481464278, 0.0697303270521894, 3.07959310127356, 0.7201753624005516, 2.960052056655235, 0.021338474310465358, 7.981726809888878, 2.325551650698489, 0.21653088399147635, 13.736054937634233, 2.352992057465971, 0.06136294117462185, 0.23708081787457427, 1.8509987573334339, 2.799274869339988, 8.114214107104758, 0.0, 0.13819169213394866, 0.22086443820473028, 3.65263892109763, 0.2780324623135768, 1.6916981829939988, 0.19585778960040817, 0.20158437793229902, 0.7118648832800607, 1.4424334662234968, 0.11267347733971352, 0.3025858162170507, 8.530904796174863, 0.006253264530002185, 3.046029083590495, 0.3540518577794501, 0.03274831685721635, 0.2412174108479935, 0.33903895470559803, 0.0, 3.3328434397166014, 0.6193201274641189, 0.003134020407265751, 3.033443427176349, 0.8188072215023653, 0.04212803938660352, 0.0, 0.010609777323453808, 0.027128502405938094, 0.8586373759480157, 0.3792622929938616, 6.134993472539515, 0.29180131717406743, 2.874253546223954, 0.4246003597026866, 0.12112869045490127, 0.09383764228209732, 30.707589388949422, 0.16956893282202973, 0.03693153019701311, 1.7740597858826483, 0.10232430448322428, 0.13562347163781036, 0.010671356925978585, 0.09027818635419978, 0.11297219359578675, 0.3802651178465758, 0.1339696088703896, 0.9369631294762694, 0.3004928413107596, 2.7828977931373347, 1.5047268122045958, 0.7062764103342232, 0.0, 0.30338762066379416, 1.7272924999699102, 0.25577587370786553, 0.04843916116286851, 0.010238313871648788, 0.21802334645357102, 0.0, 0.5994550199257264, 0.0, 0.0005217923273829742, 1.5378363906546069, 0.2618555424764796, 0.8919898118794558, 1.0039518346366347, 0.8313103182684346, 0.10828953875635704, 0.06481636394277619, 0.22187656793064317, 0.2163044944175976, 4.239495867202794, 2.0955667083055864, 0.084973548777967, 21.90930899299496, 3.5728986604220716, 0.11221282036072945, 0.4545704765834587, 0.05981088218539378, 0.01054271688050124, 0.0, 2.5599006626588543, 0.08442475244458342, 0.37891376633328955, 0.03342812669427223, 0.1790880279345368, 0.4903839441888796, 0.7305816258821506, 0.1497419749191082, 0.5779960223760338, 0.36630386282573557, 0.05292111172854437, 0.12166501022939906, 0.871565578645088, 2.638854422226845, 0.0, 0.4115734455173402, 0.36321515577901625, 0.00884184471351069, 0.0, 11.614838894068482, 0.3504272061693743, 0.0, 0.0, 0.11672038236462154, 0.09614296117374939, 0.011072988995734065, 0.9427137939345543, 3.66817648960051, 0.24637619859159626, 0.1931374864264829, 0.02575251106148633, 0.01691513811775861, 5.240081181276647, 1.654299893416324, 0.7726005866754396, 0.3875443847112605, 0.056616961859865395, 0.6988931265393453, 0.024898255608501303, 0.051074613960097125, 0.08445039290593985, 1.7264844726243842, 0.2468157839741205, 3.2331112023455386, 0.2548799665625838, 0.19141600491691035, 0.35830303005934455, 0.0, 1.5956677959833923, 2.476353639103291, 0.028816876643448886, 0.2468341766468095, 0.2351357291538557, 1.0980460793875777, 0.445431790820575, 3.237197852349628, 2.2107648224648084, 0.02192645986643621, 0.004387628570172052, 1.5032365862225967, 0.10764636523859285, 4.21758236747469, 0.010422114913281051, 1.1098455840137418, 0.6581751165713726, 0.04856764462078026, 40.213283361307724, 0.004450677069070181, 0.009605472530547183, 1.441818648087416, 7.569969449368853, 3.885970798120306, 0.34352027957289843, 0.544350713204835, 1.1730922804031954, 1.9052897213679125, 0.005908891454556484, 1.0618393619964819, 0.394391977874804, 0.15209862969156226, 0.8325876980146737, 0.017180488505232985, 0.6109145166216122, 0.107765579906041, 0.2927640748667209, 0.115396091995808, 0.22184280965085088, 1.1725061236199232, 1.2875356438871002, 0.5496517672697271, 1.8561499483495076, 1.9075146060119328, 0.7913395015615776, 3.32165687764892, 0.36430118124930694, 0.4462189033649205, 2.2395013089930518, 9.173421605919941, 0.1675262312163721, 0.0, 2.3109701474926827, 0.6168044177765298, 0.841670229139976, 0.24274813511732213, 0.0687435754644166, 0.0009235393834285995, 0.0, 0.49222702777769567, 0.1721245807287806, 0.8878701868164255, 0.5550766318974623, 1.4968080610214158, 0.031524854603333576, 0.20602684384275605, 0.042738648553371505, 1.5531298537749068, 1.4630617370472476, 2.831285722228611, 5.396713795117555, 0.8362730219591236, 37.43397127519636, 0.03329814093481491, 0.4600148504938098, 0.01445300742072786, 0.12484104247540515, 0.979023532078445, 0.06700743129831084, 0.1597838741204027, 0.5015933329964337, 8.733466415895489, 0.8225285313725793, 0.15043982697765165, 0.06277730754872801, 7.95511077117452, 1.0466626595498503, 2.0810910413742736, 0.41841221942812046, 0.08942634767065621, 0.0, 0.06498351121461633, 0.18254991827840789, 11.282634117932286, 0.10043346960466482, 0.025126704185440253, 0.9804196409856861, 0.06883302699269563, 7.879665420118387, 0.28367376055735355, 0.4960019411107908, 0.0, 0.04171528825504409, 0.003986422132063963, 0.0, 0.3831455483078606, 0.08353249130573799, 0.37599135426335856, 2.2865126429203473, 0.3087336972888652, 2.638139106607846, 0.38864643993072506, 0.7807156437305943, 1.4408939334591133, 0.3064397274522176, 0.20818351918563774, 7.354352735743768, 0.9728375697551885, 0.19404671910116614, 0.0988339380908969, 0.08125903707884027, 0.16156386951656512, 0.7592718513669716, 0.1485592390509002, 7.017354653042363, 1.673309835374159, 0.0, 0.3651670405622987, 0.01910979341307149, 0.030115439980548196, 0.0, 0.11018177947257979, 0.3130603760655939, 0.0, 1.3911139576576705, 0.02976514166983919, 0.3510852207775644, 0.2756802728612851, 2.792985004655425, 6.732944439960948, 0.23211823052398844, 0.6368862428027657, 1.4697509473600456, 2.2008764735726647, 0.013789689791969305, 14.53165875485695, 0.9586337496299301, 3.2843885373632316, 0.1478194959739876, 0.34903279431376866, 0.06494628527380769, 0.3422366240784056, 0.72557691921959, 3.923986201838225, 0.3216921229033172, 12.094557329052858, 0.061921778019982235, 28.6394225007366, 0.376796171907142, 0.3251353063173589, 1.838389691530516, 0.5044780134599167, 6.41483238967118, 31.413271078161078, 0.04449597385725834, 0.04024789277086496, 1.5273967733594003, 1.262797122715451, 1.0921582824819664, 0.10842834838037789, 0.21264833941927314, 0.08998565873003865, 0.007752263363281585, 0.12784557513653408, 1.603331831363272, 2.393831292716501, 2.0628600947245497, 1.6608838716154724, 0.2812774207469057, 0.025703891871076766, 0.24363014118362217, 0.06901727585949019, 0.9808755912287179, 0.40472088072529805, 0.17095292203841295, 0.5413490009029361, 0.03204796528483219, 0.0, 1.0216405267563378, 0.3284492657246363, 3.8751388511092983, 6.454722740355633, 0.36556454324861154, 3.47987263778692, 0.020840438058944723, 0.054219458920060304, 0.009693740303478594, 4.600353019687268, 0.7164323920365634, 3.834836708018664, 0.34848595393893367, 1.0967189773384265, 2.2519623046932327, 0.27671798043694484, 0.7247887229696647, 0.2376054931727429, 0.0, 0.0, 1.7211049575212158, 0.0646014869752638, 0.5716528935835397, 2.8716488647978875, 0.4400801453120932, 0.9022628455859044, 2.456994303995937, 0.21116061073650597, 0.0, 0.35832342800209566, 0.29257612936613914, 0.04819006922681204, 1.141838662800581, 0.007500650693039254, 0.5187655595961602, 0.24464831854607513, 0.20798292543103292, 0.18466665570735283, 1.7681749881116995, 1.2825630442283467, 1.1467530424370256, 0.37829091531825015, 0.24161907753236891, 1.423096165748521, 0.819412399399063, 0.13549430546236624, 2.280566522738959, 4.764488288490455, 0.10126518129762516, 0.8887661493764595, 0.5634324352224753, 0.16850732546550834, 0.001250653789593726, 0.0, 0.4120503272751309, 0.04585598700292633, 0.12089909889938233, 0.08432079161604668, 0.2676022015142837, 1.837100823335428, 0.4582583981118575, 0.2618236290651499, 0.7124723002164237, 0.28779973037356626, 0.29989547350981055, 0.05282578378522457, 0.3085557623188611, 0.17763187760728677, 0.0, 12.181370524003993, 0.6591724504885079, 0.0011691106333570765, 0.848790343693733, 1.6409177950414875, 0.0008598614292156914, 0.0, 0.09892242729264504, 0.6928099284983034, 5.9193632254504545, 0.8999091394876327, 0.8340890608579506, 26.79231190525162, 0.025657893859171447, 2.6334817161457535, 0.24211879571805298, 0.011173312797389118, 1.996038074324264, 0.09723963352703473, 3.604158208808483, 1.3968235429100442, 10.53225254309561, 7.979067938830736, 2.7661962153219175, 0.596561352113586, 1.4819614751615355, 0.28041312534308016, 0.33467088865097044, 2.828038580801113, 0.024873106110233398, 0.18854826242182154, 4.78025583121254, 0.0, 0.32887455464209425, 0.36308177786350765, 0.13755318682885492, 0.8852836141341669, 1.8739602105439295, 0.06798838603836904, 1.0496997601760438, 6.99834573166154, 0.2817882632789278, 1.7858832863058562, 0.21602833024281867, 0.21676868567731622, 0.23171101074281342, 0.7613277869438773, 1.9849275178548176, 0.006878891433725529, 1.8581563050806198, 0.11025959959913845, 0.48364080914153795, 0.1514026929386382, 0.06580580985687694, 0.016228215847833877, 1.7295706017719235, 0.14404304704076848, 1.0075203021560963, 2.5553939641703916, 0.3549764950562946, 10.457407386474973, 3.4242544883264094, 0.5573881349294227, 6.792679783203276, 4.088706900311934, 3.967869819884913, 0.010779367511115344, 6.30794876556667, 0.09055152740621686, 1.4593341849378973, 2.111703615544531, 0.382723672999911, 0.7330806510578918, 0.08254941913845511, 0.0, 0.4695241947067446, 0.8822722817815607, 3.240939786472755, 0.10257436151479128, 0.3863863163657257, 0.15464735025862114, 0.264643661206223, 2.6945449773502457, 0.016637999087575538, 1.2755689881653143, 0.4873809149629506, 0.3383044681280894, 2.9833534707735434, 0.5846833756181606, 0.044716074101899206, 0.3388706143243285, 0.38345232462932244, 0.16475719236879863, 0.3799101877611911, 0.08924469585837219, 9.73269085751381, 0.15680987153839404, 0.0032508047868439294, 1.320566231685622, 0.21890300582562797, 0.07166708084548362, 2.6719002897602815, 0.9698291869310558, 4.379254530389651, 0.08017146548952699, 0.09489473986811091, 0.17409364186591453, 0.18521423745791937, 0.16323051945565886, 7.577888250481268, 0.009888217566200315, 0.18355864657262824, 0.5630953188444575, 0.7202738601673051, 1.9864121089510578, 0.2824020877277964, 0.05721223038864838, 2.4926925471672208, 0.8463882013807901, 2.149735835221379, 0.5831478137510354, 0.4622789714803051, 0.6214165657033951, 0.03261152475234458, 3.0942080051290395, 4.468640585060585, 6.8205692048599325, 3.758313182503615, 0.13118782268835846, 3.79465640040181, 0.4092386723720324, 0.31656959648372135, 7.348148588263677, 0.26249507463811744, 1.3632906041229154, 1.8336924633496081, 0.11162398478760378, 0.04539688654071929, 1.6717576407699637, 0.02802819853596672, 0.7499267964674725, 2.3033453725073905, 0.10231743926496996, 4.337786895714795, 0.6305900380488528, 0.058200857093401184, 0.16406215228566076, 0.7620397114682483, 3.5780528590941847, 0.17201766715481365, 0.11231575573237863, 5.346897064197292, 0.1084654721592123, 0.039979532550918184, 0.2308383820389833, 1.0859921875876515, 0.5914300036230357, 0.2253557739851132, 0.41655780455380464, 0.6185056681560309, 0.0016476429489304578, 3.35324573003768, 3.371566983688961, 0.6392102205562601, 0.08050092849387884, 0.251619437695705, 0.16103282134535213, 2.6828563943059835, 0.15197856694329628, 0.13507195970162772, 6.24460423513119, 0.06342635970264916, 0.3542679481949964, 0.21410650268739007, 5.550089623946645, 0.18242307760565923, 4.505648687682428, 1.9292083628505554, 0.40386197051219525, 0.9280666682478863, 0.33694942070205114, 6.261247815982354, 7.849585598479879, 0.046619262323670016, 4.109595899693564, 0.39212341867713957, 0.16690266971022372, 0.1577992956212608, 0.23695032687205783, 0.0, 25.725382524690414, 1.3867724772333407, 1.6954948809975656, 0.7032880261710089, 3.0731714722378896, 0.0, 4.126490695370296, 1.8344516023908235, 0.021995983639550753, 1.1214942586620107, 3.324408820003533, 0.11954933035898546, 0.19708222786152224, 0.487539245048601, 0.0, 1.0327366568857423, 0.04974407694785185, 0.37595256805479765, 0.1167945800410119, 0.6844871927120021, 4.669459027458257, 1.3902106821840028, 0.31104141129830354, 0.45147925687905877, 3.2797157542099784, 1.5916371302188965, 0.1158631762313322, 0.006715073571303247, 0.3720376036026977, 0.00626150792859569, 0.02448735332746969, 0.5468080298632804, 0.009745096197777836, 0.8882799159245739, 2.6913578166094867, 1.5008130702604414, 0.8165511429897222, 0.28821719704350884, 0.12910171334124512, 0.15270954353099356, 4.2988097080694025, 2.6080603423184896, 19.14304711109856, 0.2148532496049535, 0.14791889131073063, 0.1336126438122373, 0.07153517690349875, 0.29701587160715504, 0.0029731698124193288, 1.7865045203448877, 0.2574066113999488, 0.20415489732984027, 0.0, 1.8338199665881068, 2.1655122483473788, 0.8401222504509606, 0.17217868816323284, 0.1607387320645718, 29.637059654175808, 0.5678408760993369, 8.854807966371661, 0.0, 0.20156988191252642, 1.1472655817081836, 1.4716038887768583, 1.0598795929718368, 0.23052716381562127, 1.0663084944792294, 0.34785084453289844, 3.374354793170902, 1.8233666030049789, 0.06851122170867362, 0.0, 0.018655060910716233, 5.978565891624375, 0.7308299921926713, 0.4373129179278724, 0.0, 0.1530606944779767, 0.1704976465124022, 0.28260928753711256, 4.622312665700267, 0.25022002240677876, 0.03923508001088505, 0.5522582855710843, 1.2355889396530089, 0.4879075569919794, 0.1365092467251142, 0.009490641783553834, 2.5608179925884222, 0.025983109386033702, 0.98340475188275, 0.17536131318647308, 0.030617263933508096, 0.11430217599759138, 0.19288999498523415, 0.08617630074234166, 0.21525029978584942, 7.841388730813225, 0.3729477164353063, 2.692267454375181, 0.021838254372028687, 0.0, 1.0224287299611667, 1.2910086693509044, 0.6134416432972422, 1.8911294997126828, 0.2171545603589218, 0.05625880889705292, 0.238329081457937, 0.0172403169673881, 4.214345178870733, 0.10342969931848914, 1.392268374034051, 48.72111225695834, 1.3338330281253463, 1.2233568344915347, 1.322102427130403, 11.965042678852381, 0.607407574807543, 1.334883847961627, 3.5294552762980844, 4.281048119330166, 0.01945263239133056, 0.9730282785132559, 2.2447839269181538, 0.44465976915647654, 0.1571370343045558, 0.3174757366843708, 3.754316340847938, 0.2592850091257169, 0.24472687037138796, 1.4069781551407916, 1.933161799740208, 0.0, 0.17135157301918646, 1.0168423942567906, 0.06392301523348391, 0.5341412934205794, 0.0, 0.1520899496597645, 2.811370126723229, 0.010856027309744281, 2.424614910634793, 0.01878452378578707, 1.6194128032751387, 0.026554367406988657, 1.0794014170802728, 0.6708527329377483, 0.2911638060560587, 0.47054801554197123, 0.12305675350150944, 0.016826057615441477, 0.3380547090728976, 8.051143302064451, 0.10226384134799474, 0.009935503044109771, 0.4069700156540892, 1.8094193051948815, 0.046443177672407604, 0.47240534576792353, 0.05203650757193848, 1.1397626355090875, 0.6216830084750057, 2.4482314030990926, 4.3569538753138985, 8.533861099255693, 0.47078070296649827, 0.4982244106826359, 0.49913350101200366, 0.07763832096874097, 0.14409554306173064, 2.8292681740501937, 0.30541787181161484, 0.0032797333332395327, 0.06611724329190666, 0.9446408310376476, 9.15012444725148, 1.0019834462733839, 0.734051256014746, 0.878378774629614, 0.17717595352577784, 1.3574771556957002, 0.08998866577758238, 0.05573189271012356, 2.0928594758165, 0.0, 0.33794551275832935, 0.21866391330383908, 0.19946237820357693, 0.40478115076412713, 2.9671218649326994, 0.06517082417228906, 0.12196760055881915, 0.5387243657677102, 0.1328809291668687, 1.3068057904608394, 0.4628495995712506, 0.12721846189971744, 2.0723620040542308, 0.025503404948677238, 0.12728099179668775, 0.6897108608851822, 6.948685362389315, 0.3886354167972504, 2.828645213834943, 0.012216506203895168, 18.973735768611775, 0.6212997620631833, 1.382463003712003, 0.9375179936926832, 1.567140239658748, 0.1116454482123071, 1.9311413760005227, 1.551239548657974, 0.24309210631632258, 0.004468090550853059, 0.07611327308849676, 5.221111319128819, 31.724078972834594, 0.2427536509231515, 0.32725620028810065, 0.18970687371180595, 0.6743565196883832, 0.7679679489074542, 0.08852052794135652, 0.6795127634124709, 0.27398262062025347, 0.21860689446133647, 6.338970163350089, 0.1340761044285908, 0.7821246965965853, 1.725559288664323, 1.5534202863079163, 0.009791489551954398, 1.4263664573915944, 0.8203906387642017, 0.016945288888404252, 0.006165923374437626, 0.12663007214427027, 0.003477699239232163, 0.42209790227858046, 2.707111222198154, 1.5614673076599808, 0.0005803227675145646, 0.4761342590594949, 0.33091441487531503, 0.10118996650404313], \"y0\": \" \", \"yaxis\": \"y\"}],\n",
       "                        {\"boxmode\": \"group\", \"legend\": {\"tracegroupgap\": 0}, \"margin\": {\"t\": 60}, \"template\": {\"data\": {\"bar\": [{\"error_x\": {\"color\": \"#2a3f5f\"}, \"error_y\": {\"color\": \"#2a3f5f\"}, \"marker\": {\"line\": {\"color\": \"#E5ECF6\", \"width\": 0.5}}, \"type\": \"bar\"}], \"barpolar\": [{\"marker\": {\"line\": {\"color\": \"#E5ECF6\", \"width\": 0.5}}, \"type\": \"barpolar\"}], \"carpet\": [{\"aaxis\": {\"endlinecolor\": \"#2a3f5f\", \"gridcolor\": \"white\", \"linecolor\": \"white\", \"minorgridcolor\": \"white\", \"startlinecolor\": \"#2a3f5f\"}, \"baxis\": {\"endlinecolor\": \"#2a3f5f\", \"gridcolor\": \"white\", \"linecolor\": \"white\", \"minorgridcolor\": \"white\", \"startlinecolor\": \"#2a3f5f\"}, \"type\": \"carpet\"}], \"choropleth\": [{\"colorbar\": {\"outlinewidth\": 0, \"ticks\": \"\"}, \"type\": \"choropleth\"}], \"contour\": [{\"colorbar\": {\"outlinewidth\": 0, \"ticks\": \"\"}, \"colorscale\": [[0.0, \"#0d0887\"], [0.1111111111111111, \"#46039f\"], [0.2222222222222222, \"#7201a8\"], [0.3333333333333333, \"#9c179e\"], [0.4444444444444444, \"#bd3786\"], [0.5555555555555556, \"#d8576b\"], [0.6666666666666666, \"#ed7953\"], [0.7777777777777778, \"#fb9f3a\"], [0.8888888888888888, \"#fdca26\"], [1.0, \"#f0f921\"]], \"type\": \"contour\"}], \"contourcarpet\": [{\"colorbar\": {\"outlinewidth\": 0, \"ticks\": \"\"}, \"type\": \"contourcarpet\"}], \"heatmap\": [{\"colorbar\": {\"outlinewidth\": 0, \"ticks\": \"\"}, \"colorscale\": [[0.0, \"#0d0887\"], [0.1111111111111111, \"#46039f\"], [0.2222222222222222, \"#7201a8\"], [0.3333333333333333, \"#9c179e\"], [0.4444444444444444, \"#bd3786\"], [0.5555555555555556, \"#d8576b\"], [0.6666666666666666, \"#ed7953\"], [0.7777777777777778, \"#fb9f3a\"], [0.8888888888888888, \"#fdca26\"], [1.0, \"#f0f921\"]], \"type\": \"heatmap\"}], \"heatmapgl\": [{\"colorbar\": {\"outlinewidth\": 0, \"ticks\": \"\"}, \"colorscale\": [[0.0, \"#0d0887\"], [0.1111111111111111, \"#46039f\"], [0.2222222222222222, \"#7201a8\"], [0.3333333333333333, \"#9c179e\"], [0.4444444444444444, \"#bd3786\"], [0.5555555555555556, \"#d8576b\"], [0.6666666666666666, \"#ed7953\"], [0.7777777777777778, \"#fb9f3a\"], [0.8888888888888888, \"#fdca26\"], [1.0, \"#f0f921\"]], \"type\": \"heatmapgl\"}], \"histogram\": [{\"marker\": {\"colorbar\": {\"outlinewidth\": 0, \"ticks\": \"\"}}, \"type\": \"histogram\"}], \"histogram2d\": [{\"colorbar\": {\"outlinewidth\": 0, \"ticks\": \"\"}, \"colorscale\": [[0.0, \"#0d0887\"], [0.1111111111111111, \"#46039f\"], [0.2222222222222222, \"#7201a8\"], [0.3333333333333333, \"#9c179e\"], [0.4444444444444444, \"#bd3786\"], [0.5555555555555556, \"#d8576b\"], [0.6666666666666666, \"#ed7953\"], [0.7777777777777778, \"#fb9f3a\"], [0.8888888888888888, \"#fdca26\"], [1.0, \"#f0f921\"]], \"type\": \"histogram2d\"}], \"histogram2dcontour\": [{\"colorbar\": {\"outlinewidth\": 0, \"ticks\": \"\"}, \"colorscale\": [[0.0, \"#0d0887\"], [0.1111111111111111, \"#46039f\"], [0.2222222222222222, \"#7201a8\"], [0.3333333333333333, \"#9c179e\"], [0.4444444444444444, \"#bd3786\"], [0.5555555555555556, \"#d8576b\"], [0.6666666666666666, \"#ed7953\"], [0.7777777777777778, \"#fb9f3a\"], [0.8888888888888888, \"#fdca26\"], [1.0, \"#f0f921\"]], \"type\": \"histogram2dcontour\"}], \"mesh3d\": [{\"colorbar\": {\"outlinewidth\": 0, \"ticks\": \"\"}, \"type\": \"mesh3d\"}], \"parcoords\": [{\"line\": {\"colorbar\": {\"outlinewidth\": 0, \"ticks\": \"\"}}, \"type\": \"parcoords\"}], \"pie\": [{\"automargin\": true, \"type\": \"pie\"}], \"scatter\": [{\"marker\": {\"colorbar\": {\"outlinewidth\": 0, \"ticks\": \"\"}}, \"type\": \"scatter\"}], \"scatter3d\": [{\"line\": {\"colorbar\": {\"outlinewidth\": 0, \"ticks\": \"\"}}, \"marker\": {\"colorbar\": {\"outlinewidth\": 0, \"ticks\": \"\"}}, \"type\": \"scatter3d\"}], \"scattercarpet\": [{\"marker\": {\"colorbar\": {\"outlinewidth\": 0, \"ticks\": \"\"}}, \"type\": \"scattercarpet\"}], \"scattergeo\": [{\"marker\": {\"colorbar\": {\"outlinewidth\": 0, \"ticks\": \"\"}}, \"type\": \"scattergeo\"}], \"scattergl\": [{\"marker\": {\"colorbar\": {\"outlinewidth\": 0, \"ticks\": \"\"}}, \"type\": \"scattergl\"}], \"scattermapbox\": [{\"marker\": {\"colorbar\": {\"outlinewidth\": 0, \"ticks\": \"\"}}, \"type\": \"scattermapbox\"}], \"scatterpolar\": [{\"marker\": {\"colorbar\": {\"outlinewidth\": 0, \"ticks\": \"\"}}, \"type\": \"scatterpolar\"}], \"scatterpolargl\": [{\"marker\": {\"colorbar\": {\"outlinewidth\": 0, \"ticks\": \"\"}}, \"type\": \"scatterpolargl\"}], \"scatterternary\": [{\"marker\": {\"colorbar\": {\"outlinewidth\": 0, \"ticks\": \"\"}}, \"type\": \"scatterternary\"}], \"surface\": [{\"colorbar\": {\"outlinewidth\": 0, \"ticks\": \"\"}, \"colorscale\": [[0.0, \"#0d0887\"], [0.1111111111111111, \"#46039f\"], [0.2222222222222222, \"#7201a8\"], [0.3333333333333333, \"#9c179e\"], [0.4444444444444444, \"#bd3786\"], [0.5555555555555556, \"#d8576b\"], [0.6666666666666666, \"#ed7953\"], [0.7777777777777778, \"#fb9f3a\"], [0.8888888888888888, \"#fdca26\"], [1.0, \"#f0f921\"]], \"type\": \"surface\"}], \"table\": [{\"cells\": {\"fill\": {\"color\": \"#EBF0F8\"}, \"line\": {\"color\": \"white\"}}, \"header\": {\"fill\": {\"color\": \"#C8D4E3\"}, \"line\": {\"color\": \"white\"}}, \"type\": \"table\"}]}, \"layout\": {\"annotationdefaults\": {\"arrowcolor\": \"#2a3f5f\", \"arrowhead\": 0, \"arrowwidth\": 1}, \"coloraxis\": {\"colorbar\": {\"outlinewidth\": 0, \"ticks\": \"\"}}, \"colorscale\": {\"diverging\": [[0, \"#8e0152\"], [0.1, \"#c51b7d\"], [0.2, \"#de77ae\"], [0.3, \"#f1b6da\"], [0.4, \"#fde0ef\"], [0.5, \"#f7f7f7\"], [0.6, \"#e6f5d0\"], [0.7, \"#b8e186\"], [0.8, \"#7fbc41\"], [0.9, \"#4d9221\"], [1, \"#276419\"]], \"sequential\": [[0.0, \"#0d0887\"], [0.1111111111111111, \"#46039f\"], [0.2222222222222222, \"#7201a8\"], [0.3333333333333333, \"#9c179e\"], [0.4444444444444444, \"#bd3786\"], [0.5555555555555556, \"#d8576b\"], [0.6666666666666666, \"#ed7953\"], [0.7777777777777778, \"#fb9f3a\"], [0.8888888888888888, \"#fdca26\"], [1.0, \"#f0f921\"]], \"sequentialminus\": [[0.0, \"#0d0887\"], [0.1111111111111111, \"#46039f\"], [0.2222222222222222, \"#7201a8\"], [0.3333333333333333, \"#9c179e\"], [0.4444444444444444, \"#bd3786\"], [0.5555555555555556, \"#d8576b\"], [0.6666666666666666, \"#ed7953\"], [0.7777777777777778, \"#fb9f3a\"], [0.8888888888888888, \"#fdca26\"], [1.0, \"#f0f921\"]]}, \"colorway\": [\"#636efa\", \"#EF553B\", \"#00cc96\", \"#ab63fa\", \"#FFA15A\", \"#19d3f3\", \"#FF6692\", \"#B6E880\", \"#FF97FF\", \"#FECB52\"], \"font\": {\"color\": \"#2a3f5f\"}, \"geo\": {\"bgcolor\": \"white\", \"lakecolor\": \"white\", \"landcolor\": \"#E5ECF6\", \"showlakes\": true, \"showland\": true, \"subunitcolor\": \"white\"}, \"hoverlabel\": {\"align\": \"left\"}, \"hovermode\": \"closest\", \"mapbox\": {\"style\": \"light\"}, \"paper_bgcolor\": \"white\", \"plot_bgcolor\": \"#E5ECF6\", \"polar\": {\"angularaxis\": {\"gridcolor\": \"white\", \"linecolor\": \"white\", \"ticks\": \"\"}, \"bgcolor\": \"#E5ECF6\", \"radialaxis\": {\"gridcolor\": \"white\", \"linecolor\": \"white\", \"ticks\": \"\"}}, \"scene\": {\"xaxis\": {\"backgroundcolor\": \"#E5ECF6\", \"gridcolor\": \"white\", \"gridwidth\": 2, \"linecolor\": \"white\", \"showbackground\": true, \"ticks\": \"\", \"zerolinecolor\": \"white\"}, \"yaxis\": {\"backgroundcolor\": \"#E5ECF6\", \"gridcolor\": \"white\", \"gridwidth\": 2, \"linecolor\": \"white\", \"showbackground\": true, \"ticks\": \"\", \"zerolinecolor\": \"white\"}, \"zaxis\": {\"backgroundcolor\": \"#E5ECF6\", \"gridcolor\": \"white\", \"gridwidth\": 2, \"linecolor\": \"white\", \"showbackground\": true, \"ticks\": \"\", \"zerolinecolor\": \"white\"}}, \"shapedefaults\": {\"line\": {\"color\": \"#2a3f5f\"}}, \"ternary\": {\"aaxis\": {\"gridcolor\": \"white\", \"linecolor\": \"white\", \"ticks\": \"\"}, \"baxis\": {\"gridcolor\": \"white\", \"linecolor\": \"white\", \"ticks\": \"\"}, \"bgcolor\": \"#E5ECF6\", \"caxis\": {\"gridcolor\": \"white\", \"linecolor\": \"white\", \"ticks\": \"\"}}, \"title\": {\"x\": 0.05}, \"xaxis\": {\"automargin\": true, \"gridcolor\": \"white\", \"linecolor\": \"white\", \"ticks\": \"\", \"title\": {\"standoff\": 15}, \"zerolinecolor\": \"white\", \"zerolinewidth\": 2}, \"yaxis\": {\"automargin\": true, \"gridcolor\": \"white\", \"linecolor\": \"white\", \"ticks\": \"\", \"title\": {\"standoff\": 15}, \"zerolinecolor\": \"white\", \"zerolinewidth\": 2}}}, \"xaxis\": {\"anchor\": \"y\", \"domain\": [0.0, 1.0], \"title\": {\"text\": \"toplam_gun_groups\"}}, \"yaxis\": {\"anchor\": \"x\", \"domain\": [0.0, 1.0], \"title\": {\"text\": \"Scale_revenue\"}}},\n",
       "                        {\"responsive\": true}\n",
       "                    ).then(function(){\n",
       "                            \n",
       "var gd = document.getElementById('2a57c865-576d-48f7-95ab-c0e50b27fdb2');\n",
       "var x = new MutationObserver(function (mutations, observer) {{\n",
       "        var display = window.getComputedStyle(gd).display;\n",
       "        if (!display || display === 'none') {{\n",
       "            console.log([gd, 'removed!']);\n",
       "            Plotly.purge(gd);\n",
       "            observer.disconnect();\n",
       "        }}\n",
       "}});\n",
       "\n",
       "// Listen for the removal of the full notebook cells\n",
       "var notebookContainer = gd.closest('#notebook-container');\n",
       "if (notebookContainer) {{\n",
       "    x.observe(notebookContainer, {childList: true});\n",
       "}}\n",
       "\n",
       "// Listen for the clearing of the current output cell\n",
       "var outputEl = gd.closest('.output');\n",
       "if (outputEl) {{\n",
       "    x.observe(outputEl, {childList: true});\n",
       "}}\n",
       "\n",
       "                        })\n",
       "                };\n",
       "                \n",
       "            </script>\n",
       "        </div>\n",
       "</body>\n",
       "</html>"
      ]
     },
     "metadata": {
      "tags": []
     },
     "output_type": "display_data"
    }
   ],
   "source": [
    "import plotly.express as px\n",
    "df = dfson\n",
    "fig = px.box(df, x=\"toplam_gun_groups\", y=\"Scale_revenue\")\n",
    "fig.show()\n",
    "\n",
    "# Gerceklestirdigimiz islem de gun gruplari bazinda Kazanc(revenue) dagilimini goruyoruz. Kazanci 0-100 arasi indirgemistik\n",
    "# Sirasiyla 8 gun uzeri, 4-8 gun arasi ve 0-3 arasi gruplar arasinda buyukten kucuge bir getiri durumu var\n",
    "# Ayni zaman da outlierlar gruplar uzerinde baskin sekilde de gozukmektedir"
   ]
  },
  {
   "cell_type": "code",
   "execution_count": 7,
   "metadata": {},
   "outputs": [
    {
     "data": {
      "image/png": "[encoded data removed]",
      "text/plain": [
       "<IPython.core.display.Image object>"
      ]
     },
     "execution_count": 7,
     "metadata": {},
     "output_type": "execute_result"
    }
   ],
   "source": [
    "# GOrslei Ekran goruntusu olarak atmak zorunda kaldim Github da Plotly çıktıları gözükmüyor maalesef\n",
    "# Ama kendi jupyter notebookunuz da yada colab da veya kaggle da bu sıkıntıyı almazsınız"
   ]
  },
  {
   "cell_type": "code",
   "execution_count": null,
   "metadata": {
    "colab": {
     "base_uri": "https://localhost:8080/",
     "height": 542
    },
    "collapsed": true,
    "id": "1P7oXVLfiSSe",
    "jupyter": {
     "outputs_hidden": true
    },
    "outputId": "a9085117-883c-4cf4-9b6d-eeb2fde8e632"
   },
   "outputs": [
    {
     "data": {
      "text/html": [
       "<html>\n",
       "<head><meta charset=\"utf-8\" /></head>\n",
       "<body>\n",
       "    <div>\n",
       "            <script src=\"https://cdnjs.cloudflare.com/ajax/libs/mathjax/2.7.5/MathJax.js?config=TeX-AMS-MML_SVG\"></script><script type=\"text/javascript\">if (window.MathJax) {MathJax.Hub.Config({SVG: {font: \"STIX-Web\"}});}</script>\n",
       "                <script type=\"text/javascript\">window.PlotlyConfig = {MathJaxConfig: 'local'};</script>\n",
       "        <script src=\"https://cdn.plot.ly/plotly-latest.min.js\"></script>    \n",
       "            <div id=\"18f3d167-0545-4c5d-a6cf-a52b07090cb4\" class=\"plotly-graph-div\" style=\"height:525px; width:100%;\"></div>\n",
       "            <script type=\"text/javascript\">\n",
       "                \n",
       "                    window.PLOTLYENV=window.PLOTLYENV || {};\n",
       "                    \n",
       "                if (document.getElementById(\"18f3d167-0545-4c5d-a6cf-a52b07090cb4\")) {\n",
       "                    Plotly.newPlot(\n",
       "                        '18f3d167-0545-4c5d-a6cf-a52b07090cb4',\n",
       "                        [{\"alignmentgroup\": \"True\", \"hoverlabel\": {\"namelength\": 0}, \"hovertemplate\": \"country_code=TR<br>toplam_gun_groups=%{x}<br>Scale_revenue=%{y}\", \"legendgroup\": \"country_code=TR\", \"marker\": {\"color\": \"#636efa\"}, \"name\": \"country_code=TR\", \"notched\": false, \"offsetgroup\": \"country_code=TR\", \"orientation\": \"v\", \"showlegend\": true, \"type\": \"box\", \"x\": [\"8+ gun\", \"8+ gun\", \"0-3 gun\", \"0-3 gun\", \"0-3 gun\", \"4-8 gun\", \"0-3 gun\", \"4-8 gun\", \"0-3 gun\", \"0-3 gun\", \"0-3 gun\", \"0-3 gun\", \"4-8 gun\", \"0-3 gun\", \"8+ gun\", \"0-3 gun\", \"0-3 gun\", \"0-3 gun\", \"4-8 gun\", \"8+ gun\", \"0-3 gun\", \"0-3 gun\", \"0-3 gun\", \"0-3 gun\", \"0-3 gun\", \"0-3 gun\", \"0-3 gun\", \"0-3 gun\", \"0-3 gun\", \"0-3 gun\", \"0-3 gun\", \"0-3 gun\", \"0-3 gun\", \"8+ gun\", \"4-8 gun\", \"4-8 gun\", \"0-3 gun\", \"4-8 gun\", \"0-3 gun\", \"0-3 gun\", \"8+ gun\", \"4-8 gun\", \"4-8 gun\", \"0-3 gun\", \"0-3 gun\", \"4-8 gun\", \"0-3 gun\", \"0-3 gun\", \"0-3 gun\", \"0-3 gun\", \"0-3 gun\", \"0-3 gun\", \"0-3 gun\", \"4-8 gun\", \"0-3 gun\", \"0-3 gun\", \"0-3 gun\", \"0-3 gun\", \"0-3 gun\", \"0-3 gun\", \"0-3 gun\", \"0-3 gun\", \"4-8 gun\", \"4-8 gun\", \"0-3 gun\", \"0-3 gun\", \"4-8 gun\", \"0-3 gun\", \"0-3 gun\", \"4-8 gun\", \"0-3 gun\", \"4-8 gun\", \"0-3 gun\", \"0-3 gun\", \"0-3 gun\", \"8+ gun\", \"4-8 gun\", \"0-3 gun\", \"8+ gun\", \"0-3 gun\", \"0-3 gun\", \"0-3 gun\", \"0-3 gun\", \"4-8 gun\", \"0-3 gun\", \"8+ gun\", \"0-3 gun\", \"0-3 gun\", \"0-3 gun\", \"8+ gun\", \"8+ gun\", \"8+ gun\", \"4-8 gun\", \"0-3 gun\", \"0-3 gun\", \"8+ gun\", \"8+ gun\", \"0-3 gun\", \"0-3 gun\", \"0-3 gun\", \"4-8 gun\", \"4-8 gun\", \"0-3 gun\", \"0-3 gun\", \"0-3 gun\", \"0-3 gun\", \"4-8 gun\", \"4-8 gun\", \"0-3 gun\", \"0-3 gun\", \"0-3 gun\", \"0-3 gun\", \"0-3 gun\", \"0-3 gun\", \"0-3 gun\", \"0-3 gun\", \"0-3 gun\", \"0-3 gun\", \"0-3 gun\", \"0-3 gun\", \"4-8 gun\", \"8+ gun\", \"0-3 gun\", \"4-8 gun\", \"0-3 gun\", \"0-3 gun\", \"0-3 gun\", \"0-3 gun\", \"0-3 gun\", \"0-3 gun\", \"0-3 gun\", \"0-3 gun\", \"0-3 gun\", \"4-8 gun\", \"0-3 gun\", \"0-3 gun\", \"0-3 gun\", \"0-3 gun\", \"4-8 gun\", \"4-8 gun\", \"0-3 gun\", \"4-8 gun\", \"8+ gun\", \"0-3 gun\", \"0-3 gun\", \"0-3 gun\", \"0-3 gun\", \"8+ gun\", \"4-8 gun\", \"4-8 gun\", \"4-8 gun\", \"4-8 gun\", \"0-3 gun\", \"0-3 gun\", \"0-3 gun\", \"0-3 gun\", \"0-3 gun\", \"0-3 gun\", \"0-3 gun\", \"0-3 gun\", \"0-3 gun\", \"4-8 gun\", \"0-3 gun\", \"0-3 gun\", \"4-8 gun\", \"0-3 gun\", \"0-3 gun\", \"0-3 gun\", \"8+ gun\", \"0-3 gun\", \"0-3 gun\", \"0-3 gun\", \"0-3 gun\", \"4-8 gun\", \"0-3 gun\", \"0-3 gun\", \"0-3 gun\", \"0-3 gun\", \"4-8 gun\", \"0-3 gun\", \"0-3 gun\", \"0-3 gun\", \"4-8 gun\", \"0-3 gun\", \"0-3 gun\", \"4-8 gun\", \"8+ gun\", \"0-3 gun\", \"0-3 gun\", \"0-3 gun\", \"0-3 gun\", \"0-3 gun\", \"0-3 gun\", \"4-8 gun\", \"0-3 gun\", \"0-3 gun\", \"0-3 gun\", \"4-8 gun\", \"4-8 gun\", \"8+ gun\", \"4-8 gun\", \"0-3 gun\", \"0-3 gun\", \"4-8 gun\", \"8+ gun\", \"0-3 gun\", \"8+ gun\", \"0-3 gun\", \"4-8 gun\", \"4-8 gun\", \"4-8 gun\", \"0-3 gun\", \"0-3 gun\", \"0-3 gun\", \"0-3 gun\", \"4-8 gun\", \"0-3 gun\", \"0-3 gun\", \"0-3 gun\", \"4-8 gun\", \"0-3 gun\", \"0-3 gun\", \"0-3 gun\", \"4-8 gun\", \"4-8 gun\", \"0-3 gun\", \"4-8 gun\", \"8+ gun\", \"8+ gun\", \"8+ gun\", \"0-3 gun\", \"0-3 gun\", \"0-3 gun\", \"0-3 gun\", \"0-3 gun\", \"0-3 gun\", \"0-3 gun\", \"0-3 gun\", \"0-3 gun\", \"0-3 gun\", \"4-8 gun\", \"0-3 gun\", \"4-8 gun\", \"0-3 gun\", \"4-8 gun\", \"0-3 gun\", \"0-3 gun\", \"4-8 gun\", \"0-3 gun\", \"0-3 gun\", \"0-3 gun\", \"4-8 gun\", \"4-8 gun\", \"0-3 gun\", \"0-3 gun\", \"4-8 gun\", \"0-3 gun\", \"0-3 gun\", \"0-3 gun\", \"0-3 gun\", \"0-3 gun\", \"0-3 gun\", \"4-8 gun\", \"0-3 gun\", \"4-8 gun\", \"4-8 gun\", \"4-8 gun\", \"4-8 gun\", \"0-3 gun\", \"0-3 gun\", \"0-3 gun\", \"0-3 gun\", \"8+ gun\", \"4-8 gun\", \"4-8 gun\", \"0-3 gun\", \"0-3 gun\", \"4-8 gun\", \"0-3 gun\", \"4-8 gun\", \"0-3 gun\", \"0-3 gun\", \"0-3 gun\", \"0-3 gun\", \"0-3 gun\", \"8+ gun\", \"0-3 gun\", \"0-3 gun\", \"4-8 gun\", \"0-3 gun\", \"0-3 gun\", \"0-3 gun\", \"0-3 gun\", \"0-3 gun\", \"0-3 gun\", \"0-3 gun\", \"0-3 gun\", \"0-3 gun\", \"4-8 gun\", \"0-3 gun\", \"4-8 gun\", \"0-3 gun\", \"0-3 gun\", \"0-3 gun\", \"0-3 gun\", \"0-3 gun\", \"0-3 gun\", \"4-8 gun\", \"0-3 gun\", \"0-3 gun\", \"0-3 gun\", \"4-8 gun\", \"4-8 gun\", \"0-3 gun\", \"0-3 gun\", \"0-3 gun\", \"4-8 gun\", \"0-3 gun\", \"4-8 gun\", \"0-3 gun\", \"0-3 gun\", \"0-3 gun\", \"0-3 gun\", \"0-3 gun\", \"8+ gun\", \"0-3 gun\", \"0-3 gun\", \"0-3 gun\", \"8+ gun\", \"8+ gun\", \"0-3 gun\", \"0-3 gun\", \"0-3 gun\", \"4-8 gun\", \"0-3 gun\", \"4-8 gun\", \"0-3 gun\", \"0-3 gun\", \"0-3 gun\", \"0-3 gun\", \"4-8 gun\", \"0-3 gun\", \"0-3 gun\", \"0-3 gun\", \"8+ gun\", \"0-3 gun\", \"0-3 gun\", \"0-3 gun\", \"4-8 gun\", \"8+ gun\", \"4-8 gun\", \"4-8 gun\", \"4-8 gun\", \"4-8 gun\", \"4-8 gun\", \"0-3 gun\", \"0-3 gun\", \"0-3 gun\", \"0-3 gun\", \"8+ gun\", \"0-3 gun\", \"0-3 gun\", \"0-3 gun\", \"0-3 gun\", \"4-8 gun\", \"4-8 gun\", \"4-8 gun\", \"0-3 gun\", \"0-3 gun\", \"0-3 gun\", \"4-8 gun\", \"4-8 gun\", \"4-8 gun\", \"4-8 gun\", \"0-3 gun\", \"4-8 gun\", \"4-8 gun\", \"4-8 gun\", \"0-3 gun\", \"4-8 gun\", \"0-3 gun\", \"0-3 gun\", \"0-3 gun\", \"0-3 gun\", \"0-3 gun\", \"8+ gun\", \"4-8 gun\", \"0-3 gun\", \"0-3 gun\", \"4-8 gun\", \"4-8 gun\", \"0-3 gun\", \"0-3 gun\", \"0-3 gun\", \"0-3 gun\", \"0-3 gun\", \"0-3 gun\", \"0-3 gun\", \"0-3 gun\", \"0-3 gun\", \"0-3 gun\", \"0-3 gun\", \"8+ gun\", \"4-8 gun\", \"0-3 gun\", \"0-3 gun\", \"0-3 gun\", \"0-3 gun\", \"4-8 gun\", \"4-8 gun\", \"0-3 gun\", \"0-3 gun\", \"0-3 gun\", \"4-8 gun\", \"0-3 gun\", \"4-8 gun\", \"0-3 gun\", \"0-3 gun\", \"4-8 gun\", \"0-3 gun\", \"4-8 gun\", \"4-8 gun\", \"0-3 gun\", \"4-8 gun\", \"4-8 gun\", \"4-8 gun\", \"0-3 gun\", \"0-3 gun\", \"0-3 gun\", \"0-3 gun\", \"0-3 gun\", \"0-3 gun\", \"8+ gun\", \"0-3 gun\", \"0-3 gun\", \"0-3 gun\", \"8+ gun\", \"0-3 gun\", \"0-3 gun\", \"0-3 gun\", \"4-8 gun\", \"8+ gun\", \"0-3 gun\", \"4-8 gun\", \"0-3 gun\", \"8+ gun\", \"4-8 gun\", \"4-8 gun\", \"0-3 gun\", \"0-3 gun\", \"0-3 gun\", \"0-3 gun\", \"4-8 gun\", \"4-8 gun\", \"8+ gun\", \"0-3 gun\", \"4-8 gun\", \"0-3 gun\", \"4-8 gun\", \"0-3 gun\", \"8+ gun\", \"0-3 gun\", \"8+ gun\", \"4-8 gun\", \"0-3 gun\", \"0-3 gun\", \"0-3 gun\", \"4-8 gun\", \"0-3 gun\", \"0-3 gun\", \"0-3 gun\", \"0-3 gun\", \"0-3 gun\", \"0-3 gun\", \"0-3 gun\", \"4-8 gun\", \"4-8 gun\", \"0-3 gun\", \"0-3 gun\", \"4-8 gun\", \"0-3 gun\", \"8+ gun\", \"4-8 gun\", \"0-3 gun\", \"0-3 gun\", \"0-3 gun\", \"4-8 gun\", \"4-8 gun\", \"0-3 gun\", \"4-8 gun\", \"0-3 gun\", \"0-3 gun\", \"4-8 gun\", \"0-3 gun\", \"0-3 gun\", \"0-3 gun\", \"4-8 gun\", \"0-3 gun\", \"0-3 gun\", \"4-8 gun\", \"4-8 gun\", \"0-3 gun\", \"0-3 gun\", \"0-3 gun\", \"4-8 gun\", \"0-3 gun\", \"0-3 gun\", \"0-3 gun\", \"0-3 gun\", \"4-8 gun\", \"0-3 gun\", \"4-8 gun\", \"0-3 gun\", \"4-8 gun\", \"0-3 gun\", \"0-3 gun\", \"4-8 gun\", \"8+ gun\", \"4-8 gun\", \"0-3 gun\", \"0-3 gun\", \"0-3 gun\", \"4-8 gun\", \"0-3 gun\", \"0-3 gun\", \"0-3 gun\", \"4-8 gun\", \"8+ gun\", \"0-3 gun\", \"8+ gun\", \"0-3 gun\", \"0-3 gun\", \"0-3 gun\", \"0-3 gun\", \"4-8 gun\", \"0-3 gun\", \"0-3 gun\", \"4-8 gun\", \"0-3 gun\", \"0-3 gun\", \"4-8 gun\", \"4-8 gun\", \"0-3 gun\", \"0-3 gun\", \"8+ gun\", \"8+ gun\", \"4-8 gun\", \"0-3 gun\", \"0-3 gun\", \"0-3 gun\", \"0-3 gun\", \"0-3 gun\", \"0-3 gun\", \"4-8 gun\", \"0-3 gun\", \"4-8 gun\", \"0-3 gun\", \"4-8 gun\", \"0-3 gun\", \"0-3 gun\", \"0-3 gun\", \"0-3 gun\", \"0-3 gun\", \"0-3 gun\", \"0-3 gun\", \"0-3 gun\", \"0-3 gun\", \"4-8 gun\", \"4-8 gun\", \"0-3 gun\", \"4-8 gun\", \"4-8 gun\", \"4-8 gun\", \"4-8 gun\", \"8+ gun\", \"4-8 gun\", \"0-3 gun\", \"8+ gun\", \"0-3 gun\", \"0-3 gun\", \"0-3 gun\", \"0-3 gun\", \"8+ gun\", \"0-3 gun\", \"4-8 gun\", \"0-3 gun\", \"0-3 gun\", \"4-8 gun\", \"4-8 gun\", \"0-3 gun\", \"0-3 gun\", \"0-3 gun\", \"0-3 gun\", \"0-3 gun\", \"0-3 gun\", \"0-3 gun\", \"0-3 gun\", \"0-3 gun\", \"0-3 gun\", \"8+ gun\", \"4-8 gun\", \"0-3 gun\", \"0-3 gun\", \"8+ gun\", \"4-8 gun\", \"0-3 gun\", \"4-8 gun\", \"0-3 gun\", \"8+ gun\", \"0-3 gun\", \"8+ gun\", \"0-3 gun\", \"0-3 gun\", \"0-3 gun\", \"0-3 gun\", \"4-8 gun\", \"0-3 gun\", \"0-3 gun\", \"8+ gun\", \"0-3 gun\", \"0-3 gun\", \"0-3 gun\", \"0-3 gun\", \"4-8 gun\", \"8+ gun\", \"0-3 gun\", \"4-8 gun\", \"0-3 gun\", \"0-3 gun\", \"0-3 gun\", \"0-3 gun\", \"0-3 gun\", \"0-3 gun\", \"0-3 gun\", \"0-3 gun\", \"4-8 gun\", \"4-8 gun\", \"0-3 gun\", \"0-3 gun\", \"8+ gun\", \"0-3 gun\", \"0-3 gun\", \"0-3 gun\", \"0-3 gun\", \"8+ gun\", \"4-8 gun\", \"4-8 gun\", \"0-3 gun\", \"0-3 gun\", \"0-3 gun\", \"4-8 gun\", \"0-3 gun\", \"0-3 gun\", \"0-3 gun\", \"0-3 gun\", \"0-3 gun\", \"0-3 gun\", \"8+ gun\", \"0-3 gun\", \"8+ gun\", \"0-3 gun\", \"0-3 gun\", \"4-8 gun\", \"0-3 gun\", \"8+ gun\", \"0-3 gun\", \"4-8 gun\", \"0-3 gun\", \"0-3 gun\", \"0-3 gun\", \"0-3 gun\", \"0-3 gun\", \"4-8 gun\", \"0-3 gun\", \"0-3 gun\", \"4-8 gun\", \"0-3 gun\", \"4-8 gun\", \"0-3 gun\", \"0-3 gun\", \"0-3 gun\", \"0-3 gun\", \"0-3 gun\", \"4-8 gun\", \"0-3 gun\", \"0-3 gun\", \"0-3 gun\", \"0-3 gun\", \"0-3 gun\", \"8+ gun\", \"0-3 gun\", \"0-3 gun\", \"0-3 gun\", \"0-3 gun\", \"8+ gun\", \"4-8 gun\", \"0-3 gun\", \"0-3 gun\", \"4-8 gun\", \"4-8 gun\", \"0-3 gun\", \"4-8 gun\", \"0-3 gun\", \"4-8 gun\", \"0-3 gun\", \"0-3 gun\", \"0-3 gun\", \"0-3 gun\", \"4-8 gun\", \"0-3 gun\", \"4-8 gun\", \"0-3 gun\", \"4-8 gun\", \"4-8 gun\", \"4-8 gun\", \"4-8 gun\", \"8+ gun\", \"0-3 gun\", \"0-3 gun\", \"0-3 gun\", \"0-3 gun\", \"4-8 gun\", \"4-8 gun\", \"0-3 gun\", \"0-3 gun\", \"0-3 gun\", \"0-3 gun\", \"0-3 gun\", \"0-3 gun\", \"0-3 gun\", \"0-3 gun\", \"0-3 gun\", \"0-3 gun\", \"0-3 gun\", \"0-3 gun\", \"0-3 gun\", \"0-3 gun\", \"0-3 gun\", \"0-3 gun\", \"0-3 gun\", \"0-3 gun\", \"0-3 gun\", \"0-3 gun\", \"0-3 gun\", \"0-3 gun\", \"0-3 gun\", \"0-3 gun\", \"0-3 gun\", \"4-8 gun\", \"0-3 gun\", \"4-8 gun\", \"0-3 gun\", \"8+ gun\", \"0-3 gun\", \"0-3 gun\", \"0-3 gun\", \"0-3 gun\", \"4-8 gun\", \"0-3 gun\", \"0-3 gun\", \"4-8 gun\", \"0-3 gun\", \"4-8 gun\", \"0-3 gun\", \"0-3 gun\", \"0-3 gun\", \"4-8 gun\", \"8+ gun\", \"0-3 gun\", \"0-3 gun\", \"4-8 gun\", \"0-3 gun\", \"0-3 gun\", \"0-3 gun\", \"0-3 gun\", \"0-3 gun\", \"0-3 gun\", \"0-3 gun\", \"4-8 gun\", \"0-3 gun\", \"0-3 gun\", \"0-3 gun\", \"0-3 gun\", \"0-3 gun\", \"0-3 gun\", \"0-3 gun\", \"4-8 gun\", \"0-3 gun\", \"8+ gun\", \"8+ gun\", \"0-3 gun\", \"0-3 gun\", \"0-3 gun\", \"0-3 gun\", \"4-8 gun\", \"0-3 gun\", \"0-3 gun\", \"0-3 gun\", \"0-3 gun\", \"0-3 gun\", \"0-3 gun\", \"4-8 gun\", \"0-3 gun\", \"0-3 gun\", \"4-8 gun\", \"4-8 gun\", \"4-8 gun\", \"4-8 gun\", \"0-3 gun\", \"0-3 gun\", \"0-3 gun\", \"0-3 gun\", \"4-8 gun\", \"4-8 gun\", \"8+ gun\", \"4-8 gun\", \"0-3 gun\", \"0-3 gun\", \"0-3 gun\", \"0-3 gun\", \"0-3 gun\", \"0-3 gun\", \"0-3 gun\", \"0-3 gun\", \"0-3 gun\", \"0-3 gun\", \"0-3 gun\", \"0-3 gun\", \"4-8 gun\", \"0-3 gun\", \"8+ gun\", \"0-3 gun\", \"0-3 gun\", \"0-3 gun\", \"0-3 gun\", \"0-3 gun\", \"0-3 gun\", \"0-3 gun\", \"4-8 gun\", \"0-3 gun\", \"4-8 gun\", \"0-3 gun\", \"8+ gun\", \"0-3 gun\", \"8+ gun\", \"8+ gun\", \"0-3 gun\", \"0-3 gun\", \"4-8 gun\", \"4-8 gun\", \"4-8 gun\", \"0-3 gun\", \"0-3 gun\", \"0-3 gun\", \"0-3 gun\", \"8+ gun\", \"0-3 gun\", \"8+ gun\", \"0-3 gun\", \"0-3 gun\", \"0-3 gun\", \"4-8 gun\", \"4-8 gun\", \"0-3 gun\", \"0-3 gun\", \"8+ gun\", \"0-3 gun\", \"0-3 gun\", \"8+ gun\", \"4-8 gun\", \"4-8 gun\", \"4-8 gun\", \"0-3 gun\", \"4-8 gun\", \"0-3 gun\", \"0-3 gun\", \"0-3 gun\", \"4-8 gun\", \"8+ gun\", \"0-3 gun\", \"8+ gun\", \"0-3 gun\", \"4-8 gun\", \"0-3 gun\", \"0-3 gun\", \"0-3 gun\", \"0-3 gun\", \"0-3 gun\", \"8+ gun\", \"0-3 gun\", \"4-8 gun\", \"0-3 gun\", \"4-8 gun\", \"0-3 gun\", \"0-3 gun\", \"0-3 gun\", \"0-3 gun\", \"8+ gun\", \"0-3 gun\", \"4-8 gun\", \"0-3 gun\", \"4-8 gun\", \"0-3 gun\", \"0-3 gun\", \"4-8 gun\", \"4-8 gun\", \"4-8 gun\", \"0-3 gun\", \"0-3 gun\", \"4-8 gun\", \"0-3 gun\", \"4-8 gun\", \"8+ gun\", \"0-3 gun\", \"0-3 gun\", \"8+ gun\", \"0-3 gun\", \"0-3 gun\", \"0-3 gun\", \"4-8 gun\", \"0-3 gun\", \"0-3 gun\", \"0-3 gun\", \"0-3 gun\", \"0-3 gun\", \"0-3 gun\", \"4-8 gun\", \"0-3 gun\", \"0-3 gun\", \"8+ gun\", \"0-3 gun\", \"4-8 gun\", \"0-3 gun\", \"0-3 gun\", \"0-3 gun\", \"4-8 gun\", \"0-3 gun\", \"4-8 gun\", \"4-8 gun\", \"0-3 gun\", \"4-8 gun\", \"0-3 gun\", \"4-8 gun\", \"0-3 gun\", \"0-3 gun\", \"0-3 gun\", \"0-3 gun\", \"4-8 gun\", \"4-8 gun\", \"4-8 gun\", \"4-8 gun\", \"0-3 gun\", \"0-3 gun\", \"0-3 gun\", \"0-3 gun\", \"4-8 gun\", \"0-3 gun\", \"0-3 gun\", \"0-3 gun\", \"4-8 gun\", \"0-3 gun\", \"0-3 gun\", \"0-3 gun\", \"0-3 gun\", \"4-8 gun\", \"4-8 gun\", \"0-3 gun\", \"0-3 gun\", \"0-3 gun\", \"4-8 gun\", \"8+ gun\", \"0-3 gun\", \"0-3 gun\", \"0-3 gun\", \"0-3 gun\", \"0-3 gun\", \"0-3 gun\", \"0-3 gun\", \"0-3 gun\", \"0-3 gun\", \"0-3 gun\", \"4-8 gun\", \"4-8 gun\", \"4-8 gun\", \"0-3 gun\", \"0-3 gun\", \"0-3 gun\", \"0-3 gun\", \"0-3 gun\", \"4-8 gun\", \"0-3 gun\", \"4-8 gun\", \"4-8 gun\", \"0-3 gun\", \"8+ gun\", \"0-3 gun\", \"0-3 gun\", \"0-3 gun\", \"4-8 gun\", \"0-3 gun\", \"4-8 gun\", \"0-3 gun\", \"0-3 gun\", \"0-3 gun\", \"0-3 gun\", \"0-3 gun\", \"4-8 gun\", \"0-3 gun\", \"0-3 gun\", \"0-3 gun\", \"0-3 gun\", \"4-8 gun\", \"0-3 gun\", \"0-3 gun\", \"0-3 gun\", \"0-3 gun\", \"0-3 gun\", \"8+ gun\", \"4-8 gun\", \"0-3 gun\", \"0-3 gun\", \"0-3 gun\", \"0-3 gun\", \"4-8 gun\", \"0-3 gun\", \"8+ gun\", \"0-3 gun\", \"4-8 gun\", \"0-3 gun\", \"0-3 gun\", \"8+ gun\", \"0-3 gun\", \"4-8 gun\", \"0-3 gun\", \"0-3 gun\", \"0-3 gun\", \"0-3 gun\", \"0-3 gun\", \"4-8 gun\", \"4-8 gun\", \"8+ gun\", \"0-3 gun\", \"0-3 gun\", \"4-8 gun\", \"0-3 gun\", \"0-3 gun\", \"4-8 gun\", \"0-3 gun\", \"0-3 gun\", \"0-3 gun\", \"4-8 gun\", \"0-3 gun\", \"4-8 gun\", \"8+ gun\", \"0-3 gun\", \"0-3 gun\", \"0-3 gun\", \"0-3 gun\", \"8+ gun\", \"0-3 gun\", \"0-3 gun\", \"0-3 gun\", \"0-3 gun\", \"0-3 gun\", \"0-3 gun\", \"0-3 gun\", \"8+ gun\", \"8+ gun\", \"0-3 gun\", \"0-3 gun\", \"0-3 gun\", \"4-8 gun\", \"0-3 gun\", \"4-8 gun\", \"0-3 gun\", \"0-3 gun\", \"0-3 gun\", \"0-3 gun\", \"0-3 gun\", \"0-3 gun\", \"0-3 gun\", \"0-3 gun\", \"0-3 gun\", \"0-3 gun\", \"0-3 gun\", \"0-3 gun\", \"4-8 gun\", \"4-8 gun\", \"0-3 gun\", \"0-3 gun\", \"8+ gun\", \"8+ gun\", \"4-8 gun\", \"4-8 gun\", \"8+ gun\", \"4-8 gun\", \"4-8 gun\", \"0-3 gun\", \"0-3 gun\", \"0-3 gun\", \"0-3 gun\", \"8+ gun\", \"4-8 gun\", \"0-3 gun\", \"0-3 gun\", \"4-8 gun\", \"0-3 gun\", \"4-8 gun\", \"0-3 gun\", \"0-3 gun\", \"4-8 gun\", \"4-8 gun\", \"0-3 gun\", \"4-8 gun\", \"0-3 gun\", \"0-3 gun\", \"4-8 gun\", \"0-3 gun\", \"0-3 gun\", \"0-3 gun\", \"4-8 gun\", \"4-8 gun\", \"0-3 gun\", \"0-3 gun\", \"8+ gun\", \"4-8 gun\", \"4-8 gun\", \"0-3 gun\", \"0-3 gun\", \"0-3 gun\", \"0-3 gun\", \"8+ gun\", \"8+ gun\", \"0-3 gun\", \"0-3 gun\", \"4-8 gun\", \"0-3 gun\", \"4-8 gun\", \"0-3 gun\", \"0-3 gun\", \"0-3 gun\", \"0-3 gun\", \"0-3 gun\", \"0-3 gun\", \"0-3 gun\", \"0-3 gun\", \"4-8 gun\", \"4-8 gun\", \"4-8 gun\", \"4-8 gun\", \"0-3 gun\", \"8+ gun\", \"0-3 gun\", \"0-3 gun\", \"0-3 gun\", \"4-8 gun\", \"4-8 gun\", \"0-3 gun\", \"0-3 gun\", \"0-3 gun\", \"0-3 gun\", \"4-8 gun\", \"4-8 gun\", \"8+ gun\", \"4-8 gun\", \"0-3 gun\", \"0-3 gun\", \"0-3 gun\", \"0-3 gun\", \"0-3 gun\", \"0-3 gun\", \"0-3 gun\", \"0-3 gun\", \"4-8 gun\", \"0-3 gun\", \"0-3 gun\", \"0-3 gun\", \"8+ gun\", \"8+ gun\", \"4-8 gun\", \"4-8 gun\", \"8+ gun\", \"0-3 gun\", \"0-3 gun\", \"8+ gun\", \"0-3 gun\", \"4-8 gun\", \"4-8 gun\", \"0-3 gun\", \"0-3 gun\", \"4-8 gun\", \"4-8 gun\", \"0-3 gun\", \"8+ gun\", \"0-3 gun\", \"0-3 gun\", \"4-8 gun\", \"4-8 gun\", \"0-3 gun\", \"0-3 gun\", \"8+ gun\", \"8+ gun\", \"0-3 gun\", \"0-3 gun\", \"8+ gun\", \"4-8 gun\", \"0-3 gun\", \"0-3 gun\", \"0-3 gun\", \"0-3 gun\", \"0-3 gun\", \"0-3 gun\", \"4-8 gun\", \"8+ gun\", \"0-3 gun\", \"4-8 gun\", \"0-3 gun\", \"0-3 gun\", \"0-3 gun\", \"4-8 gun\", \"4-8 gun\", \"4-8 gun\", \"0-3 gun\", \"0-3 gun\", \"0-3 gun\", \"0-3 gun\", \"4-8 gun\", \"8+ gun\", \"4-8 gun\", \"4-8 gun\", \"8+ gun\", \"0-3 gun\", \"0-3 gun\", \"0-3 gun\", \"0-3 gun\", \"0-3 gun\", \"8+ gun\", \"4-8 gun\", \"0-3 gun\", \"4-8 gun\", \"4-8 gun\", \"0-3 gun\", \"0-3 gun\", \"0-3 gun\", \"0-3 gun\", \"0-3 gun\", \"0-3 gun\", \"4-8 gun\", \"8+ gun\", \"4-8 gun\", \"4-8 gun\", \"4-8 gun\", \"0-3 gun\", \"0-3 gun\", \"0-3 gun\", \"0-3 gun\", \"0-3 gun\", \"0-3 gun\", \"0-3 gun\", \"0-3 gun\", \"4-8 gun\", \"0-3 gun\", \"0-3 gun\", \"4-8 gun\", \"4-8 gun\", \"4-8 gun\", \"0-3 gun\", \"0-3 gun\", \"4-8 gun\", \"0-3 gun\", \"0-3 gun\", \"4-8 gun\", \"0-3 gun\", \"4-8 gun\", \"0-3 gun\", \"0-3 gun\", \"0-3 gun\", \"0-3 gun\", \"0-3 gun\", \"4-8 gun\", \"0-3 gun\", \"0-3 gun\", \"8+ gun\", \"0-3 gun\", \"8+ gun\", \"0-3 gun\", \"0-3 gun\", \"8+ gun\", \"0-3 gun\", \"0-3 gun\", \"0-3 gun\", \"0-3 gun\", \"0-3 gun\", \"0-3 gun\", \"4-8 gun\", \"4-8 gun\", \"0-3 gun\", \"0-3 gun\", \"4-8 gun\", \"0-3 gun\", \"0-3 gun\", \"4-8 gun\", \"4-8 gun\", \"8+ gun\", \"0-3 gun\", \"4-8 gun\", \"4-8 gun\", \"0-3 gun\", \"4-8 gun\", \"0-3 gun\", \"0-3 gun\", \"4-8 gun\", \"0-3 gun\", \"0-3 gun\", \"4-8 gun\", \"8+ gun\", \"4-8 gun\", \"8+ gun\", \"0-3 gun\", \"0-3 gun\", \"0-3 gun\", \"4-8 gun\", \"0-3 gun\", \"0-3 gun\", \"4-8 gun\", \"4-8 gun\", \"0-3 gun\", \"0-3 gun\", \"0-3 gun\", \"4-8 gun\", \"4-8 gun\", \"0-3 gun\", \"0-3 gun\", \"0-3 gun\", \"0-3 gun\", \"8+ gun\", \"0-3 gun\", \"0-3 gun\", \"0-3 gun\", \"4-8 gun\", \"8+ gun\", \"0-3 gun\", \"0-3 gun\", \"0-3 gun\", \"0-3 gun\", \"0-3 gun\", \"0-3 gun\", \"0-3 gun\", \"0-3 gun\", \"4-8 gun\", \"8+ gun\", \"0-3 gun\", \"8+ gun\", \"0-3 gun\", \"8+ gun\", \"4-8 gun\", \"4-8 gun\", \"4-8 gun\", \"0-3 gun\", \"0-3 gun\", \"4-8 gun\", \"4-8 gun\", \"0-3 gun\", \"0-3 gun\", \"0-3 gun\", \"0-3 gun\", \"4-8 gun\", \"0-3 gun\", \"4-8 gun\", \"0-3 gun\", \"0-3 gun\", \"0-3 gun\", \"4-8 gun\", \"8+ gun\", \"0-3 gun\", \"0-3 gun\", \"8+ gun\", \"0-3 gun\", \"0-3 gun\", \"4-8 gun\", \"0-3 gun\", \"0-3 gun\", \"0-3 gun\", \"0-3 gun\", \"0-3 gun\", \"0-3 gun\", \"8+ gun\", \"4-8 gun\", \"0-3 gun\", \"0-3 gun\", \"0-3 gun\", \"0-3 gun\", \"4-8 gun\", \"0-3 gun\", \"8+ gun\", \"0-3 gun\", \"0-3 gun\", \"0-3 gun\", \"0-3 gun\", \"0-3 gun\", \"8+ gun\", \"0-3 gun\", \"0-3 gun\", \"0-3 gun\", \"0-3 gun\", \"4-8 gun\", \"0-3 gun\", \"0-3 gun\", \"4-8 gun\", \"0-3 gun\", \"0-3 gun\", \"0-3 gun\", \"0-3 gun\", \"0-3 gun\", \"0-3 gun\", \"4-8 gun\", \"4-8 gun\", \"8+ gun\", \"8+ gun\", \"0-3 gun\", \"4-8 gun\", \"0-3 gun\", \"0-3 gun\", \"8+ gun\", \"0-3 gun\", \"4-8 gun\", \"0-3 gun\", \"0-3 gun\", \"0-3 gun\", \"8+ gun\", \"0-3 gun\", \"4-8 gun\", \"4-8 gun\", \"0-3 gun\", \"0-3 gun\", \"0-3 gun\", \"4-8 gun\", \"0-3 gun\", \"4-8 gun\", \"0-3 gun\", \"0-3 gun\", \"0-3 gun\", \"0-3 gun\", \"0-3 gun\", \"0-3 gun\", \"8+ gun\", \"4-8 gun\", \"8+ gun\", \"0-3 gun\", \"0-3 gun\", \"0-3 gun\", \"8+ gun\", \"8+ gun\", \"0-3 gun\", \"0-3 gun\", \"4-8 gun\", \"0-3 gun\", \"4-8 gun\", \"0-3 gun\", \"0-3 gun\", \"0-3 gun\", \"0-3 gun\", \"0-3 gun\", \"0-3 gun\", \"4-8 gun\", \"0-3 gun\", \"8+ gun\", \"4-8 gun\", \"4-8 gun\", \"8+ gun\", \"4-8 gun\", \"8+ gun\", \"4-8 gun\", \"0-3 gun\", \"4-8 gun\", \"0-3 gun\", \"0-3 gun\", \"0-3 gun\", \"0-3 gun\", \"0-3 gun\", \"8+ gun\", \"0-3 gun\", \"8+ gun\", \"4-8 gun\", \"8+ gun\", \"0-3 gun\", \"4-8 gun\", \"8+ gun\", \"0-3 gun\", \"4-8 gun\", \"0-3 gun\", \"0-3 gun\", \"4-8 gun\", \"4-8 gun\", \"0-3 gun\", \"8+ gun\", \"4-8 gun\", \"0-3 gun\", \"0-3 gun\", \"4-8 gun\", \"8+ gun\", \"0-3 gun\", \"0-3 gun\", \"0-3 gun\", \"0-3 gun\", \"0-3 gun\", \"0-3 gun\", \"8+ gun\", \"0-3 gun\", \"0-3 gun\", \"0-3 gun\", \"0-3 gun\", \"8+ gun\", \"8+ gun\", \"4-8 gun\", \"0-3 gun\", \"0-3 gun\", \"0-3 gun\", \"0-3 gun\", \"0-3 gun\", \"4-8 gun\", \"4-8 gun\", \"0-3 gun\", \"0-3 gun\", \"0-3 gun\", \"4-8 gun\", \"0-3 gun\", \"8+ gun\", \"0-3 gun\", \"0-3 gun\", \"0-3 gun\", \"8+ gun\", \"4-8 gun\", \"0-3 gun\", \"0-3 gun\", \"0-3 gun\", \"4-8 gun\", \"8+ gun\", \"0-3 gun\", \"0-3 gun\", \"0-3 gun\", \"0-3 gun\", \"4-8 gun\", \"0-3 gun\", \"0-3 gun\", \"0-3 gun\", \"4-8 gun\", \"4-8 gun\", \"0-3 gun\", \"0-3 gun\", \"0-3 gun\", \"4-8 gun\", \"0-3 gun\", \"0-3 gun\", \"0-3 gun\", \"0-3 gun\", \"0-3 gun\", \"0-3 gun\", \"8+ gun\", \"4-8 gun\", \"4-8 gun\", \"0-3 gun\", \"4-8 gun\", \"0-3 gun\", \"0-3 gun\", \"0-3 gun\", \"4-8 gun\", \"0-3 gun\", \"4-8 gun\", \"0-3 gun\", \"0-3 gun\", \"0-3 gun\", \"0-3 gun\", \"0-3 gun\", \"0-3 gun\", \"4-8 gun\", \"0-3 gun\", \"4-8 gun\", \"0-3 gun\", \"0-3 gun\", \"4-8 gun\", \"4-8 gun\", \"0-3 gun\", \"0-3 gun\", \"0-3 gun\", \"0-3 gun\", \"0-3 gun\", \"0-3 gun\", \"0-3 gun\", \"0-3 gun\", \"4-8 gun\", \"4-8 gun\", \"0-3 gun\", \"4-8 gun\", \"0-3 gun\", \"4-8 gun\", \"4-8 gun\", \"4-8 gun\", \"4-8 gun\", \"0-3 gun\", \"0-3 gun\", \"4-8 gun\", \"4-8 gun\", \"0-3 gun\", \"8+ gun\", \"0-3 gun\", \"4-8 gun\", \"0-3 gun\", \"8+ gun\", \"0-3 gun\", \"0-3 gun\", \"0-3 gun\", \"0-3 gun\", \"4-8 gun\", \"0-3 gun\", \"4-8 gun\", \"4-8 gun\", \"0-3 gun\", \"0-3 gun\", \"0-3 gun\", \"0-3 gun\", \"4-8 gun\", \"0-3 gun\", \"0-3 gun\", \"0-3 gun\", \"0-3 gun\", \"0-3 gun\", \"0-3 gun\", \"4-8 gun\", \"0-3 gun\", \"0-3 gun\", \"0-3 gun\", \"8+ gun\", \"4-8 gun\", \"4-8 gun\", \"0-3 gun\", \"0-3 gun\", \"4-8 gun\", \"4-8 gun\", \"4-8 gun\", \"0-3 gun\", \"0-3 gun\", \"0-3 gun\", \"4-8 gun\", \"8+ gun\", \"0-3 gun\", \"0-3 gun\", \"0-3 gun\", \"0-3 gun\", \"8+ gun\", \"0-3 gun\", \"4-8 gun\", \"8+ gun\", \"0-3 gun\", \"4-8 gun\", \"0-3 gun\", \"0-3 gun\", \"4-8 gun\", \"0-3 gun\", \"0-3 gun\", \"0-3 gun\", \"0-3 gun\", \"0-3 gun\", \"0-3 gun\", \"0-3 gun\", \"8+ gun\", \"0-3 gun\", \"4-8 gun\", \"0-3 gun\", \"0-3 gun\", \"4-8 gun\", \"0-3 gun\", \"0-3 gun\", \"0-3 gun\", \"8+ gun\", \"0-3 gun\", \"8+ gun\", \"0-3 gun\", \"0-3 gun\", \"0-3 gun\", \"4-8 gun\", \"0-3 gun\", \"0-3 gun\", \"8+ gun\", \"0-3 gun\", \"0-3 gun\", \"0-3 gun\", \"0-3 gun\", \"4-8 gun\", \"0-3 gun\", \"0-3 gun\", \"0-3 gun\", \"0-3 gun\", \"0-3 gun\", \"0-3 gun\", \"4-8 gun\", \"0-3 gun\", \"0-3 gun\", \"8+ gun\", \"0-3 gun\", \"0-3 gun\", \"0-3 gun\", \"0-3 gun\", \"0-3 gun\", \"8+ gun\", \"0-3 gun\", \"0-3 gun\", \"0-3 gun\", \"0-3 gun\", \"0-3 gun\", \"4-8 gun\", \"4-8 gun\", \"0-3 gun\", \"0-3 gun\", \"4-8 gun\", \"0-3 gun\", \"0-3 gun\"], \"x0\": \" \", \"xaxis\": \"x\", \"y\": [0.16736607081453092, 2.40053189707933, 0.1024582910025848, 0.15236205234508746, 0.3707252583835979, 1.0134713097624661, 0.11801374502396819, 0.974062416535581, 1.496972389783453, 0.14029078291165983, 0.4636907331617384, 0.04272226718841263, 1.0408942310935558, 0.0, 2.6779037347778503, 2.1276805809162243, 1.3725683181561172, 4.487709862827499, 0.2599823106707648, 4.288249850197685, 0.4780656167530707, 0.27704980593942335, 0.8759270598863773, 0.09333947971571521, 1.459649759996742, 0.07295480439296735, 0.11350174830175636, 0.07488639048208535, 0.023804079751583433, 0.29302698997135984, 0.6275016538252476, 4.493290915852733, 0.08727756394626682, 2.869966792620278, 0.2384955132324076, 3.201476477359868, 0.0037488940273553454, 0.6415969448611873, 0.42303579306655037, 0.10331467231162532, 5.961386117283724, 0.795488311734272, 0.9330208650207058, 0.015670102036328758, 0.6750921281293525, 3.1960730701283824, 0.46557693791950217, 0.0207078113994231, 0.02248658877838459, 0.025515342455016462, 0.8980565906519108, 1.1984502831173274, 0.5870259727973116, 1.3878238710817516, 0.22194824803468044, 0.20112430876394075, 0.8012956302275541, 0.25571922501799327, 0.5282275840676396, 0.4178982915623862, 0.014285848788003591, 0.17369045301732658, 0.2625019536067323, 0.37971852916424165, 0.06686980183322193, 0.01139515760366789, 1.4703491882631652, 0.4862639040423728, 0.1319578419389692, 2.106933059162331, 0.04853115302712581, 0.500146296783921, 0.34242514062888796, 0.019960822223379818, 0.0059578814877063735, 1.7349384302331488, 1.8478808619782672, 0.43955189440027903, 9.60303429332642, 0.046164334098736236, 0.08681893393706364, 1.8988925752114443, 0.09379399246593745, 0.8613781618978171, 0.17902548011393332, 2.5887705431981485, 0.4279825378350198, 0.3913007870836299, 0.11492372143589019, 0.0069467303537317105, 0.2251126919363415, 2.2378486978784315, 2.6910944744537364, 0.030566062155653932, 0.0, 6.839421204342621, 2.6101099060809863, 0.2915910171696101, 1.5905265114255318, 0.9901516410840266, 1.6046776341490507, 0.6652930960515904, 0.2846252029183487, 0.735573016639258, 0.0050439924980354165, 0.10477319227312344, 1.1221141805316284, 0.36808836708749954, 0.10140745783499625, 0.05020324886015291, 0.0808226534996511, 0.17471535123767987, 0.3980895465100501, 0.0, 0.27971655709156196, 0.2711307037436793, 0.12673477978782843, 3.117598039484719, 0.19768593163050077, 0.1080248184615624, 2.398164237391972, 2.876392319918989, 3.793504176616742, 0.8320775789313417, 0.058425001058488205, 0.19630870840899442, 0.0, 0.030013067136065996, 0.016874360272465642, 0.4276241490724022, 0.20948327326251304, 1.4541269195475226, 0.55239398031627, 0.2597974651849693, 2.6939663718687608, 0.14736437255229107, 0.044664308370111844, 0.5669829420193613, 1.1184453405872945, 1.9068800043283995, 0.13726668107513532, 1.835396495195734, 8.9583053020108, 0.03764553974857015, 0.30434841527234224, 3.1541549102109685, 0.5506444928323867, 2.407546775462652, 0.015670102036328758, 2.2331444512166763, 0.47703376136917364, 0.6399104238861083, 0.38454679073899617, 0.0060413574794116786, 0.13848582200643283, 0.20166544763423544, 1.5870950045180459, 0.19765607014689676, 0.09807382819517498, 0.2253076875708643, 0.035465292027605615, 0.09072682152889715, 0.0, 0.0, 2.57576614338591, 0.06903350989076938, 0.045670846900846135, 0.06939235110385218, 3.537949532779784, 0.052593491044780706, 1.0393283718383202, 0.13080439412234618, 0.30638688840558376, 7.340485790456691, 0.6184382733395081, 0.13617413243842114, 0.7867407353615294, 0.4993703631433688, 0.20504895025260642, 0.0043482693948581185, 0.0, 0.0, 0.6870704320098086, 1.7792191326942444, 1.7040406092916554, 6.422279582562547, 6.634774974008869, 0.41362298739112247, 0.7004666282992251, 1.451455774776113, 0.043342999673782974, 0.033646968840201165, 0.1119058320914562, 4.809745996172425, 0.02133054007782122, 0.09496166608105315, 0.029722346932220946, 0.08941261691859508, 0.011213908969221694, 2.4422863231835485, 0.18383698565766082, 1.9979154796847405, 0.3649089867989673, 0.7594594697735945, 7.1327275430313355, 0.7481246691551222, 0.9610389843545675, 0.23754955998719532, 0.9539673604225936, 0.21023989351685707, 2.1930883346887633, 0.752163331903535, 0.0386094473220369, 0.18800247532997202, 0.0, 1.3248002919670494, 0.0464624194792682, 0.8066298946186583, 0.0, 0.2860413747334662, 0.18073093591075798, 0.5583885431630282, 0.0, 0.42246673296557863, 0.5385680154560233, 0.2693295325127376, 1.281031412554999, 1.7640571624519887, 9.855315960597082, 2.023456919172832, 0.0166367558465755, 6.281735097656911, 0.2758649108798416, 1.072597511506177, 1.6835973827155966, 0.18486608184803577, 0.11388104528623626, 0.26805980330443346, 0.024514705495214367, 1.8499759755958933, 2.5001081452499982, 0.005754861816141783, 1.9848133727029174, 0.6047595654344361, 0.27651566435105684, 0.11253998627544078, 0.005211057456640526, 0.928116020138658, 0.1960989459588036, 0.0023382212667141535, 0.46908005932391256, 4.514485472373429, 2.1060115762760647, 0.2869286969041562, 0.23787095207530048, 0.6537259961290444, 0.7423128996292461, 0.03977213708567246, 0.005324883325070491, 0.015945688528255852, 0.05536777023720605, 0.0, 1.0386294989877338, 0.0, 6.873374432425491, 0.13813751843556848, 4.166059487997323, 0.0933426627798439, 1.0241698800784873, 0.6236982882637969, 1.407862706728943, 2.407472465526083, 0.6452778773980574, 4.032886259963766, 1.0914116844900632, 0.638214291502532, 0.09537846076308082, 0.14193874176787288, 0.3115908243641384, 0.5616212514080337, 0.09842234978982842, 0.15165085481420743, 0.13487497228138218, 0.0, 0.009275502180237942, 0.744875831407216, 0.018262731458404097, 0.4861045302114736, 6.294987766340818, 0.23444342896659923, 0.21838960924996234, 0.6105203924396801, 0.31334628698635686, 0.0, 1.446993543890135, 0.37017203375646546, 0.03854722898126699, 0.07508622347885197, 0.6384108346367044, 0.04426166451794974, 1.01496427862728, 0.8352539878809283, 3.2179994741379225, 0.3310429048265053, 0.019332763178365714, 1.1760508144556907, 1.048972801000137, 5.020431145260663, 0.22230960927125698, 0.4774027409356087, 0.006952371757657836, 5.442778352095132, 0.39235488129367835, 0.12205524711892782, 0.346307324013093, 0.1332429959581734, 0.17532440960357157, 1.714180821751973, 2.863116003775748, 0.0045352591731348, 0.9550235133443865, 0.11020795650125063, 0.1197607133181636, 0.03137428769310245, 7.329701886600253, 0.4299554691104756, 0.16300986920501534, 0.07444718149315639, 2.613777466342546, 0.36215324800762694, 0.3484436338266095, 0.7530891085272068, 2.14583155591654, 1.6684931859139744, 0.006522304950468916, 1.2355196902182835, 0.0, 0.046783715288839865, 0.22196090122106685, 9.287032147048418, 1.5353597733580626, 0.05693325066961665, 0.5334467434569006, 0.8210949682908809, 2.15706422049104, 1.3512523416808788, 0.06614071909626959, 0.20004027254928305, 0.3717008008294482, 14.081799779195006, 0.8705032854077493, 0.327432271453762, 0.9593663310422803, 6.024172802225936, 0.9456147637747343, 0.11686093787690721, 0.22079096521968908, 7.021948635250686, 0.0, 5.153124816330624, 0.0, 0.38108714411123623, 0.5053630625284061, 0.1972463433791129, 0.6291847183962732, 3.9517402384916305, 1.123341473784373, 0.21852238321196615, 0.16444434224070817, 0.39581111486034587, 0.06620221111595462, 2.1453431523761433, 0.3081368227580898, 2.1218357517918687, 0.4658912695422621, 0.6640486486038601, 0.32127332556665245, 1.4254837124807103, 2.939301712686158, 0.0036525462916808206, 2.500842792465003, 0.012819044476719678, 0.0, 0.053629968052660154, 0.05944469386444189, 13.786930199661104, 5.436742390601405, 0.6760038339660233, 0.2712890266538095, 2.838544161946461, 6.401068340727998, 0.2112635085960643, 0.011884928701888234, 15.242073571001553, 0.04309278059990409, 0.06977732775517898, 0.4048672757789462, 0.008640511823947108, 0.9678801265091886, 0.06621663734441893, 0.023388105371221823, 0.561913262269305, 0.040233269632554, 0.7836255337947683, 0.6367145060272077, 0.07944390364015762, 0.005352965711380688, 1.4806628900715235, 1.3259585975074912, 1.5185907716257467, 0.025234830509502138, 0.04359590951202312, 0.04078091432618237, 0.5089181852243294, 0.04147632409906175, 1.364257522644022, 0.0811084235117236, 0.0, 6.162994867537866, 5.055508276604962, 0.23908453728569246, 0.2602369675358506, 1.9975232217513874, 1.3754430806721223, 0.5147375188499953, 0.9093987689860563, 0.4800344550738826, 0.039821022264933795, 0.17049312617427306, 0.006878891433725529, 0.6518657301393661, 0.3342703147428589, 0.19162466106960788, 0.0, 0.04921518411140655, 5.877641421011779, 2.5773554394052987, 0.01831693562821398, 0.07569957079102958, 0.07579772421523684, 0.6428651324853482, 3.014504729387238, 0.0, 0.09616130982000917, 0.05325037282722427, 3.0339456545912546, 0.04480874328605722, 0.20475052013641384, 0.47991283892275777, 0.0, 0.4235562433428582, 0.11577177743220463, 8.443191975769981, 4.328888017342502, 1.005579843003936, 0.9949298245837718, 0.6272095287967787, 5.1452609660652255, 0.11923984507255078, 0.9107342608206438, 5.527572417397233, 0.11447349468428626, 0.832719544385994, 7.956468183678586, 0.9726118998053613, 0.06951751817483241, 0.6282803985814431, 0.36802658296788815, 0.001233184674887525, 0.20614801416566253, 0.25792602278447907, 0.16802618380536433, 0.39201778808551574, 0.0, 0.05632417936546263, 8.087544634844598, 0.9748558920870835, 0.3939637552157423, 0.0, 3.449111144340363, 2.602067091535345, 7.373174605884734, 0.020686534538817393, 0.17231796534396912, 0.3415235936012846, 0.0, 0.16001662401499614, 1.204451515134442, 0.2479359694515516, 0.409546778700009, 0.05721223038864838, 0.7850979089816065, 3.634576015580183, 0.004387628570172052, 0.0, 0.5178483873604594, 9.100720062729636, 0.22685038736166654, 0.007868529663038897, 1.8129797585581324, 3.743000156366986, 0.22451987408678087, 0.0, 0.00228280673266412, 1.3967701007462616, 0.37421232754371075, 0.602090230717945, 0.1392579014221064, 0.00601256897155068, 5.609767518062196, 0.14311814655731744, 1.0250119437145184, 0.08954568458103215, 3.4966160553422365, 0.0, 0.0, 0.6661767509390706, 6.309554879915958, 0.5385056345757996, 0.07745746785816744, 0.05686001450366446, 0.2553782684717049, 3.7276403407377705, 0.37290120127943954, 0.06774138037497074, 0.3639541181737449, 3.5508096491183085, 3.029391163443146, 0.003085673233317436, 7.9483778195127615, 0.6675252928389634, 0.2319214923158384, 0.014259681692821314, 0.1860079846002666, 8.646054309688063, 0.0, 2.5965372157720408, 2.8201970136253296, 0.37555976188919993, 0.02383791178440762, 0.10337170324828382, 6.376371329261853, 0.7175928412385272, 0.002492379158679301, 1.6007710504764254, 1.396561819191302, 0.3628554747466466, 0.9981592874196866, 0.04637164431638638, 0.15467221480701593, 0.03491491811978163, 0.006284272579375993, 0.334371542093384, 0.29620889833998143, 1.0248003049936583, 1.7482896117232631, 0.003917525509082189, 0.49986540438496, 0.0, 0.005843173499920675, 0.023926490642594018, 1.3268757275322145, 0.07416913701612271, 0.12337989484231598, 0.38875208074050027, 0.06107856741551268, 0.15357158815185531, 9.430265532663462, 0.09393933039066733, 0.028523854529563103, 1.721786578954326, 0.6454772082752381, 0.7288716181688198, 0.32990786439413805, 9.809870293902087, 0.899817422094668, 0.04084605589502268, 14.886047522151934, 4.547209333357447, 3.3068570010296723, 0.08946482559895526, 0.04620513263640566, 1.273632663658042, 0.4327204986006085, 5.263414502754745, 0.14199068127466338, 0.0, 0.9912497340448225, 0.04188785035907433, 0.6191196834728224, 0.32650425489250173, 0.6137897874565674, 0.19615173147623502, 8.96536840931013, 0.0, 0.05513064034070319, 1.143200273641264, 0.15284910650353853, 0.0, 3.7105234465515475, 10.44075110223038, 0.053427343005101074, 0.04630472466940852, 2.181564628871247, 0.8244293960898466, 0.12897627984109858, 0.4390481546345653, 0.2602997265456192, 0.4394663891514677, 0.09620469147185053, 0.6949862266305533, 0.39147450838074144, 1.4398451995573167, 0.04611708765706242, 0.2934116816046104, 0.40858061734209844, 0.019795134846178997, 0.9433566102098602, 2.31575945376752, 0.07455035562701727, 0.0, 0.0961183342813105, 0.040425082496359954, 0.0030139758452628245, 1.1684895330721847, 0.4250592707836854, 0.9663291157206196, 1.0004687024057342, 0.20116663753595962, 0.06805301368083551, 0.3197272137204014, 0.05072554179618766, 0.0874289696996053, 1.260256471117689, 0.07478239227434953, 0.3318677656140576, 13.777803986693597, 0.584549718120025, 0.6192052392434623, 1.4913925342391978, 0.7845686625683211, 0.035257729581739713, 0.5255801061780186, 2.4327513407342973, 2.35033992537655, 2.0046985707815312, 0.5150028777981566, 0.0, 1.8856071083563846, 2.7467217167608204, 0.49198833507298256, 0.6800058652244334, 0.0, 0.03437442680777138, 0.8565134409877266, 0.2403597933823385, 0.9572801396202053, 0.9635256634078577, 1.0668069751205873, 5.00101161883015, 0.04230662506727151, 0.22321901149238155, 3.294107166886943, 0.026609085310558434, 44.41223505645742, 0.2342840136460267, 0.5811168688433238, 0.3306847745167551, 0.0701089464626098, 0.07890123896670367, 0.08647736296038008, 0.10870904238046011, 0.4340603616687824, 1.779196047315733, 0.31296304085326926, 2.333231703203392, 0.36764734089358947, 2.7582352339124836, 0.0, 0.08897271924224474, 0.019332763178365714, 0.2655347974479385, 6.072431562561649, 8.768680125683176, 0.4941497108571189, 0.6217782808752117, 1.0888506925748205, 0.33935915452875526, 1.263273063016894, 0.7969833322666106, 0.04960444620869037, 0.13899697587534307, 0.9564263020185648, 2.1249203390254348, 1.6475569237429042, 12.371700033221218, 3.6020894336449953, 0.0, 0.9759138737868588, 0.49794308997124914, 0.09064225377259141, 2.4785208638299183, 0.26146764791997495, 4.525033763510299, 0.8339578665433875, 2.838893122523588, 0.3598000402003945, 0.1185785503001757, 0.5988907688890964, 0.1430336122314723, 2.0880252868781883, 0.6137930043411736, 1.0491262672003656, 0.0034563499186567965, 4.715311272769851, 3.5641838729447013, 0.6023907128984562, 1.57923481103715, 0.0023382212667141535, 0.0364381305599601, 0.2834903222120665, 0.40072225915183146, 2.618200722957476, 0.2217356649562588, 0.6260459174151106, 0.6353330833673677, 0.09355353896287921, 0.5569234168172689, 0.6279523752695263, 2.32136385387727, 2.3880307978214694, 0.3376849479328014, 0.06387970895032881, 0.12537837186465292, 0.3512837676464711, 0.20339508730542685, 0.06447602308242661, 0.12264110441585016, 0.02653393217472874, 0.5569118272226061, 0.3356101152828996, 0.08719574549377013, 0.3313916931516467, 0.8335944574359289, 0.040821837124890625, 0.3457994603688171, 0.09346546356766593, 1.3599950077756444, 0.7999651463319128, 1.7205051018354849, 1.2958725648486034, 1.5472899661682846, 3.577085649686281, 0.15254978771714336, 0.5225135839008542, 0.17771342657190037, 0.27307644112577584, 1.3335978783437064, 0.9284376906998528, 0.0, 3.168746206991177, 1.2720440059760239, 0.9067027902865532, 0.09643064228974071, 0.8295694190099964, 0.9952321490229068, 8.662414610078372, 0.8058583229793536, 2.825722646179649, 0.34443022717803773, 10.377284970014374, 0.011304575722834847, 0.0549662761559839, 1.1582028686820207, 0.2752473056291541, 0.2919622164615167, 1.2695234520466228, 0.22615682050307576, 0.03091980165311331, 0.12540532816655217, 0.0, 0.19400061482291564, 0.22776312672889612, 0.0, 0.0373469447632159, 0.1765034082838087, 0.7464153733563934, 0.0, 0.8571239975929905, 0.6261226659059449, 0.0, 0.0, 0.19426092325377195, 0.0, 3.7623737930797896, 3.553640586700908, 1.3339395555825662, 0.12737356495048968, 0.3419733133251868, 0.8209037700991537, 0.12614677544601727, 1.853030599174901, 0.099969958622565, 0.23004503505817703, 3.084960059657677, 2.035016029603432, 1.2392461522282336, 1.8451603085587343, 0.013757782867451059, 0.0, 0.8635718333824011, 0.04341061076982585, 0.6429015036698003, 0.6644391033652728, 0.5639637711847232, 1.6541141322818413, 0.14474370951530172, 0.3419028438928203, 0.039032987121535724, 1.1007960887244606, 0.0, 1.2422286088860357, 0.26052903735621047, 0.1330777638741719, 0.23464141372802888, 0.00847561505674313, 0.20933102230289236, 0.2305027561297826, 0.940408505270539, 5.667540318721162, 0.5088404912717086, 0.13334150686357196, 0.43987827329375595, 0.2696447698434236, 0.1591869918289992, 0.040590533187638514, 0.3820958875378727, 0.3762572223410802, 2.9267436058933223, 0.25487847417872084, 1.721297217710231, 0.015825869994389907, 0.20702316134931914, 0.05344971910530367, 5.511270003876059, 3.473295442852747, 0.030364560297202324, 0.7234600554763948, 2.2239117861370987, 2.6707337806184874, 0.7821586097238233, 0.43011561296459316, 0.007118502817114137, 0.3537527774322166, 0.0927257287120503, 1.0100913838511465, 0.44141798322518694, 6.390484180381744, 0.2054407145160011, 0.3388213351582068, 0.036418547601478835, 15.694227058396468, 1.3235952736110912, 0.11154180232639661, 0.2762727664212315, 1.1153521385756493, 0.11279914911199117, 1.2625738150003862, 3.441444948400061, 2.794310373249102, 1.9221185297145946, 2.334467589193788, 0.05467863322782468, 0.6723638737478882, 0.0, 0.20627934239724013, 0.07216629622606062, 1.7514182512312249, 12.802942297471667, 0.10337913517417001, 4.708231807090721, 0.518604279102643, 1.4594590963682306, 1.8385268022091135, 1.010186241722932, 0.42760699282737696, 1.3432943589430044, 0.04977070982005839, 5.9627991043169155, 0.8742702914470007, 1.8633022363107927, 0.1396344885069978, 4.296126475438274, 1.6219790899252227, 0.04141991958179357, 0.2662306967023975, 0.021383207757889357, 3.6191477158464096, 0.7644450408924114, 0.9483153866003595, 0.10290326076758839, 1.4489803863117305, 0.7482061481464278, 0.0697303270521894, 3.07959310127356, 0.7201753624005516, 2.960052056655235, 0.021338474310465358, 7.981726809888878, 2.325551650698489, 0.21653088399147635, 13.736054937634233, 2.352992057465971, 0.06136294117462185, 0.23708081787457427, 1.8509987573334339, 2.799274869339988, 0.0, 0.13819169213394866, 0.22086443820473028, 3.65263892109763, 0.2780324623135768, 1.6916981829939988, 0.19585778960040817, 0.20158437793229902, 0.7118648832800607, 1.4424334662234968, 0.11267347733971352, 0.3025858162170507, 8.530904796174863, 0.006253264530002185, 3.046029083590495, 0.3540518577794501, 0.03274831685721635, 0.2412174108479935, 0.33903895470559803, 0.0, 3.3328434397166014, 0.6193201274641189, 0.003134020407265751, 3.033443427176349, 0.8188072215023653, 0.04212803938660352, 0.0, 0.010609777323453808, 0.027128502405938094, 0.3792622929938616, 6.134993472539515, 0.29180131717406743, 2.874253546223954, 0.4246003597026866, 0.12112869045490127, 0.09383764228209732, 0.16956893282202973, 0.03693153019701311, 1.7740597858826483, 0.10232430448322428, 0.13562347163781036, 0.010671356925978585, 0.09027818635419978, 0.11297219359578675, 0.3802651178465758, 0.1339696088703896, 0.9369631294762694, 0.3004928413107596, 2.7828977931373347, 1.5047268122045958, 0.7062764103342232, 0.0, 0.30338762066379416, 1.7272924999699102, 0.25577587370786553, 0.04843916116286851, 0.010238313871648788, 0.21802334645357102, 0.0, 0.5994550199257264, 0.0, 0.0005217923273829742, 1.5378363906546069, 0.2618555424764796, 0.8919898118794558, 1.0039518346366347, 0.8313103182684346, 0.10828953875635704, 0.06481636394277619, 0.22187656793064317, 0.2163044944175976, 4.239495867202794, 2.0955667083055864, 0.084973548777967, 21.90930899299496, 3.5728986604220716, 0.11221282036072945, 0.4545704765834587, 0.05981088218539378, 0.01054271688050124, 0.0, 2.5599006626588543, 0.08442475244458342, 0.37891376633328955, 0.03342812669427223, 0.1790880279345368, 0.4903839441888796, 0.7305816258821506, 0.1497419749191082, 0.5779960223760338, 0.36630386282573557, 0.05292111172854437, 0.12166501022939906, 0.871565578645088, 2.638854422226845, 0.0, 0.4115734455173402, 0.36321515577901625, 0.00884184471351069, 0.0, 11.614838894068482, 0.3504272061693743, 0.0, 0.0, 0.11672038236462154, 0.09614296117374939, 0.011072988995734065, 0.9427137939345543, 3.66817648960051, 0.24637619859159626, 0.1931374864264829, 0.02575251106148633, 0.01691513811775861, 1.654299893416324, 0.7726005866754396, 0.3875443847112605, 0.056616961859865395, 0.6988931265393453, 0.024898255608501303, 0.051074613960097125, 0.08445039290593985, 1.7264844726243842, 0.2468157839741205, 3.2331112023455386, 0.2548799665625838, 0.19141600491691035, 0.35830303005934455, 0.0, 1.5956677959833923, 2.476353639103291, 0.028816876643448886, 0.2468341766468095, 0.2351357291538557, 1.0980460793875777, 0.445431790820575, 3.237197852349628, 2.2107648224648084, 0.02192645986643621, 0.004387628570172052, 1.5032365862225967, 0.10764636523859285, 4.21758236747469, 0.010422114913281051, 1.1098455840137418, 0.6581751165713726, 0.04856764462078026, 0.004450677069070181, 0.009605472530547183, 1.441818648087416, 7.569969449368853, 3.885970798120306, 0.34352027957289843, 0.544350713204835, 1.1730922804031954, 1.9052897213679125, 0.005908891454556484, 1.0618393619964819, 0.394391977874804, 0.15209862969156226, 0.8325876980146737, 0.017180488505232985, 0.6109145166216122, 0.107765579906041, 0.2927640748667209, 0.115396091995808, 0.22184280965085088, 1.1725061236199232, 0.5496517672697271, 1.8561499483495076, 1.9075146060119328, 3.32165687764892, 0.36430118124930694, 0.4462189033649205, 2.2395013089930518, 9.173421605919941, 0.1675262312163721, 0.0, 2.3109701474926827, 0.6168044177765298, 0.841670229139976, 0.24274813511732213, 0.0687435754644166, 0.0009235393834285995, 0.0, 0.8878701868164255, 0.5550766318974623, 1.4968080610214158, 0.031524854603333576, 0.20602684384275605, 0.042738648553371505, 1.5531298537749068, 1.4630617370472476, 2.831285722228611, 5.396713795117555, 0.8362730219591236, 0.03329814093481491, 0.4600148504938098, 0.01445300742072786, 0.12484104247540515, 0.979023532078445, 0.06700743129831084, 0.1597838741204027, 0.5015933329964337, 8.733466415895489, 0.8225285313725793, 0.15043982697765165, 0.06277730754872801, 7.95511077117452, 1.0466626595498503, 2.0810910413742736, 0.41841221942812046, 0.08942634767065621, 0.0, 0.06498351121461633, 0.18254991827840789, 11.282634117932286, 0.10043346960466482, 0.025126704185440253, 0.9804196409856861, 0.06883302699269563, 7.879665420118387, 0.28367376055735355, 0.4960019411107908, 0.0, 0.04171528825504409, 0.003986422132063963, 0.0, 0.3831455483078606, 0.08353249130573799, 0.37599135426335856, 2.2865126429203473, 0.3087336972888652, 2.638139106607846, 0.38864643993072506, 0.7807156437305943, 1.4408939334591133, 0.3064397274522176, 0.20818351918563774, 7.354352735743768, 0.9728375697551885, 0.19404671910116614, 0.0988339380908969, 0.08125903707884027, 0.16156386951656512, 0.7592718513669716, 0.1485592390509002, 7.017354653042363, 1.673309835374159, 0.0, 0.3651670405622987, 0.01910979341307149, 0.030115439980548196, 0.0, 0.11018177947257979, 0.3130603760655939, 0.0, 1.3911139576576705, 0.02976514166983919, 0.3510852207775644, 0.2756802728612851, 2.792985004655425, 6.732944439960948, 0.23211823052398844, 0.6368862428027657, 1.4697509473600456, 2.2008764735726647, 0.013789689791969305, 14.53165875485695, 0.9586337496299301, 3.2843885373632316, 0.1478194959739876, 0.34903279431376866, 0.3422366240784056, 0.72557691921959, 3.923986201838225, 0.3216921229033172, 12.094557329052858, 0.061921778019982235, 28.6394225007366, 0.376796171907142, 0.3251353063173589, 1.838389691530516, 0.5044780134599167, 6.41483238967118, 31.413271078161078, 0.04449597385725834, 0.04024789277086496, 1.5273967733594003, 1.262797122715451, 1.0921582824819664, 0.10842834838037789, 0.21264833941927314, 0.08998565873003865, 0.007752263363281585, 0.12784557513653408, 2.393831292716501, 2.0628600947245497, 1.6608838716154724, 0.2812774207469057, 0.025703891871076766, 0.24363014118362217, 0.06901727585949019, 0.9808755912287179, 0.40472088072529805, 0.17095292203841295, 0.5413490009029361, 0.03204796528483219, 0.0, 1.0216405267563378, 0.3284492657246363, 3.8751388511092983, 6.454722740355633, 0.36556454324861154, 3.47987263778692, 0.020840438058944723, 0.054219458920060304, 0.009693740303478594, 4.600353019687268, 0.7164323920365634, 3.834836708018664, 0.34848595393893367, 1.0967189773384265, 2.2519623046932327, 0.27671798043694484, 0.7247887229696647, 0.2376054931727429, 0.0, 0.0, 1.7211049575212158, 0.0646014869752638, 0.5716528935835397, 2.8716488647978875, 0.4400801453120932, 0.9022628455859044, 2.456994303995937, 0.21116061073650597, 0.0, 0.35832342800209566, 0.29257612936613914, 0.04819006922681204, 1.141838662800581, 0.007500650693039254, 0.5187655595961602, 0.24464831854607513, 0.20798292543103292, 0.18466665570735283, 1.7681749881116995, 1.2825630442283467, 1.1467530424370256, 0.37829091531825015, 0.24161907753236891, 1.423096165748521, 0.819412399399063, 0.13549430546236624, 2.280566522738959, 4.764488288490455, 0.10126518129762516, 0.8887661493764595, 0.5634324352224753, 0.16850732546550834, 0.001250653789593726, 0.0, 0.4120503272751309, 0.04585598700292633, 0.12089909889938233, 0.08432079161604668, 0.2676022015142837, 1.837100823335428, 0.4582583981118575, 0.2618236290651499, 0.7124723002164237, 0.28779973037356626, 0.29989547350981055, 0.05282578378522457, 0.3085557623188611, 0.17763187760728677, 0.0, 12.181370524003993, 0.6591724504885079, 0.0011691106333570765, 0.848790343693733, 1.6409177950414875, 0.0008598614292156914, 0.0, 0.09892242729264504, 0.6928099284983034, 5.9193632254504545, 0.8999091394876327, 0.8340890608579506, 26.79231190525162, 0.025657893859171447, 2.6334817161457535, 0.24211879571805298, 0.011173312797389118, 1.996038074324264, 0.09723963352703473, 3.604158208808483, 1.3968235429100442, 7.979067938830736, 2.7661962153219175, 0.596561352113586, 1.4819614751615355, 0.28041312534308016, 0.33467088865097044, 2.828038580801113, 0.024873106110233398, 0.18854826242182154, 4.78025583121254, 0.0, 0.32887455464209425, 0.36308177786350765, 0.13755318682885492, 0.8852836141341669, 1.8739602105439295, 0.06798838603836904, 1.0496997601760438, 6.99834573166154, 0.2817882632789278, 1.7858832863058562, 0.21602833024281867, 0.21676868567731622, 0.23171101074281342, 0.7613277869438773, 1.9849275178548176, 0.006878891433725529, 1.8581563050806198, 0.11025959959913845, 0.48364080914153795, 0.1514026929386382, 0.06580580985687694, 0.016228215847833877, 1.7295706017719235, 1.0075203021560963, 2.5553939641703916, 0.3549764950562946, 10.457407386474973, 0.5573881349294227, 6.792679783203276, 4.088706900311934, 3.967869819884913, 0.010779367511115344, 6.30794876556667, 0.09055152740621686, 1.4593341849378973, 2.111703615544531, 0.382723672999911, 0.7330806510578918, 0.08254941913845511, 0.0, 0.4695241947067446, 0.8822722817815607, 3.240939786472755, 0.10257436151479128, 0.3863863163657257, 0.15464735025862114, 0.264643661206223, 2.6945449773502457, 0.016637999087575538, 1.2755689881653143, 0.4873809149629506, 0.3383044681280894, 2.9833534707735434, 0.5846833756181606, 0.044716074101899206, 0.3388706143243285, 0.38345232462932244, 0.16475719236879863, 0.3799101877611911, 0.08924469585837219, 9.73269085751381, 0.15680987153839404, 0.0032508047868439294, 1.320566231685622, 0.21890300582562797, 0.07166708084548362, 2.6719002897602815, 0.9698291869310558, 4.379254530389651, 0.08017146548952699, 0.09489473986811091, 0.17409364186591453, 0.18521423745791937, 0.16323051945565886, 7.577888250481268, 0.009888217566200315, 0.18355864657262824, 0.5630953188444575, 0.7202738601673051, 1.9864121089510578, 0.2824020877277964, 0.05721223038864838, 2.4926925471672208, 0.8463882013807901, 2.149735835221379, 0.5831478137510354, 0.4622789714803051, 0.6214165657033951, 0.03261152475234458, 3.0942080051290395, 4.468640585060585, 6.8205692048599325, 3.758313182503615, 0.13118782268835846, 3.79465640040181, 0.4092386723720324, 0.31656959648372135, 7.348148588263677, 0.26249507463811744, 1.3632906041229154, 1.8336924633496081, 0.11162398478760378, 0.04539688654071929, 1.6717576407699637, 0.02802819853596672, 0.7499267964674725, 2.3033453725073905, 0.10231743926496996, 4.337786895714795, 0.6305900380488528, 0.058200857093401184, 0.16406215228566076, 0.7620397114682483, 0.17201766715481365, 0.11231575573237863, 5.346897064197292, 0.1084654721592123, 0.039979532550918184, 0.2308383820389833, 1.0859921875876515, 0.5914300036230357, 0.2253557739851132, 0.41655780455380464, 0.6185056681560309, 0.0016476429489304578, 3.35324573003768, 3.371566983688961, 0.6392102205562601, 0.08050092849387884, 0.251619437695705, 0.16103282134535213, 2.6828563943059835, 0.15197856694329628, 0.13507195970162772, 6.24460423513119, 0.06342635970264916, 0.3542679481949964, 0.21410650268739007, 5.550089623946645, 0.18242307760565923, 4.505648687682428, 1.9292083628505554, 0.40386197051219525, 0.9280666682478863, 0.33694942070205114, 6.261247815982354, 7.849585598479879, 0.046619262323670016, 4.109595899693564, 0.39212341867713957, 0.16690266971022372, 0.1577992956212608, 0.23695032687205783, 0.0, 25.725382524690414, 1.3867724772333407, 1.6954948809975656, 0.7032880261710089, 3.0731714722378896, 0.0, 4.126490695370296, 1.8344516023908235, 0.021995983639550753, 1.1214942586620107, 3.324408820003533, 0.11954933035898546, 0.19708222786152224, 0.487539245048601, 0.0, 1.0327366568857423, 0.04974407694785185, 0.37595256805479765, 0.1167945800410119, 0.6844871927120021, 4.669459027458257, 1.3902106821840028, 0.31104141129830354, 3.2797157542099784, 1.5916371302188965, 0.1158631762313322, 0.006715073571303247, 0.3720376036026977, 0.00626150792859569, 0.02448735332746969, 0.5468080298632804, 0.009745096197777836, 2.6913578166094867, 1.5008130702604414, 0.8165511429897222, 0.28821719704350884, 0.12910171334124512, 0.15270954353099356, 4.2988097080694025, 2.6080603423184896, 19.14304711109856, 0.2148532496049535, 0.14791889131073063, 0.1336126438122373, 0.07153517690349875, 0.29701587160715504, 0.0029731698124193288, 1.7865045203448877, 0.2574066113999488, 0.20415489732984027, 0.0, 1.8338199665881068, 2.1655122483473788, 0.8401222504509606, 0.17217868816323284, 0.1607387320645718, 0.5678408760993369, 8.854807966371661, 0.0, 0.20156988191252642, 1.1472655817081836, 1.4716038887768583, 1.0598795929718368, 0.23052716381562127, 1.0663084944792294, 0.34785084453289844, 3.374354793170902, 1.8233666030049789, 0.06851122170867362, 0.0, 0.018655060910716233, 5.978565891624375, 0.7308299921926713, 0.4373129179278724, 0.0, 0.1530606944779767, 0.1704976465124022, 0.28260928753711256, 4.622312665700267, 0.25022002240677876, 0.03923508001088505, 0.5522582855710843, 1.2355889396530089, 0.4879075569919794, 0.1365092467251142, 0.009490641783553834, 2.5608179925884222, 0.025983109386033702, 0.98340475188275, 0.17536131318647308, 0.030617263933508096, 0.11430217599759138, 0.19288999498523415, 0.08617630074234166, 0.21525029978584942, 7.841388730813225, 0.3729477164353063, 2.692267454375181, 0.021838254372028687, 0.0, 1.0224287299611667, 1.2910086693509044, 0.6134416432972422, 1.8911294997126828, 0.2171545603589218, 0.05625880889705292, 0.238329081457937, 0.0172403169673881, 4.214345178870733, 0.10342969931848914, 1.392268374034051, 1.2233568344915347, 1.322102427130403, 11.965042678852381, 0.607407574807543, 1.334883847961627, 3.5294552762980844, 4.281048119330166, 0.01945263239133056, 0.9730282785132559, 2.2447839269181538, 0.44465976915647654, 0.1571370343045558, 0.3174757366843708, 3.754316340847938, 0.2592850091257169, 0.24472687037138796, 1.4069781551407916, 1.933161799740208, 0.0, 0.17135157301918646, 1.0168423942567906, 0.06392301523348391, 0.5341412934205794, 0.0, 0.1520899496597645, 2.811370126723229, 0.010856027309744281, 2.424614910634793, 0.01878452378578707, 0.026554367406988657, 1.0794014170802728, 0.6708527329377483, 0.2911638060560587, 0.47054801554197123, 0.12305675350150944, 0.016826057615441477, 0.3380547090728976, 8.051143302064451, 0.10226384134799474, 0.009935503044109771, 0.4069700156540892, 1.8094193051948815, 0.046443177672407604, 0.47240534576792353, 0.05203650757193848, 1.1397626355090875, 0.6216830084750057, 2.4482314030990926, 4.3569538753138985, 0.47078070296649827, 0.4982244106826359, 0.07763832096874097, 0.14409554306173064, 2.8292681740501937, 0.30541787181161484, 0.0032797333332395327, 0.06611724329190666, 0.9446408310376476, 9.15012444725148, 1.0019834462733839, 0.734051256014746, 0.878378774629614, 0.17717595352577784, 1.3574771556957002, 0.08998866577758238, 2.0928594758165, 0.0, 0.33794551275832935, 0.21866391330383908, 0.19946237820357693, 0.40478115076412713, 2.9671218649326994, 0.06517082417228906, 0.12196760055881915, 0.5387243657677102, 0.1328809291668687, 1.3068057904608394, 0.4628495995712506, 0.12721846189971744, 2.0723620040542308, 0.025503404948677238, 0.12728099179668775, 0.6897108608851822, 6.948685362389315, 0.3886354167972504, 2.828645213834943, 0.012216506203895168, 0.6212997620631833, 1.382463003712003, 0.9375179936926832, 1.567140239658748, 0.1116454482123071, 1.9311413760005227, 1.551239548657974, 0.24309210631632258, 0.004468090550853059, 0.07611327308849676, 5.221111319128819, 0.2427536509231515, 0.32725620028810065, 0.18970687371180595, 0.6743565196883832, 0.7679679489074542, 0.08852052794135652, 0.6795127634124709, 0.27398262062025347, 0.21860689446133647, 6.338970163350089, 0.1340761044285908, 0.7821246965965853, 1.725559288664323, 1.5534202863079163, 0.009791489551954398, 1.4263664573915944, 0.8203906387642017, 0.016945288888404252, 0.006165923374437626, 0.12663007214427027, 0.003477699239232163, 0.42209790227858046, 2.707111222198154, 1.5614673076599808, 0.0005803227675145646, 0.4761342590594949, 0.33091441487531503, 0.10118996650404313], \"y0\": \" \", \"yaxis\": \"y\"}, {\"alignmentgroup\": \"True\", \"hoverlabel\": {\"namelength\": 0}, \"hovertemplate\": \"country_code=Other<br>toplam_gun_groups=%{x}<br>Scale_revenue=%{y}\", \"legendgroup\": \"country_code=Other\", \"marker\": {\"color\": \"#EF553B\"}, \"name\": \"country_code=Other\", \"notched\": false, \"offsetgroup\": \"country_code=Other\", \"orientation\": \"v\", \"showlegend\": true, \"type\": \"box\", \"x\": [\"0-3 gun\", \"8+ gun\", \"0-3 gun\", \"0-3 gun\", \"0-3 gun\", \"0-3 gun\", \"0-3 gun\", \"4-8 gun\", \"8+ gun\", \"4-8 gun\", \"0-3 gun\", \"0-3 gun\", \"0-3 gun\", \"4-8 gun\", \"4-8 gun\", \"0-3 gun\", \"4-8 gun\", \"0-3 gun\", \"0-3 gun\", \"0-3 gun\", \"0-3 gun\", \"8+ gun\", \"4-8 gun\", \"0-3 gun\", \"0-3 gun\", \"0-3 gun\", \"0-3 gun\", \"0-3 gun\", \"8+ gun\", \"0-3 gun\", \"0-3 gun\", \"4-8 gun\", \"0-3 gun\", \"8+ gun\", \"0-3 gun\", \"0-3 gun\", \"0-3 gun\", \"0-3 gun\", \"4-8 gun\", \"0-3 gun\", \"0-3 gun\", \"0-3 gun\", \"0-3 gun\", \"8+ gun\", \"0-3 gun\", \"0-3 gun\", \"0-3 gun\", \"0-3 gun\", \"0-3 gun\", \"0-3 gun\", \"8+ gun\"], \"x0\": \" \", \"xaxis\": \"x\", \"y\": [1.5401265271630347, 4.855767077460474, 0.29588034984595935, 0.23514487578165538, 0.07072116193475694, 0.8216836417913139, 0.631207982679984, 41.97512775267607, 22.1439793115286, 13.952629027204473, 4.4560444310507235, 0.0994408852667234, 0.41819397652879414, 0.8661789872912229, 11.628362083848515, 0.17277290398230052, 100.0, 0.9750733188982594, 2.6218437203785774, 8.324079340953045, 0.18893319950696538, 32.60815455748922, 66.47850561585525, 0.12015296155709966, 8.114214107104758, 0.8586373759480157, 30.707589388949422, 5.240081181276647, 40.213283361307724, 1.2875356438871002, 0.7913395015615776, 0.49222702777769567, 0.1721245807287806, 37.43397127519636, 0.06494628527380769, 1.603331831363272, 10.53225254309561, 0.14404304704076848, 3.4242544883264094, 3.5780528590941847, 0.45147925687905877, 0.8882799159245739, 29.637059654175808, 48.72111225695834, 1.3338330281253463, 1.6194128032751387, 8.533861099255693, 0.49913350101200366, 0.05573189271012356, 18.973735768611775, 31.724078972834594], \"y0\": \" \", \"yaxis\": \"y\"}],\n",
       "                        {\"boxmode\": \"group\", \"legend\": {\"tracegroupgap\": 0}, \"margin\": {\"t\": 60}, \"template\": {\"data\": {\"bar\": [{\"error_x\": {\"color\": \"#2a3f5f\"}, \"error_y\": {\"color\": \"#2a3f5f\"}, \"marker\": {\"line\": {\"color\": \"#E5ECF6\", \"width\": 0.5}}, \"type\": \"bar\"}], \"barpolar\": [{\"marker\": {\"line\": {\"color\": \"#E5ECF6\", \"width\": 0.5}}, \"type\": \"barpolar\"}], \"carpet\": [{\"aaxis\": {\"endlinecolor\": \"#2a3f5f\", \"gridcolor\": \"white\", \"linecolor\": \"white\", \"minorgridcolor\": \"white\", \"startlinecolor\": \"#2a3f5f\"}, \"baxis\": {\"endlinecolor\": \"#2a3f5f\", \"gridcolor\": \"white\", \"linecolor\": \"white\", \"minorgridcolor\": \"white\", \"startlinecolor\": \"#2a3f5f\"}, \"type\": \"carpet\"}], \"choropleth\": [{\"colorbar\": {\"outlinewidth\": 0, \"ticks\": \"\"}, \"type\": \"choropleth\"}], \"contour\": [{\"colorbar\": {\"outlinewidth\": 0, \"ticks\": \"\"}, \"colorscale\": [[0.0, \"#0d0887\"], [0.1111111111111111, \"#46039f\"], [0.2222222222222222, \"#7201a8\"], [0.3333333333333333, \"#9c179e\"], [0.4444444444444444, \"#bd3786\"], [0.5555555555555556, \"#d8576b\"], [0.6666666666666666, \"#ed7953\"], [0.7777777777777778, \"#fb9f3a\"], [0.8888888888888888, \"#fdca26\"], [1.0, \"#f0f921\"]], \"type\": \"contour\"}], \"contourcarpet\": [{\"colorbar\": {\"outlinewidth\": 0, \"ticks\": \"\"}, \"type\": \"contourcarpet\"}], \"heatmap\": [{\"colorbar\": {\"outlinewidth\": 0, \"ticks\": \"\"}, \"colorscale\": [[0.0, \"#0d0887\"], [0.1111111111111111, \"#46039f\"], [0.2222222222222222, \"#7201a8\"], [0.3333333333333333, \"#9c179e\"], [0.4444444444444444, \"#bd3786\"], [0.5555555555555556, \"#d8576b\"], [0.6666666666666666, \"#ed7953\"], [0.7777777777777778, \"#fb9f3a\"], [0.8888888888888888, \"#fdca26\"], [1.0, \"#f0f921\"]], \"type\": \"heatmap\"}], \"heatmapgl\": [{\"colorbar\": {\"outlinewidth\": 0, \"ticks\": \"\"}, \"colorscale\": [[0.0, \"#0d0887\"], [0.1111111111111111, \"#46039f\"], [0.2222222222222222, \"#7201a8\"], [0.3333333333333333, \"#9c179e\"], [0.4444444444444444, \"#bd3786\"], [0.5555555555555556, \"#d8576b\"], [0.6666666666666666, \"#ed7953\"], [0.7777777777777778, \"#fb9f3a\"], [0.8888888888888888, \"#fdca26\"], [1.0, \"#f0f921\"]], \"type\": \"heatmapgl\"}], \"histogram\": [{\"marker\": {\"colorbar\": {\"outlinewidth\": 0, \"ticks\": \"\"}}, \"type\": \"histogram\"}], \"histogram2d\": [{\"colorbar\": {\"outlinewidth\": 0, \"ticks\": \"\"}, \"colorscale\": [[0.0, \"#0d0887\"], [0.1111111111111111, \"#46039f\"], [0.2222222222222222, \"#7201a8\"], [0.3333333333333333, \"#9c179e\"], [0.4444444444444444, \"#bd3786\"], [0.5555555555555556, \"#d8576b\"], [0.6666666666666666, \"#ed7953\"], [0.7777777777777778, \"#fb9f3a\"], [0.8888888888888888, \"#fdca26\"], [1.0, \"#f0f921\"]], \"type\": \"histogram2d\"}], \"histogram2dcontour\": [{\"colorbar\": {\"outlinewidth\": 0, \"ticks\": \"\"}, \"colorscale\": [[0.0, \"#0d0887\"], [0.1111111111111111, \"#46039f\"], [0.2222222222222222, \"#7201a8\"], [0.3333333333333333, \"#9c179e\"], [0.4444444444444444, \"#bd3786\"], [0.5555555555555556, \"#d8576b\"], [0.6666666666666666, \"#ed7953\"], [0.7777777777777778, \"#fb9f3a\"], [0.8888888888888888, \"#fdca26\"], [1.0, \"#f0f921\"]], \"type\": \"histogram2dcontour\"}], \"mesh3d\": [{\"colorbar\": {\"outlinewidth\": 0, \"ticks\": \"\"}, \"type\": \"mesh3d\"}], \"parcoords\": [{\"line\": {\"colorbar\": {\"outlinewidth\": 0, \"ticks\": \"\"}}, \"type\": \"parcoords\"}], \"pie\": [{\"automargin\": true, \"type\": \"pie\"}], \"scatter\": [{\"marker\": {\"colorbar\": {\"outlinewidth\": 0, \"ticks\": \"\"}}, \"type\": \"scatter\"}], \"scatter3d\": [{\"line\": {\"colorbar\": {\"outlinewidth\": 0, \"ticks\": \"\"}}, \"marker\": {\"colorbar\": {\"outlinewidth\": 0, \"ticks\": \"\"}}, \"type\": \"scatter3d\"}], \"scattercarpet\": [{\"marker\": {\"colorbar\": {\"outlinewidth\": 0, \"ticks\": \"\"}}, \"type\": \"scattercarpet\"}], \"scattergeo\": [{\"marker\": {\"colorbar\": {\"outlinewidth\": 0, \"ticks\": \"\"}}, \"type\": \"scattergeo\"}], \"scattergl\": [{\"marker\": {\"colorbar\": {\"outlinewidth\": 0, \"ticks\": \"\"}}, \"type\": \"scattergl\"}], \"scattermapbox\": [{\"marker\": {\"colorbar\": {\"outlinewidth\": 0, \"ticks\": \"\"}}, \"type\": \"scattermapbox\"}], \"scatterpolar\": [{\"marker\": {\"colorbar\": {\"outlinewidth\": 0, \"ticks\": \"\"}}, \"type\": \"scatterpolar\"}], \"scatterpolargl\": [{\"marker\": {\"colorbar\": {\"outlinewidth\": 0, \"ticks\": \"\"}}, \"type\": \"scatterpolargl\"}], \"scatterternary\": [{\"marker\": {\"colorbar\": {\"outlinewidth\": 0, \"ticks\": \"\"}}, \"type\": \"scatterternary\"}], \"surface\": [{\"colorbar\": {\"outlinewidth\": 0, \"ticks\": \"\"}, \"colorscale\": [[0.0, \"#0d0887\"], [0.1111111111111111, \"#46039f\"], [0.2222222222222222, \"#7201a8\"], [0.3333333333333333, \"#9c179e\"], [0.4444444444444444, \"#bd3786\"], [0.5555555555555556, \"#d8576b\"], [0.6666666666666666, \"#ed7953\"], [0.7777777777777778, \"#fb9f3a\"], [0.8888888888888888, \"#fdca26\"], [1.0, \"#f0f921\"]], \"type\": \"surface\"}], \"table\": [{\"cells\": {\"fill\": {\"color\": \"#EBF0F8\"}, \"line\": {\"color\": \"white\"}}, \"header\": {\"fill\": {\"color\": \"#C8D4E3\"}, \"line\": {\"color\": \"white\"}}, \"type\": \"table\"}]}, \"layout\": {\"annotationdefaults\": {\"arrowcolor\": \"#2a3f5f\", \"arrowhead\": 0, \"arrowwidth\": 1}, \"coloraxis\": {\"colorbar\": {\"outlinewidth\": 0, \"ticks\": \"\"}}, \"colorscale\": {\"diverging\": [[0, \"#8e0152\"], [0.1, \"#c51b7d\"], [0.2, \"#de77ae\"], [0.3, \"#f1b6da\"], [0.4, \"#fde0ef\"], [0.5, \"#f7f7f7\"], [0.6, \"#e6f5d0\"], [0.7, \"#b8e186\"], [0.8, \"#7fbc41\"], [0.9, \"#4d9221\"], [1, \"#276419\"]], \"sequential\": [[0.0, \"#0d0887\"], [0.1111111111111111, \"#46039f\"], [0.2222222222222222, \"#7201a8\"], [0.3333333333333333, \"#9c179e\"], [0.4444444444444444, \"#bd3786\"], [0.5555555555555556, \"#d8576b\"], [0.6666666666666666, \"#ed7953\"], [0.7777777777777778, \"#fb9f3a\"], [0.8888888888888888, \"#fdca26\"], [1.0, \"#f0f921\"]], \"sequentialminus\": [[0.0, \"#0d0887\"], [0.1111111111111111, \"#46039f\"], [0.2222222222222222, \"#7201a8\"], [0.3333333333333333, \"#9c179e\"], [0.4444444444444444, \"#bd3786\"], [0.5555555555555556, \"#d8576b\"], [0.6666666666666666, \"#ed7953\"], [0.7777777777777778, \"#fb9f3a\"], [0.8888888888888888, \"#fdca26\"], [1.0, \"#f0f921\"]]}, \"colorway\": [\"#636efa\", \"#EF553B\", \"#00cc96\", \"#ab63fa\", \"#FFA15A\", \"#19d3f3\", \"#FF6692\", \"#B6E880\", \"#FF97FF\", \"#FECB52\"], \"font\": {\"color\": \"#2a3f5f\"}, \"geo\": {\"bgcolor\": \"white\", \"lakecolor\": \"white\", \"landcolor\": \"#E5ECF6\", \"showlakes\": true, \"showland\": true, \"subunitcolor\": \"white\"}, \"hoverlabel\": {\"align\": \"left\"}, \"hovermode\": \"closest\", \"mapbox\": {\"style\": \"light\"}, \"paper_bgcolor\": \"white\", \"plot_bgcolor\": \"#E5ECF6\", \"polar\": {\"angularaxis\": {\"gridcolor\": \"white\", \"linecolor\": \"white\", \"ticks\": \"\"}, \"bgcolor\": \"#E5ECF6\", \"radialaxis\": {\"gridcolor\": \"white\", \"linecolor\": \"white\", \"ticks\": \"\"}}, \"scene\": {\"xaxis\": {\"backgroundcolor\": \"#E5ECF6\", \"gridcolor\": \"white\", \"gridwidth\": 2, \"linecolor\": \"white\", \"showbackground\": true, \"ticks\": \"\", \"zerolinecolor\": \"white\"}, \"yaxis\": {\"backgroundcolor\": \"#E5ECF6\", \"gridcolor\": \"white\", \"gridwidth\": 2, \"linecolor\": \"white\", \"showbackground\": true, \"ticks\": \"\", \"zerolinecolor\": \"white\"}, \"zaxis\": {\"backgroundcolor\": \"#E5ECF6\", \"gridcolor\": \"white\", \"gridwidth\": 2, \"linecolor\": \"white\", \"showbackground\": true, \"ticks\": \"\", \"zerolinecolor\": \"white\"}}, \"shapedefaults\": {\"line\": {\"color\": \"#2a3f5f\"}}, \"ternary\": {\"aaxis\": {\"gridcolor\": \"white\", \"linecolor\": \"white\", \"ticks\": \"\"}, \"baxis\": {\"gridcolor\": \"white\", \"linecolor\": \"white\", \"ticks\": \"\"}, \"bgcolor\": \"#E5ECF6\", \"caxis\": {\"gridcolor\": \"white\", \"linecolor\": \"white\", \"ticks\": \"\"}}, \"title\": {\"x\": 0.05}, \"xaxis\": {\"automargin\": true, \"gridcolor\": \"white\", \"linecolor\": \"white\", \"ticks\": \"\", \"title\": {\"standoff\": 15}, \"zerolinecolor\": \"white\", \"zerolinewidth\": 2}, \"yaxis\": {\"automargin\": true, \"gridcolor\": \"white\", \"linecolor\": \"white\", \"ticks\": \"\", \"title\": {\"standoff\": 15}, \"zerolinecolor\": \"white\", \"zerolinewidth\": 2}}}, \"xaxis\": {\"anchor\": \"y\", \"domain\": [0.0, 1.0], \"title\": {\"text\": \"toplam_gun_groups\"}}, \"yaxis\": {\"anchor\": \"x\", \"domain\": [0.0, 1.0], \"title\": {\"text\": \"Scale_revenue\"}}},\n",
       "                        {\"responsive\": true}\n",
       "                    ).then(function(){\n",
       "                            \n",
       "var gd = document.getElementById('18f3d167-0545-4c5d-a6cf-a52b07090cb4');\n",
       "var x = new MutationObserver(function (mutations, observer) {{\n",
       "        var display = window.getComputedStyle(gd).display;\n",
       "        if (!display || display === 'none') {{\n",
       "            console.log([gd, 'removed!']);\n",
       "            Plotly.purge(gd);\n",
       "            observer.disconnect();\n",
       "        }}\n",
       "}});\n",
       "\n",
       "// Listen for the removal of the full notebook cells\n",
       "var notebookContainer = gd.closest('#notebook-container');\n",
       "if (notebookContainer) {{\n",
       "    x.observe(notebookContainer, {childList: true});\n",
       "}}\n",
       "\n",
       "// Listen for the clearing of the current output cell\n",
       "var outputEl = gd.closest('.output');\n",
       "if (outputEl) {{\n",
       "    x.observe(outputEl, {childList: true});\n",
       "}}\n",
       "\n",
       "                        })\n",
       "                };\n",
       "                \n",
       "            </script>\n",
       "        </div>\n",
       "</body>\n",
       "</html>"
      ]
     },
     "metadata": {
      "tags": []
     },
     "output_type": "display_data"
    }
   ],
   "source": [
    "import plotly.express as px\n",
    "\n",
    "df = dfson\n",
    "\n",
    "fig = px.box(df, x=\"toplam_gun_groups\", y=\"Scale_revenue\", color=\"country_code\")\n",
    "fig.update_traces() # or \"inclusive\", or \"linear\" by default\n",
    "fig.show()\n",
    "\n",
    "# Var olan duruma bir de kirilim ekledigimiz de isin arka planinda daha etkin seyler oldugunu da goruyoruz nedir bu etkin durum?\n",
    "# TR kullanicilari haricinde diger kullanicilarin getiri olarak her grupta daha fazla oldugu gorulmekte\n",
    "# Ozellikle 4-8 gun araliginda ki Other diger lokasyonlardan baglanan kullanicilar yuksek derece getiri saglamakta\n"
   ]
  },
  {
   "cell_type": "code",
   "execution_count": 6,
   "metadata": {},
   "outputs": [
    {
     "data": {
      "image/png": "[encoded data removed]",
      "text/plain": [
       "<IPython.core.display.Image object>"
      ]
     },
     "execution_count": 6,
     "metadata": {},
     "output_type": "execute_result"
    }
   ],
   "source": [
    "# GOrslei Ekran goruntusu olarak atmak zorunda kaldim Github da Plotly çıktıları gözükmüyor maalesef\n",
    "# Ama kendi jupyter notebookunuz da yada colab da veya kaggle da bu sıkıntıyı almazsınız"
   ]
  },
  {
   "cell_type": "code",
   "execution_count": null,
   "metadata": {
    "id": "gxHdnAlUiSSk"
   },
   "outputs": [],
   "source": [
    "deneme = dfson[[\"max_level_groups\",\"toplam_gun_groups\",\"Scale_revenue\"]].copy()\n",
    "df_0_3_gun = deneme[deneme[\"toplam_gun_groups\"] == '0-3 gun']\n",
    "df_4_8_gun = deneme[deneme[\"toplam_gun_groups\"] == '4-8 gun']\n",
    "df_8_gun = deneme[deneme[\"toplam_gun_groups\"] == '8+ gun']"
   ]
  },
  {
   "cell_type": "code",
   "execution_count": null,
   "metadata": {
    "_kg_hide-input": false,
    "colab": {
     "base_uri": "https://localhost:8080/",
     "height": 542
    },
    "collapsed": true,
    "id": "Q6VbZ12LiSSm",
    "jupyter": {
     "outputs_hidden": true
    },
    "outputId": "f3acb691-c5f3-4175-a20d-7f1ac1210cc8"
   },
   "outputs": [
    {
     "data": {
      "text/html": [
       "<html>\n",
       "<head><meta charset=\"utf-8\" /></head>\n",
       "<body>\n",
       "    <div>\n",
       "            <script src=\"https://cdnjs.cloudflare.com/ajax/libs/mathjax/2.7.5/MathJax.js?config=TeX-AMS-MML_SVG\"></script><script type=\"text/javascript\">if (window.MathJax) {MathJax.Hub.Config({SVG: {font: \"STIX-Web\"}});}</script>\n",
       "                <script type=\"text/javascript\">window.PlotlyConfig = {MathJaxConfig: 'local'};</script>\n",
       "        <script src=\"https://cdn.plot.ly/plotly-latest.min.js\"></script>    \n",
       "            <div id=\"7f49c6f3-9611-448c-896c-2ea862743f90\" class=\"plotly-graph-div\" style=\"height:525px; width:100%;\"></div>\n",
       "            <script type=\"text/javascript\">\n",
       "                \n",
       "                    window.PLOTLYENV=window.PLOTLYENV || {};\n",
       "                    \n",
       "                if (document.getElementById(\"7f49c6f3-9611-448c-896c-2ea862743f90\")) {\n",
       "                    Plotly.newPlot(\n",
       "                        '7f49c6f3-9611-448c-896c-2ea862743f90',\n",
       "                        [{\"marker\": {\"color\": \"#3D9970\"}, \"name\": \"Dusuk gun\", \"type\": \"box\", \"x\": [\"0-50 levels\", \"0-50 levels\", \"0-50 levels\", \"50-150 levels\", \"0-50 levels\", \"0-50 levels\", \"0-50 levels\", \"50-150 levels\", \"0-50 levels\", \"50-150 levels\", \"50-150 levels\", \"50-150 levels\", \"150-250 levels\", \"50-150 levels\", \"0-50 levels\", \"0-50 levels\", \"50-150 levels\", \"50-150 levels\", \"0-50 levels\", \"0-50 levels\", \"0-50 levels\", \"0-50 levels\", \"0-50 levels\", \"50-150 levels\", \"50-150 levels\", \"0-50 levels\", \"0-50 levels\", \"50-150 levels\", \"0-50 levels\", \"0-50 levels\", \"50-150 levels\", \"50-150 levels\", \"0-50 levels\", \"0-50 levels\", \"0-50 levels\", \"0-50 levels\", \"50-150 levels\", \"0-50 levels\", \"0-50 levels\", \"0-50 levels\", \"0-50 levels\", \"0-50 levels\", \"0-50 levels\", \"0-50 levels\", \"0-50 levels\", \"50-150 levels\", \"0-50 levels\", \"0-50 levels\", \"0-50 levels\", \"0-50 levels\", \"0-50 levels\", \"0-50 levels\", \"0-50 levels\", \"0-50 levels\", \"0-50 levels\", \"50-150 levels\", \"0-50 levels\", \"0-50 levels\", \"0-50 levels\", \"0-50 levels\", \"0-50 levels\", \"0-50 levels\", \"0-50 levels\", \"0-50 levels\", \"0-50 levels\", \"0-50 levels\", \"0-50 levels\", \"0-50 levels\", \"50-150 levels\", \"0-50 levels\", \"50-150 levels\", \"50-150 levels\", \"50-150 levels\", \"0-50 levels\", \"0-50 levels\", \"0-50 levels\", \"0-50 levels\", \"0-50 levels\", \"0-50 levels\", \"0-50 levels\", \"0-50 levels\", \"0-50 levels\", \"0-50 levels\", \"0-50 levels\", \"0-50 levels\", \"+400 levels\", \"0-50 levels\", \"0-50 levels\", \"50-150 levels\", \"0-50 levels\", \"0-50 levels\", \"0-50 levels\", \"50-150 levels\", \"0-50 levels\", \"0-50 levels\", \"0-50 levels\", \"50-150 levels\", \"0-50 levels\", \"50-150 levels\", \"0-50 levels\", \"0-50 levels\", \"50-150 levels\", \"0-50 levels\", \"0-50 levels\", \"0-50 levels\", \"50-150 levels\", \"0-50 levels\", \"50-150 levels\", \"50-150 levels\", \"0-50 levels\", \"0-50 levels\", \"150-250 levels\", \"0-50 levels\", \"0-50 levels\", \"0-50 levels\", \"50-150 levels\", \"0-50 levels\", \"0-50 levels\", \"0-50 levels\", \"0-50 levels\", \"0-50 levels\", \"50-150 levels\", \"0-50 levels\", \"50-150 levels\", \"0-50 levels\", \"50-150 levels\", \"50-150 levels\", \"0-50 levels\", \"0-50 levels\", \"0-50 levels\", \"0-50 levels\", \"150-250 levels\", \"0-50 levels\", \"0-50 levels\", \"50-150 levels\", \"0-50 levels\", \"50-150 levels\", \"50-150 levels\", \"0-50 levels\", \"0-50 levels\", \"0-50 levels\", \"0-50 levels\", \"0-50 levels\", \"0-50 levels\", \"0-50 levels\", \"0-50 levels\", \"0-50 levels\", \"0-50 levels\", \"50-150 levels\", \"0-50 levels\", \"0-50 levels\", \"0-50 levels\", \"0-50 levels\", \"0-50 levels\", \"0-50 levels\", \"0-50 levels\", \"0-50 levels\", \"0-50 levels\", \"0-50 levels\", \"0-50 levels\", \"150-250 levels\", \"50-150 levels\", \"50-150 levels\", \"50-150 levels\", \"50-150 levels\", \"0-50 levels\", \"50-150 levels\", \"0-50 levels\", \"0-50 levels\", \"0-50 levels\", \"0-50 levels\", \"0-50 levels\", \"0-50 levels\", \"0-50 levels\", \"0-50 levels\", \"50-150 levels\", \"0-50 levels\", \"0-50 levels\", \"50-150 levels\", \"50-150 levels\", \"250-400 levels\", \"0-50 levels\", \"0-50 levels\", \"0-50 levels\", \"0-50 levels\", \"50-150 levels\", \"0-50 levels\", \"50-150 levels\", \"50-150 levels\", \"0-50 levels\", \"0-50 levels\", \"0-50 levels\", \"0-50 levels\", \"0-50 levels\", \"0-50 levels\", \"0-50 levels\", \"0-50 levels\", \"0-50 levels\", \"0-50 levels\", \"0-50 levels\", \"0-50 levels\", \"0-50 levels\", \"0-50 levels\", \"0-50 levels\", \"0-50 levels\", \"50-150 levels\", \"0-50 levels\", \"0-50 levels\", \"0-50 levels\", \"0-50 levels\", \"150-250 levels\", \"0-50 levels\", \"0-50 levels\", \"0-50 levels\", \"50-150 levels\", \"50-150 levels\", \"0-50 levels\", \"0-50 levels\", \"50-150 levels\", \"0-50 levels\", \"0-50 levels\", \"50-150 levels\", \"0-50 levels\", \"0-50 levels\", \"0-50 levels\", \"0-50 levels\", \"0-50 levels\", \"0-50 levels\", \"0-50 levels\", \"50-150 levels\", \"0-50 levels\", \"0-50 levels\", \"50-150 levels\", \"0-50 levels\", \"0-50 levels\", \"0-50 levels\", \"0-50 levels\", \"50-150 levels\", \"0-50 levels\", \"0-50 levels\", \"0-50 levels\", \"0-50 levels\", \"0-50 levels\", \"0-50 levels\", \"0-50 levels\", \"50-150 levels\", \"50-150 levels\", \"0-50 levels\", \"0-50 levels\", \"0-50 levels\", \"50-150 levels\", \"0-50 levels\", \"0-50 levels\", \"0-50 levels\", \"50-150 levels\", \"0-50 levels\", \"0-50 levels\", \"0-50 levels\", \"50-150 levels\", \"0-50 levels\", \"0-50 levels\", \"0-50 levels\", \"0-50 levels\", \"0-50 levels\", \"0-50 levels\", \"0-50 levels\", \"0-50 levels\", \"50-150 levels\", \"0-50 levels\", \"0-50 levels\", \"0-50 levels\", \"0-50 levels\", \"50-150 levels\", \"0-50 levels\", \"0-50 levels\", \"0-50 levels\", \"0-50 levels\", \"0-50 levels\", \"0-50 levels\", \"150-250 levels\", \"0-50 levels\", \"0-50 levels\", \"0-50 levels\", \"0-50 levels\", \"0-50 levels\", \"0-50 levels\", \"50-150 levels\", \"0-50 levels\", \"250-400 levels\", \"0-50 levels\", \"0-50 levels\", \"0-50 levels\", \"0-50 levels\", \"0-50 levels\", \"50-150 levels\", \"0-50 levels\", \"0-50 levels\", \"0-50 levels\", \"50-150 levels\", \"0-50 levels\", \"0-50 levels\", \"0-50 levels\", \"0-50 levels\", \"0-50 levels\", \"0-50 levels\", \"0-50 levels\", \"0-50 levels\", \"0-50 levels\", \"50-150 levels\", \"50-150 levels\", \"0-50 levels\", \"0-50 levels\", \"0-50 levels\", \"0-50 levels\", \"0-50 levels\", \"0-50 levels\", \"0-50 levels\", \"0-50 levels\", \"0-50 levels\", \"50-150 levels\", \"0-50 levels\", \"0-50 levels\", \"150-250 levels\", \"0-50 levels\", \"50-150 levels\", \"0-50 levels\", \"0-50 levels\", \"0-50 levels\", \"50-150 levels\", \"0-50 levels\", \"50-150 levels\", \"50-150 levels\", \"0-50 levels\", \"0-50 levels\", \"50-150 levels\", \"0-50 levels\", \"0-50 levels\", \"0-50 levels\", \"250-400 levels\", \"0-50 levels\", \"0-50 levels\", \"50-150 levels\", \"0-50 levels\", \"0-50 levels\", \"0-50 levels\", \"0-50 levels\", \"0-50 levels\", \"50-150 levels\", \"50-150 levels\", \"0-50 levels\", \"0-50 levels\", \"0-50 levels\", \"0-50 levels\", \"0-50 levels\", \"0-50 levels\", \"0-50 levels\", \"0-50 levels\", \"0-50 levels\", \"0-50 levels\", \"0-50 levels\", \"50-150 levels\", \"0-50 levels\", \"0-50 levels\", \"0-50 levels\", \"0-50 levels\", \"0-50 levels\", \"50-150 levels\", \"0-50 levels\", \"0-50 levels\", \"0-50 levels\", \"50-150 levels\", \"0-50 levels\", \"0-50 levels\", \"0-50 levels\", \"0-50 levels\", \"0-50 levels\", \"0-50 levels\", \"0-50 levels\", \"0-50 levels\", \"0-50 levels\", \"50-150 levels\", \"0-50 levels\", \"0-50 levels\", \"0-50 levels\", \"0-50 levels\", \"0-50 levels\", \"50-150 levels\", \"50-150 levels\", \"0-50 levels\", \"0-50 levels\", \"50-150 levels\", \"50-150 levels\", \"0-50 levels\", \"0-50 levels\", \"0-50 levels\", \"150-250 levels\", \"0-50 levels\", \"50-150 levels\", \"0-50 levels\", \"50-150 levels\", \"0-50 levels\", \"0-50 levels\", \"0-50 levels\", \"0-50 levels\", \"0-50 levels\", \"0-50 levels\", \"0-50 levels\", \"0-50 levels\", \"0-50 levels\", \"50-150 levels\", \"0-50 levels\", \"150-250 levels\", \"0-50 levels\", \"0-50 levels\", \"0-50 levels\", \"50-150 levels\", \"0-50 levels\", \"0-50 levels\", \"0-50 levels\", \"0-50 levels\", \"0-50 levels\", \"50-150 levels\", \"0-50 levels\", \"0-50 levels\", \"0-50 levels\", \"0-50 levels\", \"0-50 levels\", \"0-50 levels\", \"50-150 levels\", \"0-50 levels\", \"0-50 levels\", \"0-50 levels\", \"0-50 levels\", \"50-150 levels\", \"0-50 levels\", \"250-400 levels\", \"50-150 levels\", \"0-50 levels\", \"0-50 levels\", \"50-150 levels\", \"50-150 levels\", \"50-150 levels\", \"0-50 levels\", \"50-150 levels\", \"0-50 levels\", \"0-50 levels\", \"50-150 levels\", \"0-50 levels\", \"0-50 levels\", \"0-50 levels\", \"0-50 levels\", \"0-50 levels\", \"0-50 levels\", \"50-150 levels\", \"0-50 levels\", \"0-50 levels\", \"0-50 levels\", \"0-50 levels\", \"0-50 levels\", \"0-50 levels\", \"50-150 levels\", \"0-50 levels\", \"0-50 levels\", \"150-250 levels\", \"0-50 levels\", \"0-50 levels\", \"0-50 levels\", \"0-50 levels\", \"50-150 levels\", \"0-50 levels\", \"50-150 levels\", \"0-50 levels\", \"0-50 levels\", \"0-50 levels\", \"0-50 levels\", \"50-150 levels\", \"50-150 levels\", \"0-50 levels\", \"0-50 levels\", \"50-150 levels\", \"0-50 levels\", \"0-50 levels\", \"0-50 levels\", \"0-50 levels\", \"50-150 levels\", \"50-150 levels\", \"0-50 levels\", \"0-50 levels\", \"0-50 levels\", \"0-50 levels\", \"0-50 levels\", \"50-150 levels\", \"0-50 levels\", \"0-50 levels\", \"0-50 levels\", \"0-50 levels\", \"0-50 levels\", \"0-50 levels\", \"0-50 levels\", \"0-50 levels\", \"50-150 levels\", \"0-50 levels\", \"50-150 levels\", \"0-50 levels\", \"50-150 levels\", \"0-50 levels\", \"0-50 levels\", \"0-50 levels\", \"0-50 levels\", \"50-150 levels\", \"50-150 levels\", \"0-50 levels\", \"0-50 levels\", \"0-50 levels\", \"0-50 levels\", \"50-150 levels\", \"0-50 levels\", \"50-150 levels\", \"0-50 levels\", \"50-150 levels\", \"0-50 levels\", \"0-50 levels\", \"50-150 levels\", \"0-50 levels\", \"0-50 levels\", \"50-150 levels\", \"0-50 levels\", \"0-50 levels\", \"0-50 levels\", \"0-50 levels\", \"0-50 levels\", \"0-50 levels\", \"0-50 levels\", \"0-50 levels\", \"0-50 levels\", \"0-50 levels\", \"0-50 levels\", \"0-50 levels\", \"0-50 levels\", \"0-50 levels\", \"50-150 levels\", \"50-150 levels\", \"0-50 levels\", \"0-50 levels\", \"50-150 levels\", \"50-150 levels\", \"0-50 levels\", \"0-50 levels\", \"0-50 levels\", \"50-150 levels\", \"0-50 levels\", \"0-50 levels\", \"0-50 levels\", \"0-50 levels\", \"0-50 levels\", \"0-50 levels\", \"0-50 levels\", \"0-50 levels\", \"50-150 levels\", \"0-50 levels\", \"0-50 levels\", \"0-50 levels\", \"0-50 levels\", \"0-50 levels\", \"0-50 levels\", \"0-50 levels\", \"0-50 levels\", \"50-150 levels\", \"0-50 levels\", \"0-50 levels\", \"0-50 levels\", \"50-150 levels\", \"50-150 levels\", \"0-50 levels\", \"0-50 levels\", \"0-50 levels\", \"0-50 levels\", \"0-50 levels\", \"0-50 levels\", \"50-150 levels\", \"50-150 levels\", \"50-150 levels\", \"0-50 levels\", \"50-150 levels\", \"0-50 levels\", \"0-50 levels\", \"0-50 levels\", \"50-150 levels\", \"0-50 levels\", \"0-50 levels\", \"50-150 levels\", \"0-50 levels\", \"50-150 levels\", \"0-50 levels\", \"0-50 levels\", \"0-50 levels\", \"0-50 levels\", \"0-50 levels\", \"0-50 levels\", \"50-150 levels\", \"0-50 levels\", \"150-250 levels\", \"0-50 levels\", \"0-50 levels\", \"0-50 levels\", \"0-50 levels\", \"0-50 levels\", \"0-50 levels\", \"0-50 levels\", \"0-50 levels\", \"50-150 levels\", \"0-50 levels\", \"50-150 levels\", \"0-50 levels\", \"0-50 levels\", \"0-50 levels\", \"50-150 levels\", \"0-50 levels\", \"0-50 levels\", \"50-150 levels\", \"0-50 levels\", \"0-50 levels\", \"0-50 levels\", \"50-150 levels\", \"0-50 levels\", \"50-150 levels\", \"50-150 levels\", \"0-50 levels\", \"50-150 levels\", \"0-50 levels\", \"50-150 levels\", \"0-50 levels\", \"0-50 levels\", \"50-150 levels\", \"150-250 levels\", \"0-50 levels\", \"0-50 levels\", \"0-50 levels\", \"0-50 levels\", \"0-50 levels\", \"50-150 levels\", \"0-50 levels\", \"50-150 levels\", \"0-50 levels\", \"0-50 levels\", \"50-150 levels\", \"0-50 levels\", \"0-50 levels\", \"0-50 levels\", \"0-50 levels\", \"50-150 levels\", \"0-50 levels\", \"50-150 levels\", \"0-50 levels\", \"0-50 levels\", \"50-150 levels\", \"0-50 levels\", \"0-50 levels\", \"0-50 levels\", \"0-50 levels\", \"0-50 levels\", \"0-50 levels\", \"0-50 levels\", \"0-50 levels\", \"0-50 levels\", \"50-150 levels\", \"0-50 levels\", \"0-50 levels\", \"0-50 levels\", \"0-50 levels\", \"0-50 levels\", \"0-50 levels\", \"150-250 levels\", \"0-50 levels\", \"50-150 levels\", \"0-50 levels\", \"0-50 levels\", \"0-50 levels\", \"0-50 levels\", \"0-50 levels\", \"0-50 levels\", \"0-50 levels\", \"50-150 levels\", \"0-50 levels\", \"0-50 levels\", \"0-50 levels\", \"0-50 levels\", \"50-150 levels\", \"0-50 levels\", \"0-50 levels\", \"0-50 levels\", \"0-50 levels\", \"0-50 levels\", \"0-50 levels\", \"50-150 levels\", \"0-50 levels\", \"0-50 levels\", \"0-50 levels\", \"0-50 levels\", \"0-50 levels\", \"0-50 levels\", \"50-150 levels\", \"50-150 levels\", \"50-150 levels\", \"0-50 levels\", \"0-50 levels\", \"50-150 levels\", \"0-50 levels\", \"50-150 levels\", \"0-50 levels\", \"0-50 levels\", \"50-150 levels\", \"0-50 levels\", \"0-50 levels\", \"0-50 levels\", \"0-50 levels\", \"0-50 levels\", \"0-50 levels\", \"50-150 levels\", \"0-50 levels\", \"0-50 levels\", \"0-50 levels\", \"0-50 levels\", \"0-50 levels\", \"0-50 levels\", \"0-50 levels\", \"50-150 levels\", \"50-150 levels\", \"50-150 levels\", \"0-50 levels\", \"0-50 levels\", \"0-50 levels\", \"50-150 levels\", \"50-150 levels\", \"0-50 levels\", \"50-150 levels\", \"0-50 levels\", \"50-150 levels\", \"0-50 levels\", \"50-150 levels\", \"50-150 levels\", \"50-150 levels\", \"50-150 levels\", \"50-150 levels\", \"0-50 levels\", \"0-50 levels\", \"0-50 levels\", \"0-50 levels\", \"0-50 levels\", \"0-50 levels\", \"0-50 levels\", \"0-50 levels\", \"0-50 levels\", \"0-50 levels\", \"0-50 levels\", \"50-150 levels\", \"50-150 levels\", \"0-50 levels\", \"0-50 levels\", \"50-150 levels\", \"0-50 levels\", \"0-50 levels\", \"50-150 levels\", \"0-50 levels\", \"0-50 levels\", \"50-150 levels\", \"50-150 levels\", \"0-50 levels\", \"0-50 levels\", \"50-150 levels\", \"0-50 levels\", \"0-50 levels\", \"0-50 levels\", \"0-50 levels\", \"0-50 levels\", \"0-50 levels\", \"0-50 levels\", \"0-50 levels\", \"0-50 levels\", \"0-50 levels\", \"50-150 levels\", \"0-50 levels\", \"50-150 levels\", \"0-50 levels\", \"0-50 levels\", \"0-50 levels\", \"0-50 levels\", \"0-50 levels\", \"0-50 levels\", \"0-50 levels\", \"0-50 levels\", \"0-50 levels\", \"0-50 levels\", \"50-150 levels\", \"0-50 levels\", \"50-150 levels\", \"0-50 levels\", \"50-150 levels\", \"0-50 levels\", \"0-50 levels\", \"0-50 levels\", \"50-150 levels\", \"0-50 levels\", \"0-50 levels\", \"50-150 levels\", \"0-50 levels\", \"0-50 levels\", \"50-150 levels\", \"0-50 levels\", \"0-50 levels\", \"0-50 levels\", \"0-50 levels\", \"0-50 levels\", \"0-50 levels\", \"0-50 levels\", \"0-50 levels\", \"0-50 levels\", \"0-50 levels\", \"0-50 levels\", \"0-50 levels\", \"0-50 levels\", \"0-50 levels\", \"0-50 levels\", \"50-150 levels\", \"0-50 levels\", \"0-50 levels\", \"0-50 levels\", \"0-50 levels\", \"0-50 levels\", \"50-150 levels\", \"250-400 levels\", \"50-150 levels\", \"0-50 levels\", \"50-150 levels\", \"0-50 levels\", \"0-50 levels\", \"0-50 levels\", \"50-150 levels\", \"0-50 levels\", \"50-150 levels\", \"0-50 levels\", \"0-50 levels\", \"0-50 levels\", \"0-50 levels\", \"0-50 levels\", \"0-50 levels\", \"0-50 levels\", \"0-50 levels\", \"0-50 levels\", \"0-50 levels\", \"0-50 levels\", \"50-150 levels\", \"0-50 levels\", \"0-50 levels\", \"50-150 levels\", \"0-50 levels\", \"0-50 levels\", \"0-50 levels\", \"0-50 levels\", \"0-50 levels\", \"0-50 levels\", \"0-50 levels\", \"0-50 levels\", \"0-50 levels\", \"0-50 levels\", \"0-50 levels\", \"0-50 levels\", \"50-150 levels\", \"0-50 levels\", \"0-50 levels\", \"50-150 levels\", \"50-150 levels\", \"0-50 levels\", \"50-150 levels\", \"0-50 levels\", \"0-50 levels\", \"0-50 levels\", \"0-50 levels\", \"50-150 levels\", \"50-150 levels\", \"0-50 levels\", \"250-400 levels\", \"0-50 levels\", \"50-150 levels\", \"0-50 levels\", \"0-50 levels\", \"0-50 levels\", \"0-50 levels\", \"50-150 levels\", \"0-50 levels\", \"50-150 levels\", \"150-250 levels\", \"0-50 levels\", \"0-50 levels\", \"0-50 levels\", \"0-50 levels\", \"0-50 levels\", \"0-50 levels\", \"0-50 levels\", \"0-50 levels\", \"0-50 levels\", \"0-50 levels\", \"0-50 levels\", \"0-50 levels\", \"0-50 levels\", \"0-50 levels\", \"0-50 levels\", \"0-50 levels\", \"0-50 levels\", \"50-150 levels\", \"50-150 levels\", \"0-50 levels\", \"0-50 levels\", \"50-150 levels\", \"0-50 levels\", \"50-150 levels\", \"0-50 levels\", \"0-50 levels\", \"0-50 levels\", \"0-50 levels\", \"250-400 levels\", \"0-50 levels\", \"0-50 levels\", \"0-50 levels\", \"0-50 levels\", \"0-50 levels\", \"0-50 levels\", \"0-50 levels\", \"50-150 levels\", \"0-50 levels\", \"150-250 levels\", \"50-150 levels\", \"0-50 levels\", \"0-50 levels\", \"0-50 levels\", \"0-50 levels\", \"0-50 levels\", \"0-50 levels\", \"0-50 levels\", \"0-50 levels\", \"0-50 levels\", \"0-50 levels\", \"0-50 levels\", \"50-150 levels\", \"0-50 levels\", \"50-150 levels\", \"50-150 levels\", \"50-150 levels\", \"0-50 levels\", \"50-150 levels\", \"50-150 levels\", \"0-50 levels\", \"0-50 levels\", \"150-250 levels\", \"0-50 levels\", \"0-50 levels\", \"0-50 levels\", \"0-50 levels\", \"50-150 levels\", \"0-50 levels\", \"0-50 levels\", \"50-150 levels\", \"0-50 levels\", \"0-50 levels\", \"150-250 levels\", \"0-50 levels\", \"0-50 levels\", \"0-50 levels\", \"0-50 levels\", \"0-50 levels\", \"0-50 levels\", \"50-150 levels\", \"0-50 levels\", \"0-50 levels\", \"0-50 levels\", \"0-50 levels\", \"50-150 levels\", \"0-50 levels\", \"50-150 levels\", \"0-50 levels\", \"0-50 levels\", \"0-50 levels\", \"0-50 levels\", \"0-50 levels\", \"0-50 levels\", \"50-150 levels\", \"0-50 levels\", \"0-50 levels\", \"0-50 levels\", \"0-50 levels\", \"50-150 levels\", \"0-50 levels\", \"0-50 levels\", \"0-50 levels\", \"0-50 levels\", \"150-250 levels\", \"0-50 levels\", \"0-50 levels\", \"50-150 levels\", \"150-250 levels\", \"0-50 levels\", \"50-150 levels\", \"0-50 levels\", \"0-50 levels\", \"250-400 levels\", \"0-50 levels\", \"0-50 levels\", \"0-50 levels\", \"0-50 levels\", \"0-50 levels\", \"0-50 levels\", \"50-150 levels\", \"0-50 levels\", \"0-50 levels\", \"0-50 levels\", \"0-50 levels\", \"0-50 levels\", \"0-50 levels\", \"0-50 levels\", \"50-150 levels\", \"0-50 levels\", \"50-150 levels\", \"50-150 levels\", \"0-50 levels\", \"0-50 levels\", \"50-150 levels\", \"50-150 levels\", \"0-50 levels\", \"150-250 levels\", \"0-50 levels\", \"0-50 levels\", \"0-50 levels\", \"0-50 levels\", \"50-150 levels\", \"0-50 levels\", \"0-50 levels\", \"0-50 levels\", \"0-50 levels\", \"0-50 levels\", \"0-50 levels\", \"50-150 levels\", \"0-50 levels\", \"0-50 levels\", \"+400 levels\", \"0-50 levels\", \"0-50 levels\", \"0-50 levels\", \"0-50 levels\", \"0-50 levels\", \"0-50 levels\", \"0-50 levels\", \"0-50 levels\", \"0-50 levels\", \"0-50 levels\", \"50-150 levels\", \"0-50 levels\", \"0-50 levels\", \"0-50 levels\", \"0-50 levels\", \"0-50 levels\", \"0-50 levels\", \"0-50 levels\", \"0-50 levels\", \"0-50 levels\", \"0-50 levels\", \"0-50 levels\", \"0-50 levels\", \"0-50 levels\", \"50-150 levels\", \"0-50 levels\", \"0-50 levels\", \"0-50 levels\", \"0-50 levels\", \"0-50 levels\", \"0-50 levels\", \"50-150 levels\", \"0-50 levels\", \"0-50 levels\", \"0-50 levels\", \"0-50 levels\", \"0-50 levels\", \"0-50 levels\", \"0-50 levels\", \"0-50 levels\", \"0-50 levels\", \"0-50 levels\", \"0-50 levels\", \"0-50 levels\", \"0-50 levels\", \"50-150 levels\", \"0-50 levels\", \"0-50 levels\", \"0-50 levels\", \"0-50 levels\", \"0-50 levels\", \"50-150 levels\", \"0-50 levels\", \"0-50 levels\", \"50-150 levels\", \"0-50 levels\", \"0-50 levels\", \"0-50 levels\", \"0-50 levels\", \"150-250 levels\", \"50-150 levels\", \"0-50 levels\", \"50-150 levels\", \"0-50 levels\", \"0-50 levels\", \"0-50 levels\", \"0-50 levels\", \"0-50 levels\", \"0-50 levels\", \"50-150 levels\", \"0-50 levels\", \"0-50 levels\", \"0-50 levels\", \"0-50 levels\", \"0-50 levels\", \"50-150 levels\", \"0-50 levels\", \"0-50 levels\", \"50-150 levels\", \"0-50 levels\", \"50-150 levels\", \"0-50 levels\", \"0-50 levels\", \"0-50 levels\", \"0-50 levels\", \"50-150 levels\", \"0-50 levels\", \"50-150 levels\", \"50-150 levels\", \"0-50 levels\", \"0-50 levels\", \"0-50 levels\", \"0-50 levels\", \"50-150 levels\", \"50-150 levels\", \"50-150 levels\", \"0-50 levels\", \"50-150 levels\", \"0-50 levels\", \"0-50 levels\", \"50-150 levels\", \"0-50 levels\", \"0-50 levels\", \"0-50 levels\", \"0-50 levels\", \"0-50 levels\"], \"y\": [0.1024582910025848, 0.15236205234508746, 0.3707252583835979, 1.5401265271630347, 0.11801374502396819, 1.496972389783453, 0.14029078291165983, 0.4636907331617384, 0.04272226718841263, 0.0, 2.1276805809162243, 1.3725683181561172, 4.487709862827499, 0.4780656167530707, 0.27704980593942335, 0.8759270598863773, 0.09333947971571521, 1.459649759996742, 0.07295480439296735, 0.11350174830175636, 0.07488639048208535, 0.023804079751583433, 0.29302698997135984, 0.6275016538252476, 4.493290915852733, 0.08727756394626682, 0.0037488940273553454, 0.42303579306655037, 0.10331467231162532, 0.015670102036328758, 0.6750921281293525, 0.46557693791950217, 0.0207078113994231, 0.02248658877838459, 0.025515342455016462, 0.8980565906519108, 1.1984502831173274, 0.5870259727973116, 0.22194824803468044, 0.20112430876394075, 0.8012956302275541, 0.25571922501799327, 0.5282275840676396, 0.4178982915623862, 0.014285848788003591, 0.17369045301732658, 0.06686980183322193, 0.01139515760366789, 0.4862639040423728, 0.1319578419389692, 0.04853115302712581, 0.34242514062888796, 0.019960822223379818, 0.0059578814877063735, 0.29588034984595935, 0.43955189440027903, 0.046164334098736236, 0.08681893393706364, 1.8988925752114443, 0.09379399246593745, 0.17902548011393332, 0.23514487578165538, 0.4279825378350198, 0.3913007870836299, 0.11492372143589019, 0.07072116193475694, 0.030566062155653932, 0.0, 0.2915910171696101, 1.5905265114255318, 0.9901516410840266, 0.2846252029183487, 0.735573016639258, 0.0050439924980354165, 0.10477319227312344, 0.8216836417913139, 0.10140745783499625, 0.05020324886015291, 0.0808226534996511, 0.17471535123767987, 0.3980895465100501, 0.0, 0.27971655709156196, 0.2711307037436793, 0.12673477978782843, 3.117598039484719, 0.19768593163050077, 0.1080248184615624, 3.793504176616742, 0.058425001058488205, 0.19630870840899442, 0.0, 0.030013067136065996, 0.016874360272465642, 0.4276241490724022, 0.20948327326251304, 1.4541269195475226, 0.55239398031627, 2.6939663718687608, 0.14736437255229107, 0.044664308370111844, 0.5669829420193613, 0.13726668107513532, 0.03764553974857015, 0.30434841527234224, 3.1541549102109685, 0.5506444928323867, 0.38454679073899617, 0.0060413574794116786, 0.13848582200643283, 0.20166544763423544, 1.5870950045180459, 0.631207982679984, 0.19765607014689676, 0.09807382819517498, 0.2253076875708643, 0.035465292027605615, 0.0, 0.0, 0.06903350989076938, 0.045670846900846135, 0.06939235110385218, 0.052593491044780706, 1.0393283718383202, 0.13080439412234618, 0.30638688840558376, 0.6184382733395081, 0.13617413243842114, 0.7867407353615294, 0.4993703631433688, 0.0043482693948581185, 0.0, 0.0, 1.7792191326942444, 1.7040406092916554, 0.41362298739112247, 0.7004666282992251, 1.451455774776113, 0.043342999673782974, 0.033646968840201165, 0.1119058320914562, 0.02133054007782122, 0.09496166608105315, 0.029722346932220946, 1.9979154796847405, 0.3649089867989673, 0.7481246691551222, 0.23754955998719532, 0.752163331903535, 0.0386094473220369, 0.18800247532997202, 0.0, 0.0464624194792682, 0.8066298946186583, 0.0, 0.18073093591075798, 0.5583885431630282, 0.0, 0.2693295325127376, 0.0166367558465755, 6.281735097656911, 0.2758649108798416, 1.072597511506177, 1.6835973827155966, 0.18486608184803577, 0.11388104528623626, 0.26805980330443346, 0.024514705495214367, 1.8499759755958933, 0.005754861816141783, 0.6047595654344361, 0.11253998627544078, 0.005211057456640526, 0.1960989459588036, 0.0023382212667141535, 0.46908005932391256, 0.2869286969041562, 0.23787095207530048, 0.7423128996292461, 0.03977213708567246, 0.005324883325070491, 0.015945688528255852, 0.05536777023720605, 0.0, 0.0, 1.0241698800784873, 0.6236982882637969, 1.407862706728943, 2.407472465526083, 0.638214291502532, 0.09537846076308082, 0.3115908243641384, 0.09842234978982842, 0.15165085481420743, 0.13487497228138218, 0.0, 0.009275502180237942, 0.018262731458404097, 0.4861045302114736, 0.23444342896659923, 0.21838960924996234, 0.6105203924396801, 0.31334628698635686, 0.0, 1.446993543890135, 0.37017203375646546, 0.03854722898126699, 0.07508622347885197, 0.04426166451794974, 0.8352539878809283, 3.2179994741379225, 0.3310429048265053, 0.019332763178365714, 1.1760508144556907, 1.048972801000137, 0.22230960927125698, 0.4774027409356087, 0.006952371757657836, 0.12205524711892782, 0.346307324013093, 0.1332429959581734, 1.714180821751973, 0.0045352591731348, 0.9550235133443865, 0.11020795650125063, 0.1197607133181636, 0.03137428769310245, 0.4299554691104756, 0.16300986920501534, 0.07444718149315639, 0.3484436338266095, 0.7530891085272068, 2.14583155591654, 0.006522304950468916, 0.0, 0.046783715288839865, 0.22196090122106685, 9.287032147048418, 0.05693325066961665, 0.5334467434569006, 0.8210949682908809, 1.3512523416808788, 0.06614071909626959, 0.20004027254928305, 0.11686093787690721, 0.22079096521968908, 7.021948635250686, 0.0, 0.0, 0.38108714411123623, 0.5053630625284061, 0.1972463433791129, 0.21852238321196615, 0.16444434224070817, 0.39581111486034587, 4.4560444310507235, 0.4658912695422621, 2.939301712686158, 2.500842792465003, 0.012819044476719678, 0.0, 0.053629968052660154, 0.05944469386444189, 0.6760038339660233, 0.2712890266538095, 0.2112635085960643, 0.011884928701888234, 15.242073571001553, 0.04309278059990409, 0.06977732775517898, 0.4048672757789462, 0.008640511823947108, 0.9678801265091886, 0.06621663734441893, 0.023388105371221823, 0.561913262269305, 0.6367145060272077, 0.07944390364015762, 0.005352965711380688, 1.4806628900715235, 0.025234830509502138, 0.04359590951202312, 0.04078091432618237, 0.04147632409906175, 0.0811084235117236, 0.0, 5.055508276604962, 0.0994408852667234, 1.9975232217513874, 0.41819397652879414, 0.4800344550738826, 0.039821022264933795, 0.17049312617427306, 0.006878891433725529, 0.6518657301393661, 0.3342703147428589, 0.0, 0.04921518411140655, 5.877641421011779, 0.01831693562821398, 0.07569957079102958, 0.07579772421523684, 0.0, 0.05325037282722427, 0.47991283892275777, 0.0, 0.4235562433428582, 0.11577177743220463, 0.9949298245837718, 5.1452609660652255, 0.9107342608206438, 0.11447349468428626, 0.9726118998053613, 0.06951751817483241, 0.6282803985814431, 0.001233184674887525, 0.20614801416566253, 0.25792602278447907, 0.16802618380536433, 0.39201778808551574, 0.0, 0.05632417936546263, 0.3939637552157423, 0.0, 2.602067091535345, 0.17231796534396912, 0.3415235936012846, 0.0, 0.2479359694515516, 0.05721223038864838, 0.7850979089816065, 0.17277290398230052, 0.004387628570172052, 0.0, 0.5178483873604594, 0.22685038736166654, 0.007868529663038897, 0.22451987408678087, 0.0, 0.00228280673266412, 0.37421232754371075, 0.602090230717945, 0.1392579014221064, 0.00601256897155068, 0.14311814655731744, 0.08954568458103215, 0.0, 0.0, 0.07745746785816744, 0.9750733188982594, 0.05686001450366446, 0.2553782684717049, 0.37290120127943954, 0.06774138037497074, 0.3639541181737449, 0.003085673233317436, 0.6675252928389634, 0.2319214923158384, 0.014259681692821314, 0.1860079846002666, 0.0, 2.5965372157720408, 0.37555976188919993, 0.02383791178440762, 0.7175928412385272, 0.002492379158679301, 0.9981592874196866, 0.04637164431638638, 0.15467221480701593, 0.03491491811978163, 0.006284272579375993, 0.334371542093384, 1.0248003049936583, 0.003917525509082189, 0.0, 0.005843173499920675, 0.023926490642594018, 1.3268757275322145, 0.07416913701612271, 0.12337989484231598, 0.38875208074050027, 0.06107856741551268, 0.15357158815185531, 0.028523854529563103, 2.6218437203785774, 0.04084605589502268, 4.547209333357447, 3.3068570010296723, 0.08946482559895526, 0.04620513263640566, 0.4327204986006085, 0.14199068127466338, 0.0, 0.6191196834728224, 0.32650425489250173, 0.6137897874565674, 0.19615173147623502, 8.96536840931013, 0.0, 0.05513064034070319, 1.143200273641264, 0.15284910650353853, 0.0, 0.053427343005101074, 0.04630472466940852, 0.12897627984109858, 0.2602997265456192, 0.09620469147185053, 0.39147450838074144, 1.4398451995573167, 0.04611708765706242, 0.2934116816046104, 0.019795134846178997, 0.9433566102098602, 8.324079340953045, 0.07455035562701727, 0.0, 0.0961183342813105, 0.040425082496359954, 0.4250592707836854, 1.0004687024057342, 0.20116663753595962, 0.06805301368083551, 0.3197272137204014, 0.05072554179618766, 0.0874289696996053, 1.260256471117689, 0.07478239227434953, 0.584549718120025, 0.6192052392434623, 0.7845686625683211, 0.035257729581739713, 0.5255801061780186, 2.4327513407342973, 0.0, 1.8856071083563846, 2.7467217167608204, 0.6800058652244334, 0.0, 0.03437442680777138, 0.8565134409877266, 0.2403597933823385, 0.9572801396202053, 1.0668069751205873, 0.04230662506727151, 0.22321901149238155, 0.026609085310558434, 0.2342840136460267, 0.3306847745167551, 0.0701089464626098, 0.07890123896670367, 0.08647736296038008, 0.10870904238046011, 1.779196047315733, 0.31296304085326926, 0.36764734089358947, 0.0, 0.08897271924224474, 0.019332763178365714, 0.2655347974479385, 6.072431562561649, 0.4941497108571189, 0.6217782808752117, 1.0888506925748205, 0.33935915452875526, 1.263273063016894, 0.04960444620869037, 0.13899697587534307, 0.9564263020185648, 2.1249203390254348, 3.6020894336449953, 0.0, 0.09064225377259141, 0.26146764791997495, 0.8339578665433875, 2.838893122523588, 0.3598000402003945, 0.1185785503001757, 0.1430336122314723, 0.6137930043411736, 1.57923481103715, 0.0023382212667141535, 0.0364381305599601, 0.2834903222120665, 0.2217356649562588, 0.6260459174151106, 0.6353330833673677, 0.09355353896287921, 0.5569234168172689, 0.6279523752695263, 2.32136385387727, 2.3880307978214694, 0.3376849479328014, 0.06387970895032881, 0.12537837186465292, 0.3512837676464711, 0.20339508730542685, 0.06447602308242661, 0.12264110441585016, 0.02653393217472874, 0.5569118272226061, 0.3356101152828996, 0.08719574549377013, 0.3313916931516467, 0.8335944574359289, 0.040821837124890625, 0.3457994603688171, 0.09346546356766593, 1.3599950077756444, 1.7205051018354849, 1.5472899661682846, 0.15254978771714336, 0.5225135839008542, 0.17771342657190037, 0.27307644112577584, 0.9284376906998528, 0.0, 1.2720440059760239, 0.09643064228974071, 0.8295694190099964, 0.9952321490229068, 2.825722646179649, 0.34443022717803773, 0.011304575722834847, 0.0549662761559839, 1.1582028686820207, 0.2752473056291541, 0.2919622164615167, 0.18893319950696538, 1.2695234520466228, 0.22615682050307576, 0.12540532816655217, 0.0, 0.19400061482291564, 0.22776312672889612, 0.0, 0.0373469447632159, 0.1765034082838087, 0.0, 0.0, 0.0, 0.19426092325377195, 0.0, 3.553640586700908, 1.3339395555825662, 0.12737356495048968, 0.3419733133251868, 0.8209037700991537, 0.12614677544601727, 0.099969958622565, 0.23004503505817703, 0.013757782867451059, 0.0, 0.8635718333824011, 0.04341061076982585, 0.14474370951530172, 0.3419028438928203, 0.039032987121535724, 1.1007960887244606, 0.0, 1.2422286088860357, 0.26052903735621047, 0.1330777638741719, 0.23464141372802888, 0.00847561505674313, 0.20933102230289236, 0.2305027561297826, 5.667540318721162, 0.13334150686357196, 0.43987827329375595, 0.2696447698434236, 0.1591869918289992, 0.040590533187638514, 0.3820958875378727, 0.3762572223410802, 0.25487847417872084, 0.015825869994389907, 0.05344971910530367, 0.030364560297202324, 0.7234600554763948, 0.43011561296459316, 0.007118502817114137, 0.3537527774322166, 0.0927257287120503, 0.12015296155709966, 0.44141798322518694, 0.2054407145160011, 0.3388213351582068, 0.036418547601478835, 0.11154180232639661, 0.2762727664212315, 0.11279914911199117, 1.2625738150003862, 0.05467863322782468, 0.0, 0.20627934239724013, 0.07216629622606062, 0.10337913517417001, 0.518604279102643, 1.8385268022091135, 1.010186241722932, 0.42760699282737696, 1.3432943589430044, 0.04977070982005839, 0.8742702914470007, 0.1396344885069978, 1.6219790899252227, 0.04141991958179357, 0.2662306967023975, 0.021383207757889357, 0.7644450408924114, 0.10290326076758839, 0.7482061481464278, 0.0697303270521894, 0.021338474310465358, 7.981726809888878, 0.21653088399147635, 0.06136294117462185, 0.23708081787457427, 2.799274869339988, 8.114214107104758, 0.0, 0.13819169213394866, 3.65263892109763, 0.2780324623135768, 1.6916981829939988, 0.19585778960040817, 0.20158437793229902, 0.7118648832800607, 0.11267347733971352, 0.3025858162170507, 0.006253264530002185, 0.3540518577794501, 0.03274831685721635, 0.2412174108479935, 0.0, 0.003134020407265751, 0.8188072215023653, 0.0, 0.010609777323453808, 0.027128502405938094, 0.8586373759480157, 0.3792622929938616, 0.12112869045490127, 0.09383764228209732, 30.707589388949422, 0.16956893282202973, 0.03693153019701311, 0.10232430448322428, 0.13562347163781036, 0.010671356925978585, 0.11297219359578675, 0.3802651178465758, 0.1339696088703896, 0.9369631294762694, 1.5047268122045958, 0.7062764103342232, 0.0, 0.25577587370786553, 0.04843916116286851, 0.010238313871648788, 0.21802334645357102, 0.0, 0.5994550199257264, 0.0, 0.0005217923273829742, 1.5378363906546069, 0.2618555424764796, 0.10828953875635704, 0.06481636394277619, 0.22187656793064317, 0.2163044944175976, 4.239495867202794, 0.084973548777967, 0.11221282036072945, 0.05981088218539378, 0.01054271688050124, 0.0, 0.08442475244458342, 0.03342812669427223, 0.1790880279345368, 0.4903839441888796, 0.7305816258821506, 0.1497419749191082, 0.36630386282573557, 0.05292111172854437, 0.12166501022939906, 0.871565578645088, 0.0, 0.4115734455173402, 0.36321515577901625, 0.00884184471351069, 0.0, 0.0, 0.0, 0.11672038236462154, 0.09614296117374939, 0.9427137939345543, 0.24637619859159626, 0.02575251106148633, 0.01691513811775861, 5.240081181276647, 0.7726005866754396, 0.056616961859865395, 0.6988931265393453, 0.024898255608501303, 0.051074613960097125, 0.08445039290593985, 0.2548799665625838, 0.19141600491691035, 0.0, 1.5956677959833923, 0.028816876643448886, 0.2468341766468095, 0.2351357291538557, 0.445431790820575, 0.02192645986643621, 0.004387628570172052, 1.5032365862225967, 0.10764636523859285, 0.010422114913281051, 1.1098455840137418, 0.6581751165713726, 0.04856764462078026, 0.004450677069070181, 0.009605472530547183, 1.441818648087416, 0.34352027957289843, 0.544350713204835, 1.1730922804031954, 0.005908891454556484, 0.394391977874804, 0.15209862969156226, 0.8325876980146737, 0.017180488505232985, 0.6109145166216122, 0.107765579906041, 0.2927640748667209, 0.115396091995808, 0.22184280965085088, 1.1725061236199232, 1.2875356438871002, 0.5496517672697271, 1.8561499483495076, 0.7913395015615776, 0.36430118124930694, 0.4462189033649205, 0.24274813511732213, 0.0687435754644166, 0.0009235393834285995, 0.0, 0.1721245807287806, 1.4968080610214158, 0.031524854603333576, 0.042738648553371505, 1.4630617370472476, 2.831285722228611, 0.03329814093481491, 0.01445300742072786, 0.12484104247540515, 0.06700743129831084, 0.1597838741204027, 0.5015933329964337, 0.15043982697765165, 0.06277730754872801, 0.41841221942812046, 0.08942634767065621, 0.0, 0.06498351121461633, 0.10043346960466482, 0.025126704185440253, 0.06883302699269563, 0.28367376055735355, 0.4960019411107908, 0.0, 0.04171528825504409, 0.003986422132063963, 0.0, 0.3831455483078606, 0.08353249130573799, 0.38864643993072506, 1.4408939334591133, 0.3064397274522176, 0.20818351918563774, 0.19404671910116614, 0.0988339380908969, 0.08125903707884027, 0.16156386951656512, 0.0, 0.3651670405622987, 0.01910979341307149, 0.030115439980548196, 0.0, 0.11018177947257979, 0.3130603760655939, 0.0, 0.02976514166983919, 0.3510852207775644, 0.2756802728612851, 2.2008764735726647, 0.013789689791969305, 0.9586337496299301, 0.34903279431376866, 0.06494628527380769, 0.3422366240784056, 0.3216921229033172, 0.061921778019982235, 28.6394225007366, 1.838389691530516, 0.5044780134599167, 0.04449597385725834, 0.04024789277086496, 1.0921582824819664, 0.10842834838037789, 0.21264833941927314, 0.08998565873003865, 0.007752263363281585, 0.12784557513653408, 1.603331831363272, 1.6608838716154724, 0.025703891871076766, 0.24363014118362217, 0.06901727585949019, 0.5413490009029361, 0.03204796528483219, 0.0, 1.0216405267563378, 0.020840438058944723, 0.054219458920060304, 0.009693740303478594, 4.600353019687268, 0.7164323920365634, 1.0967189773384265, 0.7247887229696647, 0.2376054931727429, 0.0, 0.0, 1.7211049575212158, 0.0646014869752638, 0.21116061073650597, 0.0, 0.35832342800209566, 0.29257612936613914, 0.04819006922681204, 1.141838662800581, 0.007500650693039254, 0.5187655595961602, 0.20798292543103292, 0.18466665570735283, 0.37829091531825015, 0.24161907753236891, 0.819412399399063, 0.13549430546236624, 4.764488288490455, 0.8887661493764595, 0.5634324352224753, 0.16850732546550834, 0.001250653789593726, 0.0, 0.04585598700292633, 0.12089909889938233, 0.2676022015142837, 0.4582583981118575, 0.2618236290651499, 0.28779973037356626, 0.29989547350981055, 0.05282578378522457, 0.3085557623188611, 0.17763187760728677, 0.0, 0.0011691106333570765, 0.848790343693733, 0.0008598614292156914, 0.0, 0.8999091394876327, 0.025657893859171447, 0.24211879571805298, 0.011173312797389118, 0.09723963352703473, 3.604158208808483, 10.53225254309561, 1.4819614751615355, 0.28041312534308016, 0.33467088865097044, 0.024873106110233398, 0.18854826242182154, 0.32887455464209425, 0.36308177786350765, 0.13755318682885492, 0.06798838603836904, 1.0496997601760438, 6.99834573166154, 0.2817882632789278, 0.21602833024281867, 0.21676868567731622, 0.23171101074281342, 0.006878891433725529, 1.8581563050806198, 0.11025959959913845, 0.48364080914153795, 0.1514026929386382, 0.06580580985687694, 0.016228215847833877, 1.7295706017719235, 0.14404304704076848, 0.3549764950562946, 0.5573881349294227, 6.30794876556667, 0.09055152740621686, 0.382723672999911, 0.7330806510578918, 0.08254941913845511, 0.0, 0.8822722817815607, 0.10257436151479128, 0.3863863163657257, 0.15464735025862114, 0.016637999087575538, 1.2755689881653143, 0.3383044681280894, 2.9833534707735434, 0.044716074101899206, 0.3388706143243285, 0.38345232462932244, 0.16475719236879863, 0.3799101877611911, 0.08924469585837219, 0.0032508047868439294, 1.320566231685622, 0.21890300582562797, 0.07166708084548362, 0.9698291869310558, 0.08017146548952699, 0.09489473986811091, 0.17409364186591453, 0.18521423745791937, 0.16323051945565886, 0.009888217566200315, 0.18355864657262824, 0.5630953188444575, 0.7202738601673051, 0.2824020877277964, 0.05721223038864838, 0.8463882013807901, 2.149735835221379, 0.5831478137510354, 0.4622789714803051, 0.6214165657033951, 0.03261152475234458, 0.13118782268835846, 0.4092386723720324, 0.31656959648372135, 0.26249507463811744, 1.8336924633496081, 0.11162398478760378, 0.04539688654071929, 0.02802819853596672, 0.10231743926496996, 4.337786895714795, 0.6305900380488528, 0.16406215228566076, 3.5780528590941847, 0.17201766715481365, 0.11231575573237863, 5.346897064197292, 0.1084654721592123, 0.039979532550918184, 0.2308383820389833, 0.41655780455380464, 0.6185056681560309, 0.0016476429489304578, 0.6392102205562601, 0.08050092849387884, 0.16103282134535213, 0.15197856694329628, 0.13507195970162772, 6.24460423513119, 0.06342635970264916, 0.3542679481949964, 0.21410650268739007, 0.18242307760565923, 0.046619262323670016, 0.39212341867713957, 0.16690266971022372, 0.1577992956212608, 0.23695032687205783, 0.0, 1.3867724772333407, 0.0, 0.021995983639550753, 3.324408820003533, 0.11954933035898546, 0.0, 0.37595256805479765, 0.1167945800410119, 1.3902106821840028, 0.31104141129830354, 0.45147925687905877, 3.2797157542099784, 1.5916371302188965, 0.1158631762313322, 0.006715073571303247, 0.00626150792859569, 0.02448735332746969, 0.5468080298632804, 0.009745096197777836, 0.8882799159245739, 0.28821719704350884, 0.12910171334124512, 0.15270954353099356, 4.2988097080694025, 2.6080603423184896, 0.14791889131073063, 0.1336126438122373, 0.07153517690349875, 0.0029731698124193288, 0.2574066113999488, 0.20415489732984027, 0.0, 0.8401222504509606, 0.17217868816323284, 0.1607387320645718, 29.637059654175808, 0.0, 0.20156988191252642, 1.1472655817081836, 1.4716038887768583, 0.23052716381562127, 1.0663084944792294, 0.34785084453289844, 0.06851122170867362, 0.0, 0.018655060910716233, 0.7308299921926713, 0.4373129179278724, 0.0, 0.1530606944779767, 0.1704976465124022, 0.28260928753711256, 0.5522582855710843, 0.4879075569919794, 0.1365092467251142, 0.009490641783553834, 0.025983109386033702, 0.17536131318647308, 0.030617263933508096, 0.11430217599759138, 0.19288999498523415, 0.08617630074234166, 0.21525029978584942, 0.3729477164353063, 0.021838254372028687, 0.0, 0.6134416432972422, 1.8911294997126828, 0.2171545603589218, 0.05625880889705292, 0.238329081457937, 0.0172403169673881, 4.214345178870733, 0.10342969931848914, 1.3338330281253463, 1.322102427130403, 0.607407574807543, 0.9730282785132559, 2.2447839269181538, 0.3174757366843708, 0.2592850091257169, 1.4069781551407916, 0.0, 0.17135157301918646, 1.0168423942567906, 0.06392301523348391, 0.0, 0.010856027309744281, 2.424614910634793, 0.01878452378578707, 1.6194128032751387, 0.026554367406988657, 0.6708527329377483, 0.2911638060560587, 0.47054801554197123, 0.12305675350150944, 0.016826057615441477, 0.3380547090728976, 0.10226384134799474, 0.009935503044109771, 0.4069700156540892, 0.05203650757193848, 1.1397626355090875, 8.533861099255693, 0.47078070296649827, 0.4982244106826359, 0.49913350101200366, 0.07763832096874097, 0.30541787181161484, 0.0032797333332395327, 0.06611724329190666, 0.9446408310376476, 1.0019834462733839, 0.17717595352577784, 0.08998866577758238, 0.05573189271012356, 2.0928594758165, 0.33794551275832935, 0.21866391330383908, 0.19946237820357693, 0.40478115076412713, 2.9671218649326994, 0.06517082417228906, 0.12196760055881915, 0.1328809291668687, 0.4628495995712506, 0.12721846189971744, 0.025503404948677238, 0.12728099179668775, 0.6897108608851822, 0.3886354167972504, 0.012216506203895168, 18.973735768611775, 0.6212997620631833, 1.382463003712003, 1.567140239658748, 0.1116454482123071, 1.551239548657974, 0.24309210631632258, 0.004468090550853059, 0.07611327308849676, 0.2427536509231515, 0.32725620028810065, 0.18970687371180595, 0.6743565196883832, 0.7679679489074542, 0.08852052794135652, 0.27398262062025347, 0.21860689446133647, 0.1340761044285908, 0.7821246965965853, 1.725559288664323, 1.5534202863079163, 0.009791489551954398, 0.8203906387642017, 0.016945288888404252, 0.006165923374437626, 0.12663007214427027, 0.003477699239232163, 1.5614673076599808, 0.0005803227675145646, 0.33091441487531503, 0.10118996650404313]}, {\"marker\": {\"color\": \"#FF4136\"}, \"name\": \"Orta derece gun\", \"type\": \"box\", \"x\": [\"50-150 levels\", \"50-150 levels\", \"50-150 levels\", \"50-150 levels\", \"0-50 levels\", \"150-250 levels\", \"50-150 levels\", \"0-50 levels\", \"50-150 levels\", \"50-150 levels\", \"50-150 levels\", \"50-150 levels\", \"50-150 levels\", \"50-150 levels\", \"50-150 levels\", \"50-150 levels\", \"0-50 levels\", \"50-150 levels\", \"150-250 levels\", \"50-150 levels\", \"+400 levels\", \"50-150 levels\", \"50-150 levels\", \"50-150 levels\", \"50-150 levels\", \"50-150 levels\", \"50-150 levels\", \"50-150 levels\", \"150-250 levels\", \"0-50 levels\", \"50-150 levels\", \"50-150 levels\", \"50-150 levels\", \"50-150 levels\", \"50-150 levels\", \"250-400 levels\", \"+400 levels\", \"50-150 levels\", \"50-150 levels\", \"250-400 levels\", \"250-400 levels\", \"150-250 levels\", \"0-50 levels\", \"50-150 levels\", \"150-250 levels\", \"250-400 levels\", \"150-250 levels\", \"0-50 levels\", \"+400 levels\", \"50-150 levels\", \"50-150 levels\", \"150-250 levels\", \"150-250 levels\", \"50-150 levels\", \"0-50 levels\", \"50-150 levels\", \"+400 levels\", \"150-250 levels\", \"50-150 levels\", \"50-150 levels\", \"50-150 levels\", \"150-250 levels\", \"150-250 levels\", \"+400 levels\", \"0-50 levels\", \"50-150 levels\", \"50-150 levels\", \"0-50 levels\", \"+400 levels\", \"50-150 levels\", \"50-150 levels\", \"150-250 levels\", \"250-400 levels\", \"150-250 levels\", \"50-150 levels\", \"50-150 levels\", \"50-150 levels\", \"50-150 levels\", \"150-250 levels\", \"50-150 levels\", \"50-150 levels\", \"50-150 levels\", \"50-150 levels\", \"50-150 levels\", \"+400 levels\", \"50-150 levels\", \"0-50 levels\", \"150-250 levels\", \"50-150 levels\", \"0-50 levels\", \"0-50 levels\", \"150-250 levels\", \"50-150 levels\", \"50-150 levels\", \"50-150 levels\", \"0-50 levels\", \"50-150 levels\", \"0-50 levels\", \"50-150 levels\", \"50-150 levels\", \"50-150 levels\", \"50-150 levels\", \"50-150 levels\", \"250-400 levels\", \"150-250 levels\", \"50-150 levels\", \"+400 levels\", \"50-150 levels\", \"+400 levels\", \"50-150 levels\", \"50-150 levels\", \"+400 levels\", \"50-150 levels\", \"0-50 levels\", \"50-150 levels\", \"50-150 levels\", \"50-150 levels\", \"150-250 levels\", \"50-150 levels\", \"50-150 levels\", \"50-150 levels\", \"+400 levels\", \"50-150 levels\", \"50-150 levels\", \"+400 levels\", \"50-150 levels\", \"50-150 levels\", \"0-50 levels\", \"50-150 levels\", \"50-150 levels\", \"50-150 levels\", \"50-150 levels\", \"150-250 levels\", \"250-400 levels\", \"150-250 levels\", \"50-150 levels\", \"50-150 levels\", \"150-250 levels\", \"50-150 levels\", \"50-150 levels\", \"50-150 levels\", \"50-150 levels\", \"+400 levels\", \"0-50 levels\", \"250-400 levels\", \"250-400 levels\", \"0-50 levels\", \"50-150 levels\", \"+400 levels\", \"50-150 levels\", \"50-150 levels\", \"50-150 levels\", \"50-150 levels\", \"+400 levels\", \"+400 levels\", \"0-50 levels\", \"0-50 levels\", \"0-50 levels\", \"0-50 levels\", \"+400 levels\", \"50-150 levels\", \"50-150 levels\", \"150-250 levels\", \"50-150 levels\", \"50-150 levels\", \"50-150 levels\", \"+400 levels\", \"0-50 levels\", \"50-150 levels\", \"50-150 levels\", \"150-250 levels\", \"50-150 levels\", \"+400 levels\", \"150-250 levels\", \"50-150 levels\", \"0-50 levels\", \"50-150 levels\", \"50-150 levels\", \"150-250 levels\", \"150-250 levels\", \"50-150 levels\", \"50-150 levels\", \"250-400 levels\", \"250-400 levels\", \"0-50 levels\", \"0-50 levels\", \"50-150 levels\", \"0-50 levels\", \"150-250 levels\", \"250-400 levels\", \"0-50 levels\", \"150-250 levels\", \"50-150 levels\", \"50-150 levels\", \"50-150 levels\", \"250-400 levels\", \"50-150 levels\", \"50-150 levels\", \"150-250 levels\", \"50-150 levels\", \"50-150 levels\", \"50-150 levels\", \"250-400 levels\", \"50-150 levels\", \"50-150 levels\", \"150-250 levels\", \"50-150 levels\", \"50-150 levels\", \"0-50 levels\", \"0-50 levels\", \"50-150 levels\", \"+400 levels\", \"150-250 levels\", \"150-250 levels\", \"50-150 levels\", null, \"0-50 levels\", \"50-150 levels\", \"0-50 levels\", \"250-400 levels\", \"150-250 levels\", \"50-150 levels\", \"50-150 levels\", \"50-150 levels\", \"150-250 levels\", \"0-50 levels\", \"150-250 levels\", \"250-400 levels\", \"50-150 levels\", \"50-150 levels\", \"0-50 levels\", \"250-400 levels\", \"250-400 levels\", \"150-250 levels\", \"50-150 levels\", \"50-150 levels\", \"50-150 levels\", \"50-150 levels\", \"+400 levels\", \"50-150 levels\", \"50-150 levels\", \"150-250 levels\", \"150-250 levels\", \"150-250 levels\", \"0-50 levels\", \"250-400 levels\", \"50-150 levels\", \"50-150 levels\", \"50-150 levels\", \"150-250 levels\", \"50-150 levels\", \"50-150 levels\", \"150-250 levels\", \"50-150 levels\", \"150-250 levels\", \"150-250 levels\", \"150-250 levels\", \"250-400 levels\", \"50-150 levels\", \"50-150 levels\", \"50-150 levels\", \"50-150 levels\", \"50-150 levels\", \"150-250 levels\", \"50-150 levels\", null, \"0-50 levels\", \"250-400 levels\", \"+400 levels\", \"50-150 levels\", \"50-150 levels\", \"50-150 levels\", \"150-250 levels\", \"150-250 levels\", \"150-250 levels\", \"50-150 levels\", \"50-150 levels\", \"0-50 levels\", \"50-150 levels\", \"50-150 levels\", \"0-50 levels\", \"50-150 levels\", \"50-150 levels\", \"50-150 levels\", null, \"50-150 levels\", \"50-150 levels\", \"250-400 levels\", \"50-150 levels\", \"50-150 levels\", \"50-150 levels\", \"50-150 levels\", \"250-400 levels\", \"0-50 levels\", \"150-250 levels\", \"+400 levels\", \"50-150 levels\", \"50-150 levels\", \"50-150 levels\", \"50-150 levels\", \"50-150 levels\", \"150-250 levels\", \"0-50 levels\", \"50-150 levels\", \"50-150 levels\", \"50-150 levels\", \"0-50 levels\", \"150-250 levels\", \"50-150 levels\", \"50-150 levels\", \"0-50 levels\", \"150-250 levels\", \"50-150 levels\", \"0-50 levels\", \"50-150 levels\", \"50-150 levels\", \"0-50 levels\", \"0-50 levels\", \"250-400 levels\", \"150-250 levels\", \"50-150 levels\", \"250-400 levels\", \"150-250 levels\", \"150-250 levels\", \"0-50 levels\", \"50-150 levels\", \"50-150 levels\", \"0-50 levels\", \"0-50 levels\", \"250-400 levels\", \"50-150 levels\", \"50-150 levels\", \"250-400 levels\", \"0-50 levels\", \"0-50 levels\", \"+400 levels\", \"150-250 levels\", \"50-150 levels\", \"0-50 levels\", \"150-250 levels\", \"150-250 levels\", \"150-250 levels\", \"0-50 levels\", \"250-400 levels\", \"50-150 levels\", \"250-400 levels\", \"0-50 levels\", \"+400 levels\", \"50-150 levels\", \"50-150 levels\", \"50-150 levels\", \"50-150 levels\", \"50-150 levels\", \"50-150 levels\", \"250-400 levels\", \"50-150 levels\", \"0-50 levels\", \"50-150 levels\", \"50-150 levels\", \"50-150 levels\", \"+400 levels\", \"0-50 levels\", \"50-150 levels\", \"50-150 levels\", \"50-150 levels\", \"50-150 levels\", \"50-150 levels\", \"+400 levels\", \"+400 levels\", \"50-150 levels\", \"50-150 levels\", \"50-150 levels\", \"150-250 levels\", \"250-400 levels\", \"50-150 levels\", \"0-50 levels\", \"50-150 levels\", \"50-150 levels\", \"50-150 levels\", \"150-250 levels\", \"50-150 levels\", \"50-150 levels\", \"150-250 levels\", \"+400 levels\", \"50-150 levels\", \"150-250 levels\", \"50-150 levels\", \"50-150 levels\", \"0-50 levels\", \"50-150 levels\", \"50-150 levels\", \"50-150 levels\", \"250-400 levels\", \"50-150 levels\", \"0-50 levels\", \"+400 levels\", \"50-150 levels\", \"50-150 levels\", \"50-150 levels\", \"150-250 levels\", \"250-400 levels\", \"50-150 levels\", \"50-150 levels\", \"150-250 levels\", \"150-250 levels\", \"50-150 levels\", \"250-400 levels\", \"250-400 levels\", \"50-150 levels\", \"50-150 levels\", \"50-150 levels\", \"150-250 levels\", \"250-400 levels\", \"250-400 levels\", \"50-150 levels\", \"50-150 levels\", \"50-150 levels\", \"0-50 levels\", \"50-150 levels\", \"250-400 levels\", \"50-150 levels\", \"50-150 levels\", \"150-250 levels\", \"50-150 levels\", \"250-400 levels\", \"50-150 levels\", \"+400 levels\", \"50-150 levels\", \"250-400 levels\", \"250-400 levels\", \"+400 levels\", \"50-150 levels\", \"150-250 levels\", \"150-250 levels\", \"50-150 levels\", \"+400 levels\", \"50-150 levels\", \"+400 levels\", \"50-150 levels\", \"50-150 levels\", \"50-150 levels\", \"50-150 levels\"], \"y\": [1.0134713097624661, 0.974062416535581, 1.0408942310935558, 0.2599823106707648, 0.2384955132324076, 3.201476477359868, 0.6415969448611873, 0.795488311734272, 0.9330208650207058, 3.1960730701283824, 1.3878238710817516, 0.2625019536067323, 0.37971852916424165, 1.4703491882631652, 2.106933059162331, 0.500146296783921, 1.8478808619782672, 0.8613781618978171, 2.6910944744537364, 1.6046776341490507, 0.6652930960515904, 1.1221141805316284, 0.36808836708749954, 2.398164237391972, 0.8320775789313417, 0.2597974651849693, 1.1184453405872945, 1.9068800043283995, 1.835396495195734, 0.015670102036328758, 2.2331444512166763, 0.47703376136917364, 0.6399104238861083, 0.09072682152889715, 2.57576614338591, 7.340485790456691, 0.20504895025260642, 0.6870704320098086, 6.422279582562547, 4.809745996172425, 0.08941261691859508, 0.011213908969221694, 0.18383698565766082, 0.7594594697735945, 0.9539673604225936, 0.21023989351685707, 2.1930883346887633, 1.3248002919670494, 0.2860413747334662, 0.42246673296557863, 0.5385680154560233, 1.281031412554999, 2.5001081452499982, 1.9848133727029174, 0.27651566435105684, 0.928116020138658, 4.514485472373429, 2.1060115762760647, 0.6537259961290444, 1.0386294989877338, 41.97512775267607, 6.873374432425491, 0.13813751843556848, 4.166059487997323, 0.0933426627798439, 4.032886259963766, 1.0914116844900632, 0.14193874176787288, 0.5616212514080337, 6.294987766340818, 0.6384108346367044, 1.01496427862728, 5.020431145260663, 5.442778352095132, 0.39235488129367835, 0.17532440960357157, 2.863116003775748, 13.952629027204473, 1.6684931859139744, 1.2355196902182835, 1.5353597733580626, 0.3717008008294482, 0.8705032854077493, 0.327432271453762, 0.9593663310422803, 6.024172802225936, 0.9456147637747343, 0.6291847183962732, 3.9517402384916305, 1.123341473784373, 0.06620221111595462, 2.1453431523761433, 0.3081368227580898, 2.1218357517918687, 0.6640486486038601, 0.32127332556665245, 1.4254837124807103, 0.0036525462916808206, 5.436742390601405, 2.838544161946461, 6.401068340727998, 0.7836255337947683, 1.3259585975074912, 1.5185907716257467, 0.5089181852243294, 1.364257522644022, 6.162994867537866, 0.23908453728569246, 0.2602369675358506, 1.3754430806721223, 0.5147375188499953, 0.9093987689860563, 0.6428651324853482, 0.09616130982000917, 0.04480874328605722, 0.20475052013641384, 8.443191975769981, 0.8661789872912229, 4.328888017342502, 0.6272095287967787, 0.11923984507255078, 7.956468183678586, 0.36802658296788815, 11.628362083848515, 8.087544634844598, 0.9748558920870835, 3.449111144340363, 0.020686534538817393, 0.16001662401499614, 1.204451515134442, 0.409546778700009, 3.634576015580183, 9.100720062729636, 100.0, 1.8129797585581324, 3.743000156366986, 1.3967701007462616, 5.609767518062196, 1.0250119437145184, 3.4966160553422365, 0.6661767509390706, 0.5385056345757996, 3.7276403407377705, 3.5508096491183085, 8.646054309688063, 2.8201970136253296, 0.10337170324828382, 6.376371329261853, 0.3628554747466466, 0.29620889833998143, 1.7482896117232631, 0.49986540438496, 9.430265532663462, 0.09393933039066733, 1.721786578954326, 0.6454772082752381, 0.7288716181688198, 0.32990786439413805, 0.899817422094668, 5.263414502754745, 0.9912497340448225, 0.04188785035907433, 10.44075110223038, 0.8244293960898466, 0.4390481546345653, 0.40858061734209844, 0.0030139758452628245, 0.9663291157206196, 0.3318677656140576, 13.777803986693597, 2.0046985707815312, 0.5150028777981566, 0.49198833507298256, 3.294107166886943, 0.5811168688433238, 0.4340603616687824, 2.333231703203392, 2.7582352339124836, 8.768680125683176, 12.371700033221218, 0.9759138737868588, 0.49794308997124914, 2.4785208638299183, 4.525033763510299, 0.5988907688890964, 2.0880252868781883, 1.0491262672003656, 0.0034563499186567965, 4.715311272769851, 3.5641838729447013, 0.40072225915183146, 2.618200722957476, 0.7999651463319128, 1.2958725648486034, 1.3335978783437064, 3.168746206991177, 0.9067027902865532, 8.662414610078372, 10.377284970014374, 0.03091980165311331, 0.7464153733563934, 3.7623737930797896, 1.853030599174901, 3.084960059657677, 2.035016029603432, 1.2392461522282336, 1.8451603085587343, 0.6429015036698003, 0.6644391033652728, 1.6541141322818413, 0.940408505270539, 2.9267436058933223, 1.721297217710231, 2.2239117861370987, 2.6707337806184874, 0.7821586097238233, 66.47850561585525, 15.694227058396468, 1.3235952736110912, 2.794310373249102, 1.9221185297145946, 2.334467589193788, 0.6723638737478882, 1.7514182512312249, 1.4594590963682306, 1.8633022363107927, 4.296126475438274, 0.9483153866003595, 1.4489803863117305, 3.07959310127356, 0.7201753624005516, 2.960052056655235, 2.325551650698489, 13.736054937634233, 0.22086443820473028, 1.4424334662234968, 3.046029083590495, 0.33903895470559803, 3.3328434397166014, 0.6193201274641189, 3.033443427176349, 0.04212803938660352, 6.134993472539515, 0.29180131717406743, 2.874253546223954, 0.4246003597026866, 1.7740597858826483, 0.09027818635419978, 0.3004928413107596, 2.7828977931373347, 0.30338762066379416, 0.8919898118794558, 1.0039518346366347, 0.8313103182684346, 2.0955667083055864, 21.90930899299496, 3.5728986604220716, 2.5599006626588543, 0.37891376633328955, 0.5779960223760338, 2.638854422226845, 0.3504272061693743, 0.011072988995734065, 0.1931374864264829, 0.3875443847112605, 1.7264844726243842, 0.2468157839741205, 0.35830303005934455, 2.476353639103291, 1.0980460793875777, 3.237197852349628, 1.9052897213679125, 1.0618393619964819, 1.9075146060119328, 3.32165687764892, 0.1675262312163721, 0.0, 0.6168044177765298, 0.841670229139976, 0.49222702777769567, 0.5550766318974623, 0.20602684384275605, 1.5531298537749068, 5.396713795117555, 0.8362730219591236, 0.4600148504938098, 0.979023532078445, 8.733466415895489, 0.8225285313725793, 1.0466626595498503, 2.0810910413742736, 0.9804196409856861, 7.879665420118387, 0.37599135426335856, 2.2865126429203473, 0.3087336972888652, 2.638139106607846, 7.354352735743768, 0.9728375697551885, 0.7592718513669716, 0.1485592390509002, 1.673309835374159, 1.3911139576576705, 0.23211823052398844, 0.6368862428027657, 3.2843885373632316, 0.1478194959739876, 0.72557691921959, 3.923986201838225, 0.376796171907142, 0.3251353063173589, 1.262797122715451, 2.393831292716501, 0.2812774207469057, 0.9808755912287179, 0.40472088072529805, 0.17095292203841295, 0.3284492657246363, 6.454722740355633, 0.36556454324861154, 0.34848595393893367, 2.2519623046932327, 0.27671798043694484, 0.5716528935835397, 0.4400801453120932, 0.9022628455859044, 2.456994303995937, 0.24464831854607513, 1.7681749881116995, 1.2825630442283467, 1.1467530424370256, 1.423096165748521, 2.280566522738959, 0.10126518129762516, 0.4120503272751309, 12.181370524003993, 0.6591724504885079, 1.6409177950414875, 0.09892242729264504, 0.6928099284983034, 0.8340890608579506, 26.79231190525162, 2.6334817161457535, 1.996038074324264, 1.3968235429100442, 2.7661962153219175, 2.828038580801113, 4.78025583121254, 0.0, 0.8852836141341669, 1.8739602105439295, 0.7613277869438773, 1.0075203021560963, 3.4242544883264094, 4.088706900311934, 3.967869819884913, 0.010779367511115344, 1.4593341849378973, 2.111703615544531, 0.4695241947067446, 3.240939786472755, 0.264643661206223, 0.5846833756181606, 0.15680987153839404, 2.6719002897602815, 1.9864121089510578, 2.4926925471672208, 3.0942080051290395, 4.468640585060585, 3.79465640040181, 1.3632906041229154, 0.7499267964674725, 2.3033453725073905, 0.058200857093401184, 0.7620397114682483, 0.5914300036230357, 0.251619437695705, 2.6828563943059835, 5.550089623946645, 1.9292083628505554, 0.40386197051219525, 0.33694942070205114, 7.849585598479879, 4.109595899693564, 0.7032880261710089, 4.126490695370296, 1.1214942586620107, 0.19708222786152224, 0.487539245048601, 0.04974407694785185, 0.6844871927120021, 0.8165511429897222, 19.14304711109856, 0.2148532496049535, 0.29701587160715504, 2.1655122483473788, 0.5678408760993369, 1.0598795929718368, 3.374354793170902, 1.8233666030049789, 5.978565891624375, 0.25022002240677876, 0.03923508001088505, 1.2355889396530089, 2.5608179925884222, 0.98340475188275, 7.841388730813225, 2.692267454375181, 1.0224287299611667, 1.2910086693509044, 1.392268374034051, 1.2233568344915347, 11.965042678852381, 1.334883847961627, 3.5294552762980844, 4.281048119330166, 0.01945263239133056, 0.44465976915647654, 0.1571370343045558, 0.24472687037138796, 0.5341412934205794, 0.1520899496597645, 2.811370126723229, 1.0794014170802728, 8.051143302064451, 0.046443177672407604, 0.47240534576792353, 0.6216830084750057, 2.4482314030990926, 4.3569538753138985, 0.14409554306173064, 0.734051256014746, 1.3574771556957002, 0.0, 1.3068057904608394, 2.0723620040542308, 0.9375179936926832, 5.221111319128819, 0.6795127634124709, 0.42209790227858046, 2.707111222198154, 0.4761342590594949]}, {\"marker\": {\"color\": \"#1f77b4\"}, \"name\": \"Yuksek gun \", \"type\": \"box\", \"x\": [\"50-150 levels\", \"250-400 levels\", \"150-250 levels\", \"250-400 levels\", \"150-250 levels\", \"250-400 levels\", \"+400 levels\", \"250-400 levels\", \"250-400 levels\", \"150-250 levels\", \"250-400 levels\", \"50-150 levels\", \"50-150 levels\", \"250-400 levels\", \"150-250 levels\", \"+400 levels\", \"+400 levels\", \"250-400 levels\", \"+400 levels\", \"50-150 levels\", \"+400 levels\", \"50-150 levels\", \"150-250 levels\", \"150-250 levels\", \"+400 levels\", \"+400 levels\", \"50-150 levels\", \"+400 levels\", \"250-400 levels\", \"+400 levels\", \"150-250 levels\", \"0-50 levels\", \"+400 levels\", \"+400 levels\", \"250-400 levels\", \"150-250 levels\", \"250-400 levels\", \"50-150 levels\", \"250-400 levels\", \"+400 levels\", \"+400 levels\", \"50-150 levels\", \"250-400 levels\", \"50-150 levels\", \"+400 levels\", \"+400 levels\", \"+400 levels\", \"150-250 levels\", \"150-250 levels\", \"250-400 levels\", \"250-400 levels\", \"+400 levels\", \"50-150 levels\", \"250-400 levels\", \"+400 levels\", \"+400 levels\", \"50-150 levels\", \"150-250 levels\", \"+400 levels\", \"+400 levels\", \"150-250 levels\", \"50-150 levels\", \"50-150 levels\", \"250-400 levels\", \"50-150 levels\", \"+400 levels\", \"+400 levels\", \"250-400 levels\", \"250-400 levels\", \"250-400 levels\", \"150-250 levels\", \"250-400 levels\", \"150-250 levels\", \"+400 levels\", \"50-150 levels\", \"+400 levels\", \"250-400 levels\", \"150-250 levels\", \"50-150 levels\", \"150-250 levels\", \"250-400 levels\", \"+400 levels\", \"150-250 levels\", \"150-250 levels\", \"50-150 levels\", \"150-250 levels\", \"150-250 levels\", \"+400 levels\", \"50-150 levels\", \"+400 levels\", \"250-400 levels\", \"50-150 levels\", \"+400 levels\", \"150-250 levels\", \"250-400 levels\", \"50-150 levels\", \"+400 levels\", \"+400 levels\", \"250-400 levels\", \"150-250 levels\", \"250-400 levels\", null, \"+400 levels\", \"+400 levels\", \"+400 levels\", \"50-150 levels\", \"250-400 levels\", \"50-150 levels\", \"+400 levels\", \"+400 levels\", \"250-400 levels\", \"250-400 levels\", \"+400 levels\", \"+400 levels\", \"250-400 levels\", \"+400 levels\", \"50-150 levels\", \"50-150 levels\", \"250-400 levels\", \"250-400 levels\", \"150-250 levels\", \"250-400 levels\", \"250-400 levels\", \"50-150 levels\", \"250-400 levels\", \"250-400 levels\", \"+400 levels\", \"50-150 levels\", null, \"+400 levels\", \"50-150 levels\", \"+400 levels\", \"+400 levels\", \"250-400 levels\", \"+400 levels\", \"150-250 levels\", \"250-400 levels\", \"50-150 levels\", \"+400 levels\", \"150-250 levels\", \"+400 levels\", \"+400 levels\", \"150-250 levels\", \"150-250 levels\", \"250-400 levels\", \"250-400 levels\", \"+400 levels\", \"150-250 levels\", \"250-400 levels\", \"+400 levels\", \"250-400 levels\", \"+400 levels\", \"250-400 levels\", \"150-250 levels\", \"250-400 levels\", \"50-150 levels\", \"250-400 levels\", \"250-400 levels\", \"150-250 levels\", \"+400 levels\", \"+400 levels\", \"250-400 levels\", \"250-400 levels\", \"250-400 levels\", \"+400 levels\", \"+400 levels\", \"150-250 levels\", \"+400 levels\", \"50-150 levels\", \"250-400 levels\", \"150-250 levels\", \"150-250 levels\", \"150-250 levels\", \"+400 levels\", \"50-150 levels\", \"250-400 levels\"], \"y\": [0.16736607081453092, 2.40053189707933, 2.6779037347778503, 4.288249850197685, 2.869966792620278, 5.961386117283724, 4.855767077460474, 1.7349384302331488, 9.60303429332642, 2.5887705431981485, 0.0069467303537317105, 0.2251126919363415, 2.2378486978784315, 6.839421204342621, 2.6101099060809863, 2.876392319918989, 8.9583053020108, 2.407546775462652, 3.537949532779784, 6.634774974008869, 2.4422863231835485, 7.1327275430313355, 0.9610389843545675, 1.7640571624519887, 9.855315960597082, 2.023456919172832, 0.6452778773980574, 0.744875831407216, 7.329701886600253, 22.1439793115286, 2.613777466342546, 0.36215324800762694, 2.15706422049104, 14.081799779195006, 5.153124816330624, 13.786930199661104, 0.040233269632554, 0.19162466106960788, 2.5773554394052987, 3.014504729387238, 3.0339456545912546, 1.005579843003936, 5.527572417397233, 0.832719544385994, 7.373174605884734, 6.309554879915958, 3.029391163443146, 7.9483778195127615, 1.6007710504764254, 1.396561819191302, 9.809870293902087, 14.886047522151934, 1.273632663658042, 3.7105234465515475, 2.181564628871247, 0.4394663891514677, 0.6949862266305533, 2.31575945376752, 1.1684895330721847, 1.4913925342391978, 2.35033992537655, 0.9635256634078577, 5.00101161883015, 44.41223505645742, 0.7969833322666106, 1.6475569237429042, 0.6023907128984562, 3.577085649686281, 0.8058583229793536, 0.8571239975929905, 0.6261226659059449, 32.60815455748922, 0.5639637711847232, 0.5088404912717086, 0.20702316134931914, 5.511270003876059, 3.473295442852747, 1.0100913838511465, 6.390484180381744, 1.1153521385756493, 3.441444948400061, 12.802942297471667, 4.708231807090721, 5.9627991043169155, 3.6191477158464096, 2.352992057465971, 1.8509987573334339, 8.530904796174863, 1.7272924999699102, 0.4545704765834587, 11.614838894068482, 3.66817648960051, 1.654299893416324, 3.2331112023455386, 2.2107648224648084, 4.21758236747469, 40.213283361307724, 7.569969449368853, 3.885970798120306, 2.2395013089930518, 9.173421605919941, 2.3109701474926827, 0.8878701868164255, 37.43397127519636, 7.95511077117452, 0.18254991827840789, 11.282634117932286, 0.7807156437305943, 7.017354653042363, 2.792985004655425, 6.732944439960948, 1.4697509473600456, 14.53165875485695, 12.094557329052858, 6.41483238967118, 31.413271078161078, 1.5273967733594003, 2.0628600947245497, 3.8751388511092983, 3.47987263778692, 3.834836708018664, 2.8716488647978875, 0.08432079161604668, 1.837100823335428, 0.7124723002164237, 5.9193632254504545, 7.979067938830736, 0.596561352113586, 1.7858832863058562, 1.9849275178548176, 2.5553939641703916, 10.457407386474973, 6.792679783203276, 2.6945449773502457, 0.4873809149629506, 9.73269085751381, 4.379254530389651, 7.577888250481268, 6.8205692048599325, 3.758313182503615, 7.348148588263677, 1.6717576407699637, 1.0859921875876515, 0.2253557739851132, 3.35324573003768, 3.371566983688961, 4.505648687682428, 0.9280666682478863, 6.261247815982354, 25.725382524690414, 1.6954948809975656, 3.0731714722378896, 1.8344516023908235, 1.0327366568857423, 4.669459027458257, 0.3720376036026977, 2.6913578166094867, 1.5008130702604414, 1.7865045203448877, 1.8338199665881068, 8.854807966371661, 4.622312665700267, 48.72111225695834, 3.754316340847938, 1.933161799740208, 1.8094193051948815, 2.8292681740501937, 9.15012444725148, 0.878378774629614, 0.5387243657677102, 6.948685362389315, 2.828645213834943, 1.9311413760005227, 31.724078972834594, 6.338970163350089, 1.4263664573915944]}],\n",
       "                        {\"boxmode\": \"group\", \"template\": {\"data\": {\"bar\": [{\"error_x\": {\"color\": \"#2a3f5f\"}, \"error_y\": {\"color\": \"#2a3f5f\"}, \"marker\": {\"line\": {\"color\": \"#E5ECF6\", \"width\": 0.5}}, \"type\": \"bar\"}], \"barpolar\": [{\"marker\": {\"line\": {\"color\": \"#E5ECF6\", \"width\": 0.5}}, \"type\": \"barpolar\"}], \"carpet\": [{\"aaxis\": {\"endlinecolor\": \"#2a3f5f\", \"gridcolor\": \"white\", \"linecolor\": \"white\", \"minorgridcolor\": \"white\", \"startlinecolor\": \"#2a3f5f\"}, \"baxis\": {\"endlinecolor\": \"#2a3f5f\", \"gridcolor\": \"white\", \"linecolor\": \"white\", \"minorgridcolor\": \"white\", \"startlinecolor\": \"#2a3f5f\"}, \"type\": \"carpet\"}], \"choropleth\": [{\"colorbar\": {\"outlinewidth\": 0, \"ticks\": \"\"}, \"type\": \"choropleth\"}], \"contour\": [{\"colorbar\": {\"outlinewidth\": 0, \"ticks\": \"\"}, \"colorscale\": [[0.0, \"#0d0887\"], [0.1111111111111111, \"#46039f\"], [0.2222222222222222, \"#7201a8\"], [0.3333333333333333, \"#9c179e\"], [0.4444444444444444, \"#bd3786\"], [0.5555555555555556, \"#d8576b\"], [0.6666666666666666, \"#ed7953\"], [0.7777777777777778, \"#fb9f3a\"], [0.8888888888888888, \"#fdca26\"], [1.0, \"#f0f921\"]], \"type\": \"contour\"}], \"contourcarpet\": [{\"colorbar\": {\"outlinewidth\": 0, \"ticks\": \"\"}, \"type\": \"contourcarpet\"}], \"heatmap\": [{\"colorbar\": {\"outlinewidth\": 0, \"ticks\": \"\"}, \"colorscale\": [[0.0, \"#0d0887\"], [0.1111111111111111, \"#46039f\"], [0.2222222222222222, \"#7201a8\"], [0.3333333333333333, \"#9c179e\"], [0.4444444444444444, \"#bd3786\"], [0.5555555555555556, \"#d8576b\"], [0.6666666666666666, \"#ed7953\"], [0.7777777777777778, \"#fb9f3a\"], [0.8888888888888888, \"#fdca26\"], [1.0, \"#f0f921\"]], \"type\": \"heatmap\"}], \"heatmapgl\": [{\"colorbar\": {\"outlinewidth\": 0, \"ticks\": \"\"}, \"colorscale\": [[0.0, \"#0d0887\"], [0.1111111111111111, \"#46039f\"], [0.2222222222222222, \"#7201a8\"], [0.3333333333333333, \"#9c179e\"], [0.4444444444444444, \"#bd3786\"], [0.5555555555555556, \"#d8576b\"], [0.6666666666666666, \"#ed7953\"], [0.7777777777777778, \"#fb9f3a\"], [0.8888888888888888, \"#fdca26\"], [1.0, \"#f0f921\"]], \"type\": \"heatmapgl\"}], \"histogram\": [{\"marker\": {\"colorbar\": {\"outlinewidth\": 0, \"ticks\": \"\"}}, \"type\": \"histogram\"}], \"histogram2d\": [{\"colorbar\": {\"outlinewidth\": 0, \"ticks\": \"\"}, \"colorscale\": [[0.0, \"#0d0887\"], [0.1111111111111111, \"#46039f\"], [0.2222222222222222, \"#7201a8\"], [0.3333333333333333, \"#9c179e\"], [0.4444444444444444, \"#bd3786\"], [0.5555555555555556, \"#d8576b\"], [0.6666666666666666, \"#ed7953\"], [0.7777777777777778, \"#fb9f3a\"], [0.8888888888888888, \"#fdca26\"], [1.0, \"#f0f921\"]], \"type\": \"histogram2d\"}], \"histogram2dcontour\": [{\"colorbar\": {\"outlinewidth\": 0, \"ticks\": \"\"}, \"colorscale\": [[0.0, \"#0d0887\"], [0.1111111111111111, \"#46039f\"], [0.2222222222222222, \"#7201a8\"], [0.3333333333333333, \"#9c179e\"], [0.4444444444444444, \"#bd3786\"], [0.5555555555555556, \"#d8576b\"], [0.6666666666666666, \"#ed7953\"], [0.7777777777777778, \"#fb9f3a\"], [0.8888888888888888, \"#fdca26\"], [1.0, \"#f0f921\"]], \"type\": \"histogram2dcontour\"}], \"mesh3d\": [{\"colorbar\": {\"outlinewidth\": 0, \"ticks\": \"\"}, \"type\": \"mesh3d\"}], \"parcoords\": [{\"line\": {\"colorbar\": {\"outlinewidth\": 0, \"ticks\": \"\"}}, \"type\": \"parcoords\"}], \"pie\": [{\"automargin\": true, \"type\": \"pie\"}], \"scatter\": [{\"marker\": {\"colorbar\": {\"outlinewidth\": 0, \"ticks\": \"\"}}, \"type\": \"scatter\"}], \"scatter3d\": [{\"line\": {\"colorbar\": {\"outlinewidth\": 0, \"ticks\": \"\"}}, \"marker\": {\"colorbar\": {\"outlinewidth\": 0, \"ticks\": \"\"}}, \"type\": \"scatter3d\"}], \"scattercarpet\": [{\"marker\": {\"colorbar\": {\"outlinewidth\": 0, \"ticks\": \"\"}}, \"type\": \"scattercarpet\"}], \"scattergeo\": [{\"marker\": {\"colorbar\": {\"outlinewidth\": 0, \"ticks\": \"\"}}, \"type\": \"scattergeo\"}], \"scattergl\": [{\"marker\": {\"colorbar\": {\"outlinewidth\": 0, \"ticks\": \"\"}}, \"type\": \"scattergl\"}], \"scattermapbox\": [{\"marker\": {\"colorbar\": {\"outlinewidth\": 0, \"ticks\": \"\"}}, \"type\": \"scattermapbox\"}], \"scatterpolar\": [{\"marker\": {\"colorbar\": {\"outlinewidth\": 0, \"ticks\": \"\"}}, \"type\": \"scatterpolar\"}], \"scatterpolargl\": [{\"marker\": {\"colorbar\": {\"outlinewidth\": 0, \"ticks\": \"\"}}, \"type\": \"scatterpolargl\"}], \"scatterternary\": [{\"marker\": {\"colorbar\": {\"outlinewidth\": 0, \"ticks\": \"\"}}, \"type\": \"scatterternary\"}], \"surface\": [{\"colorbar\": {\"outlinewidth\": 0, \"ticks\": \"\"}, \"colorscale\": [[0.0, \"#0d0887\"], [0.1111111111111111, \"#46039f\"], [0.2222222222222222, \"#7201a8\"], [0.3333333333333333, \"#9c179e\"], [0.4444444444444444, \"#bd3786\"], [0.5555555555555556, \"#d8576b\"], [0.6666666666666666, \"#ed7953\"], [0.7777777777777778, \"#fb9f3a\"], [0.8888888888888888, \"#fdca26\"], [1.0, \"#f0f921\"]], \"type\": \"surface\"}], \"table\": [{\"cells\": {\"fill\": {\"color\": \"#EBF0F8\"}, \"line\": {\"color\": \"white\"}}, \"header\": {\"fill\": {\"color\": \"#C8D4E3\"}, \"line\": {\"color\": \"white\"}}, \"type\": \"table\"}]}, \"layout\": {\"annotationdefaults\": {\"arrowcolor\": \"#2a3f5f\", \"arrowhead\": 0, \"arrowwidth\": 1}, \"coloraxis\": {\"colorbar\": {\"outlinewidth\": 0, \"ticks\": \"\"}}, \"colorscale\": {\"diverging\": [[0, \"#8e0152\"], [0.1, \"#c51b7d\"], [0.2, \"#de77ae\"], [0.3, \"#f1b6da\"], [0.4, \"#fde0ef\"], [0.5, \"#f7f7f7\"], [0.6, \"#e6f5d0\"], [0.7, \"#b8e186\"], [0.8, \"#7fbc41\"], [0.9, \"#4d9221\"], [1, \"#276419\"]], \"sequential\": [[0.0, \"#0d0887\"], [0.1111111111111111, \"#46039f\"], [0.2222222222222222, \"#7201a8\"], [0.3333333333333333, \"#9c179e\"], [0.4444444444444444, \"#bd3786\"], [0.5555555555555556, \"#d8576b\"], [0.6666666666666666, \"#ed7953\"], [0.7777777777777778, \"#fb9f3a\"], [0.8888888888888888, \"#fdca26\"], [1.0, \"#f0f921\"]], \"sequentialminus\": [[0.0, \"#0d0887\"], [0.1111111111111111, \"#46039f\"], [0.2222222222222222, \"#7201a8\"], [0.3333333333333333, \"#9c179e\"], [0.4444444444444444, \"#bd3786\"], [0.5555555555555556, \"#d8576b\"], [0.6666666666666666, \"#ed7953\"], [0.7777777777777778, \"#fb9f3a\"], [0.8888888888888888, \"#fdca26\"], [1.0, \"#f0f921\"]]}, \"colorway\": [\"#636efa\", \"#EF553B\", \"#00cc96\", \"#ab63fa\", \"#FFA15A\", \"#19d3f3\", \"#FF6692\", \"#B6E880\", \"#FF97FF\", \"#FECB52\"], \"font\": {\"color\": \"#2a3f5f\"}, \"geo\": {\"bgcolor\": \"white\", \"lakecolor\": \"white\", \"landcolor\": \"#E5ECF6\", \"showlakes\": true, \"showland\": true, \"subunitcolor\": \"white\"}, \"hoverlabel\": {\"align\": \"left\"}, \"hovermode\": \"closest\", \"mapbox\": {\"style\": \"light\"}, \"paper_bgcolor\": \"white\", \"plot_bgcolor\": \"#E5ECF6\", \"polar\": {\"angularaxis\": {\"gridcolor\": \"white\", \"linecolor\": \"white\", \"ticks\": \"\"}, \"bgcolor\": \"#E5ECF6\", \"radialaxis\": {\"gridcolor\": \"white\", \"linecolor\": \"white\", \"ticks\": \"\"}}, \"scene\": {\"xaxis\": {\"backgroundcolor\": \"#E5ECF6\", \"gridcolor\": \"white\", \"gridwidth\": 2, \"linecolor\": \"white\", \"showbackground\": true, \"ticks\": \"\", \"zerolinecolor\": \"white\"}, \"yaxis\": {\"backgroundcolor\": \"#E5ECF6\", \"gridcolor\": \"white\", \"gridwidth\": 2, \"linecolor\": \"white\", \"showbackground\": true, \"ticks\": \"\", \"zerolinecolor\": \"white\"}, \"zaxis\": {\"backgroundcolor\": \"#E5ECF6\", \"gridcolor\": \"white\", \"gridwidth\": 2, \"linecolor\": \"white\", \"showbackground\": true, \"ticks\": \"\", \"zerolinecolor\": \"white\"}}, \"shapedefaults\": {\"line\": {\"color\": \"#2a3f5f\"}}, \"ternary\": {\"aaxis\": {\"gridcolor\": \"white\", \"linecolor\": \"white\", \"ticks\": \"\"}, \"baxis\": {\"gridcolor\": \"white\", \"linecolor\": \"white\", \"ticks\": \"\"}, \"bgcolor\": \"#E5ECF6\", \"caxis\": {\"gridcolor\": \"white\", \"linecolor\": \"white\", \"ticks\": \"\"}}, \"title\": {\"x\": 0.05}, \"xaxis\": {\"automargin\": true, \"gridcolor\": \"white\", \"linecolor\": \"white\", \"ticks\": \"\", \"title\": {\"standoff\": 15}, \"zerolinecolor\": \"white\", \"zerolinewidth\": 2}, \"yaxis\": {\"automargin\": true, \"gridcolor\": \"white\", \"linecolor\": \"white\", \"ticks\": \"\", \"title\": {\"standoff\": 15}, \"zerolinecolor\": \"white\", \"zerolinewidth\": 2}}}, \"xaxis\": {\"title\": {\"text\": \"Gun durumlari\"}}, \"yaxis\": {\"title\": {\"text\": \"Toplam Getiri\"}, \"zeroline\": false}},\n",
       "                        {\"responsive\": true}\n",
       "                    ).then(function(){\n",
       "                            \n",
       "var gd = document.getElementById('7f49c6f3-9611-448c-896c-2ea862743f90');\n",
       "var x = new MutationObserver(function (mutations, observer) {{\n",
       "        var display = window.getComputedStyle(gd).display;\n",
       "        if (!display || display === 'none') {{\n",
       "            console.log([gd, 'removed!']);\n",
       "            Plotly.purge(gd);\n",
       "            observer.disconnect();\n",
       "        }}\n",
       "}});\n",
       "\n",
       "// Listen for the removal of the full notebook cells\n",
       "var notebookContainer = gd.closest('#notebook-container');\n",
       "if (notebookContainer) {{\n",
       "    x.observe(notebookContainer, {childList: true});\n",
       "}}\n",
       "\n",
       "// Listen for the clearing of the current output cell\n",
       "var outputEl = gd.closest('.output');\n",
       "if (outputEl) {{\n",
       "    x.observe(outputEl, {childList: true});\n",
       "}}\n",
       "\n",
       "                        })\n",
       "                };\n",
       "                \n",
       "            </script>\n",
       "        </div>\n",
       "</body>\n",
       "</html>"
      ]
     },
     "metadata": {
      "tags": []
     },
     "output_type": "display_data"
    }
   ],
   "source": [
    "import plotly.graph_objects as go\n",
    "\n",
    "trace0 = go.Box(\n",
    "    y=df_0_3_gun[\"Scale_revenue\"],\n",
    "    x=df_0_3_gun[\"max_level_groups\"],\n",
    "    name='Dusuk gun',\n",
    "    marker=dict(\n",
    "        color='#3D9970'\n",
    "    )\n",
    ")\n",
    "\n",
    "trace1 = go.Box(\n",
    "    y=df_4_8_gun['Scale_revenue'],\n",
    "    x=df_4_8_gun['max_level_groups'],\n",
    "    name='Orta derece gun',\n",
    "    marker=dict(\n",
    "        color='#FF4136'\n",
    "    )\n",
    ")\n",
    "\n",
    "trace2 = go.Box(\n",
    "    y=df_8_gun['Scale_revenue'],\n",
    "    x=df_8_gun['max_level_groups'],\n",
    "    name='Yuksek gun ',\n",
    "    marker=dict(\n",
    "        color='#1f77b4'\n",
    "    )\n",
    ")\n",
    "\n",
    "\n",
    "    \n",
    "data = [trace0, trace1,trace2]\n",
    "\n",
    "layout = go.Layout(\n",
    "    yaxis=dict(\n",
    "        title='Toplam Getiri',\n",
    "        zeroline=False\n",
    "    ),\n",
    "    xaxis=dict(\n",
    "        title='Gun durumlari'\n",
    "    ),\n",
    "    boxmode='group'\n",
    ")\n",
    "fig = go.Figure(data=data, layout=layout)\n",
    "\n",
    "fig.show()\n",
    "#plotly.iplot(fig, filename='box-age-cat')"
   ]
  },
  {
   "cell_type": "code",
   "execution_count": 8,
   "metadata": {},
   "outputs": [
    {
     "data": {
      "image/png": "[encoded data removed]",
      "text/plain": [
       "<IPython.core.display.Image object>"
      ]
     },
     "execution_count": 8,
     "metadata": {},
     "output_type": "execute_result"
    }
   ],
   "source": [
    "# GOrslei Ekran goruntusu olarak atmak zorunda kaldim Github da Plotly çıktıları gözükmüyor maalesef\n",
    "# Ama kendi jupyter notebookunuz da yada colab da veya kaggle da bu sıkıntıyı almazsınız"
   ]
  },
  {
   "cell_type": "markdown",
   "metadata": {
    "id": "3SF-YlYviSSn"
   },
   "source": [
    "* Bu gorselimiz de ise gun durumlarina ve level gruplari bir arada degerlendirilmis olup iki etkilesim durumuna gore getirinin urumu gosterilmek istenmistir.\n",
    "\n",
    "* Baktigimiz da yuksek gun ve yuksek level durumlarina sahip gruplar getirisi en fazla olarak gorulmekte"
   ]
  },
  {
   "cell_type": "code",
   "execution_count": null,
   "metadata": {
    "id": "I4A5JVBmhp1J"
   },
   "outputs": [],
   "source": []
  },
  {
   "cell_type": "code",
   "execution_count": null,
   "metadata": {
    "id": "ofQOGbkBhqNo"
   },
   "outputs": [],
   "source": []
  },
  {
   "cell_type": "markdown",
   "metadata": {
    "id": "LRixJ6vUiSSo"
   },
   "source": [
    "# FEATURE DÜZELTMELER !!!!!!!!!!!!!\n",
    "\n",
    "*Bu başlık adı altında Userlara ait Toplam bazda bulduğumuz değişkenleri Günlük baza çevirmeye olabildiğince çevirmeye çalıştık*\n",
    "\n",
    "*Peki bunu neden yaptık?*\n",
    "\n",
    "*Elimizdeki veri günlük akan canlı bir veri bu yüzden toplam olarak ayarlanacak her şey hemen hemen birbirleri ile korele olacaktır buda bizim istediğimiz tür de bir şey değil.*"
   ]
  },
  {
   "cell_type": "code",
   "execution_count": null,
   "metadata": {
    "id": "p-Yuh7tHhpRT"
   },
   "outputs": [],
   "source": []
  },
  {
   "cell_type": "code",
   "execution_count": null,
   "metadata": {
    "id": "K7cosCMtiSSo"
   },
   "outputs": [],
   "source": [
    "# Burada değişkenler için hedeflenen planlamayı görüyoruz\n",
    "\n",
    "## max_level i gün bazında al\n",
    "## level basına skoru gün bazında al\n",
    "## user total days kaldır\n",
    "## day_hours ; gün bazında al\n",
    "## girilen toplam version -> dummy yap\n",
    "## max level / total revenue ; gün bazında al\n",
    "## ortalama skor / total hours ; gün bazında al\n",
    "## ortalama revenue ; gün bazı\n",
    "## total_wrong / total_hour ; gün bazında al\n",
    "## users ; index yap"
   ]
  },
  {
   "cell_type": "markdown",
   "metadata": {
    "id": "Nf69komtiSSp"
   },
   "source": [
    "## max_level i gün bazında alma işlemi < Günlük toplam ulaşılan level"
   ]
  },
  {
   "cell_type": "code",
   "execution_count": null,
   "metadata": {
    "id": "sRudN8amiSSr"
   },
   "outputs": [],
   "source": [
    "dfson['günlük level'] =  dfson['max_level'] / dfson['user_total_days']\n",
    "##günlük level"
   ]
  },
  {
   "cell_type": "markdown",
   "metadata": {
    "id": "6QRXkGWmiSSs"
   },
   "source": [
    "## Level başına skorumuz vardı onu günlük olacak şekilde düzenliyoruz"
   ]
  },
  {
   "cell_type": "code",
   "execution_count": null,
   "metadata": {
    "id": "ZqluOBwwiSSt"
   },
   "outputs": [],
   "source": [
    "df3 = pd.read_csv(\"/content/drive/My Drive/interview_events.csv\") # Event datasını tekrar alıyoruz üzerinden işlem gerçekleştirmek için "
   ]
  },
  {
   "cell_type": "code",
   "execution_count": null,
   "metadata": {
    "colab": {
     "base_uri": "https://localhost:8080/",
     "height": 34
    },
    "id": "CbrLlJoCiSSv",
    "outputId": "0343e0cb-e9c0-4c1b-9fd1-269300175811"
   },
   "outputs": [
    {
     "data": {
      "text/plain": [
       "1585508"
      ]
     },
     "execution_count": 233,
     "metadata": {
      "tags": []
     },
     "output_type": "execute_result"
    }
   ],
   "source": [
    "df3[\"value\"].isnull().sum()"
   ]
  },
  {
   "cell_type": "code",
   "execution_count": null,
   "metadata": {
    "id": "Dx4DuZeBiSSx"
   },
   "outputs": [],
   "source": [
    "df3.dropna(inplace = True)"
   ]
  },
  {
   "cell_type": "code",
   "execution_count": null,
   "metadata": {
    "colab": {
     "base_uri": "https://localhost:8080/",
     "height": 197
    },
    "id": "5ofbNZeoiSSz",
    "outputId": "94a9bdc5-5453-4761-b1e5-777a50784a2f"
   },
   "outputs": [
    {
     "data": {
      "text/html": [
       "<div>\n",
       "<style scoped>\n",
       "    .dataframe tbody tr th:only-of-type {\n",
       "        vertical-align: middle;\n",
       "    }\n",
       "\n",
       "    .dataframe tbody tr th {\n",
       "        vertical-align: top;\n",
       "    }\n",
       "\n",
       "    .dataframe thead th {\n",
       "        text-align: right;\n",
       "    }\n",
       "</style>\n",
       "<table border=\"1\" class=\"dataframe\">\n",
       "  <thead>\n",
       "    <tr style=\"text-align: right;\">\n",
       "      <th></th>\n",
       "      <th>users</th>\n",
       "      <th>ortalama_score</th>\n",
       "    </tr>\n",
       "  </thead>\n",
       "  <tbody>\n",
       "    <tr>\n",
       "      <th>0</th>\n",
       "      <td>-9215534650345115924</td>\n",
       "      <td>3781</td>\n",
       "    </tr>\n",
       "    <tr>\n",
       "      <th>1</th>\n",
       "      <td>-9215240100939776087</td>\n",
       "      <td>11731</td>\n",
       "    </tr>\n",
       "    <tr>\n",
       "      <th>2</th>\n",
       "      <td>-9202484284851622629</td>\n",
       "      <td>677</td>\n",
       "    </tr>\n",
       "    <tr>\n",
       "      <th>3</th>\n",
       "      <td>-9197151025395411316</td>\n",
       "      <td>2058</td>\n",
       "    </tr>\n",
       "    <tr>\n",
       "      <th>4</th>\n",
       "      <td>-9167946499694210868</td>\n",
       "      <td>447</td>\n",
       "    </tr>\n",
       "  </tbody>\n",
       "</table>\n",
       "</div>"
      ],
      "text/plain": [
       "                 users  ortalama_score\n",
       "0 -9215534650345115924            3781\n",
       "1 -9215240100939776087           11731\n",
       "2 -9202484284851622629             677\n",
       "3 -9197151025395411316            2058\n",
       "4 -9167946499694210868             447"
      ]
     },
     "execution_count": 235,
     "metadata": {
      "tags": []
     },
     "output_type": "execute_result"
    }
   ],
   "source": [
    "# Toplam skoru tekrar elde ediyoruz ardından onun üzerinden ortalama skoru elde ediyoruz \n",
    "\n",
    "total_score = []\n",
    "\n",
    "for i in df3[\"user_id\"].unique():\n",
    "\n",
    "\n",
    "    total = round(df3[df3[\"user_id\"] == i].value.mean())\n",
    "\n",
    "\n",
    "    total_score.append(total)\n",
    "\n",
    "\n",
    "table = pd.Series(df3[\"user_id\"].unique())\n",
    "frame1 = pd.DataFrame({\"users\":table,\"ortalama_score\":total_score})\n",
    "frame1.head()"
   ]
  },
  {
   "cell_type": "code",
   "execution_count": null,
   "metadata": {
    "id": "ZJWuPIUniSS1"
   },
   "outputs": [],
   "source": [
    "dfsondeneme3 = pd.merge(dfson , frame1 , on = \"users\")"
   ]
  },
  {
   "cell_type": "code",
   "execution_count": null,
   "metadata": {
    "colab": {
     "base_uri": "https://localhost:8080/",
     "height": 234
    },
    "id": "aN4ABGYNiSS2",
    "outputId": "30fcd0f2-1ea6-43d8-92c6-27a6fc83aa09"
   },
   "outputs": [
    {
     "data": {
      "text/html": [
       "<div>\n",
       "<style scoped>\n",
       "    .dataframe tbody tr th:only-of-type {\n",
       "        vertical-align: middle;\n",
       "    }\n",
       "\n",
       "    .dataframe tbody tr th {\n",
       "        vertical-align: top;\n",
       "    }\n",
       "\n",
       "    .dataframe thead th {\n",
       "        text-align: right;\n",
       "    }\n",
       "</style>\n",
       "<table border=\"1\" class=\"dataframe\">\n",
       "  <thead>\n",
       "    <tr style=\"text-align: right;\">\n",
       "      <th></th>\n",
       "      <th>users</th>\n",
       "      <th>max_level</th>\n",
       "      <th>toplam_score</th>\n",
       "      <th>level_basina_skor</th>\n",
       "      <th>toplam_revenue</th>\n",
       "      <th>user_total_days</th>\n",
       "      <th>gunluk_revenue</th>\n",
       "      <th>toplam_hata</th>\n",
       "      <th>total_hours</th>\n",
       "      <th>day_hours</th>\n",
       "      <th>girilen_toplam_version</th>\n",
       "      <th>country_code</th>\n",
       "      <th>toplam_gun_groups</th>\n",
       "      <th>toplam_hata_groups</th>\n",
       "      <th>max_level_groups</th>\n",
       "      <th>Scale_score</th>\n",
       "      <th>Scale_revenue</th>\n",
       "      <th>günlük level</th>\n",
       "      <th>ortalama_score</th>\n",
       "    </tr>\n",
       "  </thead>\n",
       "  <tbody>\n",
       "    <tr>\n",
       "      <th>0</th>\n",
       "      <td>-9215534650345115924</td>\n",
       "      <td>137</td>\n",
       "      <td>540634.502</td>\n",
       "      <td>3946.237241</td>\n",
       "      <td>0.006209</td>\n",
       "      <td>9</td>\n",
       "      <td>0.000621</td>\n",
       "      <td>2921</td>\n",
       "      <td>218.916667</td>\n",
       "      <td>0.045679</td>\n",
       "      <td>1</td>\n",
       "      <td>TR</td>\n",
       "      <td>8+ gun</td>\n",
       "      <td>+500 ustu hata</td>\n",
       "      <td>50-150 levels</td>\n",
       "      <td>2.863365</td>\n",
       "      <td>0.167366</td>\n",
       "      <td>15.222222</td>\n",
       "      <td>3781</td>\n",
       "    </tr>\n",
       "    <tr>\n",
       "      <th>1</th>\n",
       "      <td>-9215240100939776087</td>\n",
       "      <td>282</td>\n",
       "      <td>3589694.584</td>\n",
       "      <td>12729.413418</td>\n",
       "      <td>0.089060</td>\n",
       "      <td>12</td>\n",
       "      <td>0.004687</td>\n",
       "      <td>1330</td>\n",
       "      <td>288.954444</td>\n",
       "      <td>0.065754</td>\n",
       "      <td>2</td>\n",
       "      <td>TR</td>\n",
       "      <td>8+ gun</td>\n",
       "      <td>+500 ustu hata</td>\n",
       "      <td>250-400 levels</td>\n",
       "      <td>19.012115</td>\n",
       "      <td>2.400532</td>\n",
       "      <td>23.500000</td>\n",
       "      <td>11731</td>\n",
       "    </tr>\n",
       "    <tr>\n",
       "      <th>2</th>\n",
       "      <td>-9202484284851622629</td>\n",
       "      <td>17</td>\n",
       "      <td>4735.535</td>\n",
       "      <td>278.560882</td>\n",
       "      <td>0.003801</td>\n",
       "      <td>1</td>\n",
       "      <td>0.003801</td>\n",
       "      <td>113</td>\n",
       "      <td>0.260833</td>\n",
       "      <td>3.833866</td>\n",
       "      <td>1</td>\n",
       "      <td>TR</td>\n",
       "      <td>0-3 gun</td>\n",
       "      <td>50-150 arasi hata</td>\n",
       "      <td>0-50 levels</td>\n",
       "      <td>0.025081</td>\n",
       "      <td>0.102458</td>\n",
       "      <td>17.000000</td>\n",
       "      <td>677</td>\n",
       "    </tr>\n",
       "    <tr>\n",
       "      <th>3</th>\n",
       "      <td>-9197151025395411316</td>\n",
       "      <td>42</td>\n",
       "      <td>90563.598</td>\n",
       "      <td>2156.276143</td>\n",
       "      <td>0.005653</td>\n",
       "      <td>2</td>\n",
       "      <td>0.002826</td>\n",
       "      <td>30</td>\n",
       "      <td>22.559722</td>\n",
       "      <td>0.088654</td>\n",
       "      <td>2</td>\n",
       "      <td>TR</td>\n",
       "      <td>0-3 gun</td>\n",
       "      <td>0-50 arasi hata</td>\n",
       "      <td>0-50 levels</td>\n",
       "      <td>0.479652</td>\n",
       "      <td>0.152362</td>\n",
       "      <td>21.000000</td>\n",
       "      <td>2058</td>\n",
       "    </tr>\n",
       "    <tr>\n",
       "      <th>4</th>\n",
       "      <td>-9167946499694210868</td>\n",
       "      <td>7</td>\n",
       "      <td>3579.000</td>\n",
       "      <td>511.285714</td>\n",
       "      <td>0.013754</td>\n",
       "      <td>1</td>\n",
       "      <td>0.013754</td>\n",
       "      <td>1</td>\n",
       "      <td>0.044444</td>\n",
       "      <td>22.500000</td>\n",
       "      <td>1</td>\n",
       "      <td>TR</td>\n",
       "      <td>0-3 gun</td>\n",
       "      <td>0-50 arasi hata</td>\n",
       "      <td>0-50 levels</td>\n",
       "      <td>0.018955</td>\n",
       "      <td>0.370725</td>\n",
       "      <td>7.000000</td>\n",
       "      <td>447</td>\n",
       "    </tr>\n",
       "  </tbody>\n",
       "</table>\n",
       "</div>"
      ],
      "text/plain": [
       "                 users  max_level  ...  günlük level  ortalama_score\n",
       "0 -9215534650345115924        137  ...     15.222222            3781\n",
       "1 -9215240100939776087        282  ...     23.500000           11731\n",
       "2 -9202484284851622629         17  ...     17.000000             677\n",
       "3 -9197151025395411316         42  ...     21.000000            2058\n",
       "4 -9167946499694210868          7  ...      7.000000             447\n",
       "\n",
       "[5 rows x 19 columns]"
      ]
     },
     "execution_count": 237,
     "metadata": {
      "tags": []
     },
     "output_type": "execute_result"
    }
   ],
   "source": [
    "dfsondeneme3.head()"
   ]
  },
  {
   "cell_type": "code",
   "execution_count": null,
   "metadata": {
    "id": "IaZIxHDfiSS4"
   },
   "outputs": [],
   "source": [
    "# Burada ortalama skoru toplam güne bölerek aslında gün bazında ortalama skoru elde ediyoruz\n",
    "\n",
    "dfson[\"ortalama_score_div_total_hours_gun\"] = dfsondeneme3[\"ortalama_score\"] / dfsondeneme3[\"user_total_days\"]"
   ]
  },
  {
   "cell_type": "code",
   "execution_count": null,
   "metadata": {
    "id": "Kj4_9TcciSS5"
   },
   "outputs": [],
   "source": [
    "# Ardindan gün bazinda elde ettiğimiz ortalama skoru kullanarak günlük levele bölüyoruz buradaki amaç ise günlük level başına elde edilen skoru bulmak \n",
    "\n",
    "dfson[\"gunluk_level_basina_skor\"] = dfson[\"ortalama_score_div_total_hours_gun\"] / dfson['günlük level']\n",
    "##günlük level basına skor"
   ]
  },
  {
   "cell_type": "code",
   "execution_count": null,
   "metadata": {
    "colab": {
     "base_uri": "https://localhost:8080/",
     "height": 234
    },
    "id": "djSAyHv6iSS7",
    "outputId": "e47f43e1-b437-4b2e-e4ba-bd8524167fc6"
   },
   "outputs": [
    {
     "data": {
      "text/html": [
       "<div>\n",
       "<style scoped>\n",
       "    .dataframe tbody tr th:only-of-type {\n",
       "        vertical-align: middle;\n",
       "    }\n",
       "\n",
       "    .dataframe tbody tr th {\n",
       "        vertical-align: top;\n",
       "    }\n",
       "\n",
       "    .dataframe thead th {\n",
       "        text-align: right;\n",
       "    }\n",
       "</style>\n",
       "<table border=\"1\" class=\"dataframe\">\n",
       "  <thead>\n",
       "    <tr style=\"text-align: right;\">\n",
       "      <th></th>\n",
       "      <th>users</th>\n",
       "      <th>max_level</th>\n",
       "      <th>toplam_score</th>\n",
       "      <th>level_basina_skor</th>\n",
       "      <th>toplam_revenue</th>\n",
       "      <th>user_total_days</th>\n",
       "      <th>gunluk_revenue</th>\n",
       "      <th>toplam_hata</th>\n",
       "      <th>total_hours</th>\n",
       "      <th>day_hours</th>\n",
       "      <th>girilen_toplam_version</th>\n",
       "      <th>country_code</th>\n",
       "      <th>toplam_gun_groups</th>\n",
       "      <th>toplam_hata_groups</th>\n",
       "      <th>max_level_groups</th>\n",
       "      <th>Scale_score</th>\n",
       "      <th>Scale_revenue</th>\n",
       "      <th>günlük level</th>\n",
       "      <th>ortalama_score_div_total_hours_gun</th>\n",
       "      <th>gunluk_level_basina_skor</th>\n",
       "    </tr>\n",
       "  </thead>\n",
       "  <tbody>\n",
       "    <tr>\n",
       "      <th>0</th>\n",
       "      <td>-9215534650345115924</td>\n",
       "      <td>137</td>\n",
       "      <td>540634.502</td>\n",
       "      <td>3946.237241</td>\n",
       "      <td>0.006209</td>\n",
       "      <td>9</td>\n",
       "      <td>0.000621</td>\n",
       "      <td>2921</td>\n",
       "      <td>218.916667</td>\n",
       "      <td>0.045679</td>\n",
       "      <td>1</td>\n",
       "      <td>TR</td>\n",
       "      <td>8+ gun</td>\n",
       "      <td>+500 ustu hata</td>\n",
       "      <td>50-150 levels</td>\n",
       "      <td>2.863365</td>\n",
       "      <td>0.167366</td>\n",
       "      <td>15.222222</td>\n",
       "      <td>420.111111</td>\n",
       "      <td>27.598540</td>\n",
       "    </tr>\n",
       "    <tr>\n",
       "      <th>1</th>\n",
       "      <td>-9215240100939776087</td>\n",
       "      <td>282</td>\n",
       "      <td>3589694.584</td>\n",
       "      <td>12729.413418</td>\n",
       "      <td>0.089060</td>\n",
       "      <td>12</td>\n",
       "      <td>0.004687</td>\n",
       "      <td>1330</td>\n",
       "      <td>288.954444</td>\n",
       "      <td>0.065754</td>\n",
       "      <td>2</td>\n",
       "      <td>TR</td>\n",
       "      <td>8+ gun</td>\n",
       "      <td>+500 ustu hata</td>\n",
       "      <td>250-400 levels</td>\n",
       "      <td>19.012115</td>\n",
       "      <td>2.400532</td>\n",
       "      <td>23.500000</td>\n",
       "      <td>977.583333</td>\n",
       "      <td>41.599291</td>\n",
       "    </tr>\n",
       "    <tr>\n",
       "      <th>2</th>\n",
       "      <td>-9202484284851622629</td>\n",
       "      <td>17</td>\n",
       "      <td>4735.535</td>\n",
       "      <td>278.560882</td>\n",
       "      <td>0.003801</td>\n",
       "      <td>1</td>\n",
       "      <td>0.003801</td>\n",
       "      <td>113</td>\n",
       "      <td>0.260833</td>\n",
       "      <td>3.833866</td>\n",
       "      <td>1</td>\n",
       "      <td>TR</td>\n",
       "      <td>0-3 gun</td>\n",
       "      <td>50-150 arasi hata</td>\n",
       "      <td>0-50 levels</td>\n",
       "      <td>0.025081</td>\n",
       "      <td>0.102458</td>\n",
       "      <td>17.000000</td>\n",
       "      <td>677.000000</td>\n",
       "      <td>39.823529</td>\n",
       "    </tr>\n",
       "    <tr>\n",
       "      <th>3</th>\n",
       "      <td>-9197151025395411316</td>\n",
       "      <td>42</td>\n",
       "      <td>90563.598</td>\n",
       "      <td>2156.276143</td>\n",
       "      <td>0.005653</td>\n",
       "      <td>2</td>\n",
       "      <td>0.002826</td>\n",
       "      <td>30</td>\n",
       "      <td>22.559722</td>\n",
       "      <td>0.088654</td>\n",
       "      <td>2</td>\n",
       "      <td>TR</td>\n",
       "      <td>0-3 gun</td>\n",
       "      <td>0-50 arasi hata</td>\n",
       "      <td>0-50 levels</td>\n",
       "      <td>0.479652</td>\n",
       "      <td>0.152362</td>\n",
       "      <td>21.000000</td>\n",
       "      <td>1029.000000</td>\n",
       "      <td>49.000000</td>\n",
       "    </tr>\n",
       "    <tr>\n",
       "      <th>4</th>\n",
       "      <td>-9167946499694210868</td>\n",
       "      <td>7</td>\n",
       "      <td>3579.000</td>\n",
       "      <td>511.285714</td>\n",
       "      <td>0.013754</td>\n",
       "      <td>1</td>\n",
       "      <td>0.013754</td>\n",
       "      <td>1</td>\n",
       "      <td>0.044444</td>\n",
       "      <td>22.500000</td>\n",
       "      <td>1</td>\n",
       "      <td>TR</td>\n",
       "      <td>0-3 gun</td>\n",
       "      <td>0-50 arasi hata</td>\n",
       "      <td>0-50 levels</td>\n",
       "      <td>0.018955</td>\n",
       "      <td>0.370725</td>\n",
       "      <td>7.000000</td>\n",
       "      <td>447.000000</td>\n",
       "      <td>63.857143</td>\n",
       "    </tr>\n",
       "  </tbody>\n",
       "</table>\n",
       "</div>"
      ],
      "text/plain": [
       "                 users  ...  gunluk_level_basina_skor\n",
       "0 -9215534650345115924  ...                 27.598540\n",
       "1 -9215240100939776087  ...                 41.599291\n",
       "2 -9202484284851622629  ...                 39.823529\n",
       "3 -9197151025395411316  ...                 49.000000\n",
       "4 -9167946499694210868  ...                 63.857143\n",
       "\n",
       "[5 rows x 20 columns]"
      ]
     },
     "execution_count": 240,
     "metadata": {
      "tags": []
     },
     "output_type": "execute_result"
    }
   ],
   "source": [
    "dfson.head()"
   ]
  },
  {
   "cell_type": "code",
   "execution_count": null,
   "metadata": {
    "id": "1TDyIiRuiSS9"
   },
   "outputs": [],
   "source": [
    "# Ardından düşürüyoruz \n",
    "\n",
    "dfson.drop(columns = \"ortalama_score_div_total_hours_gun\" , axis = 1 , inplace = True)"
   ]
  },
  {
   "cell_type": "code",
   "execution_count": null,
   "metadata": {
    "id": "S9o0EvJ0jRmc"
   },
   "outputs": [],
   "source": []
  },
  {
   "cell_type": "markdown",
   "metadata": {
    "id": "nddNd55piSS_"
   },
   "source": [
    "# day_hours\n",
    "\n",
    "* Şimdi ise aktif olunan günler bazında kişinin kaç saat oyunu oynadığını elde ediyoruz."
   ]
  },
  {
   "cell_type": "code",
   "execution_count": null,
   "metadata": {
    "id": "SoiqOrEAiSS_"
   },
   "outputs": [],
   "source": [
    "dfson[\"day_hours\"] =df[\"total_hours\"] / df[\"user_total_days\"]\n",
    "##gecirdigimiz günler boyunca geldigim günlerde aktif kac saat oyandım"
   ]
  },
  {
   "cell_type": "code",
   "execution_count": null,
   "metadata": {
    "id": "ctyWO6mSjoVq"
   },
   "outputs": [],
   "source": []
  },
  {
   "cell_type": "markdown",
   "metadata": {
    "id": "unJGGCYLiSTB"
   },
   "source": [
    "##  Girilen toplam version & country code değişkenlerini dummy yapıyoruz."
   ]
  },
  {
   "cell_type": "code",
   "execution_count": null,
   "metadata": {
    "id": "MDnuJAjWiSTC"
   },
   "outputs": [],
   "source": [
    "dfson['girilen_toplam_version'] = dfson['girilen_toplam_version'].astype(object)"
   ]
  },
  {
   "cell_type": "code",
   "execution_count": null,
   "metadata": {
    "id": "GYjBS0C3iSTE"
   },
   "outputs": [],
   "source": [
    "dfson= pd.get_dummies(dfson, columns =['country_code' ,'girilen_toplam_version'])"
   ]
  },
  {
   "cell_type": "code",
   "execution_count": null,
   "metadata": {
    "id": "bxG55rihjwAb"
   },
   "outputs": [],
   "source": []
  },
  {
   "cell_type": "markdown",
   "metadata": {
    "id": "2mmiqjhKiSTJ"
   },
   "source": [
    "## max_level / total_revenue - gün bazında\n",
    "\n",
    "* Bu kısımda ise level bazinda elde dilen gelir ne kadar onu buluyoruz.\n",
    "* Ardından içerisinde İNF şeklinde olan kısımları 0 ile dolduruyoruz.\n",
    "* Daha sonra level bazında elde ettiğimiz kazancı günlük formata çeviriyoruz"
   ]
  },
  {
   "cell_type": "code",
   "execution_count": null,
   "metadata": {
    "id": "vExxCyWGiSTJ"
   },
   "outputs": [],
   "source": [
    "# max level / total revenue\n",
    "dfson[\"max_level_total_revenue\"] =  dfson[\"toplam_revenue\"] / dfson[\"max_level\"]  \n"
   ]
  },
  {
   "cell_type": "code",
   "execution_count": null,
   "metadata": {
    "id": "4XKfvMPyiSTL"
   },
   "outputs": [],
   "source": [
    "dfson[\"max_level_total_revenue\"].replace(np.inf,0,inplace = True)"
   ]
  },
  {
   "cell_type": "code",
   "execution_count": null,
   "metadata": {
    "id": "UF5TWa6BiSTO"
   },
   "outputs": [],
   "source": [
    "dfson[\"gunluk_ortalama_lvl_basina_revenue\"] = dfson[\"max_level_total_revenue\"] / dfson['user_total_days']\n",
    "### günlük ortalama level basına gelen revenue"
   ]
  },
  {
   "cell_type": "code",
   "execution_count": null,
   "metadata": {
    "id": "alAFlnPDiSTT"
   },
   "outputs": [],
   "source": []
  },
  {
   "cell_type": "code",
   "execution_count": null,
   "metadata": {
    "id": "oLVOXNN0kTmE"
   },
   "outputs": [],
   "source": []
  },
  {
   "cell_type": "markdown",
   "metadata": {
    "id": "DiL3kt3jiSTV"
   },
   "source": [
    "## ortalama score / total hours - gün bazında\n",
    "\n",
    "* Günlük ortalama skoru elde etmiştik ama dataframe entegre etmedik başka bir değişkeni bulmak amaçlı kullanmıştık. Şimdi günlük ortalama skoru da dataframe entegre ediyoruz."
   ]
  },
  {
   "cell_type": "code",
   "execution_count": null,
   "metadata": {
    "id": "tW0j13GxkZpR"
   },
   "outputs": [],
   "source": []
  },
  {
   "cell_type": "code",
   "execution_count": null,
   "metadata": {
    "colab": {
     "base_uri": "https://localhost:8080/",
     "height": 34
    },
    "id": "x5-AoRogiSTV",
    "outputId": "b53c0bae-b93d-4675-a05b-c6f06b6c07e4"
   },
   "outputs": [
    {
     "data": {
      "text/plain": [
       "1585508"
      ]
     },
     "execution_count": 251,
     "metadata": {
      "tags": []
     },
     "output_type": "execute_result"
    }
   ],
   "source": [
    "df3 = pd.read_csv(\"/content/drive/My Drive/interview_events.csv\")\n",
    "\n",
    "df3[\"value\"].isnull().sum()"
   ]
  },
  {
   "cell_type": "code",
   "execution_count": null,
   "metadata": {
    "id": "Hse4qgXPiSTZ"
   },
   "outputs": [],
   "source": [
    "df['günlük_ortalama_skor'] = dfsondeneme3[\"ortalama_score\"] / dfsondeneme3[\"user_total_days\"]\n",
    "##günlük ortalama skor"
   ]
  },
  {
   "cell_type": "markdown",
   "metadata": {
    "id": "QZlTFiXZiSTx"
   },
   "source": [
    "## Sırada son değişkeni elde ediyoruz. Bu değişkenimiz toplam yapılan hatayı günlük olacak şekilde transform edeceğiz ve dataframe ekleyip devam edeceğiz. "
   ]
  },
  {
   "cell_type": "code",
   "execution_count": null,
   "metadata": {
    "colab": {
     "base_uri": "https://localhost:8080/",
     "height": 174
    },
    "id": "U4sewbnZr4q0",
    "outputId": "550fba1b-0b2e-4693-e224-4ccc68dae974"
   },
   "outputs": [
    {
     "data": {
      "text/html": [
       "<div>\n",
       "<style scoped>\n",
       "    .dataframe tbody tr th:only-of-type {\n",
       "        vertical-align: middle;\n",
       "    }\n",
       "\n",
       "    .dataframe tbody tr th {\n",
       "        vertical-align: top;\n",
       "    }\n",
       "\n",
       "    .dataframe thead th {\n",
       "        text-align: right;\n",
       "    }\n",
       "</style>\n",
       "<table border=\"1\" class=\"dataframe\">\n",
       "  <thead>\n",
       "    <tr style=\"text-align: right;\">\n",
       "      <th></th>\n",
       "      <th>users</th>\n",
       "      <th>max_level</th>\n",
       "      <th>toplam_score</th>\n",
       "      <th>level_basina_skor</th>\n",
       "      <th>toplam_revenue</th>\n",
       "      <th>user_total_days</th>\n",
       "      <th>toplam_hata</th>\n",
       "      <th>total_hours</th>\n",
       "      <th>day_hours</th>\n",
       "      <th>toplam_gun_groups</th>\n",
       "      <th>toplam_hata_groups</th>\n",
       "      <th>max_level_groups</th>\n",
       "      <th>Scale_score</th>\n",
       "      <th>Scale_revenue</th>\n",
       "      <th>günlük level</th>\n",
       "      <th>gunluk_level_basina_skor</th>\n",
       "      <th>country_code_Other</th>\n",
       "      <th>country_code_TR</th>\n",
       "      <th>girilen_toplam_version_1</th>\n",
       "      <th>girilen_toplam_version_2</th>\n",
       "      <th>girilen_toplam_version_3</th>\n",
       "      <th>gunluk_ortalama_lvl_basina_revenue</th>\n",
       "      <th>ortalama_revenue</th>\n",
       "      <th>ortalama_revenue_gun</th>\n",
       "    </tr>\n",
       "  </thead>\n",
       "  <tbody>\n",
       "    <tr>\n",
       "      <th>0</th>\n",
       "      <td>-9215534650345115924</td>\n",
       "      <td>137</td>\n",
       "      <td>540634.502</td>\n",
       "      <td>3946.237241</td>\n",
       "      <td>0.006209</td>\n",
       "      <td>9</td>\n",
       "      <td>2921</td>\n",
       "      <td>218.916667</td>\n",
       "      <td>24.324074</td>\n",
       "      <td>8+ gun</td>\n",
       "      <td>+500 ustu hata</td>\n",
       "      <td>50-150 levels</td>\n",
       "      <td>2.863365</td>\n",
       "      <td>0.167366</td>\n",
       "      <td>15.222222</td>\n",
       "      <td>27.598540</td>\n",
       "      <td>0</td>\n",
       "      <td>1</td>\n",
       "      <td>1</td>\n",
       "      <td>0</td>\n",
       "      <td>0</td>\n",
       "      <td>0.000005</td>\n",
       "      <td>0.000621</td>\n",
       "      <td>0.000069</td>\n",
       "    </tr>\n",
       "    <tr>\n",
       "      <th>1</th>\n",
       "      <td>-9215240100939776087</td>\n",
       "      <td>282</td>\n",
       "      <td>3589694.584</td>\n",
       "      <td>12729.413418</td>\n",
       "      <td>0.089060</td>\n",
       "      <td>12</td>\n",
       "      <td>1330</td>\n",
       "      <td>288.954444</td>\n",
       "      <td>24.079537</td>\n",
       "      <td>8+ gun</td>\n",
       "      <td>+500 ustu hata</td>\n",
       "      <td>250-400 levels</td>\n",
       "      <td>19.012115</td>\n",
       "      <td>2.400532</td>\n",
       "      <td>23.500000</td>\n",
       "      <td>41.599291</td>\n",
       "      <td>0</td>\n",
       "      <td>1</td>\n",
       "      <td>0</td>\n",
       "      <td>1</td>\n",
       "      <td>0</td>\n",
       "      <td>0.000026</td>\n",
       "      <td>0.004687</td>\n",
       "      <td>0.000391</td>\n",
       "    </tr>\n",
       "    <tr>\n",
       "      <th>2</th>\n",
       "      <td>-9202484284851622629</td>\n",
       "      <td>17</td>\n",
       "      <td>4735.535</td>\n",
       "      <td>278.560882</td>\n",
       "      <td>0.003801</td>\n",
       "      <td>1</td>\n",
       "      <td>113</td>\n",
       "      <td>0.260833</td>\n",
       "      <td>0.260833</td>\n",
       "      <td>0-3 gun</td>\n",
       "      <td>50-150 arasi hata</td>\n",
       "      <td>0-50 levels</td>\n",
       "      <td>0.025081</td>\n",
       "      <td>0.102458</td>\n",
       "      <td>17.000000</td>\n",
       "      <td>39.823529</td>\n",
       "      <td>0</td>\n",
       "      <td>1</td>\n",
       "      <td>1</td>\n",
       "      <td>0</td>\n",
       "      <td>0</td>\n",
       "      <td>0.000224</td>\n",
       "      <td>0.003801</td>\n",
       "      <td>0.003801</td>\n",
       "    </tr>\n",
       "  </tbody>\n",
       "</table>\n",
       "</div>"
      ],
      "text/plain": [
       "                 users  max_level  ...  ortalama_revenue  ortalama_revenue_gun\n",
       "0 -9215534650345115924        137  ...          0.000621              0.000069\n",
       "1 -9215240100939776087        282  ...          0.004687              0.000391\n",
       "2 -9202484284851622629         17  ...          0.003801              0.003801\n",
       "\n",
       "[3 rows x 24 columns]"
      ]
     },
     "execution_count": 265,
     "metadata": {
      "tags": []
     },
     "output_type": "execute_result"
    }
   ],
   "source": [
    "dfson.head(3)\n",
    "\n",
    "# DataFrame bu sekilde idi simdi isleme geciyoruz"
   ]
  },
  {
   "cell_type": "code",
   "execution_count": null,
   "metadata": {
    "id": "Pq7gWNQciSTx"
   },
   "outputs": [],
   "source": [
    "dfson[\"total_wrong_gun\"] = dfson[\"toplam_hata\"] / dfson[\"user_total_days\"]"
   ]
  },
  {
   "cell_type": "code",
   "execution_count": null,
   "metadata": {
    "id": "_L0qp2lbnwZN"
   },
   "outputs": [],
   "source": []
  },
  {
   "cell_type": "markdown",
   "metadata": {
    "id": "PNODfcD5s5oE"
   },
   "source": [
    "# *Bizim Churn(müşteri terk etme durumu) eden kullanıcılarımız vardı. Biz bunu şu şekilde belirliyoruz.* \n",
    "\n",
    "# *Bir kişi oyuna 7 günden daha az girmişse biz bunlara 1 yani churn etmiştir eğer oyuna 7 günden fazla girmişse 0 yani chrun etmemiştir etiketi basıyoruz.* \n",
    "\n"
   ]
  },
  {
   "cell_type": "code",
   "execution_count": null,
   "metadata": {
    "id": "17B0gtvPs5EM"
   },
   "outputs": [],
   "source": []
  },
  {
   "cell_type": "code",
   "execution_count": null,
   "metadata": {
    "id": "VT9RAebWs4C4"
   },
   "outputs": [],
   "source": [
    "dfson['label'] = ['1' if x < 7 else '0' for x in dfson[\"user_total_days\"]]"
   ]
  },
  {
   "cell_type": "code",
   "execution_count": null,
   "metadata": {
    "id": "CG6aEUOJiSTy"
   },
   "outputs": [],
   "source": [
    "# Burada önemli bir işlem gerçekleştiriyoruz.\n",
    "# Toplam bazlı olan değişkenlerin hepsini düşürüyoruz çünkü günlük akan bir veride değişkenlerin toplam baz da kaideye alınması korele bir durum oluşturuyordu.\n",
    "\n",
    "\n",
    "dfson.drop(columns = [\"max_level\" ,\"toplam_score\",\"level_basina_skor\",\"toplam_revenue\",\"user_total_days\",\"toplam_hata\",\"total_hours\"] , axis = 1 , inplace = True)"
   ]
  },
  {
   "cell_type": "code",
   "execution_count": null,
   "metadata": {
    "id": "FQlxyqCoiST2"
   },
   "outputs": [],
   "source": [
    "dfsonmodel = dfson"
   ]
  },
  {
   "cell_type": "code",
   "execution_count": null,
   "metadata": {
    "id": "SB8oyg9dxLnb"
   },
   "outputs": [],
   "source": [
    "# Görselleştirme için kullanılan değişkenleri de düşürüyoruz\n",
    "\n",
    "dfsonmodel.drop(columns = [\"toplam_gun_groups\",\"toplam_hata_groups\",\"max_level_groups\",\"Scale_score\",\"Scale_revenue\"] , axis = 1 , inplace = True)"
   ]
  },
  {
   "cell_type": "code",
   "execution_count": null,
   "metadata": {
    "id": "K7S3lbruiST4"
   },
   "outputs": [],
   "source": [
    "df_final = dfsonmodel.reset_index()"
   ]
  },
  {
   "cell_type": "code",
   "execution_count": null,
   "metadata": {
    "id": "ywMSSgKDiST5"
   },
   "outputs": [],
   "source": [
    "df_final.drop(\"users\",axis=1,inplace=True)"
   ]
  },
  {
   "cell_type": "code",
   "execution_count": null,
   "metadata": {
    "colab": {
     "base_uri": "https://localhost:8080/",
     "height": 372
    },
    "id": "wrSI638GiST8",
    "outputId": "fd73312e-b38a-4b91-ddab-72f55e850b29"
   },
   "outputs": [
    {
     "name": "stdout",
     "output_type": "stream",
     "text": [
      "<class 'pandas.core.frame.DataFrame'>\n",
      "RangeIndex: 1768 entries, 0 to 1767\n",
      "Data columns (total 13 columns):\n",
      " #   Column                              Non-Null Count  Dtype  \n",
      "---  ------                              --------------  -----  \n",
      " 0   day_hours                           1768 non-null   float64\n",
      " 1   günlük level                        1768 non-null   float64\n",
      " 2   gunluk_level_basina_skor            1742 non-null   float64\n",
      " 3   country_code_Other                  1768 non-null   uint8  \n",
      " 4   country_code_TR                     1768 non-null   uint8  \n",
      " 5   girilen_toplam_version_1            1768 non-null   uint8  \n",
      " 6   girilen_toplam_version_2            1768 non-null   uint8  \n",
      " 7   girilen_toplam_version_3            1768 non-null   uint8  \n",
      " 8   gunluk_ortalama_lvl_basina_revenue  1750 non-null   float64\n",
      " 9   ortalama_revenue                    1768 non-null   float64\n",
      " 10  ortalama_revenue_gun                1768 non-null   float64\n",
      " 11  total_wrong_gun                     1768 non-null   float64\n",
      " 12  label                               1768 non-null   object \n",
      "dtypes: float64(7), object(1), uint8(5)\n",
      "memory usage: 119.3+ KB\n"
     ]
    }
   ],
   "source": [
    "df_final.info()"
   ]
  },
  {
   "cell_type": "code",
   "execution_count": null,
   "metadata": {
    "id": "Ih9AJP8-iST-"
   },
   "outputs": [],
   "source": [
    "dfa = df_final.copy()"
   ]
  },
  {
   "cell_type": "code",
   "execution_count": null,
   "metadata": {
    "id": "klu0wNgdiST_"
   },
   "outputs": [],
   "source": [
    "# Bu işlemler sonucu info kısmında da görebileceğimiz gibi \"gunluk_level_basina_skor 1742\" & \"gunluk_ortalama_lvl_basina_revenue  1750\" eksik değerler var\n",
    "# Aynı zamanda çok az bir miktar İNF barındırıyor. Bunlardan NaN olanları düşürüyor ve İNF olanlara 0 atıyoruz. \n",
    "\n",
    "dfa.dropna(inplace=True)\n",
    "\n",
    "dfa = dfa.replace(np.inf , 0 )"
   ]
  },
  {
   "cell_type": "code",
   "execution_count": null,
   "metadata": {
    "colab": {
     "base_uri": "https://localhost:8080/",
     "height": 443
    },
    "id": "TI8F7X6qx_Ze",
    "outputId": "64e44a8e-f2ef-44bf-e033-4aca21aa9411"
   },
   "outputs": [
    {
     "data": {
      "text/html": [
       "<div>\n",
       "<style scoped>\n",
       "    .dataframe tbody tr th:only-of-type {\n",
       "        vertical-align: middle;\n",
       "    }\n",
       "\n",
       "    .dataframe tbody tr th {\n",
       "        vertical-align: top;\n",
       "    }\n",
       "\n",
       "    .dataframe thead th {\n",
       "        text-align: right;\n",
       "    }\n",
       "</style>\n",
       "<table border=\"1\" class=\"dataframe\">\n",
       "  <thead>\n",
       "    <tr style=\"text-align: right;\">\n",
       "      <th></th>\n",
       "      <th>day_hours</th>\n",
       "      <th>günlük level</th>\n",
       "      <th>gunluk_level_basina_skor</th>\n",
       "      <th>country_code_Other</th>\n",
       "      <th>country_code_TR</th>\n",
       "      <th>girilen_toplam_version_1</th>\n",
       "      <th>girilen_toplam_version_2</th>\n",
       "      <th>girilen_toplam_version_3</th>\n",
       "      <th>gunluk_ortalama_lvl_basina_revenue</th>\n",
       "      <th>ortalama_revenue</th>\n",
       "      <th>ortalama_revenue_gun</th>\n",
       "      <th>total_wrong_gun</th>\n",
       "      <th>label</th>\n",
       "    </tr>\n",
       "  </thead>\n",
       "  <tbody>\n",
       "    <tr>\n",
       "      <th>0</th>\n",
       "      <td>24.324074</td>\n",
       "      <td>15.222222</td>\n",
       "      <td>27.598540</td>\n",
       "      <td>0</td>\n",
       "      <td>1</td>\n",
       "      <td>1</td>\n",
       "      <td>0</td>\n",
       "      <td>0</td>\n",
       "      <td>0.000005</td>\n",
       "      <td>0.000621</td>\n",
       "      <td>0.000069</td>\n",
       "      <td>324.555556</td>\n",
       "      <td>0</td>\n",
       "    </tr>\n",
       "    <tr>\n",
       "      <th>1</th>\n",
       "      <td>24.079537</td>\n",
       "      <td>23.500000</td>\n",
       "      <td>41.599291</td>\n",
       "      <td>0</td>\n",
       "      <td>1</td>\n",
       "      <td>0</td>\n",
       "      <td>1</td>\n",
       "      <td>0</td>\n",
       "      <td>0.000026</td>\n",
       "      <td>0.004687</td>\n",
       "      <td>0.000391</td>\n",
       "      <td>110.833333</td>\n",
       "      <td>0</td>\n",
       "    </tr>\n",
       "    <tr>\n",
       "      <th>2</th>\n",
       "      <td>0.260833</td>\n",
       "      <td>17.000000</td>\n",
       "      <td>39.823529</td>\n",
       "      <td>0</td>\n",
       "      <td>1</td>\n",
       "      <td>1</td>\n",
       "      <td>0</td>\n",
       "      <td>0</td>\n",
       "      <td>0.000224</td>\n",
       "      <td>0.003801</td>\n",
       "      <td>0.003801</td>\n",
       "      <td>113.000000</td>\n",
       "      <td>1</td>\n",
       "    </tr>\n",
       "    <tr>\n",
       "      <th>3</th>\n",
       "      <td>11.279861</td>\n",
       "      <td>21.000000</td>\n",
       "      <td>49.000000</td>\n",
       "      <td>0</td>\n",
       "      <td>1</td>\n",
       "      <td>0</td>\n",
       "      <td>1</td>\n",
       "      <td>0</td>\n",
       "      <td>0.000067</td>\n",
       "      <td>0.002826</td>\n",
       "      <td>0.001413</td>\n",
       "      <td>15.000000</td>\n",
       "      <td>1</td>\n",
       "    </tr>\n",
       "    <tr>\n",
       "      <th>4</th>\n",
       "      <td>0.044444</td>\n",
       "      <td>7.000000</td>\n",
       "      <td>63.857143</td>\n",
       "      <td>0</td>\n",
       "      <td>1</td>\n",
       "      <td>1</td>\n",
       "      <td>0</td>\n",
       "      <td>0</td>\n",
       "      <td>0.001965</td>\n",
       "      <td>0.013754</td>\n",
       "      <td>0.013754</td>\n",
       "      <td>1.000000</td>\n",
       "      <td>1</td>\n",
       "    </tr>\n",
       "    <tr>\n",
       "      <th>...</th>\n",
       "      <td>...</td>\n",
       "      <td>...</td>\n",
       "      <td>...</td>\n",
       "      <td>...</td>\n",
       "      <td>...</td>\n",
       "      <td>...</td>\n",
       "      <td>...</td>\n",
       "      <td>...</td>\n",
       "      <td>...</td>\n",
       "      <td>...</td>\n",
       "      <td>...</td>\n",
       "      <td>...</td>\n",
       "      <td>...</td>\n",
       "    </tr>\n",
       "    <tr>\n",
       "      <th>1737</th>\n",
       "      <td>11.626944</td>\n",
       "      <td>9.000000</td>\n",
       "      <td>110.222222</td>\n",
       "      <td>0</td>\n",
       "      <td>1</td>\n",
       "      <td>1</td>\n",
       "      <td>0</td>\n",
       "      <td>0</td>\n",
       "      <td>0.000314</td>\n",
       "      <td>0.002824</td>\n",
       "      <td>0.002824</td>\n",
       "      <td>70.000000</td>\n",
       "      <td>1</td>\n",
       "    </tr>\n",
       "    <tr>\n",
       "      <th>1738</th>\n",
       "      <td>23.708833</td>\n",
       "      <td>126.800000</td>\n",
       "      <td>5.859621</td>\n",
       "      <td>0</td>\n",
       "      <td>1</td>\n",
       "      <td>1</td>\n",
       "      <td>0</td>\n",
       "      <td>0</td>\n",
       "      <td>0.000061</td>\n",
       "      <td>0.038741</td>\n",
       "      <td>0.007748</td>\n",
       "      <td>820.800000</td>\n",
       "      <td>1</td>\n",
       "    </tr>\n",
       "    <tr>\n",
       "      <th>1739</th>\n",
       "      <td>26.674969</td>\n",
       "      <td>47.111111</td>\n",
       "      <td>16.508844</td>\n",
       "      <td>1</td>\n",
       "      <td>0</td>\n",
       "      <td>0</td>\n",
       "      <td>1</td>\n",
       "      <td>0</td>\n",
       "      <td>0.000308</td>\n",
       "      <td>0.069233</td>\n",
       "      <td>0.007693</td>\n",
       "      <td>145.555556</td>\n",
       "      <td>0</td>\n",
       "    </tr>\n",
       "    <tr>\n",
       "      <th>1740</th>\n",
       "      <td>16.740278</td>\n",
       "      <td>15.500000</td>\n",
       "      <td>107.677419</td>\n",
       "      <td>0</td>\n",
       "      <td>1</td>\n",
       "      <td>1</td>\n",
       "      <td>0</td>\n",
       "      <td>0</td>\n",
       "      <td>0.000145</td>\n",
       "      <td>0.004503</td>\n",
       "      <td>0.002252</td>\n",
       "      <td>78.500000</td>\n",
       "      <td>1</td>\n",
       "    </tr>\n",
       "    <tr>\n",
       "      <th>1741</th>\n",
       "      <td>11.305139</td>\n",
       "      <td>37.000000</td>\n",
       "      <td>6.635135</td>\n",
       "      <td>0</td>\n",
       "      <td>1</td>\n",
       "      <td>1</td>\n",
       "      <td>0</td>\n",
       "      <td>0</td>\n",
       "      <td>0.000082</td>\n",
       "      <td>0.006071</td>\n",
       "      <td>0.003035</td>\n",
       "      <td>176.000000</td>\n",
       "      <td>1</td>\n",
       "    </tr>\n",
       "  </tbody>\n",
       "</table>\n",
       "<p>1724 rows × 13 columns</p>\n",
       "</div>"
      ],
      "text/plain": [
       "      day_hours  günlük level  ...  total_wrong_gun  label\n",
       "0     24.324074     15.222222  ...       324.555556      0\n",
       "1     24.079537     23.500000  ...       110.833333      0\n",
       "2      0.260833     17.000000  ...       113.000000      1\n",
       "3     11.279861     21.000000  ...        15.000000      1\n",
       "4      0.044444      7.000000  ...         1.000000      1\n",
       "...         ...           ...  ...              ...    ...\n",
       "1737  11.626944      9.000000  ...        70.000000      1\n",
       "1738  23.708833    126.800000  ...       820.800000      1\n",
       "1739  26.674969     47.111111  ...       145.555556      0\n",
       "1740  16.740278     15.500000  ...        78.500000      1\n",
       "1741  11.305139     37.000000  ...       176.000000      1\n",
       "\n",
       "[1724 rows x 13 columns]"
      ]
     },
     "execution_count": 296,
     "metadata": {
      "tags": []
     },
     "output_type": "execute_result"
    }
   ],
   "source": [
    "# Evet sonuç olarak tüm işlemler tamam \n",
    "# Şimdi bunca data operasyonundan sonra sırada makine öğrenmesine dayalı chrun tahminlemesi yapcağız\n",
    "\n",
    "dfa"
   ]
  },
  {
   "cell_type": "code",
   "execution_count": null,
   "metadata": {
    "id": "M6ZYpiAVx4Tn"
   },
   "outputs": [],
   "source": [
    "import numpy as np\n",
    "import pandas as pd \n",
    "from sklearn.model_selection import train_test_split, GridSearchCV,cross_val_score\n",
    "from sklearn.metrics import mean_squared_error, r2_score\n",
    "import matplotlib.pyplot as plt\n",
    "from sklearn.preprocessing import scale \n",
    "from sklearn import model_selection\n",
    "from sklearn.tree import DecisionTreeRegressor, DecisionTreeClassifier\n",
    "from sklearn.neighbors import KNeighborsRegressor\n",
    "from sklearn.ensemble import BaggingRegressor\n",
    "from sklearn.metrics import confusion_matrix, accuracy_score, classification_report,mean_squared_error\n",
    "\n",
    "from warnings import filterwarnings\n",
    "filterwarnings('ignore')"
   ]
  },
  {
   "cell_type": "code",
   "execution_count": null,
   "metadata": {
    "id": "tcS8jMzS8z4x"
   },
   "outputs": [],
   "source": [
    "dfa = pd.read_csv(\"/content/drive/My Drive/DataSon.csv\")\n"
   ]
  },
  {
   "cell_type": "code",
   "execution_count": null,
   "metadata": {
    "id": "SEt-VO-7x4P0"
   },
   "outputs": [],
   "source": [
    "X = dfa.drop([\"label\"],axis=1)\n",
    "y = dfa.label\n",
    "\n",
    "X_train, X_test, y_train, y_test = train_test_split(X, y, \n",
    "                                                    test_size=0.20, \n",
    "                                                    random_state=42)"
   ]
  },
  {
   "cell_type": "code",
   "execution_count": null,
   "metadata": {
    "colab": {
     "base_uri": "https://localhost:8080/",
     "height": 265
    },
    "id": "o1HRQ0HiyGb1",
    "outputId": "242b3ea6-e405-415f-ed25-22219a2b6083"
   },
   "outputs": [
    {
     "name": "stdout",
     "output_type": "stream",
     "text": [
      "0.9565217391304348\n",
      "-----------------------------\n",
      "[[ 42   8]\n",
      " [  7 288]]\n",
      "-----------------------------\n",
      "              precision    recall  f1-score   support\n",
      "\n",
      "           0       0.86      0.84      0.85        50\n",
      "           1       0.97      0.98      0.97       295\n",
      "\n",
      "    accuracy                           0.96       345\n",
      "   macro avg       0.92      0.91      0.91       345\n",
      "weighted avg       0.96      0.96      0.96       345\n",
      "\n"
     ]
    }
   ],
   "source": [
    "# XGBOOST\n",
    "# Düz hiçbir şeye dokunmadan elde ettiğimiz XGB sonucu gayet iyi \n",
    "\n",
    "from xgboost import XGBClassifier \n",
    "xgb_model = XGBClassifier().fit(X_train, y_train)\n",
    "y_pred = xgb_model.predict(X_test)\n",
    "print(accuracy_score(y_test,y_pred))\n",
    "print(\"-----------------------------\")\n",
    "print(confusion_matrix(y_test, y_pred))\n",
    "print(\"-----------------------------\")\n",
    "print(classification_report(y_test,y_pred))"
   ]
  },
  {
   "cell_type": "code",
   "execution_count": null,
   "metadata": {
    "colab": {
     "base_uri": "https://localhost:8080/",
     "height": 336
    },
    "id": "7-bezVmO05FN",
    "outputId": "5b27e2d8-3e5b-4be2-a472-b6732db7e690"
   },
   "outputs": [
    {
     "name": "stdout",
     "output_type": "stream",
     "text": [
      "Fitting 10 folds for each of 432 candidates, totalling 4320 fits\n"
     ]
    },
    {
     "name": "stderr",
     "output_type": "stream",
     "text": [
      "[Parallel(n_jobs=-1)]: Using backend LokyBackend with 2 concurrent workers.\n",
      "[Parallel(n_jobs=-1)]: Done  37 tasks      | elapsed:    7.0s\n",
      "[Parallel(n_jobs=-1)]: Done 158 tasks      | elapsed:  1.3min\n",
      "[Parallel(n_jobs=-1)]: Done 361 tasks      | elapsed:  3.6min\n",
      "[Parallel(n_jobs=-1)]: Done 644 tasks      | elapsed:  6.2min\n",
      "[Parallel(n_jobs=-1)]: Done 1009 tasks      | elapsed: 10.2min\n",
      "[Parallel(n_jobs=-1)]: Done 1454 tasks      | elapsed: 15.7min\n",
      "[Parallel(n_jobs=-1)]: Done 1981 tasks      | elapsed: 23.3min\n",
      "[Parallel(n_jobs=-1)]: Done 2588 tasks      | elapsed: 31.6min\n",
      "[Parallel(n_jobs=-1)]: Done 3277 tasks      | elapsed: 41.7min\n",
      "[Parallel(n_jobs=-1)]: Done 4046 tasks      | elapsed: 50.8min\n",
      "[Parallel(n_jobs=-1)]: Done 4320 out of 4320 | elapsed: 54.7min finished\n"
     ]
    },
    {
     "data": {
      "text/plain": [
       "{'learning_rate': 0.1,\n",
       " 'max_depth': 3,\n",
       " 'min_samples_split': 50,\n",
       " 'n_estimators': 2000,\n",
       " 'subsample': 0.8}"
      ]
     },
     "execution_count": 312,
     "metadata": {
      "tags": []
     },
     "output_type": "execute_result"
    }
   ],
   "source": [
    "# Burada GridSreach havuzunu seçerken özellikle dikkat ettiğimiz kısım Split\n",
    "# Sebebi ise genellenebilir bir model olsun\n",
    "\n",
    "xgb_params = {\n",
    "        'n_estimators': [100, 500, 1000, 2000],\n",
    "        'subsample': [0.5,0.6, 0.8],\n",
    "        'max_depth': [3, 4, 5],\n",
    "        'learning_rate': [0.1,0.01,0.02,0.05],\n",
    "        \"min_samples_split\": [50,100,150]}\n",
    "        \n",
    "xgb = XGBClassifier()\n",
    "\n",
    "xgb_cv_model = GridSearchCV(xgb, xgb_params, cv = 10, n_jobs = -1, verbose = 2)\n",
    "\n",
    "xgb_cv_model.fit(X_train, y_train)\n",
    "\n",
    "xgb_cv_model.best_params_"
   ]
  },
  {
   "cell_type": "code",
   "execution_count": null,
   "metadata": {
    "colab": {
     "base_uri": "https://localhost:8080/",
     "height": 265
    },
    "id": "BXNLpevb05Co",
    "outputId": "36b7c4ac-9645-4429-8b63-e7cc63bd4942"
   },
   "outputs": [
    {
     "name": "stdout",
     "output_type": "stream",
     "text": [
      "0.9681159420289855\n",
      "-----------------------------\n",
      "[[ 43   7]\n",
      " [  4 291]]\n",
      "-----------------------------\n",
      "              precision    recall  f1-score   support\n",
      "\n",
      "           0       0.91      0.86      0.89        50\n",
      "           1       0.98      0.99      0.98       295\n",
      "\n",
      "    accuracy                           0.97       345\n",
      "   macro avg       0.95      0.92      0.93       345\n",
      "weighted avg       0.97      0.97      0.97       345\n",
      "\n"
     ]
    }
   ],
   "source": [
    "# GridSreach sonrası elde edilen parametreler ile iyileştirme sağladık\n",
    "\n",
    "xgb = XGBClassifier(learning_rate = 0.1, \n",
    "                    max_depth = 3,\n",
    "                    min_samples_split =50,\n",
    "                    n_estimators = 2000,\n",
    "                    subsample = 0.8)\n",
    "\n",
    "xgb_tuned =  xgb.fit(X_train,y_train)\n",
    "\n",
    "y_pred = xgb_tuned.predict(X_test)\n",
    "\n",
    "print(accuracy_score(y_test,y_pred))\n",
    "print(\"-----------------------------\")\n",
    "print(confusion_matrix(y_test, y_pred))\n",
    "print(\"-----------------------------\")\n",
    "print(classification_report(y_test,y_pred))"
   ]
  },
  {
   "cell_type": "code",
   "execution_count": null,
   "metadata": {
    "colab": {
     "base_uri": "https://localhost:8080/",
     "height": 265
    },
    "id": "gcRZix3d05AF",
    "outputId": "3f1ffe3c-0be4-489a-8628-19115eee9801"
   },
   "outputs": [
    {
     "name": "stdout",
     "output_type": "stream",
     "text": [
      "0.9739130434782609\n",
      "-----------------------------\n",
      "[[ 45   5]\n",
      " [  4 291]]\n",
      "-----------------------------\n",
      "              precision    recall  f1-score   support\n",
      "\n",
      "           0       0.92      0.90      0.91        50\n",
      "           1       0.98      0.99      0.98       295\n",
      "\n",
      "    accuracy                           0.97       345\n",
      "   macro avg       0.95      0.94      0.95       345\n",
      "weighted avg       0.97      0.97      0.97       345\n",
      "\n"
     ]
    }
   ],
   "source": [
    "# Son olarak Sezgisel Dokunuslar ile daha iyi bir sonuca ulaştık(learning rate değişimi yapıldı. büyük ihtimal 0.01 global optimum için en iyi olandı)\n",
    "\n",
    "xgb = XGBClassifier(learning_rate = 0.01, \n",
    "                    max_depth = 3,\n",
    "                    min_samples_split =50,\n",
    "                    n_estimators = 2000,\n",
    "                    subsample = 0.8)\n",
    "\n",
    "xgb_tuned =  xgb.fit(X_train,y_train)\n",
    "\n",
    "y_pred = xgb_tuned.predict(X_test)\n",
    "\n",
    "print(accuracy_score(y_test,y_pred))\n",
    "print(\"-----------------------------\")\n",
    "print(confusion_matrix(y_test, y_pred))\n",
    "print(\"-----------------------------\")\n",
    "print(classification_report(y_test,y_pred))"
   ]
  },
  {
   "cell_type": "code",
   "execution_count": null,
   "metadata": {
    "colab": {
     "base_uri": "https://localhost:8080/",
     "height": 442
    },
    "id": "TKKKdaFx88uH",
    "outputId": "3b114928-a380-45ec-eb55-c3a07d0704cf"
   },
   "outputs": [
    {
     "data": {
      "image/png": "[encoded data removed]",
      "text/plain": [
       "<Figure size 1224x504 with 1 Axes>"
      ]
     },
     "metadata": {
      "needs_background": "light",
      "tags": []
     },
     "output_type": "display_data"
    }
   ],
   "source": [
    "# Şimdi hangi değişkenlerin en önemli olduğunu görelim\n",
    "\n",
    "Importance = pd.DataFrame({\"Importance XGBoost\": xgb_tuned.feature_importances_*100},\n",
    "                          index = X_train.columns)\n",
    "\n",
    "Importance.sort_values(by=\"Importance XGBoost\", axis=0, ascending=True).plot(kind=\"barh\", figsize=(17,7))\n",
    "plt.xlabel(\"Degisken Onem Duzeyleri\")\n",
    "plt.show()"
   ]
  },
  {
   "cell_type": "code",
   "execution_count": null,
   "metadata": {
    "colab": {
     "base_uri": "https://localhost:8080/",
     "height": 265
    },
    "id": "TcJfnPjz048J",
    "outputId": "64441525-ff1f-42ef-c810-ed0d335e6d3d"
   },
   "outputs": [
    {
     "name": "stdout",
     "output_type": "stream",
     "text": [
      "0.9536231884057971\n",
      "-----------------------------\n",
      "[[ 42   8]\n",
      " [  8 287]]\n",
      "-----------------------------\n",
      "              precision    recall  f1-score   support\n",
      "\n",
      "           0       0.84      0.84      0.84        50\n",
      "           1       0.97      0.97      0.97       295\n",
      "\n",
      "    accuracy                           0.95       345\n",
      "   macro avg       0.91      0.91      0.91       345\n",
      "weighted avg       0.95      0.95      0.95       345\n",
      "\n"
     ]
    }
   ],
   "source": [
    "# GBM\n",
    "# Başka modeller daha deniyoruz yine bir boosting yöntemi ile devam\n",
    "\n",
    "\n",
    "from sklearn.ensemble import GradientBoostingClassifier\n",
    "gbm_model = GradientBoostingClassifier().fit(X_train, y_train)\n",
    "y_pred = gbm_model.predict(X_test)\n",
    "\n",
    "print(accuracy_score(y_test,y_pred))\n",
    "print(\"-----------------------------\")\n",
    "print(confusion_matrix(y_test, y_pred))\n",
    "print(\"-----------------------------\")\n",
    "print(classification_report(y_test,y_pred))"
   ]
  },
  {
   "cell_type": "code",
   "execution_count": null,
   "metadata": {
    "colab": {
     "base_uri": "https://localhost:8080/",
     "height": 176
    },
    "id": "LbpkrCBHn7mw",
    "outputId": "85d13236-cf91-4ecc-d6a8-b37b21447ae7"
   },
   "outputs": [
    {
     "name": "stdout",
     "output_type": "stream",
     "text": [
      "Fitting 10 folds for each of 144 candidates, totalling 1440 fits\n"
     ]
    },
    {
     "name": "stderr",
     "output_type": "stream",
     "text": [
      "[Parallel(n_jobs=-1)]: Using backend LokyBackend with 2 concurrent workers.\n",
      "[Parallel(n_jobs=-1)]: Done  37 tasks      | elapsed:   39.3s\n",
      "[Parallel(n_jobs=-1)]: Done 158 tasks      | elapsed:  3.0min\n",
      "[Parallel(n_jobs=-1)]: Done 361 tasks      | elapsed:  7.8min\n",
      "[Parallel(n_jobs=-1)]: Done 644 tasks      | elapsed: 14.6min\n",
      "[Parallel(n_jobs=-1)]: Done 1009 tasks      | elapsed: 21.9min\n",
      "[Parallel(n_jobs=-1)]: Done 1440 out of 1440 | elapsed: 31.5min finished\n"
     ]
    },
    {
     "name": "stdout",
     "output_type": "stream",
     "text": [
      "En iyi parametreler: {'learning_rate': 0.1, 'max_depth': 3, 'min_samples_split': 125, 'n_estimators': 1000}\n"
     ]
    }
   ],
   "source": [
    "# Tune \n",
    "\n",
    "gbm_params = {\"learning_rate\" : [0.001, 0.01, 0.1, 0.05],\n",
    "             \"n_estimators\": [100,250,500,1000],\n",
    "             \"max_depth\": [3,5,6],\n",
    "             \"min_samples_split\": [50,75,125]}\n",
    "\n",
    "gbm = GradientBoostingClassifier()\n",
    "\n",
    "gbm_cv = GridSearchCV(gbm, gbm_params, cv = 10, n_jobs = -1, verbose = 2)             \n",
    "\n",
    "gbm_cv.fit(X_train, y_train)\n",
    "\n",
    "print(\"En iyi parametreler: \" + str(gbm_cv.best_params_))"
   ]
  },
  {
   "cell_type": "code",
   "execution_count": null,
   "metadata": {
    "colab": {
     "base_uri": "https://localhost:8080/",
     "height": 265
    },
    "id": "Q94AD5Zhn7j8",
    "outputId": "03fd7a80-b30c-4a6f-f5d3-5e9d75118b7e"
   },
   "outputs": [
    {
     "name": "stdout",
     "output_type": "stream",
     "text": [
      "0.9623188405797102\n",
      "-----------------------------\n",
      "[[ 44   6]\n",
      " [  7 288]]\n",
      "-----------------------------\n",
      "              precision    recall  f1-score   support\n",
      "\n",
      "           0       0.86      0.88      0.87        50\n",
      "           1       0.98      0.98      0.98       295\n",
      "\n",
      "    accuracy                           0.96       345\n",
      "   macro avg       0.92      0.93      0.92       345\n",
      "weighted avg       0.96      0.96      0.96       345\n",
      "\n"
     ]
    }
   ],
   "source": [
    "# Tune sonrası elde edilen sonuç genel düz oluşturulan modele göre iyileşti\n",
    "\n",
    "gmb_tune = GradientBoostingClassifier(learning_rate=0.1,max_depth=3,min_samples_split=125,n_estimators=1000).fit(X_train, y_train)\n",
    "y_pred = gmb_tune.predict(X_test)\n",
    "\n",
    "print(accuracy_score(y_test,y_pred))\n",
    "print(\"-----------------------------\")\n",
    "print(confusion_matrix(y_test, y_pred))\n",
    "print(\"-----------------------------\")\n",
    "print(classification_report(y_test,y_pred))"
   ]
  },
  {
   "cell_type": "code",
   "execution_count": null,
   "metadata": {
    "colab": {
     "base_uri": "https://localhost:8080/",
     "height": 876
    },
    "id": "E8hPR_SYt1JR",
    "outputId": "04ce41b3-32c9-4026-a87f-5e9ca03df360"
   },
   "outputs": [
    {
     "data": {
      "image/png": "[encoded data removed]",
      "text/plain": [
       "<Figure size 576x1080 with 1 Axes>"
      ]
     },
     "metadata": {
      "needs_background": "light",
      "tags": []
     },
     "output_type": "display_data"
    }
   ],
   "source": [
    "# Bu modelimizin değerli bulduğu değişkenler diğerine göre biraz daha farklı\n",
    "\n",
    "Importance = pd.DataFrame({\"Importance\": gmb_tune.feature_importances_*100},\n",
    "                          index = X_train.columns)\n",
    "\n",
    "Importance.sort_values(by=\"Importance\", axis=0, ascending=True).plot(kind=\"barh\", figsize=(8,15))\n",
    "plt.xlabel(\"Degisken Onem Duzeyleri\")\n",
    "plt.show()"
   ]
  },
  {
   "cell_type": "code",
   "execution_count": null,
   "metadata": {
    "colab": {
     "base_uri": "https://localhost:8080/",
     "height": 1000
    },
    "id": "xYBF_lW8YLCK",
    "outputId": "15b4134a-3374-40b8-bf6b-ba547d1cc3fe"
   },
   "outputs": [
    {
     "name": "stdout",
     "output_type": "stream",
     "text": [
      "0:\tlearn: 0.6339998\ttotal: 2.46ms\tremaining: 490ms\n",
      "1:\tlearn: 0.5604836\ttotal: 4.9ms\tremaining: 485ms\n",
      "2:\tlearn: 0.4990690\ttotal: 7.11ms\tremaining: 467ms\n",
      "3:\tlearn: 0.4602955\ttotal: 9.16ms\tremaining: 449ms\n",
      "4:\tlearn: 0.4189766\ttotal: 12.6ms\tremaining: 490ms\n",
      "5:\tlearn: 0.3900877\ttotal: 14.8ms\tremaining: 479ms\n",
      "6:\tlearn: 0.3642386\ttotal: 16.9ms\tremaining: 467ms\n",
      "7:\tlearn: 0.3469969\ttotal: 19.1ms\tremaining: 458ms\n",
      "8:\tlearn: 0.3256175\ttotal: 21.2ms\tremaining: 449ms\n",
      "9:\tlearn: 0.3033010\ttotal: 23.2ms\tremaining: 441ms\n",
      "10:\tlearn: 0.2812694\ttotal: 25.3ms\tremaining: 434ms\n",
      "11:\tlearn: 0.2678101\ttotal: 27.4ms\tremaining: 429ms\n",
      "12:\tlearn: 0.2559766\ttotal: 29.5ms\tremaining: 424ms\n",
      "13:\tlearn: 0.2429751\ttotal: 31.5ms\tremaining: 419ms\n",
      "14:\tlearn: 0.2319012\ttotal: 33.6ms\tremaining: 415ms\n",
      "15:\tlearn: 0.2228016\ttotal: 35.7ms\tremaining: 411ms\n",
      "16:\tlearn: 0.2162364\ttotal: 37.7ms\tremaining: 406ms\n",
      "17:\tlearn: 0.2093654\ttotal: 39.8ms\tremaining: 403ms\n",
      "18:\tlearn: 0.2034474\ttotal: 41.9ms\tremaining: 400ms\n",
      "19:\tlearn: 0.1979316\ttotal: 44ms\tremaining: 396ms\n",
      "20:\tlearn: 0.1943864\ttotal: 46.1ms\tremaining: 393ms\n",
      "21:\tlearn: 0.1894254\ttotal: 48.1ms\tremaining: 389ms\n",
      "22:\tlearn: 0.1861188\ttotal: 50.2ms\tremaining: 387ms\n",
      "23:\tlearn: 0.1829760\ttotal: 52.4ms\tremaining: 384ms\n",
      "24:\tlearn: 0.1786044\ttotal: 54.5ms\tremaining: 382ms\n",
      "25:\tlearn: 0.1768440\ttotal: 56.6ms\tremaining: 379ms\n",
      "26:\tlearn: 0.1734386\ttotal: 58.6ms\tremaining: 376ms\n",
      "27:\tlearn: 0.1682279\ttotal: 60.7ms\tremaining: 373ms\n",
      "28:\tlearn: 0.1653666\ttotal: 62.9ms\tremaining: 371ms\n",
      "29:\tlearn: 0.1610464\ttotal: 64.9ms\tremaining: 368ms\n",
      "30:\tlearn: 0.1591733\ttotal: 67.1ms\tremaining: 366ms\n",
      "31:\tlearn: 0.1572872\ttotal: 69.1ms\tremaining: 363ms\n",
      "32:\tlearn: 0.1541595\ttotal: 71.2ms\tremaining: 360ms\n",
      "33:\tlearn: 0.1515362\ttotal: 73.3ms\tremaining: 358ms\n",
      "34:\tlearn: 0.1487726\ttotal: 75.5ms\tremaining: 356ms\n",
      "35:\tlearn: 0.1467669\ttotal: 77.7ms\tremaining: 354ms\n",
      "36:\tlearn: 0.1458139\ttotal: 79.9ms\tremaining: 352ms\n",
      "37:\tlearn: 0.1433176\ttotal: 82ms\tremaining: 350ms\n",
      "38:\tlearn: 0.1418208\ttotal: 84.1ms\tremaining: 347ms\n",
      "39:\tlearn: 0.1396177\ttotal: 86.2ms\tremaining: 345ms\n",
      "40:\tlearn: 0.1381831\ttotal: 88.2ms\tremaining: 342ms\n",
      "41:\tlearn: 0.1373657\ttotal: 90.3ms\tremaining: 340ms\n",
      "42:\tlearn: 0.1343262\ttotal: 92.3ms\tremaining: 337ms\n",
      "43:\tlearn: 0.1334731\ttotal: 94.4ms\tremaining: 335ms\n",
      "44:\tlearn: 0.1310480\ttotal: 96.5ms\tremaining: 332ms\n",
      "45:\tlearn: 0.1287866\ttotal: 98.6ms\tremaining: 330ms\n",
      "46:\tlearn: 0.1275952\ttotal: 101ms\tremaining: 328ms\n",
      "47:\tlearn: 0.1258088\ttotal: 103ms\tremaining: 325ms\n",
      "48:\tlearn: 0.1240869\ttotal: 105ms\tremaining: 323ms\n",
      "49:\tlearn: 0.1224966\ttotal: 107ms\tremaining: 320ms\n",
      "50:\tlearn: 0.1214424\ttotal: 109ms\tremaining: 318ms\n",
      "51:\tlearn: 0.1200048\ttotal: 111ms\tremaining: 315ms\n",
      "52:\tlearn: 0.1188501\ttotal: 113ms\tremaining: 313ms\n",
      "53:\tlearn: 0.1173983\ttotal: 115ms\tremaining: 311ms\n",
      "54:\tlearn: 0.1169525\ttotal: 117ms\tremaining: 309ms\n",
      "55:\tlearn: 0.1158994\ttotal: 119ms\tremaining: 307ms\n",
      "56:\tlearn: 0.1150101\ttotal: 121ms\tremaining: 305ms\n",
      "57:\tlearn: 0.1138651\ttotal: 124ms\tremaining: 302ms\n",
      "58:\tlearn: 0.1126489\ttotal: 126ms\tremaining: 300ms\n",
      "59:\tlearn: 0.1113608\ttotal: 128ms\tremaining: 298ms\n",
      "60:\tlearn: 0.1104380\ttotal: 130ms\tremaining: 296ms\n",
      "61:\tlearn: 0.1095593\ttotal: 132ms\tremaining: 293ms\n",
      "62:\tlearn: 0.1083305\ttotal: 134ms\tremaining: 291ms\n",
      "63:\tlearn: 0.1076272\ttotal: 136ms\tremaining: 289ms\n",
      "64:\tlearn: 0.1072181\ttotal: 138ms\tremaining: 287ms\n",
      "65:\tlearn: 0.1058410\ttotal: 140ms\tremaining: 285ms\n",
      "66:\tlearn: 0.1048717\ttotal: 142ms\tremaining: 282ms\n",
      "67:\tlearn: 0.1037996\ttotal: 144ms\tremaining: 280ms\n",
      "68:\tlearn: 0.1025409\ttotal: 147ms\tremaining: 278ms\n",
      "69:\tlearn: 0.1008688\ttotal: 149ms\tremaining: 276ms\n",
      "70:\tlearn: 0.0997564\ttotal: 151ms\tremaining: 274ms\n",
      "71:\tlearn: 0.0986993\ttotal: 153ms\tremaining: 271ms\n",
      "72:\tlearn: 0.0980674\ttotal: 155ms\tremaining: 269ms\n",
      "73:\tlearn: 0.0969184\ttotal: 157ms\tremaining: 267ms\n",
      "74:\tlearn: 0.0962143\ttotal: 159ms\tremaining: 265ms\n",
      "75:\tlearn: 0.0951979\ttotal: 161ms\tremaining: 263ms\n",
      "76:\tlearn: 0.0946146\ttotal: 163ms\tremaining: 260ms\n",
      "77:\tlearn: 0.0933063\ttotal: 165ms\tremaining: 258ms\n",
      "78:\tlearn: 0.0925492\ttotal: 167ms\tremaining: 256ms\n",
      "79:\tlearn: 0.0915044\ttotal: 169ms\tremaining: 254ms\n",
      "80:\tlearn: 0.0906975\ttotal: 171ms\tremaining: 252ms\n",
      "81:\tlearn: 0.0902548\ttotal: 174ms\tremaining: 250ms\n",
      "82:\tlearn: 0.0895356\ttotal: 176ms\tremaining: 248ms\n",
      "83:\tlearn: 0.0887549\ttotal: 178ms\tremaining: 245ms\n",
      "84:\tlearn: 0.0875869\ttotal: 180ms\tremaining: 243ms\n",
      "85:\tlearn: 0.0869763\ttotal: 182ms\tremaining: 241ms\n",
      "86:\tlearn: 0.0865890\ttotal: 184ms\tremaining: 239ms\n",
      "87:\tlearn: 0.0862389\ttotal: 186ms\tremaining: 237ms\n",
      "88:\tlearn: 0.0856835\ttotal: 188ms\tremaining: 235ms\n",
      "89:\tlearn: 0.0850965\ttotal: 190ms\tremaining: 232ms\n",
      "90:\tlearn: 0.0845896\ttotal: 192ms\tremaining: 230ms\n",
      "91:\tlearn: 0.0839261\ttotal: 199ms\tremaining: 234ms\n",
      "92:\tlearn: 0.0824934\ttotal: 202ms\tremaining: 232ms\n",
      "93:\tlearn: 0.0823773\ttotal: 204ms\tremaining: 230ms\n",
      "94:\tlearn: 0.0817688\ttotal: 206ms\tremaining: 227ms\n",
      "95:\tlearn: 0.0812352\ttotal: 208ms\tremaining: 225ms\n",
      "96:\tlearn: 0.0807323\ttotal: 210ms\tremaining: 223ms\n",
      "97:\tlearn: 0.0804102\ttotal: 212ms\tremaining: 221ms\n",
      "98:\tlearn: 0.0794123\ttotal: 214ms\tremaining: 218ms\n",
      "99:\tlearn: 0.0786589\ttotal: 216ms\tremaining: 216ms\n",
      "100:\tlearn: 0.0777584\ttotal: 218ms\tremaining: 214ms\n",
      "101:\tlearn: 0.0772026\ttotal: 220ms\tremaining: 212ms\n",
      "102:\tlearn: 0.0768278\ttotal: 222ms\tremaining: 209ms\n",
      "103:\tlearn: 0.0761892\ttotal: 224ms\tremaining: 207ms\n",
      "104:\tlearn: 0.0755510\ttotal: 226ms\tremaining: 205ms\n",
      "105:\tlearn: 0.0751763\ttotal: 228ms\tremaining: 203ms\n",
      "106:\tlearn: 0.0745538\ttotal: 230ms\tremaining: 200ms\n",
      "107:\tlearn: 0.0741702\ttotal: 233ms\tremaining: 198ms\n",
      "108:\tlearn: 0.0736666\ttotal: 235ms\tremaining: 196ms\n",
      "109:\tlearn: 0.0730709\ttotal: 237ms\tremaining: 194ms\n",
      "110:\tlearn: 0.0723774\ttotal: 239ms\tremaining: 191ms\n",
      "111:\tlearn: 0.0716077\ttotal: 241ms\tremaining: 189ms\n",
      "112:\tlearn: 0.0710356\ttotal: 243ms\tremaining: 187ms\n",
      "113:\tlearn: 0.0706887\ttotal: 245ms\tremaining: 185ms\n",
      "114:\tlearn: 0.0701918\ttotal: 247ms\tremaining: 183ms\n",
      "115:\tlearn: 0.0695770\ttotal: 249ms\tremaining: 180ms\n",
      "116:\tlearn: 0.0692360\ttotal: 251ms\tremaining: 178ms\n",
      "117:\tlearn: 0.0687680\ttotal: 253ms\tremaining: 176ms\n",
      "118:\tlearn: 0.0684324\ttotal: 256ms\tremaining: 174ms\n",
      "119:\tlearn: 0.0680565\ttotal: 258ms\tremaining: 172ms\n",
      "120:\tlearn: 0.0676470\ttotal: 260ms\tremaining: 170ms\n",
      "121:\tlearn: 0.0666779\ttotal: 262ms\tremaining: 167ms\n",
      "122:\tlearn: 0.0658900\ttotal: 264ms\tremaining: 165ms\n",
      "123:\tlearn: 0.0655248\ttotal: 266ms\tremaining: 163ms\n",
      "124:\tlearn: 0.0651281\ttotal: 268ms\tremaining: 161ms\n",
      "125:\tlearn: 0.0646456\ttotal: 270ms\tremaining: 159ms\n",
      "126:\tlearn: 0.0641839\ttotal: 272ms\tremaining: 156ms\n",
      "127:\tlearn: 0.0635491\ttotal: 274ms\tremaining: 154ms\n",
      "128:\tlearn: 0.0630565\ttotal: 276ms\tremaining: 152ms\n",
      "129:\tlearn: 0.0624472\ttotal: 278ms\tremaining: 150ms\n",
      "130:\tlearn: 0.0621542\ttotal: 280ms\tremaining: 148ms\n",
      "131:\tlearn: 0.0617688\ttotal: 283ms\tremaining: 146ms\n",
      "132:\tlearn: 0.0614647\ttotal: 285ms\tremaining: 143ms\n",
      "133:\tlearn: 0.0610649\ttotal: 287ms\tremaining: 141ms\n",
      "134:\tlearn: 0.0606307\ttotal: 289ms\tremaining: 139ms\n",
      "135:\tlearn: 0.0601852\ttotal: 291ms\tremaining: 137ms\n",
      "136:\tlearn: 0.0599748\ttotal: 293ms\tremaining: 135ms\n",
      "137:\tlearn: 0.0597155\ttotal: 295ms\tremaining: 133ms\n",
      "138:\tlearn: 0.0594292\ttotal: 297ms\tremaining: 130ms\n",
      "139:\tlearn: 0.0591695\ttotal: 299ms\tremaining: 128ms\n",
      "140:\tlearn: 0.0587146\ttotal: 301ms\tremaining: 126ms\n",
      "141:\tlearn: 0.0579618\ttotal: 303ms\tremaining: 124ms\n",
      "142:\tlearn: 0.0578598\ttotal: 307ms\tremaining: 123ms\n",
      "143:\tlearn: 0.0571351\ttotal: 309ms\tremaining: 120ms\n",
      "144:\tlearn: 0.0567063\ttotal: 312ms\tremaining: 118ms\n",
      "145:\tlearn: 0.0564335\ttotal: 314ms\tremaining: 116ms\n",
      "146:\tlearn: 0.0559762\ttotal: 316ms\tremaining: 114ms\n",
      "147:\tlearn: 0.0557401\ttotal: 318ms\tremaining: 112ms\n",
      "148:\tlearn: 0.0553869\ttotal: 322ms\tremaining: 110ms\n",
      "149:\tlearn: 0.0551785\ttotal: 325ms\tremaining: 108ms\n",
      "150:\tlearn: 0.0548782\ttotal: 328ms\tremaining: 107ms\n",
      "151:\tlearn: 0.0543404\ttotal: 332ms\tremaining: 105ms\n",
      "152:\tlearn: 0.0539364\ttotal: 334ms\tremaining: 103ms\n",
      "153:\tlearn: 0.0536000\ttotal: 336ms\tremaining: 101ms\n",
      "154:\tlearn: 0.0530608\ttotal: 339ms\tremaining: 98.3ms\n",
      "155:\tlearn: 0.0529351\ttotal: 341ms\tremaining: 96.1ms\n",
      "156:\tlearn: 0.0525923\ttotal: 343ms\tremaining: 93.9ms\n",
      "157:\tlearn: 0.0523853\ttotal: 345ms\tremaining: 91.7ms\n",
      "158:\tlearn: 0.0520421\ttotal: 347ms\tremaining: 89.5ms\n",
      "159:\tlearn: 0.0517118\ttotal: 350ms\tremaining: 87.4ms\n",
      "160:\tlearn: 0.0510135\ttotal: 352ms\tremaining: 85.2ms\n",
      "161:\tlearn: 0.0507196\ttotal: 354ms\tremaining: 83ms\n",
      "162:\tlearn: 0.0504666\ttotal: 356ms\tremaining: 80.8ms\n",
      "163:\tlearn: 0.0500921\ttotal: 358ms\tremaining: 78.6ms\n",
      "164:\tlearn: 0.0497848\ttotal: 360ms\tremaining: 76.4ms\n",
      "165:\tlearn: 0.0490827\ttotal: 362ms\tremaining: 74.2ms\n",
      "166:\tlearn: 0.0486580\ttotal: 364ms\tremaining: 72ms\n",
      "167:\tlearn: 0.0483981\ttotal: 366ms\tremaining: 69.8ms\n",
      "168:\tlearn: 0.0481253\ttotal: 368ms\tremaining: 67.6ms\n",
      "169:\tlearn: 0.0479383\ttotal: 370ms\tremaining: 65.4ms\n",
      "170:\tlearn: 0.0475446\ttotal: 373ms\tremaining: 63.2ms\n",
      "171:\tlearn: 0.0473849\ttotal: 374ms\tremaining: 61ms\n",
      "172:\tlearn: 0.0469993\ttotal: 377ms\tremaining: 58.8ms\n",
      "173:\tlearn: 0.0464919\ttotal: 379ms\tremaining: 56.6ms\n",
      "174:\tlearn: 0.0463561\ttotal: 381ms\tremaining: 54.4ms\n",
      "175:\tlearn: 0.0457383\ttotal: 383ms\tremaining: 52.2ms\n",
      "176:\tlearn: 0.0448095\ttotal: 385ms\tremaining: 50ms\n",
      "177:\tlearn: 0.0446946\ttotal: 387ms\tremaining: 47.8ms\n",
      "178:\tlearn: 0.0445227\ttotal: 389ms\tremaining: 45.6ms\n",
      "179:\tlearn: 0.0442055\ttotal: 392ms\tremaining: 43.5ms\n",
      "180:\tlearn: 0.0439657\ttotal: 396ms\tremaining: 41.6ms\n",
      "181:\tlearn: 0.0437301\ttotal: 398ms\tremaining: 39.4ms\n",
      "182:\tlearn: 0.0433452\ttotal: 400ms\tremaining: 37.2ms\n",
      "183:\tlearn: 0.0431524\ttotal: 402ms\tremaining: 35ms\n",
      "184:\tlearn: 0.0428941\ttotal: 404ms\tremaining: 32.8ms\n",
      "185:\tlearn: 0.0426029\ttotal: 406ms\tremaining: 30.6ms\n",
      "186:\tlearn: 0.0422435\ttotal: 408ms\tremaining: 28.4ms\n",
      "187:\tlearn: 0.0419716\ttotal: 410ms\tremaining: 26.2ms\n",
      "188:\tlearn: 0.0417595\ttotal: 412ms\tremaining: 24ms\n",
      "189:\tlearn: 0.0415421\ttotal: 415ms\tremaining: 21.8ms\n",
      "190:\tlearn: 0.0413065\ttotal: 417ms\tremaining: 19.6ms\n",
      "191:\tlearn: 0.0410446\ttotal: 419ms\tremaining: 17.4ms\n",
      "192:\tlearn: 0.0407262\ttotal: 421ms\tremaining: 15.3ms\n",
      "193:\tlearn: 0.0405168\ttotal: 423ms\tremaining: 13.1ms\n",
      "194:\tlearn: 0.0400395\ttotal: 425ms\tremaining: 10.9ms\n",
      "195:\tlearn: 0.0399116\ttotal: 427ms\tremaining: 8.71ms\n",
      "196:\tlearn: 0.0398418\ttotal: 429ms\tremaining: 6.53ms\n",
      "197:\tlearn: 0.0394984\ttotal: 431ms\tremaining: 4.35ms\n",
      "198:\tlearn: 0.0390357\ttotal: 433ms\tremaining: 2.18ms\n",
      "199:\tlearn: 0.0384306\ttotal: 435ms\tremaining: 0us\n",
      "----------------------------\n",
      "DecisionTreeClassifier:\n",
      "Accuracy: 93.3333%\n",
      "----------------------------\n",
      "CatBoostClassifier:\n",
      "Accuracy: 96.5217%\n",
      "----------------------------\n",
      "XGBClassifier:\n",
      "Accuracy: 97.3913%\n",
      "----------------------------\n",
      "GradientBoostingClassifier:\n",
      "Accuracy: 96.2319%\n"
     ]
    },
    {
     "data": {
      "image/png": "[encoded data removed]",
      "text/plain": [
       "<Figure size 432x288 with 1 Axes>"
      ]
     },
     "metadata": {
      "needs_background": "light",
      "tags": []
     },
     "output_type": "display_data"
    }
   ],
   "source": [
    "# En sonda ise arka planda yazdığımız bir kod bloğunu çağırdık.\n",
    "# Burada detayları yok kısaca özeti şu Karar ağacı, Cat boost, XGBoost ve GBM modellerini birlikte değerlendirmek\n",
    "# Sonuç olarak XGBoost en iyi sonucu vermekte\n",
    "# GridSreach durumları ayrı olarak aratildi ve optimize edilerek bu modeller elde edildi\n",
    "\n",
    "AllModelReg(X_train,y_train,X_test,y_test)"
   ]
  },
  {
   "cell_type": "code",
   "execution_count": null,
   "metadata": {
    "id": "-KrqyIXnYK5t"
   },
   "outputs": [],
   "source": []
  },
  {
   "cell_type": "code",
   "execution_count": null,
   "metadata": {
    "id": "lbNz1bUyYKxn"
   },
   "outputs": [],
   "source": []
  }
 ],
 "metadata": {
  "accelerator": "GPU",
  "colab": {
   "collapsed_sections": [],
   "name": "ProjeCalisma.ipynb",
   "provenance": []
  },
  "kernelspec": {
   "display_name": "Python 3",
   "language": "python",
   "name": "python3"
  },
  "language_info": {
   "codemirror_mode": {
    "name": "ipython",
    "version": 3
   },
   "file_extension": ".py",
   "mimetype": "text/x-python",
   "name": "python",
   "nbconvert_exporter": "python",
   "pygments_lexer": "ipython3",
   "version": "3.7.6"
  }
 },
 "nbformat": 4,
 "nbformat_minor": 4
}
